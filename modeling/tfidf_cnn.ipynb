{
 "cells": [
  {
   "cell_type": "markdown",
   "metadata": {},
   "source": [
    "# Set up"
   ]
  },
  {
   "cell_type": "code",
   "execution_count": null,
   "metadata": {
    "id": "MQArqUApwa8Z"
   },
   "outputs": [],
   "source": [
    "# import library\n",
    "\n",
    "import tensorflow as tf\n",
    "tf.config.run_functions_eagerly(True)\n",
    "\n",
    "from tensorflow.keras import layers, Model\n",
    "from tensorflow.keras.layers import Input, Dense, Flatten, Conv2D, MaxPooling2D, concatenate, Dropout\n",
    "\n",
    "\n",
    "import pandas as pd\n",
    "import numpy as np\n",
    "import matplotlib.pyplot as plt\n",
    "%matplotlib inline\n",
    "\n",
    "from PIL import Image\n",
    "\n",
    "from sklearn.model_selection import train_test_split"
   ]
  },
  {
   "cell_type": "code",
   "execution_count": null,
   "metadata": {
    "id": "l01Jr3Lt0rVW"
   },
   "outputs": [],
   "source": [
    "train = pd.read_csv('final_train.csv')"
   ]
  },
  {
   "cell_type": "code",
   "execution_count": null,
   "metadata": {
    "colab": {
     "base_uri": "https://localhost:8080/",
     "height": 320
    },
    "executionInfo": {
     "elapsed": 6,
     "status": "ok",
     "timestamp": 1681576908677,
     "user": {
      "displayName": "Florence Cheng",
      "userId": "06139676342662614610"
     },
     "user_tz": 420
    },
    "id": "2VDyn-QN1bhh",
    "outputId": "6590d6b3-6f0f-490d-b735-e7d425b21930"
   },
   "outputs": [
    {
     "data": {
      "text/html": [
       "\n",
       "  <div id=\"df-266e01a0-9e7d-4a23-80de-940e9ff94086\">\n",
       "    <div class=\"colab-df-container\">\n",
       "      <div>\n",
       "<style scoped>\n",
       "    .dataframe tbody tr th:only-of-type {\n",
       "        vertical-align: middle;\n",
       "    }\n",
       "\n",
       "    .dataframe tbody tr th {\n",
       "        vertical-align: top;\n",
       "    }\n",
       "\n",
       "    .dataframe thead th {\n",
       "        text-align: right;\n",
       "    }\n",
       "</style>\n",
       "<table border=\"1\" class=\"dataframe\">\n",
       "  <thead>\n",
       "    <tr style=\"text-align: right;\">\n",
       "      <th></th>\n",
       "      <th>Unnamed: 0</th>\n",
       "      <th>posting_id</th>\n",
       "      <th>image</th>\n",
       "      <th>image_phash</th>\n",
       "      <th>title</th>\n",
       "      <th>label_group</th>\n",
       "      <th>title_translate</th>\n",
       "    </tr>\n",
       "  </thead>\n",
       "  <tbody>\n",
       "    <tr>\n",
       "      <th>0</th>\n",
       "      <td>0</td>\n",
       "      <td>train_129225211</td>\n",
       "      <td>0000a68812bc7e98c42888dfb1c07da0.jpg</td>\n",
       "      <td>94974f937d4c2433</td>\n",
       "      <td>Paper Bag Victoria Secret</td>\n",
       "      <td>249114794</td>\n",
       "      <td>Victoria's Secret Paper Bag</td>\n",
       "    </tr>\n",
       "    <tr>\n",
       "      <th>1</th>\n",
       "      <td>1</td>\n",
       "      <td>train_3386243561</td>\n",
       "      <td>00039780dfc94d01db8676fe789ecd05.jpg</td>\n",
       "      <td>af3f9460c2838f0f</td>\n",
       "      <td>Double Tape 3M VHB 12 mm x 4,5 m ORIGINAL / DO...</td>\n",
       "      <td>2937985045</td>\n",
       "      <td>Double Tape 3M VHB 12 mm x 4.5 m ORIGINAL / DO...</td>\n",
       "    </tr>\n",
       "    <tr>\n",
       "      <th>2</th>\n",
       "      <td>2</td>\n",
       "      <td>train_2288590299</td>\n",
       "      <td>000a190fdd715a2a36faed16e2c65df7.jpg</td>\n",
       "      <td>b94cb00ed3e50f78</td>\n",
       "      <td>Maling TTS Canned Pork Luncheon Meat 397 gr</td>\n",
       "      <td>2395904891</td>\n",
       "      <td>Maling TTS Canned Pork Luncheon Meat 397 gr</td>\n",
       "    </tr>\n",
       "    <tr>\n",
       "      <th>3</th>\n",
       "      <td>3</td>\n",
       "      <td>train_2406599165</td>\n",
       "      <td>00117e4fc239b1b641ff08340b429633.jpg</td>\n",
       "      <td>8514fc58eafea283</td>\n",
       "      <td>Daster Batik Lengan pendek - Motif Acak / Camp...</td>\n",
       "      <td>4093212188</td>\n",
       "      <td>Short sleeve Batik negligee - Random / Mixed P...</td>\n",
       "    </tr>\n",
       "    <tr>\n",
       "      <th>4</th>\n",
       "      <td>4</td>\n",
       "      <td>train_3369186413</td>\n",
       "      <td>00136d1cf4edede0203f32f05f660588.jpg</td>\n",
       "      <td>a6f319f924ad708c</td>\n",
       "      <td>Nescafe \\xc3\\x89clair Latte 220ml</td>\n",
       "      <td>3648931069</td>\n",
       "      <td>Nescafe \\xc3\\x89clair Latte 220ml</td>\n",
       "    </tr>\n",
       "  </tbody>\n",
       "</table>\n",
       "</div>\n",
       "      <button class=\"colab-df-convert\" onclick=\"convertToInteractive('df-266e01a0-9e7d-4a23-80de-940e9ff94086')\"\n",
       "              title=\"Convert this dataframe to an interactive table.\"\n",
       "              style=\"display:none;\">\n",
       "        \n",
       "  <svg xmlns=\"http://www.w3.org/2000/svg\" height=\"24px\"viewBox=\"0 0 24 24\"\n",
       "       width=\"24px\">\n",
       "    <path d=\"M0 0h24v24H0V0z\" fill=\"none\"/>\n",
       "    <path d=\"M18.56 5.44l.94 2.06.94-2.06 2.06-.94-2.06-.94-.94-2.06-.94 2.06-2.06.94zm-11 1L8.5 8.5l.94-2.06 2.06-.94-2.06-.94L8.5 2.5l-.94 2.06-2.06.94zm10 10l.94 2.06.94-2.06 2.06-.94-2.06-.94-.94-2.06-.94 2.06-2.06.94z\"/><path d=\"M17.41 7.96l-1.37-1.37c-.4-.4-.92-.59-1.43-.59-.52 0-1.04.2-1.43.59L10.3 9.45l-7.72 7.72c-.78.78-.78 2.05 0 2.83L4 21.41c.39.39.9.59 1.41.59.51 0 1.02-.2 1.41-.59l7.78-7.78 2.81-2.81c.8-.78.8-2.07 0-2.86zM5.41 20L4 18.59l7.72-7.72 1.47 1.35L5.41 20z\"/>\n",
       "  </svg>\n",
       "      </button>\n",
       "      \n",
       "  <style>\n",
       "    .colab-df-container {\n",
       "      display:flex;\n",
       "      flex-wrap:wrap;\n",
       "      gap: 12px;\n",
       "    }\n",
       "\n",
       "    .colab-df-convert {\n",
       "      background-color: #E8F0FE;\n",
       "      border: none;\n",
       "      border-radius: 50%;\n",
       "      cursor: pointer;\n",
       "      display: none;\n",
       "      fill: #1967D2;\n",
       "      height: 32px;\n",
       "      padding: 0 0 0 0;\n",
       "      width: 32px;\n",
       "    }\n",
       "\n",
       "    .colab-df-convert:hover {\n",
       "      background-color: #E2EBFA;\n",
       "      box-shadow: 0px 1px 2px rgba(60, 64, 67, 0.3), 0px 1px 3px 1px rgba(60, 64, 67, 0.15);\n",
       "      fill: #174EA6;\n",
       "    }\n",
       "\n",
       "    [theme=dark] .colab-df-convert {\n",
       "      background-color: #3B4455;\n",
       "      fill: #D2E3FC;\n",
       "    }\n",
       "\n",
       "    [theme=dark] .colab-df-convert:hover {\n",
       "      background-color: #434B5C;\n",
       "      box-shadow: 0px 1px 3px 1px rgba(0, 0, 0, 0.15);\n",
       "      filter: drop-shadow(0px 1px 2px rgba(0, 0, 0, 0.3));\n",
       "      fill: #FFFFFF;\n",
       "    }\n",
       "  </style>\n",
       "\n",
       "      <script>\n",
       "        const buttonEl =\n",
       "          document.querySelector('#df-266e01a0-9e7d-4a23-80de-940e9ff94086 button.colab-df-convert');\n",
       "        buttonEl.style.display =\n",
       "          google.colab.kernel.accessAllowed ? 'block' : 'none';\n",
       "\n",
       "        async function convertToInteractive(key) {\n",
       "          const element = document.querySelector('#df-266e01a0-9e7d-4a23-80de-940e9ff94086');\n",
       "          const dataTable =\n",
       "            await google.colab.kernel.invokeFunction('convertToInteractive',\n",
       "                                                     [key], {});\n",
       "          if (!dataTable) return;\n",
       "\n",
       "          const docLinkHtml = 'Like what you see? Visit the ' +\n",
       "            '<a target=\"_blank\" href=https://colab.research.google.com/notebooks/data_table.ipynb>data table notebook</a>'\n",
       "            + ' to learn more about interactive tables.';\n",
       "          element.innerHTML = '';\n",
       "          dataTable['output_type'] = 'display_data';\n",
       "          await google.colab.output.renderOutput(dataTable, element);\n",
       "          const docLink = document.createElement('div');\n",
       "          docLink.innerHTML = docLinkHtml;\n",
       "          element.appendChild(docLink);\n",
       "        }\n",
       "      </script>\n",
       "    </div>\n",
       "  </div>\n",
       "  "
      ],
      "text/plain": [
       "   Unnamed: 0        posting_id                                 image  \\\n",
       "0           0   train_129225211  0000a68812bc7e98c42888dfb1c07da0.jpg   \n",
       "1           1  train_3386243561  00039780dfc94d01db8676fe789ecd05.jpg   \n",
       "2           2  train_2288590299  000a190fdd715a2a36faed16e2c65df7.jpg   \n",
       "3           3  train_2406599165  00117e4fc239b1b641ff08340b429633.jpg   \n",
       "4           4  train_3369186413  00136d1cf4edede0203f32f05f660588.jpg   \n",
       "\n",
       "        image_phash                                              title  \\\n",
       "0  94974f937d4c2433                          Paper Bag Victoria Secret   \n",
       "1  af3f9460c2838f0f  Double Tape 3M VHB 12 mm x 4,5 m ORIGINAL / DO...   \n",
       "2  b94cb00ed3e50f78        Maling TTS Canned Pork Luncheon Meat 397 gr   \n",
       "3  8514fc58eafea283  Daster Batik Lengan pendek - Motif Acak / Camp...   \n",
       "4  a6f319f924ad708c                  Nescafe \\xc3\\x89clair Latte 220ml   \n",
       "\n",
       "   label_group                                    title_translate  \n",
       "0    249114794                        Victoria's Secret Paper Bag  \n",
       "1   2937985045  Double Tape 3M VHB 12 mm x 4.5 m ORIGINAL / DO...  \n",
       "2   2395904891        Maling TTS Canned Pork Luncheon Meat 397 gr  \n",
       "3   4093212188  Short sleeve Batik negligee - Random / Mixed P...  \n",
       "4   3648931069                  Nescafe \\xc3\\x89clair Latte 220ml  "
      ]
     },
     "execution_count": 5,
     "metadata": {},
     "output_type": "execute_result"
    }
   ],
   "source": [
    "train.head()"
   ]
  },
  {
   "cell_type": "code",
   "execution_count": null,
   "metadata": {
    "id": "cS9o1r2_aGO7"
   },
   "outputs": [],
   "source": [
    "validate = pd.read_csv('final_validation.csv')"
   ]
  },
  {
   "cell_type": "code",
   "execution_count": null,
   "metadata": {
    "colab": {
     "base_uri": "https://localhost:8080/",
     "height": 302
    },
    "executionInfo": {
     "elapsed": 6,
     "status": "ok",
     "timestamp": 1681576909056,
     "user": {
      "displayName": "Florence Cheng",
      "userId": "06139676342662614610"
     },
     "user_tz": 420
    },
    "id": "hpyyVqeUatS6",
    "outputId": "43087798-2677-4558-89c4-c97fd633e73f"
   },
   "outputs": [
    {
     "data": {
      "text/html": [
       "\n",
       "  <div id=\"df-5007aad9-64d1-4c65-9e03-37db60a701d8\">\n",
       "    <div class=\"colab-df-container\">\n",
       "      <div>\n",
       "<style scoped>\n",
       "    .dataframe tbody tr th:only-of-type {\n",
       "        vertical-align: middle;\n",
       "    }\n",
       "\n",
       "    .dataframe tbody tr th {\n",
       "        vertical-align: top;\n",
       "    }\n",
       "\n",
       "    .dataframe thead th {\n",
       "        text-align: right;\n",
       "    }\n",
       "</style>\n",
       "<table border=\"1\" class=\"dataframe\">\n",
       "  <thead>\n",
       "    <tr style=\"text-align: right;\">\n",
       "      <th></th>\n",
       "      <th>Unnamed: 0</th>\n",
       "      <th>posting_id</th>\n",
       "      <th>image</th>\n",
       "      <th>image_phash</th>\n",
       "      <th>title</th>\n",
       "      <th>label_group</th>\n",
       "      <th>title_translate</th>\n",
       "    </tr>\n",
       "  </thead>\n",
       "  <tbody>\n",
       "    <tr>\n",
       "      <th>0</th>\n",
       "      <td>11443</td>\n",
       "      <td>train_1003554842</td>\n",
       "      <td>560a5c3577fb22be2ac82c0e97558158.jpg</td>\n",
       "      <td>f3c78fce8c3050f0</td>\n",
       "      <td>Mustika  Ratu Minyak Cem-Ceman 175 ml</td>\n",
       "      <td>3044373336</td>\n",
       "      <td>Mustika Ratu Oil Cem-Ceman 175 ml</td>\n",
       "    </tr>\n",
       "    <tr>\n",
       "      <th>1</th>\n",
       "      <td>29516</td>\n",
       "      <td>train_523363809</td>\n",
       "      <td>dd1f14c7a734ff28b67062ae4f8529c6.jpg</td>\n",
       "      <td>af919a66c49d688b</td>\n",
       "      <td>Snobby Kelambu Box Bayi Snobby 1 Tiang KBX 1201</td>\n",
       "      <td>873493898</td>\n",
       "      <td>Snobby Baby Mosquito Net Snobby 1 Pole KBX 1201</td>\n",
       "    </tr>\n",
       "    <tr>\n",
       "      <th>2</th>\n",
       "      <td>6976</td>\n",
       "      <td>train_1036373061</td>\n",
       "      <td>34b4aa697f4606fcf52ec74f53c9f246.jpg</td>\n",
       "      <td>dc132bece40552db</td>\n",
       "      <td>stopper mini</td>\n",
       "      <td>578575602</td>\n",
       "      <td>mini stoppers</td>\n",
       "    </tr>\n",
       "    <tr>\n",
       "      <th>3</th>\n",
       "      <td>17316</td>\n",
       "      <td>train_3107279377</td>\n",
       "      <td>8255718baadd70981be5f49de9ff270b.jpg</td>\n",
       "      <td>e691986c9586cdec</td>\n",
       "      <td>Sepatu Wedges Selop Jelly F916/304</td>\n",
       "      <td>1376270839</td>\n",
       "      <td>F916/304 Jelly Slides Wedges Shoes</td>\n",
       "    </tr>\n",
       "    <tr>\n",
       "      <th>4</th>\n",
       "      <td>10476</td>\n",
       "      <td>train_2073151758</td>\n",
       "      <td>4e8d8a4d98f98dd41be729476d498701.jpg</td>\n",
       "      <td>f7b9c25c64433926</td>\n",
       "      <td>\\xe3\\x80\\x90CELEB\\xe3\\x80\\x91100 Pcs Ikat Ramb...</td>\n",
       "      <td>994676122</td>\n",
       "      <td>\\xe3\\x80\\x90CELEB\\xe3\\x80\\x91100 Pcs Korean St...</td>\n",
       "    </tr>\n",
       "  </tbody>\n",
       "</table>\n",
       "</div>\n",
       "      <button class=\"colab-df-convert\" onclick=\"convertToInteractive('df-5007aad9-64d1-4c65-9e03-37db60a701d8')\"\n",
       "              title=\"Convert this dataframe to an interactive table.\"\n",
       "              style=\"display:none;\">\n",
       "        \n",
       "  <svg xmlns=\"http://www.w3.org/2000/svg\" height=\"24px\"viewBox=\"0 0 24 24\"\n",
       "       width=\"24px\">\n",
       "    <path d=\"M0 0h24v24H0V0z\" fill=\"none\"/>\n",
       "    <path d=\"M18.56 5.44l.94 2.06.94-2.06 2.06-.94-2.06-.94-.94-2.06-.94 2.06-2.06.94zm-11 1L8.5 8.5l.94-2.06 2.06-.94-2.06-.94L8.5 2.5l-.94 2.06-2.06.94zm10 10l.94 2.06.94-2.06 2.06-.94-2.06-.94-.94-2.06-.94 2.06-2.06.94z\"/><path d=\"M17.41 7.96l-1.37-1.37c-.4-.4-.92-.59-1.43-.59-.52 0-1.04.2-1.43.59L10.3 9.45l-7.72 7.72c-.78.78-.78 2.05 0 2.83L4 21.41c.39.39.9.59 1.41.59.51 0 1.02-.2 1.41-.59l7.78-7.78 2.81-2.81c.8-.78.8-2.07 0-2.86zM5.41 20L4 18.59l7.72-7.72 1.47 1.35L5.41 20z\"/>\n",
       "  </svg>\n",
       "      </button>\n",
       "      \n",
       "  <style>\n",
       "    .colab-df-container {\n",
       "      display:flex;\n",
       "      flex-wrap:wrap;\n",
       "      gap: 12px;\n",
       "    }\n",
       "\n",
       "    .colab-df-convert {\n",
       "      background-color: #E8F0FE;\n",
       "      border: none;\n",
       "      border-radius: 50%;\n",
       "      cursor: pointer;\n",
       "      display: none;\n",
       "      fill: #1967D2;\n",
       "      height: 32px;\n",
       "      padding: 0 0 0 0;\n",
       "      width: 32px;\n",
       "    }\n",
       "\n",
       "    .colab-df-convert:hover {\n",
       "      background-color: #E2EBFA;\n",
       "      box-shadow: 0px 1px 2px rgba(60, 64, 67, 0.3), 0px 1px 3px 1px rgba(60, 64, 67, 0.15);\n",
       "      fill: #174EA6;\n",
       "    }\n",
       "\n",
       "    [theme=dark] .colab-df-convert {\n",
       "      background-color: #3B4455;\n",
       "      fill: #D2E3FC;\n",
       "    }\n",
       "\n",
       "    [theme=dark] .colab-df-convert:hover {\n",
       "      background-color: #434B5C;\n",
       "      box-shadow: 0px 1px 3px 1px rgba(0, 0, 0, 0.15);\n",
       "      filter: drop-shadow(0px 1px 2px rgba(0, 0, 0, 0.3));\n",
       "      fill: #FFFFFF;\n",
       "    }\n",
       "  </style>\n",
       "\n",
       "      <script>\n",
       "        const buttonEl =\n",
       "          document.querySelector('#df-5007aad9-64d1-4c65-9e03-37db60a701d8 button.colab-df-convert');\n",
       "        buttonEl.style.display =\n",
       "          google.colab.kernel.accessAllowed ? 'block' : 'none';\n",
       "\n",
       "        async function convertToInteractive(key) {\n",
       "          const element = document.querySelector('#df-5007aad9-64d1-4c65-9e03-37db60a701d8');\n",
       "          const dataTable =\n",
       "            await google.colab.kernel.invokeFunction('convertToInteractive',\n",
       "                                                     [key], {});\n",
       "          if (!dataTable) return;\n",
       "\n",
       "          const docLinkHtml = 'Like what you see? Visit the ' +\n",
       "            '<a target=\"_blank\" href=https://colab.research.google.com/notebooks/data_table.ipynb>data table notebook</a>'\n",
       "            + ' to learn more about interactive tables.';\n",
       "          element.innerHTML = '';\n",
       "          dataTable['output_type'] = 'display_data';\n",
       "          await google.colab.output.renderOutput(dataTable, element);\n",
       "          const docLink = document.createElement('div');\n",
       "          docLink.innerHTML = docLinkHtml;\n",
       "          element.appendChild(docLink);\n",
       "        }\n",
       "      </script>\n",
       "    </div>\n",
       "  </div>\n",
       "  "
      ],
      "text/plain": [
       "   Unnamed: 0        posting_id                                 image  \\\n",
       "0       11443  train_1003554842  560a5c3577fb22be2ac82c0e97558158.jpg   \n",
       "1       29516   train_523363809  dd1f14c7a734ff28b67062ae4f8529c6.jpg   \n",
       "2        6976  train_1036373061  34b4aa697f4606fcf52ec74f53c9f246.jpg   \n",
       "3       17316  train_3107279377  8255718baadd70981be5f49de9ff270b.jpg   \n",
       "4       10476  train_2073151758  4e8d8a4d98f98dd41be729476d498701.jpg   \n",
       "\n",
       "        image_phash                                              title  \\\n",
       "0  f3c78fce8c3050f0              Mustika  Ratu Minyak Cem-Ceman 175 ml   \n",
       "1  af919a66c49d688b    Snobby Kelambu Box Bayi Snobby 1 Tiang KBX 1201   \n",
       "2  dc132bece40552db                                       stopper mini   \n",
       "3  e691986c9586cdec                 Sepatu Wedges Selop Jelly F916/304   \n",
       "4  f7b9c25c64433926  \\xe3\\x80\\x90CELEB\\xe3\\x80\\x91100 Pcs Ikat Ramb...   \n",
       "\n",
       "   label_group                                    title_translate  \n",
       "0   3044373336                  Mustika Ratu Oil Cem-Ceman 175 ml  \n",
       "1    873493898    Snobby Baby Mosquito Net Snobby 1 Pole KBX 1201  \n",
       "2    578575602                                      mini stoppers  \n",
       "3   1376270839                 F916/304 Jelly Slides Wedges Shoes  \n",
       "4    994676122  \\xe3\\x80\\x90CELEB\\xe3\\x80\\x91100 Pcs Korean St...  "
      ]
     },
     "execution_count": 7,
     "metadata": {},
     "output_type": "execute_result"
    }
   ],
   "source": [
    "validate.head()"
   ]
  },
  {
   "cell_type": "code",
   "execution_count": null,
   "metadata": {
    "colab": {
     "base_uri": "https://localhost:8080/"
    },
    "executionInfo": {
     "elapsed": 6,
     "status": "ok",
     "timestamp": 1681576909056,
     "user": {
      "displayName": "Florence Cheng",
      "userId": "06139676342662614610"
     },
     "user_tz": 420
    },
    "id": "SX7RjMeWat_v",
    "outputId": "2dc27745-8d16-49ba-a5f4-d772197edd3f"
   },
   "outputs": [
    {
     "name": "stdout",
     "output_type": "stream",
     "text": [
      "29603 4647\n"
     ]
    }
   ],
   "source": [
    "print(len(train), len(validate))"
   ]
  },
  {
   "cell_type": "code",
   "execution_count": null,
   "metadata": {
    "id": "Brw4S_EKsFwQ"
   },
   "outputs": [],
   "source": [
    "img_df = pd.read_csv(\"images_train.csv\", delimiter=\",\", engine='c', na_filter=False,\n",
    "                     dtype={col: np.uint8 for col in pd.read_csv('images_train.csv', nrows=1).select_dtypes(exclude=['object']).columns})"
   ]
  },
  {
   "cell_type": "code",
   "execution_count": null,
   "metadata": {
    "id": "Y7IVQyZqbj43"
   },
   "outputs": [],
   "source": [
    "img_df_val = pd.read_csv(\"images_validation.csv\", delimiter=\",\", engine='c', na_filter=False,\n",
    "                     dtype={col: np.uint8 for col in pd.read_csv('images_validation.csv', nrows=1).select_dtypes(exclude=['object']).columns})"
   ]
  },
  {
   "cell_type": "code",
   "execution_count": null,
   "metadata": {
    "colab": {
     "base_uri": "https://localhost:8080/",
     "height": 317
    },
    "executionInfo": {
     "elapsed": 29,
     "status": "ok",
     "timestamp": 1681576966037,
     "user": {
      "displayName": "Florence Cheng",
      "userId": "06139676342662614610"
     },
     "user_tz": 420
    },
    "id": "ELNazXw7HmOy",
    "outputId": "4b05492e-bb79-4562-9768-115c7822a425"
   },
   "outputs": [
    {
     "data": {
      "text/html": [
       "\n",
       "  <div id=\"df-0d287db3-8c90-4757-8c55-9aab8e678238\">\n",
       "    <div class=\"colab-df-container\">\n",
       "      <div>\n",
       "<style scoped>\n",
       "    .dataframe tbody tr th:only-of-type {\n",
       "        vertical-align: middle;\n",
       "    }\n",
       "\n",
       "    .dataframe tbody tr th {\n",
       "        vertical-align: top;\n",
       "    }\n",
       "\n",
       "    .dataframe thead th {\n",
       "        text-align: right;\n",
       "    }\n",
       "</style>\n",
       "<table border=\"1\" class=\"dataframe\">\n",
       "  <thead>\n",
       "    <tr style=\"text-align: right;\">\n",
       "      <th></th>\n",
       "      <th>Unnamed: 0</th>\n",
       "      <th>label_group</th>\n",
       "      <th>image</th>\n",
       "      <th>0</th>\n",
       "      <th>1</th>\n",
       "      <th>2</th>\n",
       "      <th>3</th>\n",
       "      <th>4</th>\n",
       "      <th>5</th>\n",
       "      <th>6</th>\n",
       "      <th>...</th>\n",
       "      <th>12278</th>\n",
       "      <th>12279</th>\n",
       "      <th>12280</th>\n",
       "      <th>12281</th>\n",
       "      <th>12282</th>\n",
       "      <th>12283</th>\n",
       "      <th>12284</th>\n",
       "      <th>12285</th>\n",
       "      <th>12286</th>\n",
       "      <th>12287</th>\n",
       "    </tr>\n",
       "  </thead>\n",
       "  <tbody>\n",
       "    <tr>\n",
       "      <th>0</th>\n",
       "      <td>0</td>\n",
       "      <td>170</td>\n",
       "      <td>0000a68812bc7e98c42888dfb1c07da0.jpg</td>\n",
       "      <td>143</td>\n",
       "      <td>73</td>\n",
       "      <td>83</td>\n",
       "      <td>150</td>\n",
       "      <td>85</td>\n",
       "      <td>95</td>\n",
       "      <td>153</td>\n",
       "      <td>...</td>\n",
       "      <td>142</td>\n",
       "      <td>194</td>\n",
       "      <td>116</td>\n",
       "      <td>134</td>\n",
       "      <td>191</td>\n",
       "      <td>111</td>\n",
       "      <td>129</td>\n",
       "      <td>193</td>\n",
       "      <td>122</td>\n",
       "      <td>143</td>\n",
       "    </tr>\n",
       "    <tr>\n",
       "      <th>1</th>\n",
       "      <td>1</td>\n",
       "      <td>21</td>\n",
       "      <td>00039780dfc94d01db8676fe789ecd05.jpg</td>\n",
       "      <td>255</td>\n",
       "      <td>255</td>\n",
       "      <td>255</td>\n",
       "      <td>255</td>\n",
       "      <td>255</td>\n",
       "      <td>255</td>\n",
       "      <td>255</td>\n",
       "      <td>...</td>\n",
       "      <td>255</td>\n",
       "      <td>255</td>\n",
       "      <td>255</td>\n",
       "      <td>255</td>\n",
       "      <td>255</td>\n",
       "      <td>255</td>\n",
       "      <td>255</td>\n",
       "      <td>255</td>\n",
       "      <td>255</td>\n",
       "      <td>255</td>\n",
       "    </tr>\n",
       "    <tr>\n",
       "      <th>2</th>\n",
       "      <td>2</td>\n",
       "      <td>123</td>\n",
       "      <td>000a190fdd715a2a36faed16e2c65df7.jpg</td>\n",
       "      <td>206</td>\n",
       "      <td>201</td>\n",
       "      <td>195</td>\n",
       "      <td>205</td>\n",
       "      <td>200</td>\n",
       "      <td>194</td>\n",
       "      <td>206</td>\n",
       "      <td>...</td>\n",
       "      <td>245</td>\n",
       "      <td>242</td>\n",
       "      <td>243</td>\n",
       "      <td>245</td>\n",
       "      <td>244</td>\n",
       "      <td>245</td>\n",
       "      <td>247</td>\n",
       "      <td>244</td>\n",
       "      <td>245</td>\n",
       "      <td>247</td>\n",
       "    </tr>\n",
       "    <tr>\n",
       "      <th>3</th>\n",
       "      <td>3</td>\n",
       "      <td>28</td>\n",
       "      <td>00117e4fc239b1b641ff08340b429633.jpg</td>\n",
       "      <td>254</td>\n",
       "      <td>254</td>\n",
       "      <td>254</td>\n",
       "      <td>254</td>\n",
       "      <td>254</td>\n",
       "      <td>254</td>\n",
       "      <td>254</td>\n",
       "      <td>...</td>\n",
       "      <td>248</td>\n",
       "      <td>251</td>\n",
       "      <td>250</td>\n",
       "      <td>249</td>\n",
       "      <td>251</td>\n",
       "      <td>251</td>\n",
       "      <td>249</td>\n",
       "      <td>252</td>\n",
       "      <td>251</td>\n",
       "      <td>250</td>\n",
       "    </tr>\n",
       "    <tr>\n",
       "      <th>4</th>\n",
       "      <td>4</td>\n",
       "      <td>253</td>\n",
       "      <td>00136d1cf4edede0203f32f05f660588.jpg</td>\n",
       "      <td>255</td>\n",
       "      <td>255</td>\n",
       "      <td>255</td>\n",
       "      <td>255</td>\n",
       "      <td>255</td>\n",
       "      <td>255</td>\n",
       "      <td>255</td>\n",
       "      <td>...</td>\n",
       "      <td>141</td>\n",
       "      <td>22</td>\n",
       "      <td>72</td>\n",
       "      <td>141</td>\n",
       "      <td>22</td>\n",
       "      <td>72</td>\n",
       "      <td>141</td>\n",
       "      <td>22</td>\n",
       "      <td>72</td>\n",
       "      <td>141</td>\n",
       "    </tr>\n",
       "  </tbody>\n",
       "</table>\n",
       "<p>5 rows × 12291 columns</p>\n",
       "</div>\n",
       "      <button class=\"colab-df-convert\" onclick=\"convertToInteractive('df-0d287db3-8c90-4757-8c55-9aab8e678238')\"\n",
       "              title=\"Convert this dataframe to an interactive table.\"\n",
       "              style=\"display:none;\">\n",
       "        \n",
       "  <svg xmlns=\"http://www.w3.org/2000/svg\" height=\"24px\"viewBox=\"0 0 24 24\"\n",
       "       width=\"24px\">\n",
       "    <path d=\"M0 0h24v24H0V0z\" fill=\"none\"/>\n",
       "    <path d=\"M18.56 5.44l.94 2.06.94-2.06 2.06-.94-2.06-.94-.94-2.06-.94 2.06-2.06.94zm-11 1L8.5 8.5l.94-2.06 2.06-.94-2.06-.94L8.5 2.5l-.94 2.06-2.06.94zm10 10l.94 2.06.94-2.06 2.06-.94-2.06-.94-.94-2.06-.94 2.06-2.06.94z\"/><path d=\"M17.41 7.96l-1.37-1.37c-.4-.4-.92-.59-1.43-.59-.52 0-1.04.2-1.43.59L10.3 9.45l-7.72 7.72c-.78.78-.78 2.05 0 2.83L4 21.41c.39.39.9.59 1.41.59.51 0 1.02-.2 1.41-.59l7.78-7.78 2.81-2.81c.8-.78.8-2.07 0-2.86zM5.41 20L4 18.59l7.72-7.72 1.47 1.35L5.41 20z\"/>\n",
       "  </svg>\n",
       "      </button>\n",
       "      \n",
       "  <style>\n",
       "    .colab-df-container {\n",
       "      display:flex;\n",
       "      flex-wrap:wrap;\n",
       "      gap: 12px;\n",
       "    }\n",
       "\n",
       "    .colab-df-convert {\n",
       "      background-color: #E8F0FE;\n",
       "      border: none;\n",
       "      border-radius: 50%;\n",
       "      cursor: pointer;\n",
       "      display: none;\n",
       "      fill: #1967D2;\n",
       "      height: 32px;\n",
       "      padding: 0 0 0 0;\n",
       "      width: 32px;\n",
       "    }\n",
       "\n",
       "    .colab-df-convert:hover {\n",
       "      background-color: #E2EBFA;\n",
       "      box-shadow: 0px 1px 2px rgba(60, 64, 67, 0.3), 0px 1px 3px 1px rgba(60, 64, 67, 0.15);\n",
       "      fill: #174EA6;\n",
       "    }\n",
       "\n",
       "    [theme=dark] .colab-df-convert {\n",
       "      background-color: #3B4455;\n",
       "      fill: #D2E3FC;\n",
       "    }\n",
       "\n",
       "    [theme=dark] .colab-df-convert:hover {\n",
       "      background-color: #434B5C;\n",
       "      box-shadow: 0px 1px 3px 1px rgba(0, 0, 0, 0.15);\n",
       "      filter: drop-shadow(0px 1px 2px rgba(0, 0, 0, 0.3));\n",
       "      fill: #FFFFFF;\n",
       "    }\n",
       "  </style>\n",
       "\n",
       "      <script>\n",
       "        const buttonEl =\n",
       "          document.querySelector('#df-0d287db3-8c90-4757-8c55-9aab8e678238 button.colab-df-convert');\n",
       "        buttonEl.style.display =\n",
       "          google.colab.kernel.accessAllowed ? 'block' : 'none';\n",
       "\n",
       "        async function convertToInteractive(key) {\n",
       "          const element = document.querySelector('#df-0d287db3-8c90-4757-8c55-9aab8e678238');\n",
       "          const dataTable =\n",
       "            await google.colab.kernel.invokeFunction('convertToInteractive',\n",
       "                                                     [key], {});\n",
       "          if (!dataTable) return;\n",
       "\n",
       "          const docLinkHtml = 'Like what you see? Visit the ' +\n",
       "            '<a target=\"_blank\" href=https://colab.research.google.com/notebooks/data_table.ipynb>data table notebook</a>'\n",
       "            + ' to learn more about interactive tables.';\n",
       "          element.innerHTML = '';\n",
       "          dataTable['output_type'] = 'display_data';\n",
       "          await google.colab.output.renderOutput(dataTable, element);\n",
       "          const docLink = document.createElement('div');\n",
       "          docLink.innerHTML = docLinkHtml;\n",
       "          element.appendChild(docLink);\n",
       "        }\n",
       "      </script>\n",
       "    </div>\n",
       "  </div>\n",
       "  "
      ],
      "text/plain": [
       "   Unnamed: 0  label_group                                 image    0    1  \\\n",
       "0           0          170  0000a68812bc7e98c42888dfb1c07da0.jpg  143   73   \n",
       "1           1           21  00039780dfc94d01db8676fe789ecd05.jpg  255  255   \n",
       "2           2          123  000a190fdd715a2a36faed16e2c65df7.jpg  206  201   \n",
       "3           3           28  00117e4fc239b1b641ff08340b429633.jpg  254  254   \n",
       "4           4          253  00136d1cf4edede0203f32f05f660588.jpg  255  255   \n",
       "\n",
       "     2    3    4    5    6  ...  12278  12279  12280  12281  12282  12283  \\\n",
       "0   83  150   85   95  153  ...    142    194    116    134    191    111   \n",
       "1  255  255  255  255  255  ...    255    255    255    255    255    255   \n",
       "2  195  205  200  194  206  ...    245    242    243    245    244    245   \n",
       "3  254  254  254  254  254  ...    248    251    250    249    251    251   \n",
       "4  255  255  255  255  255  ...    141     22     72    141     22     72   \n",
       "\n",
       "   12284  12285  12286  12287  \n",
       "0    129    193    122    143  \n",
       "1    255    255    255    255  \n",
       "2    247    244    245    247  \n",
       "3    249    252    251    250  \n",
       "4    141     22     72    141  \n",
       "\n",
       "[5 rows x 12291 columns]"
      ]
     },
     "execution_count": 11,
     "metadata": {},
     "output_type": "execute_result"
    }
   ],
   "source": [
    "img_df.head()"
   ]
  },
  {
   "cell_type": "code",
   "execution_count": null,
   "metadata": {
    "colab": {
     "base_uri": "https://localhost:8080/",
     "height": 317
    },
    "executionInfo": {
     "elapsed": 27,
     "status": "ok",
     "timestamp": 1681576966037,
     "user": {
      "displayName": "Florence Cheng",
      "userId": "06139676342662614610"
     },
     "user_tz": 420
    },
    "id": "V-OWQaArbpM-",
    "outputId": "d93af080-2fd5-4cfd-dd51-f030cd02d0b4"
   },
   "outputs": [
    {
     "data": {
      "text/html": [
       "\n",
       "  <div id=\"df-22b87e10-1415-4f24-af91-1d0d10a20b9f\">\n",
       "    <div class=\"colab-df-container\">\n",
       "      <div>\n",
       "<style scoped>\n",
       "    .dataframe tbody tr th:only-of-type {\n",
       "        vertical-align: middle;\n",
       "    }\n",
       "\n",
       "    .dataframe tbody tr th {\n",
       "        vertical-align: top;\n",
       "    }\n",
       "\n",
       "    .dataframe thead th {\n",
       "        text-align: right;\n",
       "    }\n",
       "</style>\n",
       "<table border=\"1\" class=\"dataframe\">\n",
       "  <thead>\n",
       "    <tr style=\"text-align: right;\">\n",
       "      <th></th>\n",
       "      <th>Unnamed: 0</th>\n",
       "      <th>label_group</th>\n",
       "      <th>image</th>\n",
       "      <th>0</th>\n",
       "      <th>1</th>\n",
       "      <th>2</th>\n",
       "      <th>3</th>\n",
       "      <th>4</th>\n",
       "      <th>5</th>\n",
       "      <th>6</th>\n",
       "      <th>...</th>\n",
       "      <th>12278</th>\n",
       "      <th>12279</th>\n",
       "      <th>12280</th>\n",
       "      <th>12281</th>\n",
       "      <th>12282</th>\n",
       "      <th>12283</th>\n",
       "      <th>12284</th>\n",
       "      <th>12285</th>\n",
       "      <th>12286</th>\n",
       "      <th>12287</th>\n",
       "    </tr>\n",
       "  </thead>\n",
       "  <tbody>\n",
       "    <tr>\n",
       "      <th>0</th>\n",
       "      <td>179</td>\n",
       "      <td>88</td>\n",
       "      <td>560a5c3577fb22be2ac82c0e97558158.jpg</td>\n",
       "      <td>255</td>\n",
       "      <td>255</td>\n",
       "      <td>255</td>\n",
       "      <td>255</td>\n",
       "      <td>255</td>\n",
       "      <td>255</td>\n",
       "      <td>255</td>\n",
       "      <td>...</td>\n",
       "      <td>255</td>\n",
       "      <td>255</td>\n",
       "      <td>255</td>\n",
       "      <td>255</td>\n",
       "      <td>255</td>\n",
       "      <td>255</td>\n",
       "      <td>255</td>\n",
       "      <td>255</td>\n",
       "      <td>255</td>\n",
       "      <td>255</td>\n",
       "    </tr>\n",
       "    <tr>\n",
       "      <th>1</th>\n",
       "      <td>76</td>\n",
       "      <td>138</td>\n",
       "      <td>dd1f14c7a734ff28b67062ae4f8529c6.jpg</td>\n",
       "      <td>255</td>\n",
       "      <td>255</td>\n",
       "      <td>255</td>\n",
       "      <td>255</td>\n",
       "      <td>255</td>\n",
       "      <td>255</td>\n",
       "      <td>255</td>\n",
       "      <td>...</td>\n",
       "      <td>255</td>\n",
       "      <td>255</td>\n",
       "      <td>255</td>\n",
       "      <td>255</td>\n",
       "      <td>255</td>\n",
       "      <td>255</td>\n",
       "      <td>255</td>\n",
       "      <td>255</td>\n",
       "      <td>255</td>\n",
       "      <td>255</td>\n",
       "    </tr>\n",
       "    <tr>\n",
       "      <th>2</th>\n",
       "      <td>64</td>\n",
       "      <td>242</td>\n",
       "      <td>34b4aa697f4606fcf52ec74f53c9f246.jpg</td>\n",
       "      <td>12</td>\n",
       "      <td>14</td>\n",
       "      <td>13</td>\n",
       "      <td>12</td>\n",
       "      <td>14</td>\n",
       "      <td>13</td>\n",
       "      <td>28</td>\n",
       "      <td>...</td>\n",
       "      <td>18</td>\n",
       "      <td>9</td>\n",
       "      <td>9</td>\n",
       "      <td>9</td>\n",
       "      <td>9</td>\n",
       "      <td>9</td>\n",
       "      <td>9</td>\n",
       "      <td>11</td>\n",
       "      <td>11</td>\n",
       "      <td>11</td>\n",
       "    </tr>\n",
       "    <tr>\n",
       "      <th>3</th>\n",
       "      <td>164</td>\n",
       "      <td>247</td>\n",
       "      <td>8255718baadd70981be5f49de9ff270b.jpg</td>\n",
       "      <td>255</td>\n",
       "      <td>255</td>\n",
       "      <td>255</td>\n",
       "      <td>255</td>\n",
       "      <td>255</td>\n",
       "      <td>255</td>\n",
       "      <td>255</td>\n",
       "      <td>...</td>\n",
       "      <td>255</td>\n",
       "      <td>255</td>\n",
       "      <td>255</td>\n",
       "      <td>255</td>\n",
       "      <td>255</td>\n",
       "      <td>255</td>\n",
       "      <td>255</td>\n",
       "      <td>255</td>\n",
       "      <td>255</td>\n",
       "      <td>255</td>\n",
       "    </tr>\n",
       "    <tr>\n",
       "      <th>4</th>\n",
       "      <td>236</td>\n",
       "      <td>154</td>\n",
       "      <td>4e8d8a4d98f98dd41be729476d498701.jpg</td>\n",
       "      <td>249</td>\n",
       "      <td>247</td>\n",
       "      <td>246</td>\n",
       "      <td>251</td>\n",
       "      <td>249</td>\n",
       "      <td>248</td>\n",
       "      <td>253</td>\n",
       "      <td>...</td>\n",
       "      <td>173</td>\n",
       "      <td>184</td>\n",
       "      <td>179</td>\n",
       "      <td>173</td>\n",
       "      <td>184</td>\n",
       "      <td>180</td>\n",
       "      <td>174</td>\n",
       "      <td>178</td>\n",
       "      <td>173</td>\n",
       "      <td>169</td>\n",
       "    </tr>\n",
       "  </tbody>\n",
       "</table>\n",
       "<p>5 rows × 12291 columns</p>\n",
       "</div>\n",
       "      <button class=\"colab-df-convert\" onclick=\"convertToInteractive('df-22b87e10-1415-4f24-af91-1d0d10a20b9f')\"\n",
       "              title=\"Convert this dataframe to an interactive table.\"\n",
       "              style=\"display:none;\">\n",
       "        \n",
       "  <svg xmlns=\"http://www.w3.org/2000/svg\" height=\"24px\"viewBox=\"0 0 24 24\"\n",
       "       width=\"24px\">\n",
       "    <path d=\"M0 0h24v24H0V0z\" fill=\"none\"/>\n",
       "    <path d=\"M18.56 5.44l.94 2.06.94-2.06 2.06-.94-2.06-.94-.94-2.06-.94 2.06-2.06.94zm-11 1L8.5 8.5l.94-2.06 2.06-.94-2.06-.94L8.5 2.5l-.94 2.06-2.06.94zm10 10l.94 2.06.94-2.06 2.06-.94-2.06-.94-.94-2.06-.94 2.06-2.06.94z\"/><path d=\"M17.41 7.96l-1.37-1.37c-.4-.4-.92-.59-1.43-.59-.52 0-1.04.2-1.43.59L10.3 9.45l-7.72 7.72c-.78.78-.78 2.05 0 2.83L4 21.41c.39.39.9.59 1.41.59.51 0 1.02-.2 1.41-.59l7.78-7.78 2.81-2.81c.8-.78.8-2.07 0-2.86zM5.41 20L4 18.59l7.72-7.72 1.47 1.35L5.41 20z\"/>\n",
       "  </svg>\n",
       "      </button>\n",
       "      \n",
       "  <style>\n",
       "    .colab-df-container {\n",
       "      display:flex;\n",
       "      flex-wrap:wrap;\n",
       "      gap: 12px;\n",
       "    }\n",
       "\n",
       "    .colab-df-convert {\n",
       "      background-color: #E8F0FE;\n",
       "      border: none;\n",
       "      border-radius: 50%;\n",
       "      cursor: pointer;\n",
       "      display: none;\n",
       "      fill: #1967D2;\n",
       "      height: 32px;\n",
       "      padding: 0 0 0 0;\n",
       "      width: 32px;\n",
       "    }\n",
       "\n",
       "    .colab-df-convert:hover {\n",
       "      background-color: #E2EBFA;\n",
       "      box-shadow: 0px 1px 2px rgba(60, 64, 67, 0.3), 0px 1px 3px 1px rgba(60, 64, 67, 0.15);\n",
       "      fill: #174EA6;\n",
       "    }\n",
       "\n",
       "    [theme=dark] .colab-df-convert {\n",
       "      background-color: #3B4455;\n",
       "      fill: #D2E3FC;\n",
       "    }\n",
       "\n",
       "    [theme=dark] .colab-df-convert:hover {\n",
       "      background-color: #434B5C;\n",
       "      box-shadow: 0px 1px 3px 1px rgba(0, 0, 0, 0.15);\n",
       "      filter: drop-shadow(0px 1px 2px rgba(0, 0, 0, 0.3));\n",
       "      fill: #FFFFFF;\n",
       "    }\n",
       "  </style>\n",
       "\n",
       "      <script>\n",
       "        const buttonEl =\n",
       "          document.querySelector('#df-22b87e10-1415-4f24-af91-1d0d10a20b9f button.colab-df-convert');\n",
       "        buttonEl.style.display =\n",
       "          google.colab.kernel.accessAllowed ? 'block' : 'none';\n",
       "\n",
       "        async function convertToInteractive(key) {\n",
       "          const element = document.querySelector('#df-22b87e10-1415-4f24-af91-1d0d10a20b9f');\n",
       "          const dataTable =\n",
       "            await google.colab.kernel.invokeFunction('convertToInteractive',\n",
       "                                                     [key], {});\n",
       "          if (!dataTable) return;\n",
       "\n",
       "          const docLinkHtml = 'Like what you see? Visit the ' +\n",
       "            '<a target=\"_blank\" href=https://colab.research.google.com/notebooks/data_table.ipynb>data table notebook</a>'\n",
       "            + ' to learn more about interactive tables.';\n",
       "          element.innerHTML = '';\n",
       "          dataTable['output_type'] = 'display_data';\n",
       "          await google.colab.output.renderOutput(dataTable, element);\n",
       "          const docLink = document.createElement('div');\n",
       "          docLink.innerHTML = docLinkHtml;\n",
       "          element.appendChild(docLink);\n",
       "        }\n",
       "      </script>\n",
       "    </div>\n",
       "  </div>\n",
       "  "
      ],
      "text/plain": [
       "   Unnamed: 0  label_group                                 image    0    1  \\\n",
       "0         179           88  560a5c3577fb22be2ac82c0e97558158.jpg  255  255   \n",
       "1          76          138  dd1f14c7a734ff28b67062ae4f8529c6.jpg  255  255   \n",
       "2          64          242  34b4aa697f4606fcf52ec74f53c9f246.jpg   12   14   \n",
       "3         164          247  8255718baadd70981be5f49de9ff270b.jpg  255  255   \n",
       "4         236          154  4e8d8a4d98f98dd41be729476d498701.jpg  249  247   \n",
       "\n",
       "     2    3    4    5    6  ...  12278  12279  12280  12281  12282  12283  \\\n",
       "0  255  255  255  255  255  ...    255    255    255    255    255    255   \n",
       "1  255  255  255  255  255  ...    255    255    255    255    255    255   \n",
       "2   13   12   14   13   28  ...     18      9      9      9      9      9   \n",
       "3  255  255  255  255  255  ...    255    255    255    255    255    255   \n",
       "4  246  251  249  248  253  ...    173    184    179    173    184    180   \n",
       "\n",
       "   12284  12285  12286  12287  \n",
       "0    255    255    255    255  \n",
       "1    255    255    255    255  \n",
       "2      9     11     11     11  \n",
       "3    255    255    255    255  \n",
       "4    174    178    173    169  \n",
       "\n",
       "[5 rows x 12291 columns]"
      ]
     },
     "execution_count": 12,
     "metadata": {},
     "output_type": "execute_result"
    }
   ],
   "source": [
    "img_df_val.head()"
   ]
  },
  {
   "cell_type": "code",
   "execution_count": null,
   "metadata": {
    "id": "Jw80Ro99JTi9"
   },
   "outputs": [],
   "source": [
    "X = img_df.iloc[:,3:]\n",
    "X_rows = img_df.shape[0]\n",
    "\n",
    "X_val = img_df_val.iloc[:,3:]\n",
    "X_rows_val = img_df_val.shape[0]"
   ]
  },
  {
   "cell_type": "code",
   "execution_count": null,
   "metadata": {
    "colab": {
     "base_uri": "https://localhost:8080/",
     "height": 236
    },
    "executionInfo": {
     "elapsed": 25,
     "status": "ok",
     "timestamp": 1681576966474,
     "user": {
      "displayName": "Florence Cheng",
      "userId": "06139676342662614610"
     },
     "user_tz": 420
    },
    "id": "7whvGI1Mb0lS",
    "outputId": "8971304a-1dad-4c2c-86e9-be66294a5b50"
   },
   "outputs": [
    {
     "data": {
      "text/html": [
       "\n",
       "  <div id=\"df-4fa9aacf-7fcf-4ac7-8bdc-404ed486d029\">\n",
       "    <div class=\"colab-df-container\">\n",
       "      <div>\n",
       "<style scoped>\n",
       "    .dataframe tbody tr th:only-of-type {\n",
       "        vertical-align: middle;\n",
       "    }\n",
       "\n",
       "    .dataframe tbody tr th {\n",
       "        vertical-align: top;\n",
       "    }\n",
       "\n",
       "    .dataframe thead th {\n",
       "        text-align: right;\n",
       "    }\n",
       "</style>\n",
       "<table border=\"1\" class=\"dataframe\">\n",
       "  <thead>\n",
       "    <tr style=\"text-align: right;\">\n",
       "      <th></th>\n",
       "      <th>0</th>\n",
       "      <th>1</th>\n",
       "      <th>2</th>\n",
       "      <th>3</th>\n",
       "      <th>4</th>\n",
       "      <th>5</th>\n",
       "      <th>6</th>\n",
       "      <th>7</th>\n",
       "      <th>8</th>\n",
       "      <th>9</th>\n",
       "      <th>...</th>\n",
       "      <th>12278</th>\n",
       "      <th>12279</th>\n",
       "      <th>12280</th>\n",
       "      <th>12281</th>\n",
       "      <th>12282</th>\n",
       "      <th>12283</th>\n",
       "      <th>12284</th>\n",
       "      <th>12285</th>\n",
       "      <th>12286</th>\n",
       "      <th>12287</th>\n",
       "    </tr>\n",
       "  </thead>\n",
       "  <tbody>\n",
       "    <tr>\n",
       "      <th>0</th>\n",
       "      <td>143</td>\n",
       "      <td>73</td>\n",
       "      <td>83</td>\n",
       "      <td>150</td>\n",
       "      <td>85</td>\n",
       "      <td>95</td>\n",
       "      <td>153</td>\n",
       "      <td>88</td>\n",
       "      <td>98</td>\n",
       "      <td>158</td>\n",
       "      <td>...</td>\n",
       "      <td>142</td>\n",
       "      <td>194</td>\n",
       "      <td>116</td>\n",
       "      <td>134</td>\n",
       "      <td>191</td>\n",
       "      <td>111</td>\n",
       "      <td>129</td>\n",
       "      <td>193</td>\n",
       "      <td>122</td>\n",
       "      <td>143</td>\n",
       "    </tr>\n",
       "    <tr>\n",
       "      <th>1</th>\n",
       "      <td>255</td>\n",
       "      <td>255</td>\n",
       "      <td>255</td>\n",
       "      <td>255</td>\n",
       "      <td>255</td>\n",
       "      <td>255</td>\n",
       "      <td>255</td>\n",
       "      <td>255</td>\n",
       "      <td>255</td>\n",
       "      <td>255</td>\n",
       "      <td>...</td>\n",
       "      <td>255</td>\n",
       "      <td>255</td>\n",
       "      <td>255</td>\n",
       "      <td>255</td>\n",
       "      <td>255</td>\n",
       "      <td>255</td>\n",
       "      <td>255</td>\n",
       "      <td>255</td>\n",
       "      <td>255</td>\n",
       "      <td>255</td>\n",
       "    </tr>\n",
       "    <tr>\n",
       "      <th>2</th>\n",
       "      <td>206</td>\n",
       "      <td>201</td>\n",
       "      <td>195</td>\n",
       "      <td>205</td>\n",
       "      <td>200</td>\n",
       "      <td>194</td>\n",
       "      <td>206</td>\n",
       "      <td>201</td>\n",
       "      <td>195</td>\n",
       "      <td>208</td>\n",
       "      <td>...</td>\n",
       "      <td>245</td>\n",
       "      <td>242</td>\n",
       "      <td>243</td>\n",
       "      <td>245</td>\n",
       "      <td>244</td>\n",
       "      <td>245</td>\n",
       "      <td>247</td>\n",
       "      <td>244</td>\n",
       "      <td>245</td>\n",
       "      <td>247</td>\n",
       "    </tr>\n",
       "    <tr>\n",
       "      <th>3</th>\n",
       "      <td>254</td>\n",
       "      <td>254</td>\n",
       "      <td>254</td>\n",
       "      <td>254</td>\n",
       "      <td>254</td>\n",
       "      <td>254</td>\n",
       "      <td>254</td>\n",
       "      <td>254</td>\n",
       "      <td>254</td>\n",
       "      <td>254</td>\n",
       "      <td>...</td>\n",
       "      <td>248</td>\n",
       "      <td>251</td>\n",
       "      <td>250</td>\n",
       "      <td>249</td>\n",
       "      <td>251</td>\n",
       "      <td>251</td>\n",
       "      <td>249</td>\n",
       "      <td>252</td>\n",
       "      <td>251</td>\n",
       "      <td>250</td>\n",
       "    </tr>\n",
       "    <tr>\n",
       "      <th>4</th>\n",
       "      <td>255</td>\n",
       "      <td>255</td>\n",
       "      <td>255</td>\n",
       "      <td>255</td>\n",
       "      <td>255</td>\n",
       "      <td>255</td>\n",
       "      <td>255</td>\n",
       "      <td>255</td>\n",
       "      <td>255</td>\n",
       "      <td>255</td>\n",
       "      <td>...</td>\n",
       "      <td>141</td>\n",
       "      <td>22</td>\n",
       "      <td>72</td>\n",
       "      <td>141</td>\n",
       "      <td>22</td>\n",
       "      <td>72</td>\n",
       "      <td>141</td>\n",
       "      <td>22</td>\n",
       "      <td>72</td>\n",
       "      <td>141</td>\n",
       "    </tr>\n",
       "  </tbody>\n",
       "</table>\n",
       "<p>5 rows × 12288 columns</p>\n",
       "</div>\n",
       "      <button class=\"colab-df-convert\" onclick=\"convertToInteractive('df-4fa9aacf-7fcf-4ac7-8bdc-404ed486d029')\"\n",
       "              title=\"Convert this dataframe to an interactive table.\"\n",
       "              style=\"display:none;\">\n",
       "        \n",
       "  <svg xmlns=\"http://www.w3.org/2000/svg\" height=\"24px\"viewBox=\"0 0 24 24\"\n",
       "       width=\"24px\">\n",
       "    <path d=\"M0 0h24v24H0V0z\" fill=\"none\"/>\n",
       "    <path d=\"M18.56 5.44l.94 2.06.94-2.06 2.06-.94-2.06-.94-.94-2.06-.94 2.06-2.06.94zm-11 1L8.5 8.5l.94-2.06 2.06-.94-2.06-.94L8.5 2.5l-.94 2.06-2.06.94zm10 10l.94 2.06.94-2.06 2.06-.94-2.06-.94-.94-2.06-.94 2.06-2.06.94z\"/><path d=\"M17.41 7.96l-1.37-1.37c-.4-.4-.92-.59-1.43-.59-.52 0-1.04.2-1.43.59L10.3 9.45l-7.72 7.72c-.78.78-.78 2.05 0 2.83L4 21.41c.39.39.9.59 1.41.59.51 0 1.02-.2 1.41-.59l7.78-7.78 2.81-2.81c.8-.78.8-2.07 0-2.86zM5.41 20L4 18.59l7.72-7.72 1.47 1.35L5.41 20z\"/>\n",
       "  </svg>\n",
       "      </button>\n",
       "      \n",
       "  <style>\n",
       "    .colab-df-container {\n",
       "      display:flex;\n",
       "      flex-wrap:wrap;\n",
       "      gap: 12px;\n",
       "    }\n",
       "\n",
       "    .colab-df-convert {\n",
       "      background-color: #E8F0FE;\n",
       "      border: none;\n",
       "      border-radius: 50%;\n",
       "      cursor: pointer;\n",
       "      display: none;\n",
       "      fill: #1967D2;\n",
       "      height: 32px;\n",
       "      padding: 0 0 0 0;\n",
       "      width: 32px;\n",
       "    }\n",
       "\n",
       "    .colab-df-convert:hover {\n",
       "      background-color: #E2EBFA;\n",
       "      box-shadow: 0px 1px 2px rgba(60, 64, 67, 0.3), 0px 1px 3px 1px rgba(60, 64, 67, 0.15);\n",
       "      fill: #174EA6;\n",
       "    }\n",
       "\n",
       "    [theme=dark] .colab-df-convert {\n",
       "      background-color: #3B4455;\n",
       "      fill: #D2E3FC;\n",
       "    }\n",
       "\n",
       "    [theme=dark] .colab-df-convert:hover {\n",
       "      background-color: #434B5C;\n",
       "      box-shadow: 0px 1px 3px 1px rgba(0, 0, 0, 0.15);\n",
       "      filter: drop-shadow(0px 1px 2px rgba(0, 0, 0, 0.3));\n",
       "      fill: #FFFFFF;\n",
       "    }\n",
       "  </style>\n",
       "\n",
       "      <script>\n",
       "        const buttonEl =\n",
       "          document.querySelector('#df-4fa9aacf-7fcf-4ac7-8bdc-404ed486d029 button.colab-df-convert');\n",
       "        buttonEl.style.display =\n",
       "          google.colab.kernel.accessAllowed ? 'block' : 'none';\n",
       "\n",
       "        async function convertToInteractive(key) {\n",
       "          const element = document.querySelector('#df-4fa9aacf-7fcf-4ac7-8bdc-404ed486d029');\n",
       "          const dataTable =\n",
       "            await google.colab.kernel.invokeFunction('convertToInteractive',\n",
       "                                                     [key], {});\n",
       "          if (!dataTable) return;\n",
       "\n",
       "          const docLinkHtml = 'Like what you see? Visit the ' +\n",
       "            '<a target=\"_blank\" href=https://colab.research.google.com/notebooks/data_table.ipynb>data table notebook</a>'\n",
       "            + ' to learn more about interactive tables.';\n",
       "          element.innerHTML = '';\n",
       "          dataTable['output_type'] = 'display_data';\n",
       "          await google.colab.output.renderOutput(dataTable, element);\n",
       "          const docLink = document.createElement('div');\n",
       "          docLink.innerHTML = docLinkHtml;\n",
       "          element.appendChild(docLink);\n",
       "        }\n",
       "      </script>\n",
       "    </div>\n",
       "  </div>\n",
       "  "
      ],
      "text/plain": [
       "     0    1    2    3    4    5    6    7    8    9  ...  12278  12279  12280  \\\n",
       "0  143   73   83  150   85   95  153   88   98  158  ...    142    194    116   \n",
       "1  255  255  255  255  255  255  255  255  255  255  ...    255    255    255   \n",
       "2  206  201  195  205  200  194  206  201  195  208  ...    245    242    243   \n",
       "3  254  254  254  254  254  254  254  254  254  254  ...    248    251    250   \n",
       "4  255  255  255  255  255  255  255  255  255  255  ...    141     22     72   \n",
       "\n",
       "   12281  12282  12283  12284  12285  12286  12287  \n",
       "0    134    191    111    129    193    122    143  \n",
       "1    255    255    255    255    255    255    255  \n",
       "2    245    244    245    247    244    245    247  \n",
       "3    249    251    251    249    252    251    250  \n",
       "4    141     22     72    141     22     72    141  \n",
       "\n",
       "[5 rows x 12288 columns]"
      ]
     },
     "execution_count": 14,
     "metadata": {},
     "output_type": "execute_result"
    }
   ],
   "source": [
    "X.head()"
   ]
  },
  {
   "cell_type": "code",
   "execution_count": null,
   "metadata": {
    "colab": {
     "base_uri": "https://localhost:8080/",
     "height": 236
    },
    "executionInfo": {
     "elapsed": 24,
     "status": "ok",
     "timestamp": 1681576966474,
     "user": {
      "displayName": "Florence Cheng",
      "userId": "06139676342662614610"
     },
     "user_tz": 420
    },
    "id": "3kF-37E0bwts",
    "outputId": "ad7815e0-b97f-4b3a-9a30-7d0de5cae565"
   },
   "outputs": [
    {
     "data": {
      "text/html": [
       "\n",
       "  <div id=\"df-5796378b-19a3-45f6-950e-bd42bc8265a4\">\n",
       "    <div class=\"colab-df-container\">\n",
       "      <div>\n",
       "<style scoped>\n",
       "    .dataframe tbody tr th:only-of-type {\n",
       "        vertical-align: middle;\n",
       "    }\n",
       "\n",
       "    .dataframe tbody tr th {\n",
       "        vertical-align: top;\n",
       "    }\n",
       "\n",
       "    .dataframe thead th {\n",
       "        text-align: right;\n",
       "    }\n",
       "</style>\n",
       "<table border=\"1\" class=\"dataframe\">\n",
       "  <thead>\n",
       "    <tr style=\"text-align: right;\">\n",
       "      <th></th>\n",
       "      <th>0</th>\n",
       "      <th>1</th>\n",
       "      <th>2</th>\n",
       "      <th>3</th>\n",
       "      <th>4</th>\n",
       "      <th>5</th>\n",
       "      <th>6</th>\n",
       "      <th>7</th>\n",
       "      <th>8</th>\n",
       "      <th>9</th>\n",
       "      <th>...</th>\n",
       "      <th>12278</th>\n",
       "      <th>12279</th>\n",
       "      <th>12280</th>\n",
       "      <th>12281</th>\n",
       "      <th>12282</th>\n",
       "      <th>12283</th>\n",
       "      <th>12284</th>\n",
       "      <th>12285</th>\n",
       "      <th>12286</th>\n",
       "      <th>12287</th>\n",
       "    </tr>\n",
       "  </thead>\n",
       "  <tbody>\n",
       "    <tr>\n",
       "      <th>0</th>\n",
       "      <td>255</td>\n",
       "      <td>255</td>\n",
       "      <td>255</td>\n",
       "      <td>255</td>\n",
       "      <td>255</td>\n",
       "      <td>255</td>\n",
       "      <td>255</td>\n",
       "      <td>255</td>\n",
       "      <td>255</td>\n",
       "      <td>255</td>\n",
       "      <td>...</td>\n",
       "      <td>255</td>\n",
       "      <td>255</td>\n",
       "      <td>255</td>\n",
       "      <td>255</td>\n",
       "      <td>255</td>\n",
       "      <td>255</td>\n",
       "      <td>255</td>\n",
       "      <td>255</td>\n",
       "      <td>255</td>\n",
       "      <td>255</td>\n",
       "    </tr>\n",
       "    <tr>\n",
       "      <th>1</th>\n",
       "      <td>255</td>\n",
       "      <td>255</td>\n",
       "      <td>255</td>\n",
       "      <td>255</td>\n",
       "      <td>255</td>\n",
       "      <td>255</td>\n",
       "      <td>255</td>\n",
       "      <td>255</td>\n",
       "      <td>255</td>\n",
       "      <td>255</td>\n",
       "      <td>...</td>\n",
       "      <td>255</td>\n",
       "      <td>255</td>\n",
       "      <td>255</td>\n",
       "      <td>255</td>\n",
       "      <td>255</td>\n",
       "      <td>255</td>\n",
       "      <td>255</td>\n",
       "      <td>255</td>\n",
       "      <td>255</td>\n",
       "      <td>255</td>\n",
       "    </tr>\n",
       "    <tr>\n",
       "      <th>2</th>\n",
       "      <td>12</td>\n",
       "      <td>14</td>\n",
       "      <td>13</td>\n",
       "      <td>12</td>\n",
       "      <td>14</td>\n",
       "      <td>13</td>\n",
       "      <td>28</td>\n",
       "      <td>30</td>\n",
       "      <td>29</td>\n",
       "      <td>35</td>\n",
       "      <td>...</td>\n",
       "      <td>18</td>\n",
       "      <td>9</td>\n",
       "      <td>9</td>\n",
       "      <td>9</td>\n",
       "      <td>9</td>\n",
       "      <td>9</td>\n",
       "      <td>9</td>\n",
       "      <td>11</td>\n",
       "      <td>11</td>\n",
       "      <td>11</td>\n",
       "    </tr>\n",
       "    <tr>\n",
       "      <th>3</th>\n",
       "      <td>255</td>\n",
       "      <td>255</td>\n",
       "      <td>255</td>\n",
       "      <td>255</td>\n",
       "      <td>255</td>\n",
       "      <td>255</td>\n",
       "      <td>255</td>\n",
       "      <td>255</td>\n",
       "      <td>255</td>\n",
       "      <td>255</td>\n",
       "      <td>...</td>\n",
       "      <td>255</td>\n",
       "      <td>255</td>\n",
       "      <td>255</td>\n",
       "      <td>255</td>\n",
       "      <td>255</td>\n",
       "      <td>255</td>\n",
       "      <td>255</td>\n",
       "      <td>255</td>\n",
       "      <td>255</td>\n",
       "      <td>255</td>\n",
       "    </tr>\n",
       "    <tr>\n",
       "      <th>4</th>\n",
       "      <td>249</td>\n",
       "      <td>247</td>\n",
       "      <td>246</td>\n",
       "      <td>251</td>\n",
       "      <td>249</td>\n",
       "      <td>248</td>\n",
       "      <td>253</td>\n",
       "      <td>251</td>\n",
       "      <td>250</td>\n",
       "      <td>252</td>\n",
       "      <td>...</td>\n",
       "      <td>173</td>\n",
       "      <td>184</td>\n",
       "      <td>179</td>\n",
       "      <td>173</td>\n",
       "      <td>184</td>\n",
       "      <td>180</td>\n",
       "      <td>174</td>\n",
       "      <td>178</td>\n",
       "      <td>173</td>\n",
       "      <td>169</td>\n",
       "    </tr>\n",
       "  </tbody>\n",
       "</table>\n",
       "<p>5 rows × 12288 columns</p>\n",
       "</div>\n",
       "      <button class=\"colab-df-convert\" onclick=\"convertToInteractive('df-5796378b-19a3-45f6-950e-bd42bc8265a4')\"\n",
       "              title=\"Convert this dataframe to an interactive table.\"\n",
       "              style=\"display:none;\">\n",
       "        \n",
       "  <svg xmlns=\"http://www.w3.org/2000/svg\" height=\"24px\"viewBox=\"0 0 24 24\"\n",
       "       width=\"24px\">\n",
       "    <path d=\"M0 0h24v24H0V0z\" fill=\"none\"/>\n",
       "    <path d=\"M18.56 5.44l.94 2.06.94-2.06 2.06-.94-2.06-.94-.94-2.06-.94 2.06-2.06.94zm-11 1L8.5 8.5l.94-2.06 2.06-.94-2.06-.94L8.5 2.5l-.94 2.06-2.06.94zm10 10l.94 2.06.94-2.06 2.06-.94-2.06-.94-.94-2.06-.94 2.06-2.06.94z\"/><path d=\"M17.41 7.96l-1.37-1.37c-.4-.4-.92-.59-1.43-.59-.52 0-1.04.2-1.43.59L10.3 9.45l-7.72 7.72c-.78.78-.78 2.05 0 2.83L4 21.41c.39.39.9.59 1.41.59.51 0 1.02-.2 1.41-.59l7.78-7.78 2.81-2.81c.8-.78.8-2.07 0-2.86zM5.41 20L4 18.59l7.72-7.72 1.47 1.35L5.41 20z\"/>\n",
       "  </svg>\n",
       "      </button>\n",
       "      \n",
       "  <style>\n",
       "    .colab-df-container {\n",
       "      display:flex;\n",
       "      flex-wrap:wrap;\n",
       "      gap: 12px;\n",
       "    }\n",
       "\n",
       "    .colab-df-convert {\n",
       "      background-color: #E8F0FE;\n",
       "      border: none;\n",
       "      border-radius: 50%;\n",
       "      cursor: pointer;\n",
       "      display: none;\n",
       "      fill: #1967D2;\n",
       "      height: 32px;\n",
       "      padding: 0 0 0 0;\n",
       "      width: 32px;\n",
       "    }\n",
       "\n",
       "    .colab-df-convert:hover {\n",
       "      background-color: #E2EBFA;\n",
       "      box-shadow: 0px 1px 2px rgba(60, 64, 67, 0.3), 0px 1px 3px 1px rgba(60, 64, 67, 0.15);\n",
       "      fill: #174EA6;\n",
       "    }\n",
       "\n",
       "    [theme=dark] .colab-df-convert {\n",
       "      background-color: #3B4455;\n",
       "      fill: #D2E3FC;\n",
       "    }\n",
       "\n",
       "    [theme=dark] .colab-df-convert:hover {\n",
       "      background-color: #434B5C;\n",
       "      box-shadow: 0px 1px 3px 1px rgba(0, 0, 0, 0.15);\n",
       "      filter: drop-shadow(0px 1px 2px rgba(0, 0, 0, 0.3));\n",
       "      fill: #FFFFFF;\n",
       "    }\n",
       "  </style>\n",
       "\n",
       "      <script>\n",
       "        const buttonEl =\n",
       "          document.querySelector('#df-5796378b-19a3-45f6-950e-bd42bc8265a4 button.colab-df-convert');\n",
       "        buttonEl.style.display =\n",
       "          google.colab.kernel.accessAllowed ? 'block' : 'none';\n",
       "\n",
       "        async function convertToInteractive(key) {\n",
       "          const element = document.querySelector('#df-5796378b-19a3-45f6-950e-bd42bc8265a4');\n",
       "          const dataTable =\n",
       "            await google.colab.kernel.invokeFunction('convertToInteractive',\n",
       "                                                     [key], {});\n",
       "          if (!dataTable) return;\n",
       "\n",
       "          const docLinkHtml = 'Like what you see? Visit the ' +\n",
       "            '<a target=\"_blank\" href=https://colab.research.google.com/notebooks/data_table.ipynb>data table notebook</a>'\n",
       "            + ' to learn more about interactive tables.';\n",
       "          element.innerHTML = '';\n",
       "          dataTable['output_type'] = 'display_data';\n",
       "          await google.colab.output.renderOutput(dataTable, element);\n",
       "          const docLink = document.createElement('div');\n",
       "          docLink.innerHTML = docLinkHtml;\n",
       "          element.appendChild(docLink);\n",
       "        }\n",
       "      </script>\n",
       "    </div>\n",
       "  </div>\n",
       "  "
      ],
      "text/plain": [
       "     0    1    2    3    4    5    6    7    8    9  ...  12278  12279  12280  \\\n",
       "0  255  255  255  255  255  255  255  255  255  255  ...    255    255    255   \n",
       "1  255  255  255  255  255  255  255  255  255  255  ...    255    255    255   \n",
       "2   12   14   13   12   14   13   28   30   29   35  ...     18      9      9   \n",
       "3  255  255  255  255  255  255  255  255  255  255  ...    255    255    255   \n",
       "4  249  247  246  251  249  248  253  251  250  252  ...    173    184    179   \n",
       "\n",
       "   12281  12282  12283  12284  12285  12286  12287  \n",
       "0    255    255    255    255    255    255    255  \n",
       "1    255    255    255    255    255    255    255  \n",
       "2      9      9      9      9     11     11     11  \n",
       "3    255    255    255    255    255    255    255  \n",
       "4    173    184    180    174    178    173    169  \n",
       "\n",
       "[5 rows x 12288 columns]"
      ]
     },
     "execution_count": 15,
     "metadata": {},
     "output_type": "execute_result"
    }
   ],
   "source": [
    "X_val.head()"
   ]
  },
  {
   "cell_type": "code",
   "execution_count": null,
   "metadata": {
    "colab": {
     "base_uri": "https://localhost:8080/"
    },
    "executionInfo": {
     "elapsed": 24,
     "status": "ok",
     "timestamp": 1681576966475,
     "user": {
      "displayName": "Florence Cheng",
      "userId": "06139676342662614610"
     },
     "user_tz": 420
    },
    "id": "RBz8FkCYMiQM",
    "outputId": "02ce9192-3472-41be-bfc0-797621853a59"
   },
   "outputs": [
    {
     "data": {
      "text/plain": [
       "29603"
      ]
     },
     "execution_count": 16,
     "metadata": {},
     "output_type": "execute_result"
    }
   ],
   "source": [
    "X_rows"
   ]
  },
  {
   "cell_type": "code",
   "execution_count": null,
   "metadata": {
    "colab": {
     "base_uri": "https://localhost:8080/"
    },
    "executionInfo": {
     "elapsed": 21,
     "status": "ok",
     "timestamp": 1681576966475,
     "user": {
      "displayName": "Florence Cheng",
      "userId": "06139676342662614610"
     },
     "user_tz": 420
    },
    "id": "1tsS6PO4b0dS",
    "outputId": "188b33f9-7e33-461a-db21-155420275e55"
   },
   "outputs": [
    {
     "data": {
      "text/plain": [
       "4647"
      ]
     },
     "execution_count": 17,
     "metadata": {},
     "output_type": "execute_result"
    }
   ],
   "source": [
    "X_rows_val"
   ]
  },
  {
   "cell_type": "code",
   "execution_count": null,
   "metadata": {
    "id": "IaLirdMIIGbe"
   },
   "outputs": [],
   "source": [
    "X_ar = X.to_numpy().reshape((X_rows, 64, 64, 3))\n",
    "X_ar_val = X_val.to_numpy().reshape((X_rows_val, 64, 64, 3))"
   ]
  },
  {
   "cell_type": "code",
   "execution_count": null,
   "metadata": {
    "colab": {
     "base_uri": "https://localhost:8080/"
    },
    "executionInfo": {
     "elapsed": 18,
     "status": "ok",
     "timestamp": 1681576966475,
     "user": {
      "displayName": "Florence Cheng",
      "userId": "06139676342662614610"
     },
     "user_tz": 420
    },
    "id": "qdv8fS54IwLp",
    "outputId": "b5c7b7b3-3746-4fac-d2c9-627bda79b2c6"
   },
   "outputs": [
    {
     "data": {
      "text/plain": [
       "(64, 64, 3)"
      ]
     },
     "execution_count": 19,
     "metadata": {},
     "output_type": "execute_result"
    }
   ],
   "source": [
    "X_ar[0].shape"
   ]
  },
  {
   "cell_type": "code",
   "execution_count": null,
   "metadata": {
    "colab": {
     "base_uri": "https://localhost:8080/"
    },
    "executionInfo": {
     "elapsed": 17,
     "status": "ok",
     "timestamp": 1681576966476,
     "user": {
      "displayName": "Florence Cheng",
      "userId": "06139676342662614610"
     },
     "user_tz": 420
    },
    "id": "Rjig2_92b4RB",
    "outputId": "f742afb1-8ca5-43df-cc49-ac32271d7862"
   },
   "outputs": [
    {
     "data": {
      "text/plain": [
       "(64, 64, 3)"
      ]
     },
     "execution_count": 20,
     "metadata": {},
     "output_type": "execute_result"
    }
   ],
   "source": [
    "X_ar_val[0].shape"
   ]
  },
  {
   "cell_type": "code",
   "execution_count": null,
   "metadata": {
    "colab": {
     "base_uri": "https://localhost:8080/",
     "height": 450
    },
    "executionInfo": {
     "elapsed": 16,
     "status": "ok",
     "timestamp": 1681576966476,
     "user": {
      "displayName": "Florence Cheng",
      "userId": "06139676342662614610"
     },
     "user_tz": 420
    },
    "id": "aAFMD-49IIbm",
    "outputId": "a73af072-84f2-4079-eef3-212dfae99113"
   },
   "outputs": [
    {
     "data": {
      "text/plain": [
       "<matplotlib.image.AxesImage at 0x7f01426ebdc0>"
      ]
     },
     "execution_count": 21,
     "metadata": {},
     "output_type": "execute_result"
    },
    {
     "data": {
      "image/png": "[encoded data removed]",
      "text/plain": [
       "<Figure size 640x480 with 1 Axes>"
      ]
     },
     "metadata": {},
     "output_type": "display_data"
    }
   ],
   "source": [
    "X0 = X_ar[0].reshape([64,64,3])\n",
    "plt.imshow(X0)"
   ]
  },
  {
   "cell_type": "code",
   "execution_count": null,
   "metadata": {
    "colab": {
     "base_uri": "https://localhost:8080/",
     "height": 450
    },
    "executionInfo": {
     "elapsed": 398,
     "status": "ok",
     "timestamp": 1681576966860,
     "user": {
      "displayName": "Florence Cheng",
      "userId": "06139676342662614610"
     },
     "user_tz": 420
    },
    "id": "cKrXEhE7b7UE",
    "outputId": "7044567b-e20a-49f8-a641-1914e7de7ec2"
   },
   "outputs": [
    {
     "data": {
      "text/plain": [
       "<matplotlib.image.AxesImage at 0x7f014a3c6a90>"
      ]
     },
     "execution_count": 22,
     "metadata": {},
     "output_type": "execute_result"
    },
    {
     "data": {
      "image/png": "[encoded data removed]",
      "text/plain": [
       "<Figure size 640x480 with 1 Axes>"
      ]
     },
     "metadata": {},
     "output_type": "display_data"
    }
   ],
   "source": [
    "X0_val = X_ar_val[0].reshape([64,64,3])\n",
    "plt.imshow(X0_val)"
   ]
  },
  {
   "cell_type": "code",
   "execution_count": null,
   "metadata": {
    "id": "QGZHJYPYC8An"
   },
   "outputs": [],
   "source": [
    "# normalize the image\n",
    "X_ar_normalized = X_ar / 255.0\n",
    "X_ar_val_normalized = X_ar_val / 255.0"
   ]
  },
  {
   "cell_type": "code",
   "execution_count": null,
   "metadata": {
    "colab": {
     "base_uri": "https://localhost:8080/"
    },
    "executionInfo": {
     "elapsed": 13,
     "status": "ok",
     "timestamp": 1681576967692,
     "user": {
      "displayName": "Florence Cheng",
      "userId": "06139676342662614610"
     },
     "user_tz": 420
    },
    "id": "JayYMHqM4YDE",
    "outputId": "03d3fd62-c8e8-4f84-b18a-fc82964bae4f"
   },
   "outputs": [
    {
     "data": {
      "text/plain": [
       "0                              Victoria's Secret Paper Bag\n",
       "1        Double Tape 3M VHB 12 mm x 4.5 m ORIGINAL / DO...\n",
       "2              Maling TTS Canned Pork Luncheon Meat 397 gr\n",
       "3        Short sleeve Batik negligee - Random / Mixed P...\n",
       "4                        Nescafe \\xc3\\x89clair Latte 220ml\n",
       "                               ...                        \n",
       "29598    Battery Battery Xiaomi Redmi Note 3 BM46 BM-46...\n",
       "29599    Washable 75 gsm Non-Woven Spunbond Fabric Mask...\n",
       "29600    KHANZAACC Robot RE101S 1.2mm Subwoofer Bass Me...\n",
       "29601    Broth NON MSG HALAL Mama Kamu Free-range Chick...\n",
       "29602    LEAK COATING FLEX TAPE / MAGIC ISOLATION / LEA...\n",
       "Name: title_translate, Length: 29603, dtype: object"
      ]
     },
     "execution_count": 24,
     "metadata": {},
     "output_type": "execute_result"
    }
   ],
   "source": [
    "train['title_translate']"
   ]
  },
  {
   "cell_type": "code",
   "execution_count": null,
   "metadata": {
    "colab": {
     "base_uri": "https://localhost:8080/"
    },
    "executionInfo": {
     "elapsed": 8,
     "status": "ok",
     "timestamp": 1681576967692,
     "user": {
      "displayName": "Florence Cheng",
      "userId": "06139676342662614610"
     },
     "user_tz": 420
    },
    "id": "rx-cXUz1cfD0",
    "outputId": "3b3b8a11-f717-4f80-85f8-52d0fcce1db1"
   },
   "outputs": [
    {
     "data": {
      "text/plain": [
       "0                       Mustika Ratu Oil Cem-Ceman 175 ml\n",
       "1         Snobby Baby Mosquito Net Snobby 1 Pole KBX 1201\n",
       "2                                           mini stoppers\n",
       "3                      F916/304 Jelly Slides Wedges Shoes\n",
       "4       \\xe3\\x80\\x90CELEB\\xe3\\x80\\x91100 Pcs Korean St...\n",
       "                              ...                        \n",
       "4642    Sweety Silver Pants BOYS GIRLS M30 L28 XL26 XX...\n",
       "4643                                           Mayonnaise\n",
       "4644        Fair N Pink Body Serum natural body whitening\n",
       "4645                               Wholesale mask brushes\n",
       "4646         Light Blue Skinny Pencil Men's Jeans 27 - 38\n",
       "Name: title_translate, Length: 4647, dtype: object"
      ]
     },
     "execution_count": 25,
     "metadata": {},
     "output_type": "execute_result"
    }
   ],
   "source": [
    "validate['title_translate']"
   ]
  },
  {
   "cell_type": "code",
   "execution_count": null,
   "metadata": {
    "colab": {
     "base_uri": "https://localhost:8080/"
    },
    "executionInfo": {
     "elapsed": 335,
     "status": "ok",
     "timestamp": 1681576968023,
     "user": {
      "displayName": "Florence Cheng",
      "userId": "06139676342662614610"
     },
     "user_tz": 420
    },
    "id": "3e9MoGr6EY7n",
    "outputId": "93bfbd7c-870a-400e-e90b-8197d091278e"
   },
   "outputs": [
    {
     "name": "stderr",
     "output_type": "stream",
     "text": [
      "[nltk_data] Downloading package stopwords to /root/nltk_data...\n",
      "[nltk_data]   Unzipping corpora/stopwords.zip.\n"
     ]
    }
   ],
   "source": [
    "import re, string\n",
    "import nltk\n",
    "nltk.download('stopwords')\n",
    "from nltk.corpus import stopwords"
   ]
  },
  {
   "cell_type": "code",
   "execution_count": null,
   "metadata": {
    "id": "wYEVVB3aEjKw"
   },
   "outputs": [],
   "source": [
    "# function to clean the translated titles before embedding\n",
    "def clean_title(title):\n",
    "    # Remove all non-alphanumeric characters and convert to lowercase\n",
    "    clean1 = re.sub(r'[^a-zA-Z0-9\\s]', '', title).lower()\n",
    "    # Split the cleaned string into words\n",
    "    clean2 = re.split('\\W+', clean1)\n",
    "    # Remove stopwords and short words\n",
    "    title_cleaned = [word for word in clean2 if (word not in stopwords.words('english')) & (len(word) > 2)]\n",
    "    # Join the cleaned words using a space separator\n",
    "    title_cleaned = ' '.join(title_cleaned)\n",
    "    return title_cleaned"
   ]
  },
  {
   "cell_type": "code",
   "execution_count": null,
   "metadata": {
    "id": "xVo04QZ0Em4C"
   },
   "outputs": [],
   "source": [
    "# clean the title in the train dataset\n",
    "train['title_cleaned'] = train['title_translate'].apply(clean_title)\n",
    "validate['title_cleaned'] = validate['title_translate'].apply(clean_title)"
   ]
  },
  {
   "cell_type": "code",
   "execution_count": null,
   "metadata": {
    "colab": {
     "base_uri": "https://localhost:8080/",
     "height": 389
    },
    "executionInfo": {
     "elapsed": 27,
     "status": "ok",
     "timestamp": 1681576994863,
     "user": {
      "displayName": "Florence Cheng",
      "userId": "06139676342662614610"
     },
     "user_tz": 420
    },
    "id": "0oA9dMuxF5gv",
    "outputId": "7a354085-ada6-40eb-8902-933933cd34d1"
   },
   "outputs": [
    {
     "data": {
      "text/html": [
       "\n",
       "  <div id=\"df-16d3ef6e-c98b-4c15-8e65-350b2f8ec96b\">\n",
       "    <div class=\"colab-df-container\">\n",
       "      <div>\n",
       "<style scoped>\n",
       "    .dataframe tbody tr th:only-of-type {\n",
       "        vertical-align: middle;\n",
       "    }\n",
       "\n",
       "    .dataframe tbody tr th {\n",
       "        vertical-align: top;\n",
       "    }\n",
       "\n",
       "    .dataframe thead th {\n",
       "        text-align: right;\n",
       "    }\n",
       "</style>\n",
       "<table border=\"1\" class=\"dataframe\">\n",
       "  <thead>\n",
       "    <tr style=\"text-align: right;\">\n",
       "      <th></th>\n",
       "      <th>Unnamed: 0</th>\n",
       "      <th>posting_id</th>\n",
       "      <th>image</th>\n",
       "      <th>image_phash</th>\n",
       "      <th>title</th>\n",
       "      <th>label_group</th>\n",
       "      <th>title_translate</th>\n",
       "      <th>title_cleaned</th>\n",
       "    </tr>\n",
       "  </thead>\n",
       "  <tbody>\n",
       "    <tr>\n",
       "      <th>0</th>\n",
       "      <td>0</td>\n",
       "      <td>train_129225211</td>\n",
       "      <td>0000a68812bc7e98c42888dfb1c07da0.jpg</td>\n",
       "      <td>94974f937d4c2433</td>\n",
       "      <td>Paper Bag Victoria Secret</td>\n",
       "      <td>249114794</td>\n",
       "      <td>Victoria's Secret Paper Bag</td>\n",
       "      <td>victorias secret paper bag</td>\n",
       "    </tr>\n",
       "    <tr>\n",
       "      <th>1</th>\n",
       "      <td>1</td>\n",
       "      <td>train_3386243561</td>\n",
       "      <td>00039780dfc94d01db8676fe789ecd05.jpg</td>\n",
       "      <td>af3f9460c2838f0f</td>\n",
       "      <td>Double Tape 3M VHB 12 mm x 4,5 m ORIGINAL / DO...</td>\n",
       "      <td>2937985045</td>\n",
       "      <td>Double Tape 3M VHB 12 mm x 4.5 m ORIGINAL / DO...</td>\n",
       "      <td>double tape vhb original double foam tape</td>\n",
       "    </tr>\n",
       "    <tr>\n",
       "      <th>2</th>\n",
       "      <td>2</td>\n",
       "      <td>train_2288590299</td>\n",
       "      <td>000a190fdd715a2a36faed16e2c65df7.jpg</td>\n",
       "      <td>b94cb00ed3e50f78</td>\n",
       "      <td>Maling TTS Canned Pork Luncheon Meat 397 gr</td>\n",
       "      <td>2395904891</td>\n",
       "      <td>Maling TTS Canned Pork Luncheon Meat 397 gr</td>\n",
       "      <td>maling tts canned pork luncheon meat 397</td>\n",
       "    </tr>\n",
       "    <tr>\n",
       "      <th>3</th>\n",
       "      <td>3</td>\n",
       "      <td>train_2406599165</td>\n",
       "      <td>00117e4fc239b1b641ff08340b429633.jpg</td>\n",
       "      <td>8514fc58eafea283</td>\n",
       "      <td>Daster Batik Lengan pendek - Motif Acak / Camp...</td>\n",
       "      <td>4093212188</td>\n",
       "      <td>Short sleeve Batik negligee - Random / Mixed P...</td>\n",
       "      <td>short sleeve batik negligee random mixed patte...</td>\n",
       "    </tr>\n",
       "    <tr>\n",
       "      <th>4</th>\n",
       "      <td>4</td>\n",
       "      <td>train_3369186413</td>\n",
       "      <td>00136d1cf4edede0203f32f05f660588.jpg</td>\n",
       "      <td>a6f319f924ad708c</td>\n",
       "      <td>Nescafe \\xc3\\x89clair Latte 220ml</td>\n",
       "      <td>3648931069</td>\n",
       "      <td>Nescafe \\xc3\\x89clair Latte 220ml</td>\n",
       "      <td>nescafe xc3x89clair latte 220ml</td>\n",
       "    </tr>\n",
       "  </tbody>\n",
       "</table>\n",
       "</div>\n",
       "      <button class=\"colab-df-convert\" onclick=\"convertToInteractive('df-16d3ef6e-c98b-4c15-8e65-350b2f8ec96b')\"\n",
       "              title=\"Convert this dataframe to an interactive table.\"\n",
       "              style=\"display:none;\">\n",
       "        \n",
       "  <svg xmlns=\"http://www.w3.org/2000/svg\" height=\"24px\"viewBox=\"0 0 24 24\"\n",
       "       width=\"24px\">\n",
       "    <path d=\"M0 0h24v24H0V0z\" fill=\"none\"/>\n",
       "    <path d=\"M18.56 5.44l.94 2.06.94-2.06 2.06-.94-2.06-.94-.94-2.06-.94 2.06-2.06.94zm-11 1L8.5 8.5l.94-2.06 2.06-.94-2.06-.94L8.5 2.5l-.94 2.06-2.06.94zm10 10l.94 2.06.94-2.06 2.06-.94-2.06-.94-.94-2.06-.94 2.06-2.06.94z\"/><path d=\"M17.41 7.96l-1.37-1.37c-.4-.4-.92-.59-1.43-.59-.52 0-1.04.2-1.43.59L10.3 9.45l-7.72 7.72c-.78.78-.78 2.05 0 2.83L4 21.41c.39.39.9.59 1.41.59.51 0 1.02-.2 1.41-.59l7.78-7.78 2.81-2.81c.8-.78.8-2.07 0-2.86zM5.41 20L4 18.59l7.72-7.72 1.47 1.35L5.41 20z\"/>\n",
       "  </svg>\n",
       "      </button>\n",
       "      \n",
       "  <style>\n",
       "    .colab-df-container {\n",
       "      display:flex;\n",
       "      flex-wrap:wrap;\n",
       "      gap: 12px;\n",
       "    }\n",
       "\n",
       "    .colab-df-convert {\n",
       "      background-color: #E8F0FE;\n",
       "      border: none;\n",
       "      border-radius: 50%;\n",
       "      cursor: pointer;\n",
       "      display: none;\n",
       "      fill: #1967D2;\n",
       "      height: 32px;\n",
       "      padding: 0 0 0 0;\n",
       "      width: 32px;\n",
       "    }\n",
       "\n",
       "    .colab-df-convert:hover {\n",
       "      background-color: #E2EBFA;\n",
       "      box-shadow: 0px 1px 2px rgba(60, 64, 67, 0.3), 0px 1px 3px 1px rgba(60, 64, 67, 0.15);\n",
       "      fill: #174EA6;\n",
       "    }\n",
       "\n",
       "    [theme=dark] .colab-df-convert {\n",
       "      background-color: #3B4455;\n",
       "      fill: #D2E3FC;\n",
       "    }\n",
       "\n",
       "    [theme=dark] .colab-df-convert:hover {\n",
       "      background-color: #434B5C;\n",
       "      box-shadow: 0px 1px 3px 1px rgba(0, 0, 0, 0.15);\n",
       "      filter: drop-shadow(0px 1px 2px rgba(0, 0, 0, 0.3));\n",
       "      fill: #FFFFFF;\n",
       "    }\n",
       "  </style>\n",
       "\n",
       "      <script>\n",
       "        const buttonEl =\n",
       "          document.querySelector('#df-16d3ef6e-c98b-4c15-8e65-350b2f8ec96b button.colab-df-convert');\n",
       "        buttonEl.style.display =\n",
       "          google.colab.kernel.accessAllowed ? 'block' : 'none';\n",
       "\n",
       "        async function convertToInteractive(key) {\n",
       "          const element = document.querySelector('#df-16d3ef6e-c98b-4c15-8e65-350b2f8ec96b');\n",
       "          const dataTable =\n",
       "            await google.colab.kernel.invokeFunction('convertToInteractive',\n",
       "                                                     [key], {});\n",
       "          if (!dataTable) return;\n",
       "\n",
       "          const docLinkHtml = 'Like what you see? Visit the ' +\n",
       "            '<a target=\"_blank\" href=https://colab.research.google.com/notebooks/data_table.ipynb>data table notebook</a>'\n",
       "            + ' to learn more about interactive tables.';\n",
       "          element.innerHTML = '';\n",
       "          dataTable['output_type'] = 'display_data';\n",
       "          await google.colab.output.renderOutput(dataTable, element);\n",
       "          const docLink = document.createElement('div');\n",
       "          docLink.innerHTML = docLinkHtml;\n",
       "          element.appendChild(docLink);\n",
       "        }\n",
       "      </script>\n",
       "    </div>\n",
       "  </div>\n",
       "  "
      ],
      "text/plain": [
       "   Unnamed: 0        posting_id                                 image  \\\n",
       "0           0   train_129225211  0000a68812bc7e98c42888dfb1c07da0.jpg   \n",
       "1           1  train_3386243561  00039780dfc94d01db8676fe789ecd05.jpg   \n",
       "2           2  train_2288590299  000a190fdd715a2a36faed16e2c65df7.jpg   \n",
       "3           3  train_2406599165  00117e4fc239b1b641ff08340b429633.jpg   \n",
       "4           4  train_3369186413  00136d1cf4edede0203f32f05f660588.jpg   \n",
       "\n",
       "        image_phash                                              title  \\\n",
       "0  94974f937d4c2433                          Paper Bag Victoria Secret   \n",
       "1  af3f9460c2838f0f  Double Tape 3M VHB 12 mm x 4,5 m ORIGINAL / DO...   \n",
       "2  b94cb00ed3e50f78        Maling TTS Canned Pork Luncheon Meat 397 gr   \n",
       "3  8514fc58eafea283  Daster Batik Lengan pendek - Motif Acak / Camp...   \n",
       "4  a6f319f924ad708c                  Nescafe \\xc3\\x89clair Latte 220ml   \n",
       "\n",
       "   label_group                                    title_translate  \\\n",
       "0    249114794                        Victoria's Secret Paper Bag   \n",
       "1   2937985045  Double Tape 3M VHB 12 mm x 4.5 m ORIGINAL / DO...   \n",
       "2   2395904891        Maling TTS Canned Pork Luncheon Meat 397 gr   \n",
       "3   4093212188  Short sleeve Batik negligee - Random / Mixed P...   \n",
       "4   3648931069                  Nescafe \\xc3\\x89clair Latte 220ml   \n",
       "\n",
       "                                       title_cleaned  \n",
       "0                         victorias secret paper bag  \n",
       "1          double tape vhb original double foam tape  \n",
       "2           maling tts canned pork luncheon meat 397  \n",
       "3  short sleeve batik negligee random mixed patte...  \n",
       "4                    nescafe xc3x89clair latte 220ml  "
      ]
     },
     "execution_count": 29,
     "metadata": {},
     "output_type": "execute_result"
    }
   ],
   "source": [
    "train.head()"
   ]
  },
  {
   "cell_type": "code",
   "execution_count": null,
   "metadata": {
    "colab": {
     "base_uri": "https://localhost:8080/",
     "height": 357
    },
    "executionInfo": {
     "elapsed": 25,
     "status": "ok",
     "timestamp": 1681576994863,
     "user": {
      "displayName": "Florence Cheng",
      "userId": "06139676342662614610"
     },
     "user_tz": 420
    },
    "id": "WykvjDgLdC2L",
    "outputId": "7b89a65b-4ea5-411a-ea69-68935965a659"
   },
   "outputs": [
    {
     "data": {
      "text/html": [
       "\n",
       "  <div id=\"df-932719df-603c-43fc-ae0b-104cb47f0187\">\n",
       "    <div class=\"colab-df-container\">\n",
       "      <div>\n",
       "<style scoped>\n",
       "    .dataframe tbody tr th:only-of-type {\n",
       "        vertical-align: middle;\n",
       "    }\n",
       "\n",
       "    .dataframe tbody tr th {\n",
       "        vertical-align: top;\n",
       "    }\n",
       "\n",
       "    .dataframe thead th {\n",
       "        text-align: right;\n",
       "    }\n",
       "</style>\n",
       "<table border=\"1\" class=\"dataframe\">\n",
       "  <thead>\n",
       "    <tr style=\"text-align: right;\">\n",
       "      <th></th>\n",
       "      <th>Unnamed: 0</th>\n",
       "      <th>posting_id</th>\n",
       "      <th>image</th>\n",
       "      <th>image_phash</th>\n",
       "      <th>title</th>\n",
       "      <th>label_group</th>\n",
       "      <th>title_translate</th>\n",
       "      <th>title_cleaned</th>\n",
       "    </tr>\n",
       "  </thead>\n",
       "  <tbody>\n",
       "    <tr>\n",
       "      <th>0</th>\n",
       "      <td>11443</td>\n",
       "      <td>train_1003554842</td>\n",
       "      <td>560a5c3577fb22be2ac82c0e97558158.jpg</td>\n",
       "      <td>f3c78fce8c3050f0</td>\n",
       "      <td>Mustika  Ratu Minyak Cem-Ceman 175 ml</td>\n",
       "      <td>3044373336</td>\n",
       "      <td>Mustika Ratu Oil Cem-Ceman 175 ml</td>\n",
       "      <td>mustika ratu oil cemceman 175</td>\n",
       "    </tr>\n",
       "    <tr>\n",
       "      <th>1</th>\n",
       "      <td>29516</td>\n",
       "      <td>train_523363809</td>\n",
       "      <td>dd1f14c7a734ff28b67062ae4f8529c6.jpg</td>\n",
       "      <td>af919a66c49d688b</td>\n",
       "      <td>Snobby Kelambu Box Bayi Snobby 1 Tiang KBX 1201</td>\n",
       "      <td>873493898</td>\n",
       "      <td>Snobby Baby Mosquito Net Snobby 1 Pole KBX 1201</td>\n",
       "      <td>snobby baby mosquito net snobby pole kbx 1201</td>\n",
       "    </tr>\n",
       "    <tr>\n",
       "      <th>2</th>\n",
       "      <td>6976</td>\n",
       "      <td>train_1036373061</td>\n",
       "      <td>34b4aa697f4606fcf52ec74f53c9f246.jpg</td>\n",
       "      <td>dc132bece40552db</td>\n",
       "      <td>stopper mini</td>\n",
       "      <td>578575602</td>\n",
       "      <td>mini stoppers</td>\n",
       "      <td>mini stoppers</td>\n",
       "    </tr>\n",
       "    <tr>\n",
       "      <th>3</th>\n",
       "      <td>17316</td>\n",
       "      <td>train_3107279377</td>\n",
       "      <td>8255718baadd70981be5f49de9ff270b.jpg</td>\n",
       "      <td>e691986c9586cdec</td>\n",
       "      <td>Sepatu Wedges Selop Jelly F916/304</td>\n",
       "      <td>1376270839</td>\n",
       "      <td>F916/304 Jelly Slides Wedges Shoes</td>\n",
       "      <td>f916304 jelly slides wedges shoes</td>\n",
       "    </tr>\n",
       "    <tr>\n",
       "      <th>4</th>\n",
       "      <td>10476</td>\n",
       "      <td>train_2073151758</td>\n",
       "      <td>4e8d8a4d98f98dd41be729476d498701.jpg</td>\n",
       "      <td>f7b9c25c64433926</td>\n",
       "      <td>\\xe3\\x80\\x90CELEB\\xe3\\x80\\x91100 Pcs Ikat Ramb...</td>\n",
       "      <td>994676122</td>\n",
       "      <td>\\xe3\\x80\\x90CELEB\\xe3\\x80\\x91100 Pcs Korean St...</td>\n",
       "      <td>xe3x80x90celebxe3x80x91100 pcs korean style el...</td>\n",
       "    </tr>\n",
       "  </tbody>\n",
       "</table>\n",
       "</div>\n",
       "      <button class=\"colab-df-convert\" onclick=\"convertToInteractive('df-932719df-603c-43fc-ae0b-104cb47f0187')\"\n",
       "              title=\"Convert this dataframe to an interactive table.\"\n",
       "              style=\"display:none;\">\n",
       "        \n",
       "  <svg xmlns=\"http://www.w3.org/2000/svg\" height=\"24px\"viewBox=\"0 0 24 24\"\n",
       "       width=\"24px\">\n",
       "    <path d=\"M0 0h24v24H0V0z\" fill=\"none\"/>\n",
       "    <path d=\"M18.56 5.44l.94 2.06.94-2.06 2.06-.94-2.06-.94-.94-2.06-.94 2.06-2.06.94zm-11 1L8.5 8.5l.94-2.06 2.06-.94-2.06-.94L8.5 2.5l-.94 2.06-2.06.94zm10 10l.94 2.06.94-2.06 2.06-.94-2.06-.94-.94-2.06-.94 2.06-2.06.94z\"/><path d=\"M17.41 7.96l-1.37-1.37c-.4-.4-.92-.59-1.43-.59-.52 0-1.04.2-1.43.59L10.3 9.45l-7.72 7.72c-.78.78-.78 2.05 0 2.83L4 21.41c.39.39.9.59 1.41.59.51 0 1.02-.2 1.41-.59l7.78-7.78 2.81-2.81c.8-.78.8-2.07 0-2.86zM5.41 20L4 18.59l7.72-7.72 1.47 1.35L5.41 20z\"/>\n",
       "  </svg>\n",
       "      </button>\n",
       "      \n",
       "  <style>\n",
       "    .colab-df-container {\n",
       "      display:flex;\n",
       "      flex-wrap:wrap;\n",
       "      gap: 12px;\n",
       "    }\n",
       "\n",
       "    .colab-df-convert {\n",
       "      background-color: #E8F0FE;\n",
       "      border: none;\n",
       "      border-radius: 50%;\n",
       "      cursor: pointer;\n",
       "      display: none;\n",
       "      fill: #1967D2;\n",
       "      height: 32px;\n",
       "      padding: 0 0 0 0;\n",
       "      width: 32px;\n",
       "    }\n",
       "\n",
       "    .colab-df-convert:hover {\n",
       "      background-color: #E2EBFA;\n",
       "      box-shadow: 0px 1px 2px rgba(60, 64, 67, 0.3), 0px 1px 3px 1px rgba(60, 64, 67, 0.15);\n",
       "      fill: #174EA6;\n",
       "    }\n",
       "\n",
       "    [theme=dark] .colab-df-convert {\n",
       "      background-color: #3B4455;\n",
       "      fill: #D2E3FC;\n",
       "    }\n",
       "\n",
       "    [theme=dark] .colab-df-convert:hover {\n",
       "      background-color: #434B5C;\n",
       "      box-shadow: 0px 1px 3px 1px rgba(0, 0, 0, 0.15);\n",
       "      filter: drop-shadow(0px 1px 2px rgba(0, 0, 0, 0.3));\n",
       "      fill: #FFFFFF;\n",
       "    }\n",
       "  </style>\n",
       "\n",
       "      <script>\n",
       "        const buttonEl =\n",
       "          document.querySelector('#df-932719df-603c-43fc-ae0b-104cb47f0187 button.colab-df-convert');\n",
       "        buttonEl.style.display =\n",
       "          google.colab.kernel.accessAllowed ? 'block' : 'none';\n",
       "\n",
       "        async function convertToInteractive(key) {\n",
       "          const element = document.querySelector('#df-932719df-603c-43fc-ae0b-104cb47f0187');\n",
       "          const dataTable =\n",
       "            await google.colab.kernel.invokeFunction('convertToInteractive',\n",
       "                                                     [key], {});\n",
       "          if (!dataTable) return;\n",
       "\n",
       "          const docLinkHtml = 'Like what you see? Visit the ' +\n",
       "            '<a target=\"_blank\" href=https://colab.research.google.com/notebooks/data_table.ipynb>data table notebook</a>'\n",
       "            + ' to learn more about interactive tables.';\n",
       "          element.innerHTML = '';\n",
       "          dataTable['output_type'] = 'display_data';\n",
       "          await google.colab.output.renderOutput(dataTable, element);\n",
       "          const docLink = document.createElement('div');\n",
       "          docLink.innerHTML = docLinkHtml;\n",
       "          element.appendChild(docLink);\n",
       "        }\n",
       "      </script>\n",
       "    </div>\n",
       "  </div>\n",
       "  "
      ],
      "text/plain": [
       "   Unnamed: 0        posting_id                                 image  \\\n",
       "0       11443  train_1003554842  560a5c3577fb22be2ac82c0e97558158.jpg   \n",
       "1       29516   train_523363809  dd1f14c7a734ff28b67062ae4f8529c6.jpg   \n",
       "2        6976  train_1036373061  34b4aa697f4606fcf52ec74f53c9f246.jpg   \n",
       "3       17316  train_3107279377  8255718baadd70981be5f49de9ff270b.jpg   \n",
       "4       10476  train_2073151758  4e8d8a4d98f98dd41be729476d498701.jpg   \n",
       "\n",
       "        image_phash                                              title  \\\n",
       "0  f3c78fce8c3050f0              Mustika  Ratu Minyak Cem-Ceman 175 ml   \n",
       "1  af919a66c49d688b    Snobby Kelambu Box Bayi Snobby 1 Tiang KBX 1201   \n",
       "2  dc132bece40552db                                       stopper mini   \n",
       "3  e691986c9586cdec                 Sepatu Wedges Selop Jelly F916/304   \n",
       "4  f7b9c25c64433926  \\xe3\\x80\\x90CELEB\\xe3\\x80\\x91100 Pcs Ikat Ramb...   \n",
       "\n",
       "   label_group                                    title_translate  \\\n",
       "0   3044373336                  Mustika Ratu Oil Cem-Ceman 175 ml   \n",
       "1    873493898    Snobby Baby Mosquito Net Snobby 1 Pole KBX 1201   \n",
       "2    578575602                                      mini stoppers   \n",
       "3   1376270839                 F916/304 Jelly Slides Wedges Shoes   \n",
       "4    994676122  \\xe3\\x80\\x90CELEB\\xe3\\x80\\x91100 Pcs Korean St...   \n",
       "\n",
       "                                       title_cleaned  \n",
       "0                      mustika ratu oil cemceman 175  \n",
       "1      snobby baby mosquito net snobby pole kbx 1201  \n",
       "2                                      mini stoppers  \n",
       "3                  f916304 jelly slides wedges shoes  \n",
       "4  xe3x80x90celebxe3x80x91100 pcs korean style el...  "
      ]
     },
     "execution_count": 30,
     "metadata": {},
     "output_type": "execute_result"
    }
   ],
   "source": [
    "validate.head()"
   ]
  },
  {
   "cell_type": "code",
   "execution_count": null,
   "metadata": {
    "colab": {
     "base_uri": "https://localhost:8080/"
    },
    "executionInfo": {
     "elapsed": 25,
     "status": "ok",
     "timestamp": 1681576994864,
     "user": {
      "displayName": "Florence Cheng",
      "userId": "06139676342662614610"
     },
     "user_tz": 420
    },
    "id": "UXz_-xoMdNV1",
    "outputId": "52ecfcbe-a8ec-4185-d62b-bb255ea06c37"
   },
   "outputs": [
    {
     "data": {
      "text/plain": [
       "29603"
      ]
     },
     "execution_count": 31,
     "metadata": {},
     "output_type": "execute_result"
    }
   ],
   "source": [
    "len(train['label_group'])"
   ]
  },
  {
   "cell_type": "code",
   "execution_count": null,
   "metadata": {
    "colab": {
     "base_uri": "https://localhost:8080/"
    },
    "executionInfo": {
     "elapsed": 22,
     "status": "ok",
     "timestamp": 1681576994864,
     "user": {
      "displayName": "Florence Cheng",
      "userId": "06139676342662614610"
     },
     "user_tz": 420
    },
    "id": "3rrVvD83dUKw",
    "outputId": "76e86f60-8099-4a34-d654-407c81b7ab3f"
   },
   "outputs": [
    {
     "data": {
      "text/plain": [
       "4647"
      ]
     },
     "execution_count": 32,
     "metadata": {},
     "output_type": "execute_result"
    }
   ],
   "source": [
    "len(validate['label_group'])"
   ]
  },
  {
   "cell_type": "code",
   "execution_count": null,
   "metadata": {
    "colab": {
     "base_uri": "https://localhost:8080/"
    },
    "executionInfo": {
     "elapsed": 20,
     "status": "ok",
     "timestamp": 1681576994864,
     "user": {
      "displayName": "Florence Cheng",
      "userId": "06139676342662614610"
     },
     "user_tz": 420
    },
    "id": "_8B4vYcAdhh8",
    "outputId": "6f290063-5d9b-406d-c894-d479d9c583b7"
   },
   "outputs": [
    {
     "data": {
      "text/plain": [
       "0        249114794\n",
       "1       2937985045\n",
       "2       2395904891\n",
       "3       4093212188\n",
       "4       3648931069\n",
       "           ...    \n",
       "4642    2808026978\n",
       "4643    2314234752\n",
       "4644    1209949003\n",
       "4645    1623932098\n",
       "4646     108185000\n",
       "Name: label_group, Length: 34250, dtype: int64"
      ]
     },
     "execution_count": 33,
     "metadata": {},
     "output_type": "execute_result"
    }
   ],
   "source": [
    "combined = pd.concat([train['label_group'],validate['label_group']])\n",
    "combined"
   ]
  },
  {
   "cell_type": "code",
   "execution_count": null,
   "metadata": {
    "colab": {
     "base_uri": "https://localhost:8080/"
    },
    "executionInfo": {
     "elapsed": 18,
     "status": "ok",
     "timestamp": 1681576994864,
     "user": {
      "displayName": "Florence Cheng",
      "userId": "06139676342662614610"
     },
     "user_tz": 420
    },
    "id": "k2_Qx4zUGMO0",
    "outputId": "a3ed805c-9c4e-40e7-9ea6-779c08160032"
   },
   "outputs": [
    {
     "name": "stdout",
     "output_type": "stream",
     "text": [
      "(34250, 11014)\n",
      "11014\n"
     ]
    }
   ],
   "source": [
    "# label pre-processing: convert to group then perform onehot encoding\n",
    "\n",
    "from sklearn.preprocessing import LabelEncoder\n",
    "from tensorflow.keras.utils import to_categorical\n",
    "\n",
    "# Convert labels to integers using LabelEncoder\n",
    "le = LabelEncoder()\n",
    "labels_int = le.fit_transform(combined)\n",
    "\n",
    "# One-hot encode the labels using to_categorical\n",
    "y = to_categorical(labels_int)\n",
    "\n",
    "# Print the shape of the one-hot encoded labels\n",
    "print(y.shape)\n",
    "print(y.shape[1])"
   ]
  },
  {
   "cell_type": "code",
   "execution_count": null,
   "metadata": {
    "colab": {
     "base_uri": "https://localhost:8080/"
    },
    "executionInfo": {
     "elapsed": 16,
     "status": "ok",
     "timestamp": 1681576994864,
     "user": {
      "displayName": "Florence Cheng",
      "userId": "06139676342662614610"
     },
     "user_tz": 420
    },
    "id": "EzfcbEMZeeJp",
    "outputId": "ffe1ee3e-e20d-40e3-8c4e-e88643ec1fe7"
   },
   "outputs": [
    {
     "data": {
      "text/plain": [
       "34250"
      ]
     },
     "execution_count": 35,
     "metadata": {},
     "output_type": "execute_result"
    }
   ],
   "source": [
    "len(y)"
   ]
  },
  {
   "cell_type": "code",
   "execution_count": null,
   "metadata": {
    "colab": {
     "base_uri": "https://localhost:8080/"
    },
    "executionInfo": {
     "elapsed": 16,
     "status": "ok",
     "timestamp": 1681576994865,
     "user": {
      "displayName": "Florence Cheng",
      "userId": "06139676342662614610"
     },
     "user_tz": 420
    },
    "id": "pBJ_piizeB6F",
    "outputId": "e7368464-bb77-4224-ec27-4be971c08ce1"
   },
   "outputs": [
    {
     "data": {
      "text/plain": [
       "29603"
      ]
     },
     "execution_count": 36,
     "metadata": {},
     "output_type": "execute_result"
    }
   ],
   "source": [
    "y_train = y[0:len(train['label_group'])]\n",
    "len(y_train)"
   ]
  },
  {
   "cell_type": "code",
   "execution_count": null,
   "metadata": {
    "colab": {
     "base_uri": "https://localhost:8080/"
    },
    "executionInfo": {
     "elapsed": 14,
     "status": "ok",
     "timestamp": 1681576994865,
     "user": {
      "displayName": "Florence Cheng",
      "userId": "06139676342662614610"
     },
     "user_tz": 420
    },
    "id": "WbXcJH4wevP5",
    "outputId": "a43c72b7-643d-4bb7-df8f-5dc0bce19b8e"
   },
   "outputs": [
    {
     "data": {
      "text/plain": [
       "4647"
      ]
     },
     "execution_count": 37,
     "metadata": {},
     "output_type": "execute_result"
    }
   ],
   "source": [
    "y_val = y[-len(validate['label_group']):]\n",
    "len(y_val)"
   ]
  },
  {
   "cell_type": "code",
   "execution_count": null,
   "metadata": {
    "colab": {
     "base_uri": "https://localhost:8080/"
    },
    "executionInfo": {
     "elapsed": 13,
     "status": "ok",
     "timestamp": 1681576994865,
     "user": {
      "displayName": "Florence Cheng",
      "userId": "06139676342662614610"
     },
     "user_tz": 420
    },
    "id": "v9UR56yWyatu",
    "outputId": "281ece5b-276b-4ae0-9319-7ab3fa9f3ba6"
   },
   "outputs": [
    {
     "name": "stdout",
     "output_type": "stream",
     "text": [
      "       Encoded Label  Original Label\n",
      "0                  0          258047\n",
      "1                  1          297977\n",
      "2                  2          645628\n",
      "3                  3          801176\n",
      "4                  4          887886\n",
      "...              ...             ...\n",
      "11009          11009      4292154092\n",
      "11010          11010      4292520070\n",
      "11011          11011      4292939171\n",
      "11012          11012      4293276364\n",
      "11013          11013      4294197112\n",
      "\n",
      "[11014 rows x 2 columns]\n"
     ]
    }
   ],
   "source": [
    "# Create a mapping table between encoded labels and their original label groups\n",
    "label_mapping = {i: label for i, label in enumerate(le.classes_)}\n",
    "\n",
    "# Convert the mapping table to a DataFrame\n",
    "label_mapping_df = pd.DataFrame(list(label_mapping.items()), columns=['Encoded Label', 'Original Label'])\n",
    "\n",
    "# Print the DataFrame\n",
    "print(label_mapping_df)"
   ]
  },
  {
   "cell_type": "code",
   "execution_count": null,
   "metadata": {
    "id": "4uF2FXwXfASx"
   },
   "outputs": [],
   "source": [
    "# Dataset already split from import csv files\n",
    "X_image_train = X_ar_normalized\n",
    "X_image_val = X_ar_val_normalized"
   ]
  },
  {
   "cell_type": "markdown",
   "metadata": {
    "id": "h4pwCfs6yfjw"
   },
   "source": [
    "Since the dataset consists of text (title description) and image, we consider using CNN Model and image to train the model, and combined with text title using TF-ITDF in CNN layers, then predict the label groups."
   ]
  },
  {
   "cell_type": "markdown",
   "metadata": {
    "id": "Eelrx9oGa8__"
   },
   "source": [
    "# TFIDF-CNN Model\n",
    "\n",
    "To create a model that takes two inputs, we need to use the Functional API instead of the Sequential API.\n",
    "\n",
    "The Sequential API is a straightforward way to create a neural network model by stacking layers on top of each other in a linear fashion. However, when dealing with models that have multiple inputs or outputs, the Sequential API is not sufficient.\n",
    "\n",
    "The Functional API, on the other hand, provides more flexibility in building complex models with multiple inputs and outputs. It allows for more control over how the inputs and outputs are connected to the layers and how the data flows through the network. This flexibility is achieved by defining the input and output layers separately, then connecting the layers using the functional API's various methods."
   ]
  },
  {
   "cell_type": "code",
   "execution_count": null,
   "metadata": {
    "id": "iqzZ0iFYZCKU"
   },
   "outputs": [],
   "source": [
    "from sklearn.feature_extraction.text import TfidfVectorizer"
   ]
  },
  {
   "cell_type": "code",
   "execution_count": null,
   "metadata": {
    "id": "Y06yN9EJfZLu"
   },
   "outputs": [],
   "source": [
    "X_text_train = train['title_cleaned']\n",
    "X_text_val = validate['title_cleaned']"
   ]
  },
  {
   "cell_type": "code",
   "execution_count": null,
   "metadata": {
    "id": "vw4FPozDGBlI"
   },
   "outputs": [],
   "source": [
    "# Define the neural network model\n",
    "# Use a convolutional neural network (CNN) to process the image data.\n",
    "# Use a recurrent neural network (RNN) to process the text data.\n",
    "# Combine the outputs of the two networks using a concatenation layer.\n",
    "# Add dense layers to the combined output to make the final prediction.\n",
    "\n",
    "# define the image input\n",
    "image_input = layers.Input(shape=X_ar_normalized.shape[1:], name='image_input')\n",
    "\n",
    "# define the convolutional layers for the image input\n",
    "x = layers.Conv2D(32, (3, 3), activation='relu')(image_input)\n",
    "x = layers.MaxPooling2D((2, 2))(x)\n",
    "x = Dropout(0.25)(x)  # add dropout here\n",
    "x = layers.Conv2D(64, (3, 3), activation='relu')(x)\n",
    "x = layers.MaxPooling2D((2, 2))(x)\n",
    "x = Dropout(0.25)(x)  # add dropout here\n",
    "x = layers.Conv2D(64, (3, 3), activation='relu')(x)\n",
    "x = layers.Flatten()(x)\n",
    "x = Dropout(0.25)(x)  # add dropout here\n",
    "x = layers.Dense(64, activation='relu')(x)"
   ]
  },
  {
   "cell_type": "code",
   "execution_count": null,
   "metadata": {
    "id": "yZ02nDRYHBG_"
   },
   "outputs": [],
   "source": [
    "# define the text input\n",
    "text_input = layers.Input(shape=(None,), dtype='string', name='text_input')"
   ]
  },
  {
   "cell_type": "code",
   "execution_count": null,
   "metadata": {
    "id": "BfUYAYPwIMzX"
   },
   "outputs": [],
   "source": [
    "# define the TfidfVectorizer to transform the text input\n",
    "tfidf = TfidfVectorizer()\n",
    "# text_features = tfidf.fit_transform(train['title_clean'])\n",
    "text_features_train = tfidf.fit_transform(X_text_train)\n",
    "text_features_val = tfidf.transform(X_text_val)\n",
    "text_features_input = layers.Input(shape=(text_features_train.shape[1],), name='text_features_input')"
   ]
  },
  {
   "cell_type": "code",
   "execution_count": null,
   "metadata": {
    "id": "S9lDzA8JJLYu"
   },
   "outputs": [],
   "source": [
    "# concatenate the image and text features\n",
    "concatenated = layers.concatenate([x, text_features_input])"
   ]
  },
  {
   "cell_type": "code",
   "execution_count": null,
   "metadata": {
    "id": "YBK1t_d-JfFh"
   },
   "outputs": [],
   "source": [
    "# define the output layer\n",
    "output_layer = Dense(y.shape[1], activation='softmax', name='output')(concatenated) #Need to change if more group labels"
   ]
  },
  {
   "cell_type": "code",
   "execution_count": null,
   "metadata": {
    "id": "C5J8gLIHJhGN"
   },
   "outputs": [],
   "source": [
    "# define the model with the two inputs and one output\n",
    "model1 = Model(inputs=[image_input, text_features_input], outputs=output_layer)"
   ]
  },
  {
   "cell_type": "code",
   "execution_count": null,
   "metadata": {
    "colab": {
     "base_uri": "https://localhost:8080/"
    },
    "executionInfo": {
     "elapsed": 437,
     "status": "ok",
     "timestamp": 1681571153723,
     "user": {
      "displayName": "Andrew Liu",
      "userId": "01750910414052279045"
     },
     "user_tz": 420
    },
    "id": "jJDjsqZOJkX4",
    "outputId": "702defd9-7e73-4489-b39a-2f8e20b38cf0"
   },
   "outputs": [
    {
     "name": "stdout",
     "output_type": "stream",
     "text": [
      "Model: \"model\"\n",
      "__________________________________________________________________________________________________\n",
      " Layer (type)                   Output Shape         Param #     Connected to                     \n",
      "==================================================================================================\n",
      " image_input (InputLayer)       [(None, 64, 64, 3)]  0           []                               \n",
      "                                                                                                  \n",
      " conv2d (Conv2D)                (None, 62, 62, 32)   896         ['image_input[0][0]']            \n",
      "                                                                                                  \n",
      " max_pooling2d (MaxPooling2D)   (None, 31, 31, 32)   0           ['conv2d[0][0]']                 \n",
      "                                                                                                  \n",
      " dropout (Dropout)              (None, 31, 31, 32)   0           ['max_pooling2d[0][0]']          \n",
      "                                                                                                  \n",
      " conv2d_1 (Conv2D)              (None, 29, 29, 64)   18496       ['dropout[0][0]']                \n",
      "                                                                                                  \n",
      " max_pooling2d_1 (MaxPooling2D)  (None, 14, 14, 64)  0           ['conv2d_1[0][0]']               \n",
      "                                                                                                  \n",
      " dropout_1 (Dropout)            (None, 14, 14, 64)   0           ['max_pooling2d_1[0][0]']        \n",
      "                                                                                                  \n",
      " conv2d_2 (Conv2D)              (None, 12, 12, 64)   36928       ['dropout_1[0][0]']              \n",
      "                                                                                                  \n",
      " flatten (Flatten)              (None, 9216)         0           ['conv2d_2[0][0]']               \n",
      "                                                                                                  \n",
      " dropout_2 (Dropout)            (None, 9216)         0           ['flatten[0][0]']                \n",
      "                                                                                                  \n",
      " dense (Dense)                  (None, 64)           589888      ['dropout_2[0][0]']              \n",
      "                                                                                                  \n",
      " text_features_input (InputLaye  [(None, 24193)]     0           []                               \n",
      " r)                                                                                               \n",
      "                                                                                                  \n",
      " concatenate (Concatenate)      (None, 24257)        0           ['dense[0][0]',                  \n",
      "                                                                  'text_features_input[0][0]']    \n",
      "                                                                                                  \n",
      " output (Dense)                 (None, 11014)        267177612   ['concatenate[0][0]']            \n",
      "                                                                                                  \n",
      "==================================================================================================\n",
      "Total params: 267,823,820\n",
      "Trainable params: 267,823,820\n",
      "Non-trainable params: 0\n",
      "__________________________________________________________________________________________________\n"
     ]
    }
   ],
   "source": [
    "model1.summary()"
   ]
  },
  {
   "cell_type": "code",
   "execution_count": null,
   "metadata": {
    "id": "zXCe6HAEJlW5"
   },
   "outputs": [],
   "source": [
    "# Compile the model\n",
    "model1.compile(optimizer='adam', loss='categorical_crossentropy', metrics=['accuracy'])"
   ]
  },
  {
   "cell_type": "code",
   "execution_count": null,
   "metadata": {
    "id": "e2bvLJNBr2cW"
   },
   "outputs": [],
   "source": [
    "history = model1.fit(x=[X_image_train, text_features_train.toarray()], \n",
    "                     y=y_train, epochs=10, batch_size=32, \n",
    "                     validation_data=([X_image_val, text_features_val.toarray()], y_val))"
   ]
  },
  {
   "cell_type": "code",
   "execution_count": null,
   "metadata": {
    "id": "iJvIWMoPAZoE"
   },
   "outputs": [],
   "source": [
    "# Save the trained model\n",
    "model1.save('TFIDF_combined_model.h5')"
   ]
  },
  {
   "cell_type": "code",
   "execution_count": null,
   "metadata": {
    "colab": {
     "base_uri": "https://localhost:8080/"
    },
    "executionInfo": {
     "elapsed": 2786,
     "status": "ok",
     "timestamp": 1681520833693,
     "user": {
      "displayName": "Andrew Liu",
      "userId": "01750910414052279045"
     },
     "user_tz": 420
    },
    "id": "cqdUyH74Jsnp",
    "outputId": "1113e47b-8d26-4364-8a00-9fec7b0d726b"
   },
   "outputs": [
    {
     "name": "stdout",
     "output_type": "stream",
     "text": [
      "146/146 [==============================] - 1s 9ms/step\n"
     ]
    }
   ],
   "source": [
    "# Get the predicted probabilities for each class on the validation set\n",
    "y_pred_prob = model1.predict([X_image_val, text_features_val.toarray()])\n",
    "\n",
    "# Get the predicted labels\n",
    "y_pred = np.argmax(y_pred_prob, axis=1)\n",
    "\n",
    "val_acc = history.history['val_accuracy']\n",
    "confidence_level = y_pred_prob[np.arange(len(y_pred)), y_pred]"
   ]
  },
  {
   "cell_type": "code",
   "execution_count": null,
   "metadata": {
    "id": "629ot90wx2v5"
   },
   "outputs": [],
   "source": [
    "# Print the predicted labels, their corresponding confidence levels, and the validation accuracy\n",
    "for i in range(len(y_pred)):\n",
    "    print('Predicted label:', y_pred[i], 'with confidence level:', confidence_level[i])\n",
    "print('Validation accuracy:', val_acc[-1])"
   ]
  },
  {
   "cell_type": "code",
   "execution_count": null,
   "metadata": {
    "id": "-SDkrHrVauqr"
   },
   "outputs": [],
   "source": [
    "# Import the model\n",
    "from keras.models import load_model\n",
    "\n",
    "history3 = load_model('TFIDF_combined_model.h5')"
   ]
  },
  {
   "cell_type": "code",
   "execution_count": null,
   "metadata": {
    "colab": {
     "base_uri": "https://localhost:8080/"
    },
    "executionInfo": {
     "elapsed": 3803,
     "status": "ok",
     "timestamp": 1681520853494,
     "user": {
      "displayName": "Andrew Liu",
      "userId": "01750910414052279045"
     },
     "user_tz": 420
    },
    "id": "AsUaGrJmCu4U",
    "outputId": "25d5d1c5-41ce-4b00-e4e4-be7f7fe75115"
   },
   "outputs": [
    {
     "name": "stdout",
     "output_type": "stream",
     "text": [
      "146/146 [==============================] - 3s 20ms/step - loss: 8.3675 - accuracy: 0.4078\n",
      "Test accuracy: 0.4077899754047394\n"
     ]
    }
   ],
   "source": [
    "# Evaluate the model using the import model\n",
    "loss, accuracy = history3.evaluate([X_image_val, text_features_val.toarray()], y_val)\n",
    "print('Test accuracy:', accuracy)"
   ]
  },
  {
   "cell_type": "markdown",
   "metadata": {
    "id": "YY859V46bcK3"
   },
   "source": [
    "# TFIDF-CNN Final Model"
   ]
  },
  {
   "cell_type": "code",
   "execution_count": null,
   "metadata": {
    "colab": {
     "base_uri": "https://localhost:8080/"
    },
    "executionInfo": {
     "elapsed": 1815284,
     "status": "ok",
     "timestamp": 1681573037723,
     "user": {
      "displayName": "Andrew Liu",
      "userId": "01750910414052279045"
     },
     "user_tz": 420
    },
    "id": "tEKt92p0bqKR",
    "outputId": "ffc430e1-c815-4e34-a4ae-5ff8d06ac8ec"
   },
   "outputs": [
    {
     "name": "stdout",
     "output_type": "stream",
     "text": [
      "Epoch 1/25\n",
      "926/926 [==============================] - 74s 79ms/step - loss: 9.0495 - accuracy: 0.1224 - val_loss: 8.8845 - val_accuracy: 0.2124\n",
      "Epoch 2/25\n",
      "926/926 [==============================] - 72s 77ms/step - loss: 8.4677 - accuracy: 0.1580 - val_loss: 8.3977 - val_accuracy: 0.1640\n",
      "Epoch 3/25\n",
      "926/926 [==============================] - 72s 78ms/step - loss: 7.7775 - accuracy: 0.1534 - val_loss: 7.8623 - val_accuracy: 0.1661\n",
      "Epoch 4/25\n",
      "926/926 [==============================] - 72s 78ms/step - loss: 7.0224 - accuracy: 0.1906 - val_loss: 7.3602 - val_accuracy: 0.2130\n",
      "Epoch 5/25\n",
      "926/926 [==============================] - 71s 77ms/step - loss: 6.3291 - accuracy: 0.2630 - val_loss: 6.9297 - val_accuracy: 0.2350\n",
      "Epoch 6/25\n",
      "926/926 [==============================] - 71s 77ms/step - loss: 5.5788 - accuracy: 0.3541 - val_loss: 6.5118 - val_accuracy: 0.3039\n",
      "Epoch 7/25\n",
      "926/926 [==============================] - 71s 77ms/step - loss: 4.8098 - accuracy: 0.4541 - val_loss: 6.3163 - val_accuracy: 0.3396\n",
      "Epoch 8/25\n",
      "926/926 [==============================] - 72s 77ms/step - loss: 4.1467 - accuracy: 0.5389 - val_loss: 6.2570 - val_accuracy: 0.3643\n",
      "Epoch 9/25\n",
      "926/926 [==============================] - 72s 78ms/step - loss: 3.5493 - accuracy: 0.6133 - val_loss: 6.0745 - val_accuracy: 0.3940\n",
      "Epoch 10/25\n",
      "926/926 [==============================] - 73s 79ms/step - loss: 2.9876 - accuracy: 0.6834 - val_loss: 6.2020 - val_accuracy: 0.4106\n",
      "Epoch 11/25\n",
      "926/926 [==============================] - 73s 79ms/step - loss: 2.5169 - accuracy: 0.7375 - val_loss: 6.1977 - val_accuracy: 0.4272\n",
      "Epoch 12/25\n",
      "926/926 [==============================] - 72s 78ms/step - loss: 2.1404 - accuracy: 0.7789 - val_loss: 6.3941 - val_accuracy: 0.4315\n",
      "Epoch 13/25\n",
      "926/926 [==============================] - 72s 78ms/step - loss: 1.8288 - accuracy: 0.8149 - val_loss: 6.4674 - val_accuracy: 0.4498\n",
      "Epoch 14/25\n",
      "926/926 [==============================] - 72s 78ms/step - loss: 1.5737 - accuracy: 0.8445 - val_loss: 6.5908 - val_accuracy: 0.4553\n",
      "Epoch 15/25\n",
      "926/926 [==============================] - 73s 79ms/step - loss: 1.3422 - accuracy: 0.8708 - val_loss: 6.6620 - val_accuracy: 0.4743\n",
      "Epoch 16/25\n",
      "926/926 [==============================] - 72s 78ms/step - loss: 1.1447 - accuracy: 0.8926 - val_loss: 6.6008 - val_accuracy: 0.4829\n",
      "Epoch 17/25\n",
      "926/926 [==============================] - 72s 78ms/step - loss: 0.9802 - accuracy: 0.9110 - val_loss: 7.0225 - val_accuracy: 0.4876\n",
      "Epoch 18/25\n",
      "926/926 [==============================] - 73s 78ms/step - loss: 0.8425 - accuracy: 0.9258 - val_loss: 7.1847 - val_accuracy: 0.4835\n",
      "Epoch 19/25\n",
      "926/926 [==============================] - 72s 78ms/step - loss: 0.7207 - accuracy: 0.9379 - val_loss: 7.1947 - val_accuracy: 0.4949\n",
      "Epoch 20/25\n",
      "926/926 [==============================] - 72s 78ms/step - loss: 0.6173 - accuracy: 0.9493 - val_loss: 7.0894 - val_accuracy: 0.5048\n",
      "Epoch 21/25\n",
      "926/926 [==============================] - 72s 78ms/step - loss: 0.5242 - accuracy: 0.9570 - val_loss: 7.4869 - val_accuracy: 0.5020\n",
      "Epoch 22/25\n",
      "926/926 [==============================] - 72s 78ms/step - loss: 0.4456 - accuracy: 0.9652 - val_loss: 7.5434 - val_accuracy: 0.5066\n",
      "Epoch 23/25\n",
      "926/926 [==============================] - 73s 79ms/step - loss: 0.3797 - accuracy: 0.9712 - val_loss: 7.8583 - val_accuracy: 0.5053\n",
      "Epoch 24/25\n",
      "926/926 [==============================] - 73s 79ms/step - loss: 0.3251 - accuracy: 0.9763 - val_loss: 8.1392 - val_accuracy: 0.4997\n",
      "Epoch 25/25\n",
      "926/926 [==============================] - 72s 78ms/step - loss: 0.2772 - accuracy: 0.9794 - val_loss: 7.6872 - val_accuracy: 0.5104\n"
     ]
    }
   ],
   "source": [
    "history = model1.fit(x=[X_image_train, text_features_train.toarray()], \n",
    "                     y=y_train, epochs=25, batch_size=32, \n",
    "                     validation_data=([X_image_val, text_features_val.toarray()], y_val))"
   ]
  },
  {
   "cell_type": "code",
   "execution_count": null,
   "metadata": {
    "id": "_QrkScNPbqBm"
   },
   "outputs": [],
   "source": [
    "# Save the trained model\n",
    "model1.save('final_model.h5')"
   ]
  },
  {
   "cell_type": "code",
   "execution_count": null,
   "metadata": {
    "id": "zOKwb9z1b1q-"
   },
   "outputs": [],
   "source": [
    "# Import the model\n",
    "from keras.models import load_model\n",
    "\n",
    "final_model = load_model('final_model.h5')"
   ]
  },
  {
   "cell_type": "code",
   "execution_count": null,
   "metadata": {
    "colab": {
     "base_uri": "https://localhost:8080/"
    },
    "executionInfo": {
     "elapsed": 3640,
     "status": "ok",
     "timestamp": 1681573064643,
     "user": {
      "displayName": "Andrew Liu",
      "userId": "01750910414052279045"
     },
     "user_tz": 420
    },
    "id": "T0PCIS4tb7vL",
    "outputId": "7b784a41-3a01-4843-cb1a-92c215d98dff"
   },
   "outputs": [
    {
     "name": "stdout",
     "output_type": "stream",
     "text": [
      "146/146 [==============================] - 3s 19ms/step - loss: 7.6872 - accuracy: 0.5104\n",
      "Test accuracy: 0.5104368329048157\n"
     ]
    }
   ],
   "source": [
    "# Evaluate the model using the import model\n",
    "loss, accuracy = final_model.evaluate([X_image_val, text_features_val.toarray()], y_val)\n",
    "print('Test accuracy:', accuracy)"
   ]
  }
 ],
 "metadata": {
  "colab": {
   "provenance": []
  },
  "gpuClass": "standard",
  "kernelspec": {
   "display_name": "Python 3 (ipykernel)",
   "language": "python",
   "name": "python3"
  },
  "language_info": {
   "codemirror_mode": {
    "name": "ipython",
    "version": 3
   },
   "file_extension": ".py",
   "mimetype": "text/x-python",
   "name": "python",
   "nbconvert_exporter": "python",
   "pygments_lexer": "ipython3",
   "version": "3.11.4"
  }
 },
 "nbformat": 4,
 "nbformat_minor": 1
}
