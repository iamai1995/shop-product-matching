{
 "cells": [
  {
   "cell_type": "markdown",
   "metadata": {
    "id": "ILLgPZOukXyS"
   },
   "source": [
    "# Import libraries"
   ]
  },
  {
   "cell_type": "code",
   "execution_count": null,
   "metadata": {
    "id": "MQArqUApwa8Z"
   },
   "outputs": [],
   "source": [
    "# import library\n",
    "import tensorflow as tf\n",
    "from tensorflow.keras import layers, Model\n",
    "from tensorflow.keras.layers import Input, Dense, SimpleRNN\n",
    "tf.config.run_functions_eagerly(True)\n",
    "\n",
    "from sklearn.model_selection import train_test_split\n",
    "\n",
    "import pandas as pd\n",
    "import numpy as np\n",
    "from PIL import Image\n",
    "import matplotlib.pyplot as plt\n",
    "%matplotlib inline"
   ]
  },
  {
   "cell_type": "markdown",
   "metadata": {
    "id": "mO7DpSaPHfJq"
   },
   "source": [
    "# Load data"
   ]
  },
  {
   "cell_type": "code",
   "execution_count": null,
   "metadata": {
    "colab": {
     "base_uri": "https://localhost:8080/",
     "height": 260
    },
    "executionInfo": {
     "elapsed": 827,
     "status": "ok",
     "timestamp": 1681680260087,
     "user": {
      "displayName": "Andrew Liu",
      "userId": "01750910414052279045"
     },
     "user_tz": 420
    },
    "id": "l01Jr3Lt0rVW",
    "outputId": "209e3f28-06f4-4a12-a8a4-d7e3cc4f363f"
   },
   "outputs": [
    {
     "data": {
      "text/html": [
       "\n",
       "  <div id=\"df-4098a12f-7e93-4af9-81f3-8fb6694f0729\">\n",
       "    <div class=\"colab-df-container\">\n",
       "      <div>\n",
       "<style scoped>\n",
       "    .dataframe tbody tr th:only-of-type {\n",
       "        vertical-align: middle;\n",
       "    }\n",
       "\n",
       "    .dataframe tbody tr th {\n",
       "        vertical-align: top;\n",
       "    }\n",
       "\n",
       "    .dataframe thead th {\n",
       "        text-align: right;\n",
       "    }\n",
       "</style>\n",
       "<table border=\"1\" class=\"dataframe\">\n",
       "  <thead>\n",
       "    <tr style=\"text-align: right;\">\n",
       "      <th></th>\n",
       "      <th>posting_id</th>\n",
       "      <th>image</th>\n",
       "      <th>image_phash</th>\n",
       "      <th>title</th>\n",
       "      <th>label_group</th>\n",
       "      <th>title_translate</th>\n",
       "    </tr>\n",
       "  </thead>\n",
       "  <tbody>\n",
       "    <tr>\n",
       "      <th>0</th>\n",
       "      <td>train_129225211</td>\n",
       "      <td>0000a68812bc7e98c42888dfb1c07da0.jpg</td>\n",
       "      <td>94974f937d4c2433</td>\n",
       "      <td>Paper Bag Victoria Secret</td>\n",
       "      <td>249114794</td>\n",
       "      <td>Victoria's Secret Paper Bag</td>\n",
       "    </tr>\n",
       "    <tr>\n",
       "      <th>1</th>\n",
       "      <td>train_3386243561</td>\n",
       "      <td>00039780dfc94d01db8676fe789ecd05.jpg</td>\n",
       "      <td>af3f9460c2838f0f</td>\n",
       "      <td>Double Tape 3M VHB 12 mm x 4,5 m ORIGINAL / DO...</td>\n",
       "      <td>2937985045</td>\n",
       "      <td>Double Tape 3M VHB 12 mm x 4.5 m ORIGINAL / DO...</td>\n",
       "    </tr>\n",
       "  </tbody>\n",
       "</table>\n",
       "</div>\n",
       "      <button class=\"colab-df-convert\" onclick=\"convertToInteractive('df-4098a12f-7e93-4af9-81f3-8fb6694f0729')\"\n",
       "              title=\"Convert this dataframe to an interactive table.\"\n",
       "              style=\"display:none;\">\n",
       "        \n",
       "  <svg xmlns=\"http://www.w3.org/2000/svg\" height=\"24px\"viewBox=\"0 0 24 24\"\n",
       "       width=\"24px\">\n",
       "    <path d=\"M0 0h24v24H0V0z\" fill=\"none\"/>\n",
       "    <path d=\"M18.56 5.44l.94 2.06.94-2.06 2.06-.94-2.06-.94-.94-2.06-.94 2.06-2.06.94zm-11 1L8.5 8.5l.94-2.06 2.06-.94-2.06-.94L8.5 2.5l-.94 2.06-2.06.94zm10 10l.94 2.06.94-2.06 2.06-.94-2.06-.94-.94-2.06-.94 2.06-2.06.94z\"/><path d=\"M17.41 7.96l-1.37-1.37c-.4-.4-.92-.59-1.43-.59-.52 0-1.04.2-1.43.59L10.3 9.45l-7.72 7.72c-.78.78-.78 2.05 0 2.83L4 21.41c.39.39.9.59 1.41.59.51 0 1.02-.2 1.41-.59l7.78-7.78 2.81-2.81c.8-.78.8-2.07 0-2.86zM5.41 20L4 18.59l7.72-7.72 1.47 1.35L5.41 20z\"/>\n",
       "  </svg>\n",
       "      </button>\n",
       "      \n",
       "  <style>\n",
       "    .colab-df-container {\n",
       "      display:flex;\n",
       "      flex-wrap:wrap;\n",
       "      gap: 12px;\n",
       "    }\n",
       "\n",
       "    .colab-df-convert {\n",
       "      background-color: #E8F0FE;\n",
       "      border: none;\n",
       "      border-radius: 50%;\n",
       "      cursor: pointer;\n",
       "      display: none;\n",
       "      fill: #1967D2;\n",
       "      height: 32px;\n",
       "      padding: 0 0 0 0;\n",
       "      width: 32px;\n",
       "    }\n",
       "\n",
       "    .colab-df-convert:hover {\n",
       "      background-color: #E2EBFA;\n",
       "      box-shadow: 0px 1px 2px rgba(60, 64, 67, 0.3), 0px 1px 3px 1px rgba(60, 64, 67, 0.15);\n",
       "      fill: #174EA6;\n",
       "    }\n",
       "\n",
       "    [theme=dark] .colab-df-convert {\n",
       "      background-color: #3B4455;\n",
       "      fill: #D2E3FC;\n",
       "    }\n",
       "\n",
       "    [theme=dark] .colab-df-convert:hover {\n",
       "      background-color: #434B5C;\n",
       "      box-shadow: 0px 1px 3px 1px rgba(0, 0, 0, 0.15);\n",
       "      filter: drop-shadow(0px 1px 2px rgba(0, 0, 0, 0.3));\n",
       "      fill: #FFFFFF;\n",
       "    }\n",
       "  </style>\n",
       "\n",
       "      <script>\n",
       "        const buttonEl =\n",
       "          document.querySelector('#df-4098a12f-7e93-4af9-81f3-8fb6694f0729 button.colab-df-convert');\n",
       "        buttonEl.style.display =\n",
       "          google.colab.kernel.accessAllowed ? 'block' : 'none';\n",
       "\n",
       "        async function convertToInteractive(key) {\n",
       "          const element = document.querySelector('#df-4098a12f-7e93-4af9-81f3-8fb6694f0729');\n",
       "          const dataTable =\n",
       "            await google.colab.kernel.invokeFunction('convertToInteractive',\n",
       "                                                     [key], {});\n",
       "          if (!dataTable) return;\n",
       "\n",
       "          const docLinkHtml = 'Like what you see? Visit the ' +\n",
       "            '<a target=\"_blank\" href=https://colab.research.google.com/notebooks/data_table.ipynb>data table notebook</a>'\n",
       "            + ' to learn more about interactive tables.';\n",
       "          element.innerHTML = '';\n",
       "          dataTable['output_type'] = 'display_data';\n",
       "          await google.colab.output.renderOutput(dataTable, element);\n",
       "          const docLink = document.createElement('div');\n",
       "          docLink.innerHTML = docLinkHtml;\n",
       "          element.appendChild(docLink);\n",
       "        }\n",
       "      </script>\n",
       "    </div>\n",
       "  </div>\n",
       "  "
      ],
      "text/plain": [
       "         posting_id                                 image       image_phash  \\\n",
       "0   train_129225211  0000a68812bc7e98c42888dfb1c07da0.jpg  94974f937d4c2433   \n",
       "1  train_3386243561  00039780dfc94d01db8676fe789ecd05.jpg  af3f9460c2838f0f   \n",
       "\n",
       "                                               title  label_group  \\\n",
       "0                          Paper Bag Victoria Secret    249114794   \n",
       "1  Double Tape 3M VHB 12 mm x 4,5 m ORIGINAL / DO...   2937985045   \n",
       "\n",
       "                                     title_translate  \n",
       "0                        Victoria's Secret Paper Bag  \n",
       "1  Double Tape 3M VHB 12 mm x 4.5 m ORIGINAL / DO...  "
      ]
     },
     "execution_count": 4,
     "metadata": {},
     "output_type": "execute_result"
    }
   ],
   "source": [
    "train = pd.read_csv('final_train.csv', \n",
    "                    usecols = [\"posting_id\", \"image\", \"image_phash\", \"title\", \"label_group\", \"title_translate\"])\n",
    "train.head(2)"
   ]
  },
  {
   "cell_type": "code",
   "execution_count": null,
   "metadata": {
    "colab": {
     "base_uri": "https://localhost:8080/",
     "height": 294
    },
    "executionInfo": {
     "elapsed": 17,
     "status": "ok",
     "timestamp": 1681680260088,
     "user": {
      "displayName": "Andrew Liu",
      "userId": "01750910414052279045"
     },
     "user_tz": 420
    },
    "id": "cS9o1r2_aGO7",
    "outputId": "45d6fb7b-0e45-4494-d2a0-f9ce8141cf0d"
   },
   "outputs": [
    {
     "data": {
      "text/html": [
       "\n",
       "  <div id=\"df-aee9813c-bfd5-4aa5-a29f-5149d8f289d5\">\n",
       "    <div class=\"colab-df-container\">\n",
       "      <div>\n",
       "<style scoped>\n",
       "    .dataframe tbody tr th:only-of-type {\n",
       "        vertical-align: middle;\n",
       "    }\n",
       "\n",
       "    .dataframe tbody tr th {\n",
       "        vertical-align: top;\n",
       "    }\n",
       "\n",
       "    .dataframe thead th {\n",
       "        text-align: right;\n",
       "    }\n",
       "</style>\n",
       "<table border=\"1\" class=\"dataframe\">\n",
       "  <thead>\n",
       "    <tr style=\"text-align: right;\">\n",
       "      <th></th>\n",
       "      <th>posting_id</th>\n",
       "      <th>image</th>\n",
       "      <th>image_phash</th>\n",
       "      <th>title</th>\n",
       "      <th>label_group</th>\n",
       "      <th>title_translate</th>\n",
       "    </tr>\n",
       "  </thead>\n",
       "  <tbody>\n",
       "    <tr>\n",
       "      <th>0</th>\n",
       "      <td>train_1003554842</td>\n",
       "      <td>560a5c3577fb22be2ac82c0e97558158.jpg</td>\n",
       "      <td>f3c78fce8c3050f0</td>\n",
       "      <td>Mustika  Ratu Minyak Cem-Ceman 175 ml</td>\n",
       "      <td>3044373336</td>\n",
       "      <td>Mustika Ratu Oil Cem-Ceman 175 ml</td>\n",
       "    </tr>\n",
       "    <tr>\n",
       "      <th>1</th>\n",
       "      <td>train_523363809</td>\n",
       "      <td>dd1f14c7a734ff28b67062ae4f8529c6.jpg</td>\n",
       "      <td>af919a66c49d688b</td>\n",
       "      <td>Snobby Kelambu Box Bayi Snobby 1 Tiang KBX 1201</td>\n",
       "      <td>873493898</td>\n",
       "      <td>Snobby Baby Mosquito Net Snobby 1 Pole KBX 1201</td>\n",
       "    </tr>\n",
       "  </tbody>\n",
       "</table>\n",
       "</div>\n",
       "      <button class=\"colab-df-convert\" onclick=\"convertToInteractive('df-aee9813c-bfd5-4aa5-a29f-5149d8f289d5')\"\n",
       "              title=\"Convert this dataframe to an interactive table.\"\n",
       "              style=\"display:none;\">\n",
       "        \n",
       "  <svg xmlns=\"http://www.w3.org/2000/svg\" height=\"24px\"viewBox=\"0 0 24 24\"\n",
       "       width=\"24px\">\n",
       "    <path d=\"M0 0h24v24H0V0z\" fill=\"none\"/>\n",
       "    <path d=\"M18.56 5.44l.94 2.06.94-2.06 2.06-.94-2.06-.94-.94-2.06-.94 2.06-2.06.94zm-11 1L8.5 8.5l.94-2.06 2.06-.94-2.06-.94L8.5 2.5l-.94 2.06-2.06.94zm10 10l.94 2.06.94-2.06 2.06-.94-2.06-.94-.94-2.06-.94 2.06-2.06.94z\"/><path d=\"M17.41 7.96l-1.37-1.37c-.4-.4-.92-.59-1.43-.59-.52 0-1.04.2-1.43.59L10.3 9.45l-7.72 7.72c-.78.78-.78 2.05 0 2.83L4 21.41c.39.39.9.59 1.41.59.51 0 1.02-.2 1.41-.59l7.78-7.78 2.81-2.81c.8-.78.8-2.07 0-2.86zM5.41 20L4 18.59l7.72-7.72 1.47 1.35L5.41 20z\"/>\n",
       "  </svg>\n",
       "      </button>\n",
       "      \n",
       "  <style>\n",
       "    .colab-df-container {\n",
       "      display:flex;\n",
       "      flex-wrap:wrap;\n",
       "      gap: 12px;\n",
       "    }\n",
       "\n",
       "    .colab-df-convert {\n",
       "      background-color: #E8F0FE;\n",
       "      border: none;\n",
       "      border-radius: 50%;\n",
       "      cursor: pointer;\n",
       "      display: none;\n",
       "      fill: #1967D2;\n",
       "      height: 32px;\n",
       "      padding: 0 0 0 0;\n",
       "      width: 32px;\n",
       "    }\n",
       "\n",
       "    .colab-df-convert:hover {\n",
       "      background-color: #E2EBFA;\n",
       "      box-shadow: 0px 1px 2px rgba(60, 64, 67, 0.3), 0px 1px 3px 1px rgba(60, 64, 67, 0.15);\n",
       "      fill: #174EA6;\n",
       "    }\n",
       "\n",
       "    [theme=dark] .colab-df-convert {\n",
       "      background-color: #3B4455;\n",
       "      fill: #D2E3FC;\n",
       "    }\n",
       "\n",
       "    [theme=dark] .colab-df-convert:hover {\n",
       "      background-color: #434B5C;\n",
       "      box-shadow: 0px 1px 3px 1px rgba(0, 0, 0, 0.15);\n",
       "      filter: drop-shadow(0px 1px 2px rgba(0, 0, 0, 0.3));\n",
       "      fill: #FFFFFF;\n",
       "    }\n",
       "  </style>\n",
       "\n",
       "      <script>\n",
       "        const buttonEl =\n",
       "          document.querySelector('#df-aee9813c-bfd5-4aa5-a29f-5149d8f289d5 button.colab-df-convert');\n",
       "        buttonEl.style.display =\n",
       "          google.colab.kernel.accessAllowed ? 'block' : 'none';\n",
       "\n",
       "        async function convertToInteractive(key) {\n",
       "          const element = document.querySelector('#df-aee9813c-bfd5-4aa5-a29f-5149d8f289d5');\n",
       "          const dataTable =\n",
       "            await google.colab.kernel.invokeFunction('convertToInteractive',\n",
       "                                                     [key], {});\n",
       "          if (!dataTable) return;\n",
       "\n",
       "          const docLinkHtml = 'Like what you see? Visit the ' +\n",
       "            '<a target=\"_blank\" href=https://colab.research.google.com/notebooks/data_table.ipynb>data table notebook</a>'\n",
       "            + ' to learn more about interactive tables.';\n",
       "          element.innerHTML = '';\n",
       "          dataTable['output_type'] = 'display_data';\n",
       "          await google.colab.output.renderOutput(dataTable, element);\n",
       "          const docLink = document.createElement('div');\n",
       "          docLink.innerHTML = docLinkHtml;\n",
       "          element.appendChild(docLink);\n",
       "        }\n",
       "      </script>\n",
       "    </div>\n",
       "  </div>\n",
       "  "
      ],
      "text/plain": [
       "         posting_id                                 image       image_phash  \\\n",
       "0  train_1003554842  560a5c3577fb22be2ac82c0e97558158.jpg  f3c78fce8c3050f0   \n",
       "1   train_523363809  dd1f14c7a734ff28b67062ae4f8529c6.jpg  af919a66c49d688b   \n",
       "\n",
       "                                             title  label_group  \\\n",
       "0            Mustika  Ratu Minyak Cem-Ceman 175 ml   3044373336   \n",
       "1  Snobby Kelambu Box Bayi Snobby 1 Tiang KBX 1201    873493898   \n",
       "\n",
       "                                   title_translate  \n",
       "0                Mustika Ratu Oil Cem-Ceman 175 ml  \n",
       "1  Snobby Baby Mosquito Net Snobby 1 Pole KBX 1201  "
      ]
     },
     "execution_count": 5,
     "metadata": {},
     "output_type": "execute_result"
    }
   ],
   "source": [
    "validate = pd.read_csv('final_validation.csv', \n",
    "                       usecols = [\"posting_id\", \"image\", \"image_phash\", \"title\", \"label_group\", \"title_translate\"])\n",
    "validate.head(2)"
   ]
  },
  {
   "cell_type": "code",
   "execution_count": null,
   "metadata": {
    "colab": {
     "base_uri": "https://localhost:8080/"
    },
    "executionInfo": {
     "elapsed": 14,
     "status": "ok",
     "timestamp": 1681680260088,
     "user": {
      "displayName": "Andrew Liu",
      "userId": "01750910414052279045"
     },
     "user_tz": 420
    },
    "id": "SX7RjMeWat_v",
    "outputId": "2f92e25e-2c66-4409-fbcf-db1fd1dfaf5e"
   },
   "outputs": [
    {
     "name": "stdout",
     "output_type": "stream",
     "text": [
      "Observation in Train: 29603\n",
      "Observation in Validation: 4647\n"
     ]
    }
   ],
   "source": [
    "print(f\"Observation in Train: {len(train)}\")\n",
    "print(f\"Observation in Validation: {len(validate)}\")"
   ]
  },
  {
   "cell_type": "markdown",
   "metadata": {
    "id": "I01HQhtSDJhz"
   },
   "source": [
    "# Title pre-processing\n",
    "\n",
    "Clean the text of reviews, e.g. emoji, punctuations, stopwords special characters and change to lowercases."
   ]
  },
  {
   "cell_type": "code",
   "execution_count": null,
   "metadata": {
    "colab": {
     "base_uri": "https://localhost:8080/"
    },
    "executionInfo": {
     "elapsed": 12,
     "status": "ok",
     "timestamp": 1681680260089,
     "user": {
      "displayName": "Andrew Liu",
      "userId": "01750910414052279045"
     },
     "user_tz": 420
    },
    "id": "JayYMHqM4YDE",
    "outputId": "b7dd9be0-6721-43e9-fe1a-fe0a8e0f9e16"
   },
   "outputs": [
    {
     "data": {
      "text/plain": [
       "0                              Victoria's Secret Paper Bag\n",
       "1        Double Tape 3M VHB 12 mm x 4.5 m ORIGINAL / DO...\n",
       "2              Maling TTS Canned Pork Luncheon Meat 397 gr\n",
       "3        Short sleeve Batik negligee - Random / Mixed P...\n",
       "4                        Nescafe \\xc3\\x89clair Latte 220ml\n",
       "                               ...                        \n",
       "29598    Battery Battery Xiaomi Redmi Note 3 BM46 BM-46...\n",
       "29599    Washable 75 gsm Non-Woven Spunbond Fabric Mask...\n",
       "29600    KHANZAACC Robot RE101S 1.2mm Subwoofer Bass Me...\n",
       "29601    Broth NON MSG HALAL Mama Kamu Free-range Chick...\n",
       "29602    LEAK COATING FLEX TAPE / MAGIC ISOLATION / LEA...\n",
       "Name: title_translate, Length: 29603, dtype: object"
      ]
     },
     "execution_count": 7,
     "metadata": {},
     "output_type": "execute_result"
    }
   ],
   "source": [
    "train['title_translate']"
   ]
  },
  {
   "cell_type": "code",
   "execution_count": null,
   "metadata": {
    "colab": {
     "base_uri": "https://localhost:8080/"
    },
    "executionInfo": {
     "elapsed": 10,
     "status": "ok",
     "timestamp": 1681680260089,
     "user": {
      "displayName": "Andrew Liu",
      "userId": "01750910414052279045"
     },
     "user_tz": 420
    },
    "id": "rx-cXUz1cfD0",
    "outputId": "196f9840-54c6-4e16-8724-39e6f6e2f215"
   },
   "outputs": [
    {
     "data": {
      "text/plain": [
       "0                       Mustika Ratu Oil Cem-Ceman 175 ml\n",
       "1         Snobby Baby Mosquito Net Snobby 1 Pole KBX 1201\n",
       "2                                           mini stoppers\n",
       "3                      F916/304 Jelly Slides Wedges Shoes\n",
       "4       \\xe3\\x80\\x90CELEB\\xe3\\x80\\x91100 Pcs Korean St...\n",
       "                              ...                        \n",
       "4642    Sweety Silver Pants BOYS GIRLS M30 L28 XL26 XX...\n",
       "4643                                           Mayonnaise\n",
       "4644        Fair N Pink Body Serum natural body whitening\n",
       "4645                               Wholesale mask brushes\n",
       "4646         Light Blue Skinny Pencil Men's Jeans 27 - 38\n",
       "Name: title_translate, Length: 4647, dtype: object"
      ]
     },
     "execution_count": 8,
     "metadata": {},
     "output_type": "execute_result"
    }
   ],
   "source": [
    "validate['title_translate']"
   ]
  },
  {
   "cell_type": "code",
   "execution_count": null,
   "metadata": {
    "colab": {
     "base_uri": "https://localhost:8080/"
    },
    "executionInfo": {
     "elapsed": 1219,
     "status": "ok",
     "timestamp": 1681680261301,
     "user": {
      "displayName": "Andrew Liu",
      "userId": "01750910414052279045"
     },
     "user_tz": 420
    },
    "id": "3e9MoGr6EY7n",
    "outputId": "65910803-6b37-45b6-d3e9-e890f08bd675"
   },
   "outputs": [
    {
     "name": "stderr",
     "output_type": "stream",
     "text": [
      "[nltk_data] Downloading package stopwords to /root/nltk_data...\n",
      "[nltk_data]   Unzipping corpora/stopwords.zip.\n"
     ]
    }
   ],
   "source": [
    "import re, string\n",
    "import nltk\n",
    "nltk.download('stopwords')\n",
    "from nltk.corpus import stopwords"
   ]
  },
  {
   "cell_type": "markdown",
   "metadata": {
    "id": "gfxfpKjgyb7C"
   },
   "source": [
    "In TF-IDF (Term Frequency-Inverse Document Frequency), upper case / lower case does matter. 'APPLE' is not counted the same as 'apple'.\n",
    "\n",
    "We also don't want punctuations, stopwords, and short words with one or two characters. "
   ]
  },
  {
   "cell_type": "code",
   "execution_count": null,
   "metadata": {
    "id": "wYEVVB3aEjKw"
   },
   "outputs": [],
   "source": [
    "# function to clean the translated titles before embedding\n",
    "def clean_title(title):\n",
    "    # Remove all non-alphanumeric characters and convert to lowercase\n",
    "    clean1 = re.sub(r'[^a-zA-Z0-9\\s]', '', title).lower()\n",
    "    # Split the cleaned string into words\n",
    "    clean2 = re.split('\\W+', clean1)\n",
    "    # Remove stopwords and short words\n",
    "    title_cleaned = [word for word in clean2 if (word not in stopwords.words('english')) & (len(word) > 2)]\n",
    "    # Join the cleaned words using a space separator\n",
    "    title_cleaned = ' '.join(title_cleaned)\n",
    "    return title_cleaned"
   ]
  },
  {
   "cell_type": "code",
   "execution_count": null,
   "metadata": {
    "id": "xVo04QZ0Em4C"
   },
   "outputs": [],
   "source": [
    "# clean the title in the train dataset\n",
    "train['title_cleaned'] = train['title_translate'].apply(clean_title)\n",
    "validate['title_cleaned'] = validate['title_translate'].apply(clean_title)"
   ]
  },
  {
   "cell_type": "code",
   "execution_count": null,
   "metadata": {
    "colab": {
     "base_uri": "https://localhost:8080/",
     "height": 314
    },
    "executionInfo": {
     "elapsed": 27,
     "status": "ok",
     "timestamp": 1681680290274,
     "user": {
      "displayName": "Andrew Liu",
      "userId": "01750910414052279045"
     },
     "user_tz": 420
    },
    "id": "0oA9dMuxF5gv",
    "outputId": "226a3661-5d21-4e5a-a229-fc6302d8e3f4"
   },
   "outputs": [
    {
     "data": {
      "text/html": [
       "\n",
       "  <div id=\"df-28b3ecbe-c0db-4e46-a5eb-5ffcc7531fef\">\n",
       "    <div class=\"colab-df-container\">\n",
       "      <div>\n",
       "<style scoped>\n",
       "    .dataframe tbody tr th:only-of-type {\n",
       "        vertical-align: middle;\n",
       "    }\n",
       "\n",
       "    .dataframe tbody tr th {\n",
       "        vertical-align: top;\n",
       "    }\n",
       "\n",
       "    .dataframe thead th {\n",
       "        text-align: right;\n",
       "    }\n",
       "</style>\n",
       "<table border=\"1\" class=\"dataframe\">\n",
       "  <thead>\n",
       "    <tr style=\"text-align: right;\">\n",
       "      <th></th>\n",
       "      <th>posting_id</th>\n",
       "      <th>image</th>\n",
       "      <th>image_phash</th>\n",
       "      <th>title</th>\n",
       "      <th>label_group</th>\n",
       "      <th>title_translate</th>\n",
       "      <th>title_cleaned</th>\n",
       "    </tr>\n",
       "  </thead>\n",
       "  <tbody>\n",
       "    <tr>\n",
       "      <th>0</th>\n",
       "      <td>train_129225211</td>\n",
       "      <td>0000a68812bc7e98c42888dfb1c07da0.jpg</td>\n",
       "      <td>94974f937d4c2433</td>\n",
       "      <td>Paper Bag Victoria Secret</td>\n",
       "      <td>249114794</td>\n",
       "      <td>Victoria's Secret Paper Bag</td>\n",
       "      <td>victorias secret paper bag</td>\n",
       "    </tr>\n",
       "    <tr>\n",
       "      <th>1</th>\n",
       "      <td>train_3386243561</td>\n",
       "      <td>00039780dfc94d01db8676fe789ecd05.jpg</td>\n",
       "      <td>af3f9460c2838f0f</td>\n",
       "      <td>Double Tape 3M VHB 12 mm x 4,5 m ORIGINAL / DO...</td>\n",
       "      <td>2937985045</td>\n",
       "      <td>Double Tape 3M VHB 12 mm x 4.5 m ORIGINAL / DO...</td>\n",
       "      <td>double tape vhb original double foam tape</td>\n",
       "    </tr>\n",
       "  </tbody>\n",
       "</table>\n",
       "</div>\n",
       "      <button class=\"colab-df-convert\" onclick=\"convertToInteractive('df-28b3ecbe-c0db-4e46-a5eb-5ffcc7531fef')\"\n",
       "              title=\"Convert this dataframe to an interactive table.\"\n",
       "              style=\"display:none;\">\n",
       "        \n",
       "  <svg xmlns=\"http://www.w3.org/2000/svg\" height=\"24px\"viewBox=\"0 0 24 24\"\n",
       "       width=\"24px\">\n",
       "    <path d=\"M0 0h24v24H0V0z\" fill=\"none\"/>\n",
       "    <path d=\"M18.56 5.44l.94 2.06.94-2.06 2.06-.94-2.06-.94-.94-2.06-.94 2.06-2.06.94zm-11 1L8.5 8.5l.94-2.06 2.06-.94-2.06-.94L8.5 2.5l-.94 2.06-2.06.94zm10 10l.94 2.06.94-2.06 2.06-.94-2.06-.94-.94-2.06-.94 2.06-2.06.94z\"/><path d=\"M17.41 7.96l-1.37-1.37c-.4-.4-.92-.59-1.43-.59-.52 0-1.04.2-1.43.59L10.3 9.45l-7.72 7.72c-.78.78-.78 2.05 0 2.83L4 21.41c.39.39.9.59 1.41.59.51 0 1.02-.2 1.41-.59l7.78-7.78 2.81-2.81c.8-.78.8-2.07 0-2.86zM5.41 20L4 18.59l7.72-7.72 1.47 1.35L5.41 20z\"/>\n",
       "  </svg>\n",
       "      </button>\n",
       "      \n",
       "  <style>\n",
       "    .colab-df-container {\n",
       "      display:flex;\n",
       "      flex-wrap:wrap;\n",
       "      gap: 12px;\n",
       "    }\n",
       "\n",
       "    .colab-df-convert {\n",
       "      background-color: #E8F0FE;\n",
       "      border: none;\n",
       "      border-radius: 50%;\n",
       "      cursor: pointer;\n",
       "      display: none;\n",
       "      fill: #1967D2;\n",
       "      height: 32px;\n",
       "      padding: 0 0 0 0;\n",
       "      width: 32px;\n",
       "    }\n",
       "\n",
       "    .colab-df-convert:hover {\n",
       "      background-color: #E2EBFA;\n",
       "      box-shadow: 0px 1px 2px rgba(60, 64, 67, 0.3), 0px 1px 3px 1px rgba(60, 64, 67, 0.15);\n",
       "      fill: #174EA6;\n",
       "    }\n",
       "\n",
       "    [theme=dark] .colab-df-convert {\n",
       "      background-color: #3B4455;\n",
       "      fill: #D2E3FC;\n",
       "    }\n",
       "\n",
       "    [theme=dark] .colab-df-convert:hover {\n",
       "      background-color: #434B5C;\n",
       "      box-shadow: 0px 1px 3px 1px rgba(0, 0, 0, 0.15);\n",
       "      filter: drop-shadow(0px 1px 2px rgba(0, 0, 0, 0.3));\n",
       "      fill: #FFFFFF;\n",
       "    }\n",
       "  </style>\n",
       "\n",
       "      <script>\n",
       "        const buttonEl =\n",
       "          document.querySelector('#df-28b3ecbe-c0db-4e46-a5eb-5ffcc7531fef button.colab-df-convert');\n",
       "        buttonEl.style.display =\n",
       "          google.colab.kernel.accessAllowed ? 'block' : 'none';\n",
       "\n",
       "        async function convertToInteractive(key) {\n",
       "          const element = document.querySelector('#df-28b3ecbe-c0db-4e46-a5eb-5ffcc7531fef');\n",
       "          const dataTable =\n",
       "            await google.colab.kernel.invokeFunction('convertToInteractive',\n",
       "                                                     [key], {});\n",
       "          if (!dataTable) return;\n",
       "\n",
       "          const docLinkHtml = 'Like what you see? Visit the ' +\n",
       "            '<a target=\"_blank\" href=https://colab.research.google.com/notebooks/data_table.ipynb>data table notebook</a>'\n",
       "            + ' to learn more about interactive tables.';\n",
       "          element.innerHTML = '';\n",
       "          dataTable['output_type'] = 'display_data';\n",
       "          await google.colab.output.renderOutput(dataTable, element);\n",
       "          const docLink = document.createElement('div');\n",
       "          docLink.innerHTML = docLinkHtml;\n",
       "          element.appendChild(docLink);\n",
       "        }\n",
       "      </script>\n",
       "    </div>\n",
       "  </div>\n",
       "  "
      ],
      "text/plain": [
       "         posting_id                                 image       image_phash  \\\n",
       "0   train_129225211  0000a68812bc7e98c42888dfb1c07da0.jpg  94974f937d4c2433   \n",
       "1  train_3386243561  00039780dfc94d01db8676fe789ecd05.jpg  af3f9460c2838f0f   \n",
       "\n",
       "                                               title  label_group  \\\n",
       "0                          Paper Bag Victoria Secret    249114794   \n",
       "1  Double Tape 3M VHB 12 mm x 4,5 m ORIGINAL / DO...   2937985045   \n",
       "\n",
       "                                     title_translate  \\\n",
       "0                        Victoria's Secret Paper Bag   \n",
       "1  Double Tape 3M VHB 12 mm x 4.5 m ORIGINAL / DO...   \n",
       "\n",
       "                               title_cleaned  \n",
       "0                 victorias secret paper bag  \n",
       "1  double tape vhb original double foam tape  "
      ]
     },
     "execution_count": 12,
     "metadata": {},
     "output_type": "execute_result"
    }
   ],
   "source": [
    "train.head(2)"
   ]
  },
  {
   "cell_type": "code",
   "execution_count": null,
   "metadata": {
    "colab": {
     "base_uri": "https://localhost:8080/",
     "height": 367
    },
    "executionInfo": {
     "elapsed": 25,
     "status": "ok",
     "timestamp": 1681680290275,
     "user": {
      "displayName": "Andrew Liu",
      "userId": "01750910414052279045"
     },
     "user_tz": 420
    },
    "id": "WykvjDgLdC2L",
    "outputId": "2391a580-b7f6-42a7-b880-4df90d171aea"
   },
   "outputs": [
    {
     "data": {
      "text/html": [
       "\n",
       "  <div id=\"df-1df1dc29-a32a-474b-904f-40e17b789dec\">\n",
       "    <div class=\"colab-df-container\">\n",
       "      <div>\n",
       "<style scoped>\n",
       "    .dataframe tbody tr th:only-of-type {\n",
       "        vertical-align: middle;\n",
       "    }\n",
       "\n",
       "    .dataframe tbody tr th {\n",
       "        vertical-align: top;\n",
       "    }\n",
       "\n",
       "    .dataframe thead th {\n",
       "        text-align: right;\n",
       "    }\n",
       "</style>\n",
       "<table border=\"1\" class=\"dataframe\">\n",
       "  <thead>\n",
       "    <tr style=\"text-align: right;\">\n",
       "      <th></th>\n",
       "      <th>posting_id</th>\n",
       "      <th>image</th>\n",
       "      <th>image_phash</th>\n",
       "      <th>title</th>\n",
       "      <th>label_group</th>\n",
       "      <th>title_translate</th>\n",
       "      <th>title_cleaned</th>\n",
       "    </tr>\n",
       "  </thead>\n",
       "  <tbody>\n",
       "    <tr>\n",
       "      <th>0</th>\n",
       "      <td>train_1003554842</td>\n",
       "      <td>560a5c3577fb22be2ac82c0e97558158.jpg</td>\n",
       "      <td>f3c78fce8c3050f0</td>\n",
       "      <td>Mustika  Ratu Minyak Cem-Ceman 175 ml</td>\n",
       "      <td>3044373336</td>\n",
       "      <td>Mustika Ratu Oil Cem-Ceman 175 ml</td>\n",
       "      <td>mustika ratu oil cemceman 175</td>\n",
       "    </tr>\n",
       "    <tr>\n",
       "      <th>1</th>\n",
       "      <td>train_523363809</td>\n",
       "      <td>dd1f14c7a734ff28b67062ae4f8529c6.jpg</td>\n",
       "      <td>af919a66c49d688b</td>\n",
       "      <td>Snobby Kelambu Box Bayi Snobby 1 Tiang KBX 1201</td>\n",
       "      <td>873493898</td>\n",
       "      <td>Snobby Baby Mosquito Net Snobby 1 Pole KBX 1201</td>\n",
       "      <td>snobby baby mosquito net snobby pole kbx 1201</td>\n",
       "    </tr>\n",
       "  </tbody>\n",
       "</table>\n",
       "</div>\n",
       "      <button class=\"colab-df-convert\" onclick=\"convertToInteractive('df-1df1dc29-a32a-474b-904f-40e17b789dec')\"\n",
       "              title=\"Convert this dataframe to an interactive table.\"\n",
       "              style=\"display:none;\">\n",
       "        \n",
       "  <svg xmlns=\"http://www.w3.org/2000/svg\" height=\"24px\"viewBox=\"0 0 24 24\"\n",
       "       width=\"24px\">\n",
       "    <path d=\"M0 0h24v24H0V0z\" fill=\"none\"/>\n",
       "    <path d=\"M18.56 5.44l.94 2.06.94-2.06 2.06-.94-2.06-.94-.94-2.06-.94 2.06-2.06.94zm-11 1L8.5 8.5l.94-2.06 2.06-.94-2.06-.94L8.5 2.5l-.94 2.06-2.06.94zm10 10l.94 2.06.94-2.06 2.06-.94-2.06-.94-.94-2.06-.94 2.06-2.06.94z\"/><path d=\"M17.41 7.96l-1.37-1.37c-.4-.4-.92-.59-1.43-.59-.52 0-1.04.2-1.43.59L10.3 9.45l-7.72 7.72c-.78.78-.78 2.05 0 2.83L4 21.41c.39.39.9.59 1.41.59.51 0 1.02-.2 1.41-.59l7.78-7.78 2.81-2.81c.8-.78.8-2.07 0-2.86zM5.41 20L4 18.59l7.72-7.72 1.47 1.35L5.41 20z\"/>\n",
       "  </svg>\n",
       "      </button>\n",
       "      \n",
       "  <style>\n",
       "    .colab-df-container {\n",
       "      display:flex;\n",
       "      flex-wrap:wrap;\n",
       "      gap: 12px;\n",
       "    }\n",
       "\n",
       "    .colab-df-convert {\n",
       "      background-color: #E8F0FE;\n",
       "      border: none;\n",
       "      border-radius: 50%;\n",
       "      cursor: pointer;\n",
       "      display: none;\n",
       "      fill: #1967D2;\n",
       "      height: 32px;\n",
       "      padding: 0 0 0 0;\n",
       "      width: 32px;\n",
       "    }\n",
       "\n",
       "    .colab-df-convert:hover {\n",
       "      background-color: #E2EBFA;\n",
       "      box-shadow: 0px 1px 2px rgba(60, 64, 67, 0.3), 0px 1px 3px 1px rgba(60, 64, 67, 0.15);\n",
       "      fill: #174EA6;\n",
       "    }\n",
       "\n",
       "    [theme=dark] .colab-df-convert {\n",
       "      background-color: #3B4455;\n",
       "      fill: #D2E3FC;\n",
       "    }\n",
       "\n",
       "    [theme=dark] .colab-df-convert:hover {\n",
       "      background-color: #434B5C;\n",
       "      box-shadow: 0px 1px 3px 1px rgba(0, 0, 0, 0.15);\n",
       "      filter: drop-shadow(0px 1px 2px rgba(0, 0, 0, 0.3));\n",
       "      fill: #FFFFFF;\n",
       "    }\n",
       "  </style>\n",
       "\n",
       "      <script>\n",
       "        const buttonEl =\n",
       "          document.querySelector('#df-1df1dc29-a32a-474b-904f-40e17b789dec button.colab-df-convert');\n",
       "        buttonEl.style.display =\n",
       "          google.colab.kernel.accessAllowed ? 'block' : 'none';\n",
       "\n",
       "        async function convertToInteractive(key) {\n",
       "          const element = document.querySelector('#df-1df1dc29-a32a-474b-904f-40e17b789dec');\n",
       "          const dataTable =\n",
       "            await google.colab.kernel.invokeFunction('convertToInteractive',\n",
       "                                                     [key], {});\n",
       "          if (!dataTable) return;\n",
       "\n",
       "          const docLinkHtml = 'Like what you see? Visit the ' +\n",
       "            '<a target=\"_blank\" href=https://colab.research.google.com/notebooks/data_table.ipynb>data table notebook</a>'\n",
       "            + ' to learn more about interactive tables.';\n",
       "          element.innerHTML = '';\n",
       "          dataTable['output_type'] = 'display_data';\n",
       "          await google.colab.output.renderOutput(dataTable, element);\n",
       "          const docLink = document.createElement('div');\n",
       "          docLink.innerHTML = docLinkHtml;\n",
       "          element.appendChild(docLink);\n",
       "        }\n",
       "      </script>\n",
       "    </div>\n",
       "  </div>\n",
       "  "
      ],
      "text/plain": [
       "         posting_id                                 image       image_phash  \\\n",
       "0  train_1003554842  560a5c3577fb22be2ac82c0e97558158.jpg  f3c78fce8c3050f0   \n",
       "1   train_523363809  dd1f14c7a734ff28b67062ae4f8529c6.jpg  af919a66c49d688b   \n",
       "\n",
       "                                             title  label_group  \\\n",
       "0            Mustika  Ratu Minyak Cem-Ceman 175 ml   3044373336   \n",
       "1  Snobby Kelambu Box Bayi Snobby 1 Tiang KBX 1201    873493898   \n",
       "\n",
       "                                   title_translate  \\\n",
       "0                Mustika Ratu Oil Cem-Ceman 175 ml   \n",
       "1  Snobby Baby Mosquito Net Snobby 1 Pole KBX 1201   \n",
       "\n",
       "                                   title_cleaned  \n",
       "0                  mustika ratu oil cemceman 175  \n",
       "1  snobby baby mosquito net snobby pole kbx 1201  "
      ]
     },
     "execution_count": 13,
     "metadata": {},
     "output_type": "execute_result"
    }
   ],
   "source": [
    "validate.head(2)"
   ]
  },
  {
   "cell_type": "markdown",
   "metadata": {
    "id": "qOnKSdqBGW-r"
   },
   "source": [
    "# Label encoding"
   ]
  },
  {
   "cell_type": "code",
   "execution_count": null,
   "metadata": {
    "colab": {
     "base_uri": "https://localhost:8080/"
    },
    "executionInfo": {
     "elapsed": 25,
     "status": "ok",
     "timestamp": 1681680290276,
     "user": {
      "displayName": "Andrew Liu",
      "userId": "01750910414052279045"
     },
     "user_tz": 420
    },
    "id": "_8B4vYcAdhh8",
    "outputId": "ded92226-0dfa-4ba4-fe4e-6974b0e6fc9e"
   },
   "outputs": [
    {
     "data": {
      "text/plain": [
       "(29603,)"
      ]
     },
     "execution_count": 14,
     "metadata": {},
     "output_type": "execute_result"
    }
   ],
   "source": [
    "# label pre-processing: convert to group then perform onehot encoding\n",
    "from sklearn.preprocessing import LabelEncoder \n",
    "le = LabelEncoder() \n",
    "\n",
    "# Convert labels to integers using LabelEncoder\n",
    "y_train = le.fit_transform(train['label_group'])\n",
    "y_train.shape"
   ]
  },
  {
   "cell_type": "code",
   "execution_count": null,
   "metadata": {
    "colab": {
     "base_uri": "https://localhost:8080/"
    },
    "executionInfo": {
     "elapsed": 23,
     "status": "ok",
     "timestamp": 1681680290277,
     "user": {
      "displayName": "Andrew Liu",
      "userId": "01750910414052279045"
     },
     "user_tz": 420
    },
    "id": "vuzRoxES_hA-",
    "outputId": "ee046d5c-9524-4fc3-d878-06203c14981a"
   },
   "outputs": [
    {
     "name": "stdout",
     "output_type": "stream",
     "text": [
      "       Encoded Label  Original Label\n",
      "0                  0          258047\n",
      "1                  1          297977\n",
      "2                  2          645628\n",
      "3                  3          801176\n",
      "4                  4          887886\n",
      "...              ...             ...\n",
      "11009          11009      4292154092\n",
      "11010          11010      4292520070\n",
      "11011          11011      4292939171\n",
      "11012          11012      4293276364\n",
      "11013          11013      4294197112\n",
      "\n",
      "[11014 rows x 2 columns]\n"
     ]
    }
   ],
   "source": [
    "# Create a mapping table between integer labels and their original string values\n",
    "label_mapping = {i: label for i, label in enumerate(le.classes_)}\n",
    "\n",
    "labels_map = {v: k for k, v in label_mapping.items()}\n",
    "\n",
    "# Convert the mapping table to a DataFrame\n",
    "label_mapping_df = pd.DataFrame(list(label_mapping.items()), columns=['Encoded Label', 'Original Label'])\n",
    "\n",
    "# Print the DataFrame\n",
    "print(label_mapping_df)"
   ]
  },
  {
   "cell_type": "code",
   "execution_count": null,
   "metadata": {
    "colab": {
     "base_uri": "https://localhost:8080/"
    },
    "executionInfo": {
     "elapsed": 21,
     "status": "ok",
     "timestamp": 1681680290278,
     "user": {
      "displayName": "Andrew Liu",
      "userId": "01750910414052279045"
     },
     "user_tz": 420
    },
    "id": "EJU3jGQ8zeNq",
    "outputId": "011795be-f775-4622-987b-c59e55431cf1"
   },
   "outputs": [
    {
     "data": {
      "text/plain": [
       "(4647,)"
      ]
     },
     "execution_count": 16,
     "metadata": {},
     "output_type": "execute_result"
    }
   ],
   "source": [
    "# Convert labels to integers using LabelEncoder\n",
    "y_val = le.fit_transform(validate['label_group'])\n",
    "\n",
    "# One-hot encode the labels using to_categorical\n",
    "y_val.shape"
   ]
  },
  {
   "cell_type": "markdown",
   "metadata": {
    "id": "Sp6OfqfGAizz"
   },
   "source": [
    "# Pre-processing"
   ]
  },
  {
   "cell_type": "code",
   "execution_count": 1,
   "metadata": {
    "executionInfo": {
     "elapsed": 1346,
     "status": "ok",
     "timestamp": 1681833364610,
     "user": {
      "displayName": "Andrew Liu",
      "userId": "01750910414052279045"
     },
     "user_tz": 420
    },
    "id": "B_GdGYIlBbF_"
   },
   "outputs": [],
   "source": [
    "from sklearn.feature_extraction.text import TfidfVectorizer"
   ]
  },
  {
   "cell_type": "code",
   "execution_count": null,
   "metadata": {
    "id": "TAOqu2jcIexG"
   },
   "outputs": [],
   "source": [
    "X_text_train = train['title_cleaned']\n",
    "X_text_val = validate['title_cleaned']\n",
    "\n",
    "# define the TfidfVectorizer to transform the text input\n",
    "tfidf = TfidfVectorizer()\n",
    "\n",
    "text_train = tfidf.fit_transform(X_text_train)\n",
    "df_train = pd.DataFrame(text_train.toarray())\n",
    "\n",
    "text_val = tfidf.transform(X_text_val)\n",
    "df_val = pd.DataFrame(text_val.toarray())"
   ]
  },
  {
   "cell_type": "code",
   "execution_count": null,
   "metadata": {
    "executionInfo": {
     "elapsed": 7,
     "status": "aborted",
     "timestamp": 1681833364612,
     "user": {
      "displayName": "Andrew Liu",
      "userId": "01750910414052279045"
     },
     "user_tz": 420
    },
    "id": "R5e78SyxhOlS"
   },
   "outputs": [],
   "source": [
    "text_train.shape"
   ]
  },
  {
   "cell_type": "code",
   "execution_count": null,
   "metadata": {
    "executionInfo": {
     "elapsed": 7,
     "status": "aborted",
     "timestamp": 1681833364613,
     "user": {
      "displayName": "Andrew Liu",
      "userId": "01750910414052279045"
     },
     "user_tz": 420
    },
    "id": "XxuDc-BShSt5"
   },
   "outputs": [],
   "source": [
    "text_val.shape"
   ]
  },
  {
   "cell_type": "markdown",
   "metadata": {
    "id": "hlGpFqk8dabd"
   },
   "source": [
    "# Apply PCA (Principle Component Analysis)"
   ]
  },
  {
   "cell_type": "code",
   "execution_count": null,
   "metadata": {
    "id": "N7-4Qps5gCnu"
   },
   "outputs": [],
   "source": [
    "from sklearn.preprocessing import StandardScaler\n",
    "scaler = StandardScaler()\n",
    "scaler.fit(df_train)\n",
    "train_scale = scaler.transform(df_train)\n",
    "val_scale = scaler.transform(df_val)"
   ]
  },
  {
   "cell_type": "code",
   "execution_count": null,
   "metadata": {
    "id": "lyxYB_EdcaOd"
   },
   "outputs": [],
   "source": [
    "from sklearn.decomposition import PCA\n",
    "pca = PCA(.95)\n",
    "pca.fit(train_scale)\n",
    "X_train = pca.transform(train_scale)\n",
    "X_val = pca.transform(val_scale) "
   ]
  },
  {
   "cell_type": "code",
   "execution_count": null,
   "metadata": {
    "colab": {
     "base_uri": "https://localhost:8080/"
    },
    "executionInfo": {
     "elapsed": 65,
     "status": "ok",
     "timestamp": 1681621448029,
     "user": {
      "displayName": "Andrew Liu",
      "userId": "01750910414052279045"
     },
     "user_tz": 420
    },
    "id": "KpEzDe0C0fwe",
    "outputId": "ff872730-e8b7-4887-80b1-16291faddff6"
   },
   "outputs": [
    {
     "data": {
      "text/plain": [
       "(29603, 13572)"
      ]
     },
     "execution_count": 23,
     "metadata": {},
     "output_type": "execute_result"
    }
   ],
   "source": [
    "X_train.shape"
   ]
  },
  {
   "cell_type": "code",
   "execution_count": null,
   "metadata": {
    "colab": {
     "base_uri": "https://localhost:8080/"
    },
    "executionInfo": {
     "elapsed": 22,
     "status": "ok",
     "timestamp": 1681621448030,
     "user": {
      "displayName": "Andrew Liu",
      "userId": "01750910414052279045"
     },
     "user_tz": 420
    },
    "id": "8TqTPkxd0jRy",
    "outputId": "ea1d2f53-fc39-4d9e-873c-47add8933c68"
   },
   "outputs": [
    {
     "data": {
      "text/plain": [
       "(4647, 13572)"
      ]
     },
     "execution_count": 24,
     "metadata": {},
     "output_type": "execute_result"
    }
   ],
   "source": [
    "X_val.shape"
   ]
  },
  {
   "cell_type": "code",
   "execution_count": null,
   "metadata": {
    "id": "8XUEICljc_4S"
   },
   "outputs": [],
   "source": [
    "train_df_out = pd.DataFrame(X_train)\n",
    "train_df_out.to_csv(\"X_train.csv\")"
   ]
  },
  {
   "cell_type": "code",
   "execution_count": null,
   "metadata": {
    "id": "Dg3s4LGEdRVr"
   },
   "outputs": [],
   "source": [
    "val_df_out = pd.DataFrame(X_val)\n",
    "val_df_out.to_csv(\"X_val.csv\")"
   ]
  },
  {
   "cell_type": "markdown",
   "metadata": {
    "id": "6Fl5G96_hpYA"
   },
   "source": [
    "# Modeling"
   ]
  },
  {
   "cell_type": "code",
   "execution_count": null,
   "metadata": {
    "colab": {
     "base_uri": "https://localhost:8080/",
     "height": 205
    },
    "executionInfo": {
     "elapsed": 215709,
     "status": "ok",
     "timestamp": 1681680505970,
     "user": {
      "displayName": "Andrew Liu",
      "userId": "01750910414052279045"
     },
     "user_tz": 420
    },
    "id": "1wIYaRgLdjvR",
    "outputId": "723f26eb-09ff-4eac-bb30-656be943ceed"
   },
   "outputs": [
    {
     "data": {
      "text/html": [
       "\n",
       "  <div id=\"df-ced29942-8846-466e-86af-90ec9cd202d3\">\n",
       "    <div class=\"colab-df-container\">\n",
       "      <div>\n",
       "<style scoped>\n",
       "    .dataframe tbody tr th:only-of-type {\n",
       "        vertical-align: middle;\n",
       "    }\n",
       "\n",
       "    .dataframe tbody tr th {\n",
       "        vertical-align: top;\n",
       "    }\n",
       "\n",
       "    .dataframe thead th {\n",
       "        text-align: right;\n",
       "    }\n",
       "</style>\n",
       "<table border=\"1\" class=\"dataframe\">\n",
       "  <thead>\n",
       "    <tr style=\"text-align: right;\">\n",
       "      <th></th>\n",
       "      <th>0</th>\n",
       "      <th>1</th>\n",
       "      <th>2</th>\n",
       "      <th>3</th>\n",
       "      <th>4</th>\n",
       "      <th>5</th>\n",
       "      <th>6</th>\n",
       "      <th>7</th>\n",
       "      <th>8</th>\n",
       "      <th>9</th>\n",
       "      <th>...</th>\n",
       "      <th>13562</th>\n",
       "      <th>13563</th>\n",
       "      <th>13564</th>\n",
       "      <th>13565</th>\n",
       "      <th>13566</th>\n",
       "      <th>13567</th>\n",
       "      <th>13568</th>\n",
       "      <th>13569</th>\n",
       "      <th>13570</th>\n",
       "      <th>13571</th>\n",
       "    </tr>\n",
       "  </thead>\n",
       "  <tbody>\n",
       "    <tr>\n",
       "      <th>0</th>\n",
       "      <td>-0.253422</td>\n",
       "      <td>-0.031177</td>\n",
       "      <td>-0.028640</td>\n",
       "      <td>-0.026968</td>\n",
       "      <td>-0.037289</td>\n",
       "      <td>-0.209858</td>\n",
       "      <td>-0.032230</td>\n",
       "      <td>-0.009957</td>\n",
       "      <td>-0.070927</td>\n",
       "      <td>-0.017181</td>\n",
       "      <td>...</td>\n",
       "      <td>0.424732</td>\n",
       "      <td>0.029016</td>\n",
       "      <td>0.038450</td>\n",
       "      <td>-0.343325</td>\n",
       "      <td>-0.242661</td>\n",
       "      <td>0.195032</td>\n",
       "      <td>-0.385963</td>\n",
       "      <td>-0.248100</td>\n",
       "      <td>-0.363485</td>\n",
       "      <td>0.160394</td>\n",
       "    </tr>\n",
       "    <tr>\n",
       "      <th>1</th>\n",
       "      <td>-0.277367</td>\n",
       "      <td>-0.035601</td>\n",
       "      <td>-0.036659</td>\n",
       "      <td>-0.019529</td>\n",
       "      <td>-0.047698</td>\n",
       "      <td>-0.229300</td>\n",
       "      <td>-0.034749</td>\n",
       "      <td>0.007430</td>\n",
       "      <td>-0.066559</td>\n",
       "      <td>-0.023683</td>\n",
       "      <td>...</td>\n",
       "      <td>-0.683380</td>\n",
       "      <td>-0.861281</td>\n",
       "      <td>0.452239</td>\n",
       "      <td>-0.773648</td>\n",
       "      <td>1.034412</td>\n",
       "      <td>0.102345</td>\n",
       "      <td>-0.392756</td>\n",
       "      <td>0.017074</td>\n",
       "      <td>-0.506227</td>\n",
       "      <td>0.060359</td>\n",
       "    </tr>\n",
       "  </tbody>\n",
       "</table>\n",
       "<p>2 rows × 13572 columns</p>\n",
       "</div>\n",
       "      <button class=\"colab-df-convert\" onclick=\"convertToInteractive('df-ced29942-8846-466e-86af-90ec9cd202d3')\"\n",
       "              title=\"Convert this dataframe to an interactive table.\"\n",
       "              style=\"display:none;\">\n",
       "        \n",
       "  <svg xmlns=\"http://www.w3.org/2000/svg\" height=\"24px\"viewBox=\"0 0 24 24\"\n",
       "       width=\"24px\">\n",
       "    <path d=\"M0 0h24v24H0V0z\" fill=\"none\"/>\n",
       "    <path d=\"M18.56 5.44l.94 2.06.94-2.06 2.06-.94-2.06-.94-.94-2.06-.94 2.06-2.06.94zm-11 1L8.5 8.5l.94-2.06 2.06-.94-2.06-.94L8.5 2.5l-.94 2.06-2.06.94zm10 10l.94 2.06.94-2.06 2.06-.94-2.06-.94-.94-2.06-.94 2.06-2.06.94z\"/><path d=\"M17.41 7.96l-1.37-1.37c-.4-.4-.92-.59-1.43-.59-.52 0-1.04.2-1.43.59L10.3 9.45l-7.72 7.72c-.78.78-.78 2.05 0 2.83L4 21.41c.39.39.9.59 1.41.59.51 0 1.02-.2 1.41-.59l7.78-7.78 2.81-2.81c.8-.78.8-2.07 0-2.86zM5.41 20L4 18.59l7.72-7.72 1.47 1.35L5.41 20z\"/>\n",
       "  </svg>\n",
       "      </button>\n",
       "      \n",
       "  <style>\n",
       "    .colab-df-container {\n",
       "      display:flex;\n",
       "      flex-wrap:wrap;\n",
       "      gap: 12px;\n",
       "    }\n",
       "\n",
       "    .colab-df-convert {\n",
       "      background-color: #E8F0FE;\n",
       "      border: none;\n",
       "      border-radius: 50%;\n",
       "      cursor: pointer;\n",
       "      display: none;\n",
       "      fill: #1967D2;\n",
       "      height: 32px;\n",
       "      padding: 0 0 0 0;\n",
       "      width: 32px;\n",
       "    }\n",
       "\n",
       "    .colab-df-convert:hover {\n",
       "      background-color: #E2EBFA;\n",
       "      box-shadow: 0px 1px 2px rgba(60, 64, 67, 0.3), 0px 1px 3px 1px rgba(60, 64, 67, 0.15);\n",
       "      fill: #174EA6;\n",
       "    }\n",
       "\n",
       "    [theme=dark] .colab-df-convert {\n",
       "      background-color: #3B4455;\n",
       "      fill: #D2E3FC;\n",
       "    }\n",
       "\n",
       "    [theme=dark] .colab-df-convert:hover {\n",
       "      background-color: #434B5C;\n",
       "      box-shadow: 0px 1px 3px 1px rgba(0, 0, 0, 0.15);\n",
       "      filter: drop-shadow(0px 1px 2px rgba(0, 0, 0, 0.3));\n",
       "      fill: #FFFFFF;\n",
       "    }\n",
       "  </style>\n",
       "\n",
       "      <script>\n",
       "        const buttonEl =\n",
       "          document.querySelector('#df-ced29942-8846-466e-86af-90ec9cd202d3 button.colab-df-convert');\n",
       "        buttonEl.style.display =\n",
       "          google.colab.kernel.accessAllowed ? 'block' : 'none';\n",
       "\n",
       "        async function convertToInteractive(key) {\n",
       "          const element = document.querySelector('#df-ced29942-8846-466e-86af-90ec9cd202d3');\n",
       "          const dataTable =\n",
       "            await google.colab.kernel.invokeFunction('convertToInteractive',\n",
       "                                                     [key], {});\n",
       "          if (!dataTable) return;\n",
       "\n",
       "          const docLinkHtml = 'Like what you see? Visit the ' +\n",
       "            '<a target=\"_blank\" href=https://colab.research.google.com/notebooks/data_table.ipynb>data table notebook</a>'\n",
       "            + ' to learn more about interactive tables.';\n",
       "          element.innerHTML = '';\n",
       "          dataTable['output_type'] = 'display_data';\n",
       "          await google.colab.output.renderOutput(dataTable, element);\n",
       "          const docLink = document.createElement('div');\n",
       "          docLink.innerHTML = docLinkHtml;\n",
       "          element.appendChild(docLink);\n",
       "        }\n",
       "      </script>\n",
       "    </div>\n",
       "  </div>\n",
       "  "
      ],
      "text/plain": [
       "          0         1         2         3         4         5         6  \\\n",
       "0 -0.253422 -0.031177 -0.028640 -0.026968 -0.037289 -0.209858 -0.032230   \n",
       "1 -0.277367 -0.035601 -0.036659 -0.019529 -0.047698 -0.229300 -0.034749   \n",
       "\n",
       "          7         8         9  ...     13562     13563     13564     13565  \\\n",
       "0 -0.009957 -0.070927 -0.017181  ...  0.424732  0.029016  0.038450 -0.343325   \n",
       "1  0.007430 -0.066559 -0.023683  ... -0.683380 -0.861281  0.452239 -0.773648   \n",
       "\n",
       "      13566     13567     13568     13569     13570     13571  \n",
       "0 -0.242661  0.195032 -0.385963 -0.248100 -0.363485  0.160394  \n",
       "1  1.034412  0.102345 -0.392756  0.017074 -0.506227  0.060359  \n",
       "\n",
       "[2 rows x 13572 columns]"
      ]
     },
     "execution_count": 17,
     "metadata": {},
     "output_type": "execute_result"
    }
   ],
   "source": [
    "X_train = pd.read_csv(\"X_train.csv\")\n",
    "X_train.drop(columns = \"Unnamed: 0\", inplace = True)\n",
    "X_train.head(2)"
   ]
  },
  {
   "cell_type": "code",
   "execution_count": null,
   "metadata": {
    "colab": {
     "base_uri": "https://localhost:8080/",
     "height": 205
    },
    "executionInfo": {
     "elapsed": 30520,
     "status": "ok",
     "timestamp": 1681680536484,
     "user": {
      "displayName": "Andrew Liu",
      "userId": "01750910414052279045"
     },
     "user_tz": 420
    },
    "id": "5mrbjWxRdqqJ",
    "outputId": "f9a35174-2ab8-40e9-817a-58452aad59c4"
   },
   "outputs": [
    {
     "data": {
      "text/html": [
       "\n",
       "  <div id=\"df-425c3b5f-f3be-4ec3-96ff-e7440e93f638\">\n",
       "    <div class=\"colab-df-container\">\n",
       "      <div>\n",
       "<style scoped>\n",
       "    .dataframe tbody tr th:only-of-type {\n",
       "        vertical-align: middle;\n",
       "    }\n",
       "\n",
       "    .dataframe tbody tr th {\n",
       "        vertical-align: top;\n",
       "    }\n",
       "\n",
       "    .dataframe thead th {\n",
       "        text-align: right;\n",
       "    }\n",
       "</style>\n",
       "<table border=\"1\" class=\"dataframe\">\n",
       "  <thead>\n",
       "    <tr style=\"text-align: right;\">\n",
       "      <th></th>\n",
       "      <th>0</th>\n",
       "      <th>1</th>\n",
       "      <th>2</th>\n",
       "      <th>3</th>\n",
       "      <th>4</th>\n",
       "      <th>5</th>\n",
       "      <th>6</th>\n",
       "      <th>7</th>\n",
       "      <th>8</th>\n",
       "      <th>9</th>\n",
       "      <th>...</th>\n",
       "      <th>13562</th>\n",
       "      <th>13563</th>\n",
       "      <th>13564</th>\n",
       "      <th>13565</th>\n",
       "      <th>13566</th>\n",
       "      <th>13567</th>\n",
       "      <th>13568</th>\n",
       "      <th>13569</th>\n",
       "      <th>13570</th>\n",
       "      <th>13571</th>\n",
       "    </tr>\n",
       "  </thead>\n",
       "  <tbody>\n",
       "    <tr>\n",
       "      <th>0</th>\n",
       "      <td>-0.285498</td>\n",
       "      <td>-0.037147</td>\n",
       "      <td>-0.033968</td>\n",
       "      <td>-0.030544</td>\n",
       "      <td>-0.042355</td>\n",
       "      <td>-0.245498</td>\n",
       "      <td>-0.039771</td>\n",
       "      <td>-0.010560</td>\n",
       "      <td>-0.081412</td>\n",
       "      <td>-0.021569</td>\n",
       "      <td>...</td>\n",
       "      <td>-0.389414</td>\n",
       "      <td>-0.519038</td>\n",
       "      <td>-0.127282</td>\n",
       "      <td>0.952183</td>\n",
       "      <td>-0.221430</td>\n",
       "      <td>1.010981</td>\n",
       "      <td>0.859436</td>\n",
       "      <td>-0.553723</td>\n",
       "      <td>0.222910</td>\n",
       "      <td>1.128213</td>\n",
       "    </tr>\n",
       "    <tr>\n",
       "      <th>1</th>\n",
       "      <td>-0.271178</td>\n",
       "      <td>-0.037590</td>\n",
       "      <td>-0.034202</td>\n",
       "      <td>-0.032166</td>\n",
       "      <td>-0.040076</td>\n",
       "      <td>-0.231526</td>\n",
       "      <td>-0.040037</td>\n",
       "      <td>-0.011772</td>\n",
       "      <td>-0.067312</td>\n",
       "      <td>-0.022284</td>\n",
       "      <td>...</td>\n",
       "      <td>0.796135</td>\n",
       "      <td>-2.014444</td>\n",
       "      <td>-0.720362</td>\n",
       "      <td>0.885356</td>\n",
       "      <td>1.175679</td>\n",
       "      <td>0.482628</td>\n",
       "      <td>-0.073147</td>\n",
       "      <td>-0.881133</td>\n",
       "      <td>-1.327702</td>\n",
       "      <td>0.005276</td>\n",
       "    </tr>\n",
       "  </tbody>\n",
       "</table>\n",
       "<p>2 rows × 13572 columns</p>\n",
       "</div>\n",
       "      <button class=\"colab-df-convert\" onclick=\"convertToInteractive('df-425c3b5f-f3be-4ec3-96ff-e7440e93f638')\"\n",
       "              title=\"Convert this dataframe to an interactive table.\"\n",
       "              style=\"display:none;\">\n",
       "        \n",
       "  <svg xmlns=\"http://www.w3.org/2000/svg\" height=\"24px\"viewBox=\"0 0 24 24\"\n",
       "       width=\"24px\">\n",
       "    <path d=\"M0 0h24v24H0V0z\" fill=\"none\"/>\n",
       "    <path d=\"M18.56 5.44l.94 2.06.94-2.06 2.06-.94-2.06-.94-.94-2.06-.94 2.06-2.06.94zm-11 1L8.5 8.5l.94-2.06 2.06-.94-2.06-.94L8.5 2.5l-.94 2.06-2.06.94zm10 10l.94 2.06.94-2.06 2.06-.94-2.06-.94-.94-2.06-.94 2.06-2.06.94z\"/><path d=\"M17.41 7.96l-1.37-1.37c-.4-.4-.92-.59-1.43-.59-.52 0-1.04.2-1.43.59L10.3 9.45l-7.72 7.72c-.78.78-.78 2.05 0 2.83L4 21.41c.39.39.9.59 1.41.59.51 0 1.02-.2 1.41-.59l7.78-7.78 2.81-2.81c.8-.78.8-2.07 0-2.86zM5.41 20L4 18.59l7.72-7.72 1.47 1.35L5.41 20z\"/>\n",
       "  </svg>\n",
       "      </button>\n",
       "      \n",
       "  <style>\n",
       "    .colab-df-container {\n",
       "      display:flex;\n",
       "      flex-wrap:wrap;\n",
       "      gap: 12px;\n",
       "    }\n",
       "\n",
       "    .colab-df-convert {\n",
       "      background-color: #E8F0FE;\n",
       "      border: none;\n",
       "      border-radius: 50%;\n",
       "      cursor: pointer;\n",
       "      display: none;\n",
       "      fill: #1967D2;\n",
       "      height: 32px;\n",
       "      padding: 0 0 0 0;\n",
       "      width: 32px;\n",
       "    }\n",
       "\n",
       "    .colab-df-convert:hover {\n",
       "      background-color: #E2EBFA;\n",
       "      box-shadow: 0px 1px 2px rgba(60, 64, 67, 0.3), 0px 1px 3px 1px rgba(60, 64, 67, 0.15);\n",
       "      fill: #174EA6;\n",
       "    }\n",
       "\n",
       "    [theme=dark] .colab-df-convert {\n",
       "      background-color: #3B4455;\n",
       "      fill: #D2E3FC;\n",
       "    }\n",
       "\n",
       "    [theme=dark] .colab-df-convert:hover {\n",
       "      background-color: #434B5C;\n",
       "      box-shadow: 0px 1px 3px 1px rgba(0, 0, 0, 0.15);\n",
       "      filter: drop-shadow(0px 1px 2px rgba(0, 0, 0, 0.3));\n",
       "      fill: #FFFFFF;\n",
       "    }\n",
       "  </style>\n",
       "\n",
       "      <script>\n",
       "        const buttonEl =\n",
       "          document.querySelector('#df-425c3b5f-f3be-4ec3-96ff-e7440e93f638 button.colab-df-convert');\n",
       "        buttonEl.style.display =\n",
       "          google.colab.kernel.accessAllowed ? 'block' : 'none';\n",
       "\n",
       "        async function convertToInteractive(key) {\n",
       "          const element = document.querySelector('#df-425c3b5f-f3be-4ec3-96ff-e7440e93f638');\n",
       "          const dataTable =\n",
       "            await google.colab.kernel.invokeFunction('convertToInteractive',\n",
       "                                                     [key], {});\n",
       "          if (!dataTable) return;\n",
       "\n",
       "          const docLinkHtml = 'Like what you see? Visit the ' +\n",
       "            '<a target=\"_blank\" href=https://colab.research.google.com/notebooks/data_table.ipynb>data table notebook</a>'\n",
       "            + ' to learn more about interactive tables.';\n",
       "          element.innerHTML = '';\n",
       "          dataTable['output_type'] = 'display_data';\n",
       "          await google.colab.output.renderOutput(dataTable, element);\n",
       "          const docLink = document.createElement('div');\n",
       "          docLink.innerHTML = docLinkHtml;\n",
       "          element.appendChild(docLink);\n",
       "        }\n",
       "      </script>\n",
       "    </div>\n",
       "  </div>\n",
       "  "
      ],
      "text/plain": [
       "          0         1         2         3         4         5         6  \\\n",
       "0 -0.285498 -0.037147 -0.033968 -0.030544 -0.042355 -0.245498 -0.039771   \n",
       "1 -0.271178 -0.037590 -0.034202 -0.032166 -0.040076 -0.231526 -0.040037   \n",
       "\n",
       "          7         8         9  ...     13562     13563     13564     13565  \\\n",
       "0 -0.010560 -0.081412 -0.021569  ... -0.389414 -0.519038 -0.127282  0.952183   \n",
       "1 -0.011772 -0.067312 -0.022284  ...  0.796135 -2.014444 -0.720362  0.885356   \n",
       "\n",
       "      13566     13567     13568     13569     13570     13571  \n",
       "0 -0.221430  1.010981  0.859436 -0.553723  0.222910  1.128213  \n",
       "1  1.175679  0.482628 -0.073147 -0.881133 -1.327702  0.005276  \n",
       "\n",
       "[2 rows x 13572 columns]"
      ]
     },
     "execution_count": 18,
     "metadata": {},
     "output_type": "execute_result"
    }
   ],
   "source": [
    "X_val = pd.read_csv(\"X_val.csv\")\n",
    "X_val.drop(columns = \"Unnamed: 0\", inplace = True)\n",
    "X_val.head(2)"
   ]
  },
  {
   "cell_type": "code",
   "execution_count": null,
   "metadata": {
    "id": "XqdTmu5DZeqM"
   },
   "outputs": [],
   "source": [
    "from sklearn.ensemble import RandomForestClassifier\n",
    "from sklearn.metrics import accuracy_score"
   ]
  },
  {
   "cell_type": "markdown",
   "metadata": {
    "id": "WShOMwE5toP1"
   },
   "source": [
    "## Attempt 1: Crashed after 8 hours and 8/10 trees built"
   ]
  },
  {
   "cell_type": "code",
   "execution_count": null,
   "metadata": {
    "colab": {
     "base_uri": "https://localhost:8080/"
    },
    "id": "EF14tc6-ROz4",
    "outputId": "26d74864-3e7f-4ecc-b4b0-31a8d6e9267b"
   },
   "outputs": [
    {
     "name": "stderr",
     "output_type": "stream",
     "text": [
      "[Parallel(n_jobs=-1)]: Using backend ThreadingBackend with 4 concurrent workers.\n"
     ]
    },
    {
     "name": "stdout",
     "output_type": "stream",
     "text": [
      "building tree 1 of 10\n",
      "building tree 2 of 10\n",
      "building tree 3 of 10\n",
      "building tree 4 of 10\n",
      "building tree 5 of 10\n",
      "building tree 6 of 10\n",
      "building tree 7 of 10\n",
      "building tree 8 of 10\n"
     ]
    }
   ],
   "source": [
    "rf = RandomForestClassifier(n_estimators = 10, max_depth = 1000, verbose = 5, n_jobs = -1)\n",
    "rf_model = rf.fit(X_train, y_train)"
   ]
  },
  {
   "cell_type": "code",
   "execution_count": null,
   "metadata": {
    "id": "4iSVUbJ3RP3v"
   },
   "outputs": [],
   "source": [
    "y_pred = rf_model.predict(X_val)\n",
    "accuracy = accuracy_score(y_val, y_pred)"
   ]
  },
  {
   "cell_type": "markdown",
   "metadata": {
    "id": "HXrxLVqgt9s1"
   },
   "source": [
    "## Attempt 2: Reduced dataset to 5000 columns"
   ]
  },
  {
   "cell_type": "code",
   "execution_count": null,
   "metadata": {
    "id": "yPJaI2ETuDFA"
   },
   "outputs": [],
   "source": [
    "X_train2 = X_train.iloc[:, :5000]\n",
    "X_val2 = X_val.iloc[:, :5000]"
   ]
  },
  {
   "cell_type": "code",
   "execution_count": null,
   "metadata": {
    "colab": {
     "base_uri": "https://localhost:8080/",
     "height": 299
    },
    "executionInfo": {
     "elapsed": 15,
     "status": "ok",
     "timestamp": 1681680537019,
     "user": {
      "displayName": "Andrew Liu",
      "userId": "01750910414052279045"
     },
     "user_tz": 420
    },
    "id": "AutuVMxZuqEF",
    "outputId": "d571997c-2382-4f92-fca5-ce1634833c95"
   },
   "outputs": [
    {
     "data": {
      "text/html": [
       "\n",
       "  <div id=\"df-34ba295c-1bf5-44a2-88d1-c220a7816be7\">\n",
       "    <div class=\"colab-df-container\">\n",
       "      <div>\n",
       "<style scoped>\n",
       "    .dataframe tbody tr th:only-of-type {\n",
       "        vertical-align: middle;\n",
       "    }\n",
       "\n",
       "    .dataframe tbody tr th {\n",
       "        vertical-align: top;\n",
       "    }\n",
       "\n",
       "    .dataframe thead th {\n",
       "        text-align: right;\n",
       "    }\n",
       "</style>\n",
       "<table border=\"1\" class=\"dataframe\">\n",
       "  <thead>\n",
       "    <tr style=\"text-align: right;\">\n",
       "      <th></th>\n",
       "      <th>0</th>\n",
       "      <th>1</th>\n",
       "      <th>2</th>\n",
       "      <th>3</th>\n",
       "      <th>4</th>\n",
       "      <th>5</th>\n",
       "      <th>6</th>\n",
       "      <th>7</th>\n",
       "      <th>8</th>\n",
       "      <th>9</th>\n",
       "      <th>...</th>\n",
       "      <th>4990</th>\n",
       "      <th>4991</th>\n",
       "      <th>4992</th>\n",
       "      <th>4993</th>\n",
       "      <th>4994</th>\n",
       "      <th>4995</th>\n",
       "      <th>4996</th>\n",
       "      <th>4997</th>\n",
       "      <th>4998</th>\n",
       "      <th>4999</th>\n",
       "    </tr>\n",
       "  </thead>\n",
       "  <tbody>\n",
       "    <tr>\n",
       "      <th>0</th>\n",
       "      <td>-0.253422</td>\n",
       "      <td>-0.031177</td>\n",
       "      <td>-0.028640</td>\n",
       "      <td>-0.026968</td>\n",
       "      <td>-0.037289</td>\n",
       "      <td>-0.209858</td>\n",
       "      <td>-0.032230</td>\n",
       "      <td>-0.009957</td>\n",
       "      <td>-0.070927</td>\n",
       "      <td>-0.017181</td>\n",
       "      <td>...</td>\n",
       "      <td>1.522785</td>\n",
       "      <td>-0.268626</td>\n",
       "      <td>0.996037</td>\n",
       "      <td>-0.338240</td>\n",
       "      <td>0.328293</td>\n",
       "      <td>-0.241916</td>\n",
       "      <td>-0.495560</td>\n",
       "      <td>-0.287368</td>\n",
       "      <td>0.007088</td>\n",
       "      <td>-0.287823</td>\n",
       "    </tr>\n",
       "    <tr>\n",
       "      <th>1</th>\n",
       "      <td>-0.277367</td>\n",
       "      <td>-0.035601</td>\n",
       "      <td>-0.036659</td>\n",
       "      <td>-0.019529</td>\n",
       "      <td>-0.047698</td>\n",
       "      <td>-0.229300</td>\n",
       "      <td>-0.034749</td>\n",
       "      <td>0.007430</td>\n",
       "      <td>-0.066559</td>\n",
       "      <td>-0.023683</td>\n",
       "      <td>...</td>\n",
       "      <td>0.372919</td>\n",
       "      <td>0.144309</td>\n",
       "      <td>0.105368</td>\n",
       "      <td>-0.000711</td>\n",
       "      <td>0.107727</td>\n",
       "      <td>0.049159</td>\n",
       "      <td>-0.113521</td>\n",
       "      <td>-0.022424</td>\n",
       "      <td>-0.192730</td>\n",
       "      <td>0.789605</td>\n",
       "    </tr>\n",
       "    <tr>\n",
       "      <th>2</th>\n",
       "      <td>-0.322093</td>\n",
       "      <td>-0.041445</td>\n",
       "      <td>-0.037522</td>\n",
       "      <td>-0.034789</td>\n",
       "      <td>-0.047873</td>\n",
       "      <td>-0.286515</td>\n",
       "      <td>-0.045221</td>\n",
       "      <td>-0.013196</td>\n",
       "      <td>-0.097433</td>\n",
       "      <td>-0.025667</td>\n",
       "      <td>...</td>\n",
       "      <td>-1.042580</td>\n",
       "      <td>-3.832689</td>\n",
       "      <td>0.586747</td>\n",
       "      <td>-0.264264</td>\n",
       "      <td>0.064350</td>\n",
       "      <td>0.188845</td>\n",
       "      <td>2.706882</td>\n",
       "      <td>2.412411</td>\n",
       "      <td>-0.345094</td>\n",
       "      <td>0.256879</td>\n",
       "    </tr>\n",
       "    <tr>\n",
       "      <th>3</th>\n",
       "      <td>-0.378518</td>\n",
       "      <td>-0.054549</td>\n",
       "      <td>-0.052149</td>\n",
       "      <td>-0.048437</td>\n",
       "      <td>-0.068742</td>\n",
       "      <td>-0.342469</td>\n",
       "      <td>-0.064422</td>\n",
       "      <td>-0.018635</td>\n",
       "      <td>-0.112161</td>\n",
       "      <td>-0.030143</td>\n",
       "      <td>...</td>\n",
       "      <td>0.487114</td>\n",
       "      <td>0.988579</td>\n",
       "      <td>-0.141452</td>\n",
       "      <td>1.207346</td>\n",
       "      <td>0.177311</td>\n",
       "      <td>-0.056699</td>\n",
       "      <td>0.371752</td>\n",
       "      <td>0.152829</td>\n",
       "      <td>-0.765678</td>\n",
       "      <td>1.201429</td>\n",
       "    </tr>\n",
       "    <tr>\n",
       "      <th>4</th>\n",
       "      <td>-0.255591</td>\n",
       "      <td>-0.030710</td>\n",
       "      <td>-0.028802</td>\n",
       "      <td>-0.026325</td>\n",
       "      <td>-0.035623</td>\n",
       "      <td>-0.215221</td>\n",
       "      <td>-0.030750</td>\n",
       "      <td>-0.010814</td>\n",
       "      <td>-0.068941</td>\n",
       "      <td>-0.017107</td>\n",
       "      <td>...</td>\n",
       "      <td>-0.587278</td>\n",
       "      <td>-2.963560</td>\n",
       "      <td>1.443044</td>\n",
       "      <td>-4.730629</td>\n",
       "      <td>-6.399069</td>\n",
       "      <td>0.152627</td>\n",
       "      <td>0.107068</td>\n",
       "      <td>7.361832</td>\n",
       "      <td>-3.695039</td>\n",
       "      <td>6.611881</td>\n",
       "    </tr>\n",
       "  </tbody>\n",
       "</table>\n",
       "<p>5 rows × 5000 columns</p>\n",
       "</div>\n",
       "      <button class=\"colab-df-convert\" onclick=\"convertToInteractive('df-34ba295c-1bf5-44a2-88d1-c220a7816be7')\"\n",
       "              title=\"Convert this dataframe to an interactive table.\"\n",
       "              style=\"display:none;\">\n",
       "        \n",
       "  <svg xmlns=\"http://www.w3.org/2000/svg\" height=\"24px\"viewBox=\"0 0 24 24\"\n",
       "       width=\"24px\">\n",
       "    <path d=\"M0 0h24v24H0V0z\" fill=\"none\"/>\n",
       "    <path d=\"M18.56 5.44l.94 2.06.94-2.06 2.06-.94-2.06-.94-.94-2.06-.94 2.06-2.06.94zm-11 1L8.5 8.5l.94-2.06 2.06-.94-2.06-.94L8.5 2.5l-.94 2.06-2.06.94zm10 10l.94 2.06.94-2.06 2.06-.94-2.06-.94-.94-2.06-.94 2.06-2.06.94z\"/><path d=\"M17.41 7.96l-1.37-1.37c-.4-.4-.92-.59-1.43-.59-.52 0-1.04.2-1.43.59L10.3 9.45l-7.72 7.72c-.78.78-.78 2.05 0 2.83L4 21.41c.39.39.9.59 1.41.59.51 0 1.02-.2 1.41-.59l7.78-7.78 2.81-2.81c.8-.78.8-2.07 0-2.86zM5.41 20L4 18.59l7.72-7.72 1.47 1.35L5.41 20z\"/>\n",
       "  </svg>\n",
       "      </button>\n",
       "      \n",
       "  <style>\n",
       "    .colab-df-container {\n",
       "      display:flex;\n",
       "      flex-wrap:wrap;\n",
       "      gap: 12px;\n",
       "    }\n",
       "\n",
       "    .colab-df-convert {\n",
       "      background-color: #E8F0FE;\n",
       "      border: none;\n",
       "      border-radius: 50%;\n",
       "      cursor: pointer;\n",
       "      display: none;\n",
       "      fill: #1967D2;\n",
       "      height: 32px;\n",
       "      padding: 0 0 0 0;\n",
       "      width: 32px;\n",
       "    }\n",
       "\n",
       "    .colab-df-convert:hover {\n",
       "      background-color: #E2EBFA;\n",
       "      box-shadow: 0px 1px 2px rgba(60, 64, 67, 0.3), 0px 1px 3px 1px rgba(60, 64, 67, 0.15);\n",
       "      fill: #174EA6;\n",
       "    }\n",
       "\n",
       "    [theme=dark] .colab-df-convert {\n",
       "      background-color: #3B4455;\n",
       "      fill: #D2E3FC;\n",
       "    }\n",
       "\n",
       "    [theme=dark] .colab-df-convert:hover {\n",
       "      background-color: #434B5C;\n",
       "      box-shadow: 0px 1px 3px 1px rgba(0, 0, 0, 0.15);\n",
       "      filter: drop-shadow(0px 1px 2px rgba(0, 0, 0, 0.3));\n",
       "      fill: #FFFFFF;\n",
       "    }\n",
       "  </style>\n",
       "\n",
       "      <script>\n",
       "        const buttonEl =\n",
       "          document.querySelector('#df-34ba295c-1bf5-44a2-88d1-c220a7816be7 button.colab-df-convert');\n",
       "        buttonEl.style.display =\n",
       "          google.colab.kernel.accessAllowed ? 'block' : 'none';\n",
       "\n",
       "        async function convertToInteractive(key) {\n",
       "          const element = document.querySelector('#df-34ba295c-1bf5-44a2-88d1-c220a7816be7');\n",
       "          const dataTable =\n",
       "            await google.colab.kernel.invokeFunction('convertToInteractive',\n",
       "                                                     [key], {});\n",
       "          if (!dataTable) return;\n",
       "\n",
       "          const docLinkHtml = 'Like what you see? Visit the ' +\n",
       "            '<a target=\"_blank\" href=https://colab.research.google.com/notebooks/data_table.ipynb>data table notebook</a>'\n",
       "            + ' to learn more about interactive tables.';\n",
       "          element.innerHTML = '';\n",
       "          dataTable['output_type'] = 'display_data';\n",
       "          await google.colab.output.renderOutput(dataTable, element);\n",
       "          const docLink = document.createElement('div');\n",
       "          docLink.innerHTML = docLinkHtml;\n",
       "          element.appendChild(docLink);\n",
       "        }\n",
       "      </script>\n",
       "    </div>\n",
       "  </div>\n",
       "  "
      ],
      "text/plain": [
       "          0         1         2         3         4         5         6  \\\n",
       "0 -0.253422 -0.031177 -0.028640 -0.026968 -0.037289 -0.209858 -0.032230   \n",
       "1 -0.277367 -0.035601 -0.036659 -0.019529 -0.047698 -0.229300 -0.034749   \n",
       "2 -0.322093 -0.041445 -0.037522 -0.034789 -0.047873 -0.286515 -0.045221   \n",
       "3 -0.378518 -0.054549 -0.052149 -0.048437 -0.068742 -0.342469 -0.064422   \n",
       "4 -0.255591 -0.030710 -0.028802 -0.026325 -0.035623 -0.215221 -0.030750   \n",
       "\n",
       "          7         8         9  ...      4990      4991      4992      4993  \\\n",
       "0 -0.009957 -0.070927 -0.017181  ...  1.522785 -0.268626  0.996037 -0.338240   \n",
       "1  0.007430 -0.066559 -0.023683  ...  0.372919  0.144309  0.105368 -0.000711   \n",
       "2 -0.013196 -0.097433 -0.025667  ... -1.042580 -3.832689  0.586747 -0.264264   \n",
       "3 -0.018635 -0.112161 -0.030143  ...  0.487114  0.988579 -0.141452  1.207346   \n",
       "4 -0.010814 -0.068941 -0.017107  ... -0.587278 -2.963560  1.443044 -4.730629   \n",
       "\n",
       "       4994      4995      4996      4997      4998      4999  \n",
       "0  0.328293 -0.241916 -0.495560 -0.287368  0.007088 -0.287823  \n",
       "1  0.107727  0.049159 -0.113521 -0.022424 -0.192730  0.789605  \n",
       "2  0.064350  0.188845  2.706882  2.412411 -0.345094  0.256879  \n",
       "3  0.177311 -0.056699  0.371752  0.152829 -0.765678  1.201429  \n",
       "4 -6.399069  0.152627  0.107068  7.361832 -3.695039  6.611881  \n",
       "\n",
       "[5 rows x 5000 columns]"
      ]
     },
     "execution_count": 21,
     "metadata": {},
     "output_type": "execute_result"
    }
   ],
   "source": [
    "X_train2.head()"
   ]
  },
  {
   "cell_type": "code",
   "execution_count": null,
   "metadata": {
    "colab": {
     "base_uri": "https://localhost:8080/"
    },
    "executionInfo": {
     "elapsed": 7673244,
     "status": "ok",
     "timestamp": 1681688210251,
     "user": {
      "displayName": "Andrew Liu",
      "userId": "01750910414052279045"
     },
     "user_tz": 420
    },
    "id": "ys4v75UhuDCX",
    "outputId": "4b1d1509-1394-4bb9-a902-c6754c46a4f1"
   },
   "outputs": [
    {
     "name": "stderr",
     "output_type": "stream",
     "text": [
      "[Parallel(n_jobs=-1)]: Using backend ThreadingBackend with 4 concurrent workers.\n"
     ]
    },
    {
     "name": "stdout",
     "output_type": "stream",
     "text": [
      "building tree 1 of 4\n",
      "building tree 2 of 4\n",
      "building tree 3 of 4\n",
      "building tree 4 of 4\n"
     ]
    },
    {
     "name": "stderr",
     "output_type": "stream",
     "text": [
      "[Parallel(n_jobs=-1)]: Done   2 out of   4 | elapsed: 111.9min remaining: 111.9min\n",
      "[Parallel(n_jobs=-1)]: Done   4 out of   4 | elapsed: 127.9min remaining:    0.0s\n",
      "[Parallel(n_jobs=-1)]: Done   4 out of   4 | elapsed: 127.9min finished\n"
     ]
    }
   ],
   "source": [
    "rf = RandomForestClassifier(n_estimators = 4, max_depth = 800, verbose = 5, n_jobs = -1)\n",
    "rf_model = rf.fit(X_train2, y_train)"
   ]
  },
  {
   "cell_type": "code",
   "execution_count": null,
   "metadata": {
    "colab": {
     "base_uri": "https://localhost:8080/"
    },
    "executionInfo": {
     "elapsed": 1855,
     "status": "ok",
     "timestamp": 1681688305495,
     "user": {
      "displayName": "Andrew Liu",
      "userId": "01750910414052279045"
     },
     "user_tz": 420
    },
    "id": "YuD-qAR8uT6e",
    "outputId": "a72d3c8d-c80b-448a-dc19-53012a92b679"
   },
   "outputs": [
    {
     "name": "stderr",
     "output_type": "stream",
     "text": [
      "[Parallel(n_jobs=4)]: Using backend ThreadingBackend with 4 concurrent workers.\n",
      "[Parallel(n_jobs=4)]: Done   2 out of   4 | elapsed:    1.1s remaining:    1.1s\n",
      "[Parallel(n_jobs=4)]: Done   4 out of   4 | elapsed:    1.3s remaining:    0.0s\n",
      "[Parallel(n_jobs=4)]: Done   4 out of   4 | elapsed:    1.3s finished\n"
     ]
    }
   ],
   "source": [
    "y_pred = rf_model.predict(X_val2)"
   ]
  },
  {
   "cell_type": "code",
   "execution_count": null,
   "metadata": {
    "colab": {
     "base_uri": "https://localhost:8080/"
    },
    "executionInfo": {
     "elapsed": 453,
     "status": "ok",
     "timestamp": 1681688340341,
     "user": {
      "displayName": "Andrew Liu",
      "userId": "01750910414052279045"
     },
     "user_tz": 420
    },
    "id": "Qh1bbFwCb4YB",
    "outputId": "f85964c9-db18-4c1e-8d32-186bb7cd659b"
   },
   "outputs": [
    {
     "data": {
      "text/plain": [
       "0.00021519259737465033"
      ]
     },
     "execution_count": 26,
     "metadata": {},
     "output_type": "execute_result"
    }
   ],
   "source": [
    "accuracy = accuracy_score(y_val, y_pred)\n",
    "accuracy"
   ]
  },
  {
   "cell_type": "markdown",
   "metadata": {
    "id": "7oRfbENSPP_a"
   },
   "source": [
    "# Best hyperparameters\n",
    "\n",
    "This is simply not practical due to how long it takes to build a single tree."
   ]
  },
  {
   "cell_type": "code",
   "execution_count": null,
   "metadata": {
    "id": "px8v6N6XPQWI"
   },
   "outputs": [],
   "source": [
    "from sklearn.model_selection import RepeatedKFold\n",
    "from sklearn.model_selection import GridSearchCV"
   ]
  },
  {
   "cell_type": "code",
   "execution_count": null,
   "metadata": {
    "id": "sB0BmqlIO5Dq"
   },
   "outputs": [],
   "source": [
    "param = {\n",
    "    'criterion': ['gini', 'entropy'], # log_loss and entropy are both for the Shannon information gain\n",
    "    'n_estimators': [50, 100, 150, 200],\n",
    "    'max_depth': ['none', 300]\n",
    "}\n",
    "\n",
    "rfc = RandomForestClassifier()\n",
    "cv = RepeatedKFold(n_splits=5, n_repeats=2, random_state=123) \n",
    "search_rfc = GridSearchCV(rfc, param, scoring='accuracy', n_jobs=-1, cv=cv) \n",
    "\n",
    "result_rfc = search_rfc.fit(text_train, y_train, verbose =5)\n",
    "\n",
    "# summarize result\n",
    "print('Best Score: %s' % result_rfc.best_score_)\n",
    "print('Best Hyperparameters: %s' % result_rfc.best_params_)"
   ]
  }
 ],
 "metadata": {
  "colab": {
   "collapsed_sections": [
    "Sp6OfqfGAizz",
    "hlGpFqk8dabd",
    "WShOMwE5toP1"
   ],
   "machine_shape": "hm",
   "provenance": []
  },
  "gpuClass": "premium",
  "kernelspec": {
   "display_name": "Python 3 (ipykernel)",
   "language": "python",
   "name": "python3"
  },
  "language_info": {
   "codemirror_mode": {
    "name": "ipython",
    "version": 3
   },
   "file_extension": ".py",
   "mimetype": "text/x-python",
   "name": "python",
   "nbconvert_exporter": "python",
   "pygments_lexer": "ipython3",
   "version": "3.11.4"
  }
 },
 "nbformat": 4,
 "nbformat_minor": 1
}
