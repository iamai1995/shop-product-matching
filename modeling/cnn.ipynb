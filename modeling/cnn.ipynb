{
 "cells": [
  {
   "cell_type": "markdown",
   "metadata": {
    "id": "ILLgPZOukXyS"
   },
   "source": [
    "# Import libraries"
   ]
  },
  {
   "cell_type": "code",
   "execution_count": null,
   "metadata": {
    "id": "MQArqUApwa8Z"
   },
   "outputs": [],
   "source": [
    "#import library\n",
    "import tensorflow as tf\n",
    "from tensorflow.keras import layers, Model\n",
    "from tensorflow.keras.layers import Input, Dense, Flatten, Conv2D, MaxPooling2D, concatenate, Dropout\n",
    "\n",
    "from sklearn.model_selection import train_test_split\n",
    "\n",
    "# sets the execution mode to \"eager\" mode. Useful for small experimentation. \n",
    "# TensorFlow immediately evaluates operations and returns concrete values\n",
    "# instead of constructing a computation graph to run later in a session. \n",
    "# This means that you can run TensorFlow operations and functions imperatively, \n",
    "tf.config.run_functions_eagerly(True)\n",
    "\n",
    "import pandas as pd\n",
    "import numpy as np\n",
    "from PIL import Image\n",
    "import matplotlib.pyplot as plt\n",
    "%matplotlib inline"
   ]
  },
  {
   "cell_type": "markdown",
   "metadata": {
    "id": "mO7DpSaPHfJq"
   },
   "source": [
    "# Load data\n",
    "\n",
    "We wish to specify the data types of each column in the DataFrame. We create a dictionary that maps each numeric column to the numpy.uint8 data type. This helps the conversion of array to images. \n",
    "\n",
    "We set the engine to \"c\" because it's faster and the data type is simple. We don't need the full python engine."
   ]
  },
  {
   "cell_type": "code",
   "execution_count": null,
   "metadata": {
    "id": "Brw4S_EKsFwQ"
   },
   "outputs": [],
   "source": [
    "img_df = pd.read_csv(\"images_train.csv\")"
   ]
  },
  {
   "cell_type": "code",
   "execution_count": null,
   "metadata": {
    "id": "Y7IVQyZqbj43"
   },
   "outputs": [],
   "source": [
    "img_df_val = pd.read_csv(\"images_validation.csv\")"
   ]
  },
  {
   "cell_type": "code",
   "execution_count": null,
   "metadata": {
    "colab": {
     "base_uri": "https://localhost:8080/",
     "height": 222
    },
    "executionInfo": {
     "elapsed": 27,
     "status": "ok",
     "timestamp": 1681792961401,
     "user": {
      "displayName": "Andrew Liu",
      "userId": "01750910414052279045"
     },
     "user_tz": 420
    },
    "id": "ELNazXw7HmOy",
    "outputId": "358415cc-fc63-40a6-a5e3-a39174652c40"
   },
   "outputs": [
    {
     "data": {
      "text/html": [
       "\n",
       "  <div id=\"df-aa92a0cd-0e05-48a1-9abb-ca6167e0665e\">\n",
       "    <div class=\"colab-df-container\">\n",
       "      <div>\n",
       "<style scoped>\n",
       "    .dataframe tbody tr th:only-of-type {\n",
       "        vertical-align: middle;\n",
       "    }\n",
       "\n",
       "    .dataframe tbody tr th {\n",
       "        vertical-align: top;\n",
       "    }\n",
       "\n",
       "    .dataframe thead th {\n",
       "        text-align: right;\n",
       "    }\n",
       "</style>\n",
       "<table border=\"1\" class=\"dataframe\">\n",
       "  <thead>\n",
       "    <tr style=\"text-align: right;\">\n",
       "      <th></th>\n",
       "      <th>Unnamed: 0</th>\n",
       "      <th>label_group</th>\n",
       "      <th>image</th>\n",
       "      <th>0</th>\n",
       "      <th>1</th>\n",
       "      <th>2</th>\n",
       "      <th>3</th>\n",
       "      <th>4</th>\n",
       "      <th>5</th>\n",
       "      <th>6</th>\n",
       "      <th>...</th>\n",
       "      <th>12278</th>\n",
       "      <th>12279</th>\n",
       "      <th>12280</th>\n",
       "      <th>12281</th>\n",
       "      <th>12282</th>\n",
       "      <th>12283</th>\n",
       "      <th>12284</th>\n",
       "      <th>12285</th>\n",
       "      <th>12286</th>\n",
       "      <th>12287</th>\n",
       "    </tr>\n",
       "  </thead>\n",
       "  <tbody>\n",
       "    <tr>\n",
       "      <th>0</th>\n",
       "      <td>0</td>\n",
       "      <td>249114794</td>\n",
       "      <td>0000a68812bc7e98c42888dfb1c07da0.jpg</td>\n",
       "      <td>143</td>\n",
       "      <td>73</td>\n",
       "      <td>83</td>\n",
       "      <td>150</td>\n",
       "      <td>85</td>\n",
       "      <td>95</td>\n",
       "      <td>153</td>\n",
       "      <td>...</td>\n",
       "      <td>142</td>\n",
       "      <td>194</td>\n",
       "      <td>116</td>\n",
       "      <td>134</td>\n",
       "      <td>191</td>\n",
       "      <td>111</td>\n",
       "      <td>129</td>\n",
       "      <td>193</td>\n",
       "      <td>122</td>\n",
       "      <td>143</td>\n",
       "    </tr>\n",
       "    <tr>\n",
       "      <th>1</th>\n",
       "      <td>1</td>\n",
       "      <td>2937985045</td>\n",
       "      <td>00039780dfc94d01db8676fe789ecd05.jpg</td>\n",
       "      <td>255</td>\n",
       "      <td>255</td>\n",
       "      <td>255</td>\n",
       "      <td>255</td>\n",
       "      <td>255</td>\n",
       "      <td>255</td>\n",
       "      <td>255</td>\n",
       "      <td>...</td>\n",
       "      <td>255</td>\n",
       "      <td>255</td>\n",
       "      <td>255</td>\n",
       "      <td>255</td>\n",
       "      <td>255</td>\n",
       "      <td>255</td>\n",
       "      <td>255</td>\n",
       "      <td>255</td>\n",
       "      <td>255</td>\n",
       "      <td>255</td>\n",
       "    </tr>\n",
       "  </tbody>\n",
       "</table>\n",
       "<p>2 rows × 12291 columns</p>\n",
       "</div>\n",
       "      <button class=\"colab-df-convert\" onclick=\"convertToInteractive('df-aa92a0cd-0e05-48a1-9abb-ca6167e0665e')\"\n",
       "              title=\"Convert this dataframe to an interactive table.\"\n",
       "              style=\"display:none;\">\n",
       "        \n",
       "  <svg xmlns=\"http://www.w3.org/2000/svg\" height=\"24px\"viewBox=\"0 0 24 24\"\n",
       "       width=\"24px\">\n",
       "    <path d=\"M0 0h24v24H0V0z\" fill=\"none\"/>\n",
       "    <path d=\"M18.56 5.44l.94 2.06.94-2.06 2.06-.94-2.06-.94-.94-2.06-.94 2.06-2.06.94zm-11 1L8.5 8.5l.94-2.06 2.06-.94-2.06-.94L8.5 2.5l-.94 2.06-2.06.94zm10 10l.94 2.06.94-2.06 2.06-.94-2.06-.94-.94-2.06-.94 2.06-2.06.94z\"/><path d=\"M17.41 7.96l-1.37-1.37c-.4-.4-.92-.59-1.43-.59-.52 0-1.04.2-1.43.59L10.3 9.45l-7.72 7.72c-.78.78-.78 2.05 0 2.83L4 21.41c.39.39.9.59 1.41.59.51 0 1.02-.2 1.41-.59l7.78-7.78 2.81-2.81c.8-.78.8-2.07 0-2.86zM5.41 20L4 18.59l7.72-7.72 1.47 1.35L5.41 20z\"/>\n",
       "  </svg>\n",
       "      </button>\n",
       "      \n",
       "  <style>\n",
       "    .colab-df-container {\n",
       "      display:flex;\n",
       "      flex-wrap:wrap;\n",
       "      gap: 12px;\n",
       "    }\n",
       "\n",
       "    .colab-df-convert {\n",
       "      background-color: #E8F0FE;\n",
       "      border: none;\n",
       "      border-radius: 50%;\n",
       "      cursor: pointer;\n",
       "      display: none;\n",
       "      fill: #1967D2;\n",
       "      height: 32px;\n",
       "      padding: 0 0 0 0;\n",
       "      width: 32px;\n",
       "    }\n",
       "\n",
       "    .colab-df-convert:hover {\n",
       "      background-color: #E2EBFA;\n",
       "      box-shadow: 0px 1px 2px rgba(60, 64, 67, 0.3), 0px 1px 3px 1px rgba(60, 64, 67, 0.15);\n",
       "      fill: #174EA6;\n",
       "    }\n",
       "\n",
       "    [theme=dark] .colab-df-convert {\n",
       "      background-color: #3B4455;\n",
       "      fill: #D2E3FC;\n",
       "    }\n",
       "\n",
       "    [theme=dark] .colab-df-convert:hover {\n",
       "      background-color: #434B5C;\n",
       "      box-shadow: 0px 1px 3px 1px rgba(0, 0, 0, 0.15);\n",
       "      filter: drop-shadow(0px 1px 2px rgba(0, 0, 0, 0.3));\n",
       "      fill: #FFFFFF;\n",
       "    }\n",
       "  </style>\n",
       "\n",
       "      <script>\n",
       "        const buttonEl =\n",
       "          document.querySelector('#df-aa92a0cd-0e05-48a1-9abb-ca6167e0665e button.colab-df-convert');\n",
       "        buttonEl.style.display =\n",
       "          google.colab.kernel.accessAllowed ? 'block' : 'none';\n",
       "\n",
       "        async function convertToInteractive(key) {\n",
       "          const element = document.querySelector('#df-aa92a0cd-0e05-48a1-9abb-ca6167e0665e');\n",
       "          const dataTable =\n",
       "            await google.colab.kernel.invokeFunction('convertToInteractive',\n",
       "                                                     [key], {});\n",
       "          if (!dataTable) return;\n",
       "\n",
       "          const docLinkHtml = 'Like what you see? Visit the ' +\n",
       "            '<a target=\"_blank\" href=https://colab.research.google.com/notebooks/data_table.ipynb>data table notebook</a>'\n",
       "            + ' to learn more about interactive tables.';\n",
       "          element.innerHTML = '';\n",
       "          dataTable['output_type'] = 'display_data';\n",
       "          await google.colab.output.renderOutput(dataTable, element);\n",
       "          const docLink = document.createElement('div');\n",
       "          docLink.innerHTML = docLinkHtml;\n",
       "          element.appendChild(docLink);\n",
       "        }\n",
       "      </script>\n",
       "    </div>\n",
       "  </div>\n",
       "  "
      ],
      "text/plain": [
       "   Unnamed: 0  label_group                                 image    0    1  \\\n",
       "0           0    249114794  0000a68812bc7e98c42888dfb1c07da0.jpg  143   73   \n",
       "1           1   2937985045  00039780dfc94d01db8676fe789ecd05.jpg  255  255   \n",
       "\n",
       "     2    3    4    5    6  ...  12278  12279  12280  12281  12282  12283  \\\n",
       "0   83  150   85   95  153  ...    142    194    116    134    191    111   \n",
       "1  255  255  255  255  255  ...    255    255    255    255    255    255   \n",
       "\n",
       "   12284  12285  12286  12287  \n",
       "0    129    193    122    143  \n",
       "1    255    255    255    255  \n",
       "\n",
       "[2 rows x 12291 columns]"
      ]
     },
     "execution_count": 6,
     "metadata": {},
     "output_type": "execute_result"
    }
   ],
   "source": [
    "img_df.head(2)"
   ]
  },
  {
   "cell_type": "code",
   "execution_count": null,
   "metadata": {
    "colab": {
     "base_uri": "https://localhost:8080/",
     "height": 222
    },
    "executionInfo": {
     "elapsed": 398,
     "status": "ok",
     "timestamp": 1681792961791,
     "user": {
      "displayName": "Andrew Liu",
      "userId": "01750910414052279045"
     },
     "user_tz": 420
    },
    "id": "V-OWQaArbpM-",
    "outputId": "0314d8dc-9dd8-4709-8727-518f6d660fc5"
   },
   "outputs": [
    {
     "data": {
      "text/html": [
       "\n",
       "  <div id=\"df-696daa12-3069-472f-8268-45b6d676dbe7\">\n",
       "    <div class=\"colab-df-container\">\n",
       "      <div>\n",
       "<style scoped>\n",
       "    .dataframe tbody tr th:only-of-type {\n",
       "        vertical-align: middle;\n",
       "    }\n",
       "\n",
       "    .dataframe tbody tr th {\n",
       "        vertical-align: top;\n",
       "    }\n",
       "\n",
       "    .dataframe thead th {\n",
       "        text-align: right;\n",
       "    }\n",
       "</style>\n",
       "<table border=\"1\" class=\"dataframe\">\n",
       "  <thead>\n",
       "    <tr style=\"text-align: right;\">\n",
       "      <th></th>\n",
       "      <th>Unnamed: 0</th>\n",
       "      <th>label_group</th>\n",
       "      <th>image</th>\n",
       "      <th>0</th>\n",
       "      <th>1</th>\n",
       "      <th>2</th>\n",
       "      <th>3</th>\n",
       "      <th>4</th>\n",
       "      <th>5</th>\n",
       "      <th>6</th>\n",
       "      <th>...</th>\n",
       "      <th>12278</th>\n",
       "      <th>12279</th>\n",
       "      <th>12280</th>\n",
       "      <th>12281</th>\n",
       "      <th>12282</th>\n",
       "      <th>12283</th>\n",
       "      <th>12284</th>\n",
       "      <th>12285</th>\n",
       "      <th>12286</th>\n",
       "      <th>12287</th>\n",
       "    </tr>\n",
       "  </thead>\n",
       "  <tbody>\n",
       "    <tr>\n",
       "      <th>0</th>\n",
       "      <td>11443</td>\n",
       "      <td>3044373336</td>\n",
       "      <td>560a5c3577fb22be2ac82c0e97558158.jpg</td>\n",
       "      <td>255</td>\n",
       "      <td>255</td>\n",
       "      <td>255</td>\n",
       "      <td>255</td>\n",
       "      <td>255</td>\n",
       "      <td>255</td>\n",
       "      <td>255</td>\n",
       "      <td>...</td>\n",
       "      <td>255</td>\n",
       "      <td>255</td>\n",
       "      <td>255</td>\n",
       "      <td>255</td>\n",
       "      <td>255</td>\n",
       "      <td>255</td>\n",
       "      <td>255</td>\n",
       "      <td>255</td>\n",
       "      <td>255</td>\n",
       "      <td>255</td>\n",
       "    </tr>\n",
       "    <tr>\n",
       "      <th>1</th>\n",
       "      <td>29516</td>\n",
       "      <td>873493898</td>\n",
       "      <td>dd1f14c7a734ff28b67062ae4f8529c6.jpg</td>\n",
       "      <td>255</td>\n",
       "      <td>255</td>\n",
       "      <td>255</td>\n",
       "      <td>255</td>\n",
       "      <td>255</td>\n",
       "      <td>255</td>\n",
       "      <td>255</td>\n",
       "      <td>...</td>\n",
       "      <td>255</td>\n",
       "      <td>255</td>\n",
       "      <td>255</td>\n",
       "      <td>255</td>\n",
       "      <td>255</td>\n",
       "      <td>255</td>\n",
       "      <td>255</td>\n",
       "      <td>255</td>\n",
       "      <td>255</td>\n",
       "      <td>255</td>\n",
       "    </tr>\n",
       "  </tbody>\n",
       "</table>\n",
       "<p>2 rows × 12291 columns</p>\n",
       "</div>\n",
       "      <button class=\"colab-df-convert\" onclick=\"convertToInteractive('df-696daa12-3069-472f-8268-45b6d676dbe7')\"\n",
       "              title=\"Convert this dataframe to an interactive table.\"\n",
       "              style=\"display:none;\">\n",
       "        \n",
       "  <svg xmlns=\"http://www.w3.org/2000/svg\" height=\"24px\"viewBox=\"0 0 24 24\"\n",
       "       width=\"24px\">\n",
       "    <path d=\"M0 0h24v24H0V0z\" fill=\"none\"/>\n",
       "    <path d=\"M18.56 5.44l.94 2.06.94-2.06 2.06-.94-2.06-.94-.94-2.06-.94 2.06-2.06.94zm-11 1L8.5 8.5l.94-2.06 2.06-.94-2.06-.94L8.5 2.5l-.94 2.06-2.06.94zm10 10l.94 2.06.94-2.06 2.06-.94-2.06-.94-.94-2.06-.94 2.06-2.06.94z\"/><path d=\"M17.41 7.96l-1.37-1.37c-.4-.4-.92-.59-1.43-.59-.52 0-1.04.2-1.43.59L10.3 9.45l-7.72 7.72c-.78.78-.78 2.05 0 2.83L4 21.41c.39.39.9.59 1.41.59.51 0 1.02-.2 1.41-.59l7.78-7.78 2.81-2.81c.8-.78.8-2.07 0-2.86zM5.41 20L4 18.59l7.72-7.72 1.47 1.35L5.41 20z\"/>\n",
       "  </svg>\n",
       "      </button>\n",
       "      \n",
       "  <style>\n",
       "    .colab-df-container {\n",
       "      display:flex;\n",
       "      flex-wrap:wrap;\n",
       "      gap: 12px;\n",
       "    }\n",
       "\n",
       "    .colab-df-convert {\n",
       "      background-color: #E8F0FE;\n",
       "      border: none;\n",
       "      border-radius: 50%;\n",
       "      cursor: pointer;\n",
       "      display: none;\n",
       "      fill: #1967D2;\n",
       "      height: 32px;\n",
       "      padding: 0 0 0 0;\n",
       "      width: 32px;\n",
       "    }\n",
       "\n",
       "    .colab-df-convert:hover {\n",
       "      background-color: #E2EBFA;\n",
       "      box-shadow: 0px 1px 2px rgba(60, 64, 67, 0.3), 0px 1px 3px 1px rgba(60, 64, 67, 0.15);\n",
       "      fill: #174EA6;\n",
       "    }\n",
       "\n",
       "    [theme=dark] .colab-df-convert {\n",
       "      background-color: #3B4455;\n",
       "      fill: #D2E3FC;\n",
       "    }\n",
       "\n",
       "    [theme=dark] .colab-df-convert:hover {\n",
       "      background-color: #434B5C;\n",
       "      box-shadow: 0px 1px 3px 1px rgba(0, 0, 0, 0.15);\n",
       "      filter: drop-shadow(0px 1px 2px rgba(0, 0, 0, 0.3));\n",
       "      fill: #FFFFFF;\n",
       "    }\n",
       "  </style>\n",
       "\n",
       "      <script>\n",
       "        const buttonEl =\n",
       "          document.querySelector('#df-696daa12-3069-472f-8268-45b6d676dbe7 button.colab-df-convert');\n",
       "        buttonEl.style.display =\n",
       "          google.colab.kernel.accessAllowed ? 'block' : 'none';\n",
       "\n",
       "        async function convertToInteractive(key) {\n",
       "          const element = document.querySelector('#df-696daa12-3069-472f-8268-45b6d676dbe7');\n",
       "          const dataTable =\n",
       "            await google.colab.kernel.invokeFunction('convertToInteractive',\n",
       "                                                     [key], {});\n",
       "          if (!dataTable) return;\n",
       "\n",
       "          const docLinkHtml = 'Like what you see? Visit the ' +\n",
       "            '<a target=\"_blank\" href=https://colab.research.google.com/notebooks/data_table.ipynb>data table notebook</a>'\n",
       "            + ' to learn more about interactive tables.';\n",
       "          element.innerHTML = '';\n",
       "          dataTable['output_type'] = 'display_data';\n",
       "          await google.colab.output.renderOutput(dataTable, element);\n",
       "          const docLink = document.createElement('div');\n",
       "          docLink.innerHTML = docLinkHtml;\n",
       "          element.appendChild(docLink);\n",
       "        }\n",
       "      </script>\n",
       "    </div>\n",
       "  </div>\n",
       "  "
      ],
      "text/plain": [
       "   Unnamed: 0  label_group                                 image    0    1  \\\n",
       "0       11443   3044373336  560a5c3577fb22be2ac82c0e97558158.jpg  255  255   \n",
       "1       29516    873493898  dd1f14c7a734ff28b67062ae4f8529c6.jpg  255  255   \n",
       "\n",
       "     2    3    4    5    6  ...  12278  12279  12280  12281  12282  12283  \\\n",
       "0  255  255  255  255  255  ...    255    255    255    255    255    255   \n",
       "1  255  255  255  255  255  ...    255    255    255    255    255    255   \n",
       "\n",
       "   12284  12285  12286  12287  \n",
       "0    255    255    255    255  \n",
       "1    255    255    255    255  \n",
       "\n",
       "[2 rows x 12291 columns]"
      ]
     },
     "execution_count": 7,
     "metadata": {},
     "output_type": "execute_result"
    }
   ],
   "source": [
    "img_df_val.head(2)"
   ]
  },
  {
   "cell_type": "code",
   "execution_count": null,
   "metadata": {
    "id": "Jw80Ro99JTi9"
   },
   "outputs": [],
   "source": [
    "# Getting the numeric values for images\n",
    "\n",
    "X = img_df.iloc[:,3:]\n",
    "X_rows = img_df.shape[0]\n",
    "\n",
    "X_val = img_df_val.iloc[:,3:]\n",
    "X_rows_val = img_df_val.shape[0]"
   ]
  },
  {
   "cell_type": "code",
   "execution_count": null,
   "metadata": {
    "colab": {
     "base_uri": "https://localhost:8080/",
     "height": 205
    },
    "executionInfo": {
     "elapsed": 23,
     "status": "ok",
     "timestamp": 1681792962218,
     "user": {
      "displayName": "Andrew Liu",
      "userId": "01750910414052279045"
     },
     "user_tz": 420
    },
    "id": "7whvGI1Mb0lS",
    "outputId": "dcdc9ec3-c5eb-46f1-b3a3-784791bb06c9"
   },
   "outputs": [
    {
     "data": {
      "text/html": [
       "\n",
       "  <div id=\"df-454ee5c9-f6c1-46fa-8320-e429d4713933\">\n",
       "    <div class=\"colab-df-container\">\n",
       "      <div>\n",
       "<style scoped>\n",
       "    .dataframe tbody tr th:only-of-type {\n",
       "        vertical-align: middle;\n",
       "    }\n",
       "\n",
       "    .dataframe tbody tr th {\n",
       "        vertical-align: top;\n",
       "    }\n",
       "\n",
       "    .dataframe thead th {\n",
       "        text-align: right;\n",
       "    }\n",
       "</style>\n",
       "<table border=\"1\" class=\"dataframe\">\n",
       "  <thead>\n",
       "    <tr style=\"text-align: right;\">\n",
       "      <th></th>\n",
       "      <th>0</th>\n",
       "      <th>1</th>\n",
       "      <th>2</th>\n",
       "      <th>3</th>\n",
       "      <th>4</th>\n",
       "      <th>5</th>\n",
       "      <th>6</th>\n",
       "      <th>7</th>\n",
       "      <th>8</th>\n",
       "      <th>9</th>\n",
       "      <th>...</th>\n",
       "      <th>12278</th>\n",
       "      <th>12279</th>\n",
       "      <th>12280</th>\n",
       "      <th>12281</th>\n",
       "      <th>12282</th>\n",
       "      <th>12283</th>\n",
       "      <th>12284</th>\n",
       "      <th>12285</th>\n",
       "      <th>12286</th>\n",
       "      <th>12287</th>\n",
       "    </tr>\n",
       "  </thead>\n",
       "  <tbody>\n",
       "    <tr>\n",
       "      <th>0</th>\n",
       "      <td>143</td>\n",
       "      <td>73</td>\n",
       "      <td>83</td>\n",
       "      <td>150</td>\n",
       "      <td>85</td>\n",
       "      <td>95</td>\n",
       "      <td>153</td>\n",
       "      <td>88</td>\n",
       "      <td>98</td>\n",
       "      <td>158</td>\n",
       "      <td>...</td>\n",
       "      <td>142</td>\n",
       "      <td>194</td>\n",
       "      <td>116</td>\n",
       "      <td>134</td>\n",
       "      <td>191</td>\n",
       "      <td>111</td>\n",
       "      <td>129</td>\n",
       "      <td>193</td>\n",
       "      <td>122</td>\n",
       "      <td>143</td>\n",
       "    </tr>\n",
       "    <tr>\n",
       "      <th>1</th>\n",
       "      <td>255</td>\n",
       "      <td>255</td>\n",
       "      <td>255</td>\n",
       "      <td>255</td>\n",
       "      <td>255</td>\n",
       "      <td>255</td>\n",
       "      <td>255</td>\n",
       "      <td>255</td>\n",
       "      <td>255</td>\n",
       "      <td>255</td>\n",
       "      <td>...</td>\n",
       "      <td>255</td>\n",
       "      <td>255</td>\n",
       "      <td>255</td>\n",
       "      <td>255</td>\n",
       "      <td>255</td>\n",
       "      <td>255</td>\n",
       "      <td>255</td>\n",
       "      <td>255</td>\n",
       "      <td>255</td>\n",
       "      <td>255</td>\n",
       "    </tr>\n",
       "  </tbody>\n",
       "</table>\n",
       "<p>2 rows × 12288 columns</p>\n",
       "</div>\n",
       "      <button class=\"colab-df-convert\" onclick=\"convertToInteractive('df-454ee5c9-f6c1-46fa-8320-e429d4713933')\"\n",
       "              title=\"Convert this dataframe to an interactive table.\"\n",
       "              style=\"display:none;\">\n",
       "        \n",
       "  <svg xmlns=\"http://www.w3.org/2000/svg\" height=\"24px\"viewBox=\"0 0 24 24\"\n",
       "       width=\"24px\">\n",
       "    <path d=\"M0 0h24v24H0V0z\" fill=\"none\"/>\n",
       "    <path d=\"M18.56 5.44l.94 2.06.94-2.06 2.06-.94-2.06-.94-.94-2.06-.94 2.06-2.06.94zm-11 1L8.5 8.5l.94-2.06 2.06-.94-2.06-.94L8.5 2.5l-.94 2.06-2.06.94zm10 10l.94 2.06.94-2.06 2.06-.94-2.06-.94-.94-2.06-.94 2.06-2.06.94z\"/><path d=\"M17.41 7.96l-1.37-1.37c-.4-.4-.92-.59-1.43-.59-.52 0-1.04.2-1.43.59L10.3 9.45l-7.72 7.72c-.78.78-.78 2.05 0 2.83L4 21.41c.39.39.9.59 1.41.59.51 0 1.02-.2 1.41-.59l7.78-7.78 2.81-2.81c.8-.78.8-2.07 0-2.86zM5.41 20L4 18.59l7.72-7.72 1.47 1.35L5.41 20z\"/>\n",
       "  </svg>\n",
       "      </button>\n",
       "      \n",
       "  <style>\n",
       "    .colab-df-container {\n",
       "      display:flex;\n",
       "      flex-wrap:wrap;\n",
       "      gap: 12px;\n",
       "    }\n",
       "\n",
       "    .colab-df-convert {\n",
       "      background-color: #E8F0FE;\n",
       "      border: none;\n",
       "      border-radius: 50%;\n",
       "      cursor: pointer;\n",
       "      display: none;\n",
       "      fill: #1967D2;\n",
       "      height: 32px;\n",
       "      padding: 0 0 0 0;\n",
       "      width: 32px;\n",
       "    }\n",
       "\n",
       "    .colab-df-convert:hover {\n",
       "      background-color: #E2EBFA;\n",
       "      box-shadow: 0px 1px 2px rgba(60, 64, 67, 0.3), 0px 1px 3px 1px rgba(60, 64, 67, 0.15);\n",
       "      fill: #174EA6;\n",
       "    }\n",
       "\n",
       "    [theme=dark] .colab-df-convert {\n",
       "      background-color: #3B4455;\n",
       "      fill: #D2E3FC;\n",
       "    }\n",
       "\n",
       "    [theme=dark] .colab-df-convert:hover {\n",
       "      background-color: #434B5C;\n",
       "      box-shadow: 0px 1px 3px 1px rgba(0, 0, 0, 0.15);\n",
       "      filter: drop-shadow(0px 1px 2px rgba(0, 0, 0, 0.3));\n",
       "      fill: #FFFFFF;\n",
       "    }\n",
       "  </style>\n",
       "\n",
       "      <script>\n",
       "        const buttonEl =\n",
       "          document.querySelector('#df-454ee5c9-f6c1-46fa-8320-e429d4713933 button.colab-df-convert');\n",
       "        buttonEl.style.display =\n",
       "          google.colab.kernel.accessAllowed ? 'block' : 'none';\n",
       "\n",
       "        async function convertToInteractive(key) {\n",
       "          const element = document.querySelector('#df-454ee5c9-f6c1-46fa-8320-e429d4713933');\n",
       "          const dataTable =\n",
       "            await google.colab.kernel.invokeFunction('convertToInteractive',\n",
       "                                                     [key], {});\n",
       "          if (!dataTable) return;\n",
       "\n",
       "          const docLinkHtml = 'Like what you see? Visit the ' +\n",
       "            '<a target=\"_blank\" href=https://colab.research.google.com/notebooks/data_table.ipynb>data table notebook</a>'\n",
       "            + ' to learn more about interactive tables.';\n",
       "          element.innerHTML = '';\n",
       "          dataTable['output_type'] = 'display_data';\n",
       "          await google.colab.output.renderOutput(dataTable, element);\n",
       "          const docLink = document.createElement('div');\n",
       "          docLink.innerHTML = docLinkHtml;\n",
       "          element.appendChild(docLink);\n",
       "        }\n",
       "      </script>\n",
       "    </div>\n",
       "  </div>\n",
       "  "
      ],
      "text/plain": [
       "     0    1    2    3    4    5    6    7    8    9  ...  12278  12279  12280  \\\n",
       "0  143   73   83  150   85   95  153   88   98  158  ...    142    194    116   \n",
       "1  255  255  255  255  255  255  255  255  255  255  ...    255    255    255   \n",
       "\n",
       "   12281  12282  12283  12284  12285  12286  12287  \n",
       "0    134    191    111    129    193    122    143  \n",
       "1    255    255    255    255    255    255    255  \n",
       "\n",
       "[2 rows x 12288 columns]"
      ]
     },
     "execution_count": 9,
     "metadata": {},
     "output_type": "execute_result"
    }
   ],
   "source": [
    "X.head(2)"
   ]
  },
  {
   "cell_type": "code",
   "execution_count": null,
   "metadata": {
    "colab": {
     "base_uri": "https://localhost:8080/",
     "height": 205
    },
    "executionInfo": {
     "elapsed": 21,
     "status": "ok",
     "timestamp": 1681792962218,
     "user": {
      "displayName": "Andrew Liu",
      "userId": "01750910414052279045"
     },
     "user_tz": 420
    },
    "id": "3kF-37E0bwts",
    "outputId": "ec5352b2-c7b9-4253-cddf-175d90d9ae43"
   },
   "outputs": [
    {
     "data": {
      "text/html": [
       "\n",
       "  <div id=\"df-b2a718d4-0e29-4ce1-9364-dc115118c42a\">\n",
       "    <div class=\"colab-df-container\">\n",
       "      <div>\n",
       "<style scoped>\n",
       "    .dataframe tbody tr th:only-of-type {\n",
       "        vertical-align: middle;\n",
       "    }\n",
       "\n",
       "    .dataframe tbody tr th {\n",
       "        vertical-align: top;\n",
       "    }\n",
       "\n",
       "    .dataframe thead th {\n",
       "        text-align: right;\n",
       "    }\n",
       "</style>\n",
       "<table border=\"1\" class=\"dataframe\">\n",
       "  <thead>\n",
       "    <tr style=\"text-align: right;\">\n",
       "      <th></th>\n",
       "      <th>0</th>\n",
       "      <th>1</th>\n",
       "      <th>2</th>\n",
       "      <th>3</th>\n",
       "      <th>4</th>\n",
       "      <th>5</th>\n",
       "      <th>6</th>\n",
       "      <th>7</th>\n",
       "      <th>8</th>\n",
       "      <th>9</th>\n",
       "      <th>...</th>\n",
       "      <th>12278</th>\n",
       "      <th>12279</th>\n",
       "      <th>12280</th>\n",
       "      <th>12281</th>\n",
       "      <th>12282</th>\n",
       "      <th>12283</th>\n",
       "      <th>12284</th>\n",
       "      <th>12285</th>\n",
       "      <th>12286</th>\n",
       "      <th>12287</th>\n",
       "    </tr>\n",
       "  </thead>\n",
       "  <tbody>\n",
       "    <tr>\n",
       "      <th>0</th>\n",
       "      <td>255</td>\n",
       "      <td>255</td>\n",
       "      <td>255</td>\n",
       "      <td>255</td>\n",
       "      <td>255</td>\n",
       "      <td>255</td>\n",
       "      <td>255</td>\n",
       "      <td>255</td>\n",
       "      <td>255</td>\n",
       "      <td>255</td>\n",
       "      <td>...</td>\n",
       "      <td>255</td>\n",
       "      <td>255</td>\n",
       "      <td>255</td>\n",
       "      <td>255</td>\n",
       "      <td>255</td>\n",
       "      <td>255</td>\n",
       "      <td>255</td>\n",
       "      <td>255</td>\n",
       "      <td>255</td>\n",
       "      <td>255</td>\n",
       "    </tr>\n",
       "    <tr>\n",
       "      <th>1</th>\n",
       "      <td>255</td>\n",
       "      <td>255</td>\n",
       "      <td>255</td>\n",
       "      <td>255</td>\n",
       "      <td>255</td>\n",
       "      <td>255</td>\n",
       "      <td>255</td>\n",
       "      <td>255</td>\n",
       "      <td>255</td>\n",
       "      <td>255</td>\n",
       "      <td>...</td>\n",
       "      <td>255</td>\n",
       "      <td>255</td>\n",
       "      <td>255</td>\n",
       "      <td>255</td>\n",
       "      <td>255</td>\n",
       "      <td>255</td>\n",
       "      <td>255</td>\n",
       "      <td>255</td>\n",
       "      <td>255</td>\n",
       "      <td>255</td>\n",
       "    </tr>\n",
       "  </tbody>\n",
       "</table>\n",
       "<p>2 rows × 12288 columns</p>\n",
       "</div>\n",
       "      <button class=\"colab-df-convert\" onclick=\"convertToInteractive('df-b2a718d4-0e29-4ce1-9364-dc115118c42a')\"\n",
       "              title=\"Convert this dataframe to an interactive table.\"\n",
       "              style=\"display:none;\">\n",
       "        \n",
       "  <svg xmlns=\"http://www.w3.org/2000/svg\" height=\"24px\"viewBox=\"0 0 24 24\"\n",
       "       width=\"24px\">\n",
       "    <path d=\"M0 0h24v24H0V0z\" fill=\"none\"/>\n",
       "    <path d=\"M18.56 5.44l.94 2.06.94-2.06 2.06-.94-2.06-.94-.94-2.06-.94 2.06-2.06.94zm-11 1L8.5 8.5l.94-2.06 2.06-.94-2.06-.94L8.5 2.5l-.94 2.06-2.06.94zm10 10l.94 2.06.94-2.06 2.06-.94-2.06-.94-.94-2.06-.94 2.06-2.06.94z\"/><path d=\"M17.41 7.96l-1.37-1.37c-.4-.4-.92-.59-1.43-.59-.52 0-1.04.2-1.43.59L10.3 9.45l-7.72 7.72c-.78.78-.78 2.05 0 2.83L4 21.41c.39.39.9.59 1.41.59.51 0 1.02-.2 1.41-.59l7.78-7.78 2.81-2.81c.8-.78.8-2.07 0-2.86zM5.41 20L4 18.59l7.72-7.72 1.47 1.35L5.41 20z\"/>\n",
       "  </svg>\n",
       "      </button>\n",
       "      \n",
       "  <style>\n",
       "    .colab-df-container {\n",
       "      display:flex;\n",
       "      flex-wrap:wrap;\n",
       "      gap: 12px;\n",
       "    }\n",
       "\n",
       "    .colab-df-convert {\n",
       "      background-color: #E8F0FE;\n",
       "      border: none;\n",
       "      border-radius: 50%;\n",
       "      cursor: pointer;\n",
       "      display: none;\n",
       "      fill: #1967D2;\n",
       "      height: 32px;\n",
       "      padding: 0 0 0 0;\n",
       "      width: 32px;\n",
       "    }\n",
       "\n",
       "    .colab-df-convert:hover {\n",
       "      background-color: #E2EBFA;\n",
       "      box-shadow: 0px 1px 2px rgba(60, 64, 67, 0.3), 0px 1px 3px 1px rgba(60, 64, 67, 0.15);\n",
       "      fill: #174EA6;\n",
       "    }\n",
       "\n",
       "    [theme=dark] .colab-df-convert {\n",
       "      background-color: #3B4455;\n",
       "      fill: #D2E3FC;\n",
       "    }\n",
       "\n",
       "    [theme=dark] .colab-df-convert:hover {\n",
       "      background-color: #434B5C;\n",
       "      box-shadow: 0px 1px 3px 1px rgba(0, 0, 0, 0.15);\n",
       "      filter: drop-shadow(0px 1px 2px rgba(0, 0, 0, 0.3));\n",
       "      fill: #FFFFFF;\n",
       "    }\n",
       "  </style>\n",
       "\n",
       "      <script>\n",
       "        const buttonEl =\n",
       "          document.querySelector('#df-b2a718d4-0e29-4ce1-9364-dc115118c42a button.colab-df-convert');\n",
       "        buttonEl.style.display =\n",
       "          google.colab.kernel.accessAllowed ? 'block' : 'none';\n",
       "\n",
       "        async function convertToInteractive(key) {\n",
       "          const element = document.querySelector('#df-b2a718d4-0e29-4ce1-9364-dc115118c42a');\n",
       "          const dataTable =\n",
       "            await google.colab.kernel.invokeFunction('convertToInteractive',\n",
       "                                                     [key], {});\n",
       "          if (!dataTable) return;\n",
       "\n",
       "          const docLinkHtml = 'Like what you see? Visit the ' +\n",
       "            '<a target=\"_blank\" href=https://colab.research.google.com/notebooks/data_table.ipynb>data table notebook</a>'\n",
       "            + ' to learn more about interactive tables.';\n",
       "          element.innerHTML = '';\n",
       "          dataTable['output_type'] = 'display_data';\n",
       "          await google.colab.output.renderOutput(dataTable, element);\n",
       "          const docLink = document.createElement('div');\n",
       "          docLink.innerHTML = docLinkHtml;\n",
       "          element.appendChild(docLink);\n",
       "        }\n",
       "      </script>\n",
       "    </div>\n",
       "  </div>\n",
       "  "
      ],
      "text/plain": [
       "     0    1    2    3    4    5    6    7    8    9  ...  12278  12279  12280  \\\n",
       "0  255  255  255  255  255  255  255  255  255  255  ...    255    255    255   \n",
       "1  255  255  255  255  255  255  255  255  255  255  ...    255    255    255   \n",
       "\n",
       "   12281  12282  12283  12284  12285  12286  12287  \n",
       "0    255    255    255    255    255    255    255  \n",
       "1    255    255    255    255    255    255    255  \n",
       "\n",
       "[2 rows x 12288 columns]"
      ]
     },
     "execution_count": 10,
     "metadata": {},
     "output_type": "execute_result"
    }
   ],
   "source": [
    "X_val.head(2)"
   ]
  },
  {
   "cell_type": "code",
   "execution_count": null,
   "metadata": {
    "colab": {
     "base_uri": "https://localhost:8080/"
    },
    "executionInfo": {
     "elapsed": 21,
     "status": "ok",
     "timestamp": 1681792962219,
     "user": {
      "displayName": "Andrew Liu",
      "userId": "01750910414052279045"
     },
     "user_tz": 420
    },
    "id": "RBz8FkCYMiQM",
    "outputId": "8e5f7d64-d82a-4616-8d39-d7be38616d0f"
   },
   "outputs": [
    {
     "name": "stdout",
     "output_type": "stream",
     "text": [
      "number of train images: 29603\n",
      "number of validation images: 4647\n"
     ]
    }
   ],
   "source": [
    "print(f\"number of train images: {X_rows}\")\n",
    "print(f\"number of validation images: {X_rows_val}\")"
   ]
  },
  {
   "cell_type": "markdown",
   "metadata": {
    "id": "9Hz7ZCPBniFQ"
   },
   "source": [
    "# Preprocessing"
   ]
  },
  {
   "cell_type": "code",
   "execution_count": null,
   "metadata": {
    "id": "IaLirdMIIGbe"
   },
   "outputs": [],
   "source": [
    "# We reshape the images to (64,64,3) numpy arrays\n",
    "X_ar = X.to_numpy().reshape((X_rows, 64, 64, 3))\n",
    "X_ar_val = X_val.to_numpy().reshape((X_rows_val, 64, 64, 3))"
   ]
  },
  {
   "cell_type": "code",
   "execution_count": null,
   "metadata": {
    "colab": {
     "base_uri": "https://localhost:8080/"
    },
    "executionInfo": {
     "elapsed": 18,
     "status": "ok",
     "timestamp": 1681792962220,
     "user": {
      "displayName": "Andrew Liu",
      "userId": "01750910414052279045"
     },
     "user_tz": 420
    },
    "id": "qdv8fS54IwLp",
    "outputId": "28948e02-d817-4d22-92c0-cdbd84668424"
   },
   "outputs": [
    {
     "data": {
      "text/plain": [
       "(64, 64, 3)"
      ]
     },
     "execution_count": 13,
     "metadata": {},
     "output_type": "execute_result"
    }
   ],
   "source": [
    "# Checking array shape\n",
    "X_ar[0].shape"
   ]
  },
  {
   "cell_type": "code",
   "execution_count": null,
   "metadata": {
    "colab": {
     "base_uri": "https://localhost:8080/"
    },
    "executionInfo": {
     "elapsed": 16,
     "status": "ok",
     "timestamp": 1681792962221,
     "user": {
      "displayName": "Andrew Liu",
      "userId": "01750910414052279045"
     },
     "user_tz": 420
    },
    "id": "Rjig2_92b4RB",
    "outputId": "e638db72-f7c1-4d0d-e38e-cb64de5c8010"
   },
   "outputs": [
    {
     "data": {
      "text/plain": [
       "(64, 64, 3)"
      ]
     },
     "execution_count": 14,
     "metadata": {},
     "output_type": "execute_result"
    }
   ],
   "source": [
    "X_ar_val[0].shape"
   ]
  },
  {
   "cell_type": "markdown",
   "metadata": {
    "id": "Bv4O-F4UnZg8"
   },
   "source": [
    "Check: are the images loaded properly?"
   ]
  },
  {
   "cell_type": "code",
   "execution_count": null,
   "metadata": {
    "colab": {
     "base_uri": "https://localhost:8080/",
     "height": 450
    },
    "executionInfo": {
     "elapsed": 435,
     "status": "ok",
     "timestamp": 1681792962642,
     "user": {
      "displayName": "Andrew Liu",
      "userId": "01750910414052279045"
     },
     "user_tz": 420
    },
    "id": "aAFMD-49IIbm",
    "outputId": "d9405e7f-b4d0-4bc7-a178-76883f2d77c3"
   },
   "outputs": [
    {
     "data": {
      "text/plain": [
       "<matplotlib.image.AxesImage at 0x7fba7a9a73d0>"
      ]
     },
     "execution_count": 15,
     "metadata": {},
     "output_type": "execute_result"
    },
    {
     "data": {
      "image/png": "[encoded data removed]",
      "text/plain": [
       "<Figure size 640x480 with 1 Axes>"
      ]
     },
     "metadata": {},
     "output_type": "display_data"
    }
   ],
   "source": [
    "# Converting the first image to array\n",
    "X0 = X_ar[0].reshape([64,64,3])\n",
    "plt.imshow(X0)"
   ]
  },
  {
   "cell_type": "code",
   "execution_count": null,
   "metadata": {
    "colab": {
     "base_uri": "https://localhost:8080/",
     "height": 450
    },
    "executionInfo": {
     "elapsed": 11,
     "status": "ok",
     "timestamp": 1681792962643,
     "user": {
      "displayName": "Andrew Liu",
      "userId": "01750910414052279045"
     },
     "user_tz": 420
    },
    "id": "cKrXEhE7b7UE",
    "outputId": "b1ee1afb-5748-48f4-d66f-bc487ec23e6c"
   },
   "outputs": [
    {
     "data": {
      "text/plain": [
       "<matplotlib.image.AxesImage at 0x7fba6930cf40>"
      ]
     },
     "execution_count": 16,
     "metadata": {},
     "output_type": "execute_result"
    },
    {
     "data": {
      "image/png": "[encoded data removed]",
      "text/plain": [
       "<Figure size 640x480 with 1 Axes>"
      ]
     },
     "metadata": {},
     "output_type": "display_data"
    }
   ],
   "source": [
    "X0_val = X_ar_val[0].reshape([64,64,3])\n",
    "plt.imshow(X0_val)"
   ]
  },
  {
   "cell_type": "markdown",
   "metadata": {
    "id": "akNg_a5dM_jH"
   },
   "source": [
    "Normalize the image"
   ]
  },
  {
   "cell_type": "code",
   "execution_count": null,
   "metadata": {
    "id": "QGZHJYPYC8An"
   },
   "outputs": [],
   "source": [
    "X_ar_normalized = X_ar / 255.0\n",
    "X_ar_val_normalized = X_ar_val / 255.0"
   ]
  },
  {
   "cell_type": "markdown",
   "metadata": {
    "id": "qOnKSdqBGW-r"
   },
   "source": [
    "# Apply one-hot encoding to labels"
   ]
  },
  {
   "cell_type": "code",
   "execution_count": null,
   "metadata": {
    "colab": {
     "base_uri": "https://localhost:8080/"
    },
    "executionInfo": {
     "elapsed": 19,
     "status": "ok",
     "timestamp": 1681792964111,
     "user": {
      "displayName": "Andrew Liu",
      "userId": "01750910414052279045"
     },
     "user_tz": 420
    },
    "id": "3nAj-qEmrFpe",
    "outputId": "c53ed3b1-6f3a-45cc-9717-73fc2cf4bd4c"
   },
   "outputs": [
    {
     "name": "stdout",
     "output_type": "stream",
     "text": [
      "(29603, 11014)\n"
     ]
    }
   ],
   "source": [
    "# label pre-processing: convert to group then perform onehot encoding\n",
    "from tensorflow.keras.utils import to_categorical\n",
    "from sklearn.preprocessing import LabelEncoder \n",
    "le = LabelEncoder() \n",
    "\n",
    "# Convert labels to integers using LabelEncoder\n",
    "labels_int = le.fit_transform(img_df['label_group'])\n",
    "\n",
    "# One-hot encode the labels using to_categorical\n",
    "y_train = to_categorical(labels_int)\n",
    "\n",
    "# Print the shape of the one-hot encoded labels\n",
    "print(y_train.shape)"
   ]
  },
  {
   "cell_type": "markdown",
   "metadata": {
    "id": "g5a-6e1a0-i9"
   },
   "source": [
    "## Mapping\n",
    "We need a mapping function that connects the encoded label and the original label in the train dataset.\n",
    "\n",
    "Otherwise, given an observation of the same group_label, its encoded label will be different from y_train to y_val. \n",
    "\n",
    "For instance, let's suppose the group label 993412341234 has the largest value in the dataset. \n",
    "\n",
    "In the train dataset: this label will have an encoded label of 11014.\n",
    "\n",
    "In the validation dataset, this label will have an encoded label of 4000 in the validation dataset, because there are only 4000 unique labels in the validation dataset.\n",
    "\n",
    "This non-matching error will result in low accuracies."
   ]
  },
  {
   "cell_type": "code",
   "execution_count": null,
   "metadata": {
    "colab": {
     "base_uri": "https://localhost:8080/"
    },
    "executionInfo": {
     "elapsed": 16,
     "status": "ok",
     "timestamp": 1681792964111,
     "user": {
      "displayName": "Andrew Liu",
      "userId": "01750910414052279045"
     },
     "user_tz": 420
    },
    "id": "LBvgBfbQ1Q1E",
    "outputId": "5be44e1d-a962-4efa-bb2a-9d048dbb8aa6"
   },
   "outputs": [
    {
     "name": "stdout",
     "output_type": "stream",
     "text": [
      "       Encoded Label  Original Label\n",
      "0                  0          258047\n",
      "1                  1          297977\n",
      "2                  2          645628\n",
      "3                  3          801176\n",
      "4                  4          887886\n",
      "...              ...             ...\n",
      "11009          11009      4292154092\n",
      "11010          11010      4292520070\n",
      "11011          11011      4292939171\n",
      "11012          11012      4293276364\n",
      "11013          11013      4294197112\n",
      "\n",
      "[11014 rows x 2 columns]\n"
     ]
    }
   ],
   "source": [
    "# Create a mapping table between integer labels and their original string values\n",
    "label_mapping = {i: label for i, label in enumerate(le.classes_)}\n",
    "\n",
    "labels_map = {v: k for k, v in label_mapping.items()}\n",
    "\n",
    "# Convert the mapping table to a DataFrame\n",
    "label_mapping_df = pd.DataFrame(list(label_mapping.items()), columns=['Encoded Label', 'Original Label'])\n",
    "\n",
    "# Print the DataFrame\n",
    "print(label_mapping_df)"
   ]
  },
  {
   "cell_type": "code",
   "execution_count": null,
   "metadata": {
    "colab": {
     "base_uri": "https://localhost:8080/"
    },
    "executionInfo": {
     "elapsed": 14,
     "status": "ok",
     "timestamp": 1681792964112,
     "user": {
      "displayName": "Andrew Liu",
      "userId": "01750910414052279045"
     },
     "user_tz": 420
    },
    "id": "5yzgqq3Ns0dU",
    "outputId": "03e281e6-3bf0-4ff9-d423-12ea905f10fb"
   },
   "outputs": [
    {
     "name": "stdout",
     "output_type": "stream",
     "text": [
      "(4647, 11014)\n"
     ]
    }
   ],
   "source": [
    "# Convert labels to encoded values that is coherent with training labels using mapping\n",
    "labels_val = img_df_val['label_group'].map(labels_map)\n",
    "\n",
    "# One-hot encode the labels using to_categorical\n",
    "y_val = to_categorical(labels_val, num_classes=y_train.shape[1])\n",
    "\n",
    "# Print the shape of the one-hot encoded labels\n",
    "print(y_val.shape)"
   ]
  },
  {
   "cell_type": "code",
   "execution_count": null,
   "metadata": {
    "id": "4uF2FXwXfASx"
   },
   "outputs": [],
   "source": [
    "#Dataset already split from import csv files\n",
    "X_image_train = X_ar_normalized\n",
    "X_image_val = X_ar_val_normalized"
   ]
  },
  {
   "cell_type": "markdown",
   "metadata": {
    "id": "uPe_dNbCFjZ4"
   },
   "source": [
    "# Standalone Keras-CNN Model (Images Only)"
   ]
  },
  {
   "cell_type": "code",
   "execution_count": null,
   "metadata": {
    "colab": {
     "base_uri": "https://localhost:8080/"
    },
    "executionInfo": {
     "elapsed": 12,
     "status": "ok",
     "timestamp": 1681792964113,
     "user": {
      "displayName": "Andrew Liu",
      "userId": "01750910414052279045"
     },
     "user_tz": 420
    },
    "id": "kcwpJl38751V",
    "outputId": "377d413b-af23-42c3-97da-8b451a82d21e"
   },
   "outputs": [
    {
     "data": {
      "text/plain": [
       "(64, 64, 3)"
      ]
     },
     "execution_count": 22,
     "metadata": {},
     "output_type": "execute_result"
    }
   ],
   "source": [
    "input_shape=X_ar_normalized.shape[1:]\n",
    "X_ar_normalized.shape[1:]"
   ]
  },
  {
   "cell_type": "code",
   "execution_count": null,
   "metadata": {
    "id": "0SZUNJbeNrCi"
   },
   "outputs": [],
   "source": [
    "# Define the architecture of the CNN model\n",
    "model = tf.keras.Sequential([\n",
    "    layers.Conv2D(32, kernel_size=(3, 3), \n",
    "                  activation='relu', input_shape=input_shape),\n",
    "    layers.MaxPooling2D((2, 2)),\n",
    "    layers.Conv2D(64, (3, 3), activation='relu'),\n",
    "    layers.Flatten(),\n",
    "    layers.Dropout(0.25), \n",
    "    layers.Dense(64, activation='relu'),\n",
    "    layers.Dense(y_val.shape[1], activation = 'softmax')\n",
    "])"
   ]
  },
  {
   "cell_type": "code",
   "execution_count": null,
   "metadata": {
    "colab": {
     "base_uri": "https://localhost:8080/"
    },
    "executionInfo": {
     "elapsed": 11,
     "status": "ok",
     "timestamp": 1681761083468,
     "user": {
      "displayName": "Andrew Liu",
      "userId": "01750910414052279045"
     },
     "user_tz": 420
    },
    "id": "bWCLJbPMKvwl",
    "outputId": "d653002a-c1fb-4619-f7be-7439643f0590"
   },
   "outputs": [
    {
     "name": "stdout",
     "output_type": "stream",
     "text": [
      "Model: \"sequential\"\n",
      "_________________________________________________________________\n",
      " Layer (type)                Output Shape              Param #   \n",
      "=================================================================\n",
      " conv2d (Conv2D)             (None, 62, 62, 32)        896       \n",
      "                                                                 \n",
      " max_pooling2d (MaxPooling2D  (None, 31, 31, 32)       0         \n",
      " )                                                               \n",
      "                                                                 \n",
      " conv2d_1 (Conv2D)           (None, 29, 29, 64)        18496     \n",
      "                                                                 \n",
      " flatten (Flatten)           (None, 53824)             0         \n",
      "                                                                 \n",
      " dropout (Dropout)           (None, 53824)             0         \n",
      "                                                                 \n",
      " dense (Dense)               (None, 64)                3444800   \n",
      "                                                                 \n",
      " dense_1 (Dense)             (None, 11014)             715910    \n",
      "                                                                 \n",
      "=================================================================\n",
      "Total params: 4,180,102\n",
      "Trainable params: 4,180,102\n",
      "Non-trainable params: 0\n",
      "_________________________________________________________________\n"
     ]
    }
   ],
   "source": [
    "model.summary()"
   ]
  },
  {
   "cell_type": "code",
   "execution_count": null,
   "metadata": {
    "id": "khGl4nVpLAdk"
   },
   "outputs": [],
   "source": [
    "# Compile the model\n",
    "model.compile(optimizer='adam', loss='categorical_crossentropy', metrics=['accuracy'])"
   ]
  },
  {
   "cell_type": "code",
   "execution_count": null,
   "metadata": {
    "colab": {
     "base_uri": "https://localhost:8080/"
    },
    "executionInfo": {
     "elapsed": 425414,
     "status": "ok",
     "timestamp": 1681761508879,
     "user": {
      "displayName": "Andrew Liu",
      "userId": "01750910414052279045"
     },
     "user_tz": 420
    },
    "id": "PUnaI47eLFaA",
    "outputId": "9a577df7-c16a-47b7-d075-affa79fcc383"
   },
   "outputs": [
    {
     "name": "stderr",
     "output_type": "stream",
     "text": [
      "/usr/local/lib/python3.9/dist-packages/tensorflow/python/data/ops/structured_function.py:254: UserWarning: Even though the `tf.config.experimental_run_functions_eagerly` option is set, this option does not apply to tf.data functions. To force eager execution of tf.data functions, please use `tf.data.experimental.enable_debug_mode()`.\n",
      "  warnings.warn(\n"
     ]
    },
    {
     "name": "stdout",
     "output_type": "stream",
     "text": [
      "Epoch 1/10\n",
      "926/926 [==============================] - 50s 45ms/step - loss: 9.3169 - accuracy: 0.0013 - val_loss: 9.1795 - val_accuracy: 0.0034\n",
      "Epoch 2/10\n",
      "926/926 [==============================] - 41s 45ms/step - loss: 8.9412 - accuracy: 0.0111 - val_loss: 8.7559 - val_accuracy: 0.0275\n",
      "Epoch 3/10\n",
      "926/926 [==============================] - 41s 44ms/step - loss: 8.1294 - accuracy: 0.0373 - val_loss: 8.4715 - val_accuracy: 0.0603\n",
      "Epoch 4/10\n",
      "926/926 [==============================] - 41s 44ms/step - loss: 7.1312 - accuracy: 0.0822 - val_loss: 8.6216 - val_accuracy: 0.1063\n",
      "Epoch 5/10\n",
      "926/926 [==============================] - 41s 44ms/step - loss: 6.1196 - accuracy: 0.1396 - val_loss: 9.2118 - val_accuracy: 0.1437\n",
      "Epoch 6/10\n",
      "926/926 [==============================] - 41s 45ms/step - loss: 5.2555 - accuracy: 0.2012 - val_loss: 10.1946 - val_accuracy: 0.1769\n",
      "Epoch 7/10\n",
      "926/926 [==============================] - 41s 45ms/step - loss: 4.5740 - accuracy: 0.2646 - val_loss: 10.9620 - val_accuracy: 0.1995\n",
      "Epoch 8/10\n",
      "926/926 [==============================] - 41s 45ms/step - loss: 4.0443 - accuracy: 0.3160 - val_loss: 12.1389 - val_accuracy: 0.2216\n",
      "Epoch 9/10\n",
      "926/926 [==============================] - 41s 45ms/step - loss: 3.6157 - accuracy: 0.3668 - val_loss: 13.0611 - val_accuracy: 0.2350\n",
      "Epoch 10/10\n",
      "926/926 [==============================] - 41s 44ms/step - loss: 3.2475 - accuracy: 0.4152 - val_loss: 14.0047 - val_accuracy: 0.2529\n"
     ]
    }
   ],
   "source": [
    "# Train the model\n",
    "history = model.fit(X_image_train, \n",
    "          y_train, \n",
    "          epochs=10, \n",
    "          batch_size=32, validation_data=(X_image_val, y_val))"
   ]
  },
  {
   "cell_type": "markdown",
   "metadata": {
    "id": "TJHomz_6_m6Q"
   },
   "source": [
    "# Second Keras-CNN Model\n",
    "What if we add more neurons and add another dropout layer? Would that give us better results?"
   ]
  },
  {
   "cell_type": "code",
   "execution_count": null,
   "metadata": {
    "colab": {
     "base_uri": "https://localhost:8080/"
    },
    "executionInfo": {
     "elapsed": 813,
     "status": "ok",
     "timestamp": 1681761509684,
     "user": {
      "displayName": "Andrew Liu",
      "userId": "01750910414052279045"
     },
     "user_tz": 420
    },
    "id": "ka1vysDo9JxU",
    "outputId": "e9012a84-d153-4222-f0e6-a9c82c26f919"
   },
   "outputs": [
    {
     "name": "stdout",
     "output_type": "stream",
     "text": [
      "Model: \"sequential_1\"\n",
      "_________________________________________________________________\n",
      " Layer (type)                Output Shape              Param #   \n",
      "=================================================================\n",
      " conv2d_2 (Conv2D)           (None, 62, 62, 32)        896       \n",
      "                                                                 \n",
      " max_pooling2d_1 (MaxPooling  (None, 31, 31, 32)       0         \n",
      " 2D)                                                             \n",
      "                                                                 \n",
      " conv2d_3 (Conv2D)           (None, 29, 29, 64)        18496     \n",
      "                                                                 \n",
      " dropout_1 (Dropout)         (None, 29, 29, 64)        0         \n",
      "                                                                 \n",
      " flatten_1 (Flatten)         (None, 53824)             0         \n",
      "                                                                 \n",
      " dense_2 (Dense)             (None, 128)               6889600   \n",
      "                                                                 \n",
      " dropout_2 (Dropout)         (None, 128)               0         \n",
      "                                                                 \n",
      " dense_3 (Dense)             (None, 256)               33024     \n",
      "                                                                 \n",
      " dense_4 (Dense)             (None, 11014)             2830598   \n",
      "                                                                 \n",
      "=================================================================\n",
      "Total params: 9,772,614\n",
      "Trainable params: 9,772,614\n",
      "Non-trainable params: 0\n",
      "_________________________________________________________________\n"
     ]
    }
   ],
   "source": [
    "# Define the architecture of the CNN model\n",
    "model = tf.keras.Sequential([\n",
    "    layers.Conv2D(32, kernel_size=(3, 3), \n",
    "                  activation='relu', input_shape=input_shape),\n",
    "    layers.MaxPooling2D((2, 2)),\n",
    "    layers.Conv2D(64, (3, 3), activation='relu'),\n",
    "    layers.Dropout(0.25), \n",
    "    layers.Flatten(),\n",
    "    layers.Dense(128, activation='relu'),\n",
    "    layers.Dropout(0.25), \n",
    "    layers.Dense(256, activation='relu'),\n",
    "    layers.Dense(y_val.shape[1], activation = 'softmax')\n",
    "])\n",
    "\n",
    "model.summary()"
   ]
  },
  {
   "cell_type": "code",
   "execution_count": null,
   "metadata": {
    "colab": {
     "base_uri": "https://localhost:8080/"
    },
    "executionInfo": {
     "elapsed": 488273,
     "status": "ok",
     "timestamp": 1681761997953,
     "user": {
      "displayName": "Andrew Liu",
      "userId": "01750910414052279045"
     },
     "user_tz": 420
    },
    "id": "yh6ek3GS9PE2",
    "outputId": "30884d94-b0ec-4c12-b7f8-766180d98fd2"
   },
   "outputs": [
    {
     "name": "stdout",
     "output_type": "stream",
     "text": [
      "Epoch 1/10\n",
      "926/926 [==============================] - 49s 53ms/step - loss: 9.2561 - accuracy: 0.0044 - val_loss: 8.8908 - val_accuracy: 0.0194\n",
      "Epoch 2/10\n",
      "926/926 [==============================] - 48s 52ms/step - loss: 8.4784 - accuracy: 0.0305 - val_loss: 8.2842 - val_accuracy: 0.0652\n",
      "Epoch 3/10\n",
      "926/926 [==============================] - 48s 52ms/step - loss: 7.4036 - accuracy: 0.0829 - val_loss: 7.8290 - val_accuracy: 0.1224\n",
      "Epoch 4/10\n",
      "926/926 [==============================] - 48s 52ms/step - loss: 6.3077 - accuracy: 0.1465 - val_loss: 7.6775 - val_accuracy: 0.1844\n",
      "Epoch 5/10\n",
      "926/926 [==============================] - 48s 52ms/step - loss: 5.3058 - accuracy: 0.2153 - val_loss: 7.9072 - val_accuracy: 0.2234\n",
      "Epoch 6/10\n",
      "926/926 [==============================] - 48s 52ms/step - loss: 4.4560 - accuracy: 0.2936 - val_loss: 8.3291 - val_accuracy: 0.2591\n",
      "Epoch 7/10\n",
      "926/926 [==============================] - 49s 53ms/step - loss: 3.7674 - accuracy: 0.3672 - val_loss: 8.4991 - val_accuracy: 0.2830\n",
      "Epoch 8/10\n",
      "926/926 [==============================] - 48s 52ms/step - loss: 3.2502 - accuracy: 0.4306 - val_loss: 9.0805 - val_accuracy: 0.3015\n",
      "Epoch 9/10\n",
      "926/926 [==============================] - 49s 52ms/step - loss: 2.7867 - accuracy: 0.4922 - val_loss: 9.1887 - val_accuracy: 0.3254\n",
      "Epoch 10/10\n",
      "926/926 [==============================] - 50s 54ms/step - loss: 2.4754 - accuracy: 0.5389 - val_loss: 9.5613 - val_accuracy: 0.3385\n"
     ]
    }
   ],
   "source": [
    "# Compile the model\n",
    "model.compile(optimizer='adam', loss='categorical_crossentropy', metrics=['accuracy'])\n",
    "\n",
    "# Train the model\n",
    "history = model.fit(X_image_train, \n",
    "          y_train, \n",
    "          epochs=10, \n",
    "          batch_size=32, validation_data=(X_image_val, y_val))"
   ]
  },
  {
   "cell_type": "markdown",
   "metadata": {
    "id": "iylNGbu6EnpE"
   },
   "source": [
    "Training Accuracy: 042 => 0.54\n",
    "\n",
    "Validation Accuracy: 0.25 => 0.34"
   ]
  },
  {
   "cell_type": "markdown",
   "metadata": {
    "id": "Iw5Jtm2GKbcw"
   },
   "source": [
    "# Grid Search"
   ]
  },
  {
   "cell_type": "code",
   "execution_count": null,
   "metadata": {
    "id": "yGYbHUxVKc7Y"
   },
   "outputs": [],
   "source": [
    "from keras.wrappers.scikit_learn import KerasClassifier\n",
    "from sklearn.model_selection import GridSearchCV"
   ]
  },
  {
   "cell_type": "code",
   "execution_count": null,
   "metadata": {
    "id": "lZYNTh_KKllc"
   },
   "outputs": [],
   "source": [
    "# Define the hyperparameters to explore\n",
    "dense_units = 64\n",
    "dropout_rate = 0.25\n",
    "\n",
    "param_grid = {\n",
    "    'filters': [32, 64],\n",
    "    'kernel_size': [(2, 2), (3, 3)],\n",
    "}\n",
    "\n",
    "# Create a function to build the model with the given hyperparameters\n",
    "def create_model(filters, kernel_size):\n",
    "    # Define the architecture of the CNN model\n",
    "  model = tf.keras.Sequential([\n",
    "      layers.Conv2D(filters, kernel_size, activation='relu', input_shape=input_shape),\n",
    "      layers.MaxPooling2D((2, 2)),\n",
    "      layers.Conv2D(filters, kernel_size, activation='relu'),\n",
    "      layers.Dropout(dropout_rate), \n",
    "      layers.Flatten(),\n",
    "      layers.Dense(dense_units, activation='relu'),\n",
    "      layers.Dropout(dropout_rate), \n",
    "      layers.Dense(y_val.shape[1], activation = 'softmax')\n",
    "  ])\n",
    "\n",
    "  # Compile the model\n",
    "  model.compile(optimizer='adam', loss='categorical_crossentropy', metrics=['accuracy'])\n",
    "  \n",
    "  return model"
   ]
  },
  {
   "cell_type": "code",
   "execution_count": null,
   "metadata": {
    "colab": {
     "base_uri": "https://localhost:8080/"
    },
    "executionInfo": {
     "elapsed": 113,
     "status": "ok",
     "timestamp": 1681776411135,
     "user": {
      "displayName": "Andrew Liu",
      "userId": "01750910414052279045"
     },
     "user_tz": 420
    },
    "id": "njLxgu93Kli5",
    "outputId": "8176d92c-4eb5-48ac-b37f-0bc7c789a7f6"
   },
   "outputs": [
    {
     "name": "stderr",
     "output_type": "stream",
     "text": [
      "<ipython-input-25-326af75e13ea>:2: DeprecationWarning: KerasClassifier is deprecated, use Sci-Keras (https://github.com/adriangb/scikeras) instead. See https://www.adriangb.com/scikeras/stable/migration.html for help migrating.\n",
      "  model = KerasClassifier(build_fn=create_model, verbose=0)\n"
     ]
    }
   ],
   "source": [
    "# Create an instance of the KerasClassifier with the function and hyperparameters to explore\n",
    "model = KerasClassifier(build_fn=create_model, verbose=0)\n",
    "grid = GridSearchCV(estimator=model, param_grid=param_grid, cv=3)"
   ]
  },
  {
   "cell_type": "code",
   "execution_count": null,
   "metadata": {
    "colab": {
     "base_uri": "https://localhost:8080/"
    },
    "executionInfo": {
     "elapsed": 4057275,
     "status": "ok",
     "timestamp": 1681780468407,
     "user": {
      "displayName": "Andrew Liu",
      "userId": "01750910414052279045"
     },
     "user_tz": 420
    },
    "id": "qik4tKnhKlgZ",
    "outputId": "50c272ce-eba9-46e7-d45c-b4aad9883e96"
   },
   "outputs": [
    {
     "name": "stderr",
     "output_type": "stream",
     "text": [
      "/usr/local/lib/python3.9/dist-packages/tensorflow/python/data/ops/structured_function.py:254: UserWarning: Even though the `tf.config.experimental_run_functions_eagerly` option is set, this option does not apply to tf.data functions. To force eager execution of tf.data functions, please use `tf.data.experimental.enable_debug_mode()`.\n",
      "  warnings.warn(\n"
     ]
    },
    {
     "name": "stdout",
     "output_type": "stream",
     "text": [
      "Best parameters: {'filters': 32, 'kernel_size': (2, 2)}\n",
      "Best accuracy score: 0.21112677454948425\n"
     ]
    }
   ],
   "source": [
    "# Fit the grid search to the data\n",
    "grid_result = grid.fit(X_image_train, \n",
    "          y_train, \n",
    "          epochs=10, \n",
    "          batch_size=32, validation_data=(X_image_val, y_val))\n",
    "\n",
    "# Print the best parameters and accuracy score\n",
    "print(f\"Best parameters: {grid_result.best_params_}\")\n",
    "print(f\"Best accuracy score: {grid_result.best_score_}\")"
   ]
  },
  {
   "cell_type": "markdown",
   "metadata": {
    "id": "5L9xCD0sSUPe"
   },
   "source": [
    "# Best Model (1 Dense Layer)"
   ]
  },
  {
   "cell_type": "code",
   "execution_count": null,
   "metadata": {
    "colab": {
     "base_uri": "https://localhost:8080/"
    },
    "executionInfo": {
     "elapsed": 461043,
     "status": "ok",
     "timestamp": 1681793431224,
     "user": {
      "displayName": "Andrew Liu",
      "userId": "01750910414052279045"
     },
     "user_tz": 420
    },
    "id": "aZPM_pWOKlb7",
    "outputId": "ed6c6915-8c1f-4e27-e2e0-8d6a062db945"
   },
   "outputs": [
    {
     "name": "stderr",
     "output_type": "stream",
     "text": [
      "/usr/local/lib/python3.9/dist-packages/tensorflow/python/data/ops/structured_function.py:254: UserWarning: Even though the `tf.config.experimental_run_functions_eagerly` option is set, this option does not apply to tf.data functions. To force eager execution of tf.data functions, please use `tf.data.experimental.enable_debug_mode()`.\n",
      "  warnings.warn(\n"
     ]
    },
    {
     "name": "stdout",
     "output_type": "stream",
     "text": [
      "Epoch 1/10\n",
      "926/926 [==============================] - 53s 49ms/step - loss: 9.2867 - accuracy: 0.0025 - val_loss: 8.9926 - val_accuracy: 0.0140\n",
      "Epoch 2/10\n",
      "926/926 [==============================] - 44s 48ms/step - loss: 8.6325 - accuracy: 0.0253 - val_loss: 8.3770 - val_accuracy: 0.0618\n",
      "Epoch 3/10\n",
      "926/926 [==============================] - 44s 48ms/step - loss: 7.5240 - accuracy: 0.0776 - val_loss: 7.9222 - val_accuracy: 0.1293\n",
      "Epoch 4/10\n",
      "926/926 [==============================] - 45s 48ms/step - loss: 6.2646 - accuracy: 0.1471 - val_loss: 7.7731 - val_accuracy: 0.1986\n",
      "Epoch 5/10\n",
      "926/926 [==============================] - 44s 48ms/step - loss: 5.1164 - accuracy: 0.2268 - val_loss: 7.9612 - val_accuracy: 0.2442\n",
      "Epoch 6/10\n",
      "926/926 [==============================] - 44s 48ms/step - loss: 4.1624 - accuracy: 0.3098 - val_loss: 8.4369 - val_accuracy: 0.2823\n",
      "Epoch 7/10\n",
      "926/926 [==============================] - 45s 48ms/step - loss: 3.4674 - accuracy: 0.3842 - val_loss: 9.1921 - val_accuracy: 0.3116\n",
      "Epoch 8/10\n",
      "926/926 [==============================] - 45s 48ms/step - loss: 2.9507 - accuracy: 0.4427 - val_loss: 9.3309 - val_accuracy: 0.3320\n",
      "Epoch 9/10\n",
      "926/926 [==============================] - 45s 48ms/step - loss: 2.5529 - accuracy: 0.4957 - val_loss: 9.9093 - val_accuracy: 0.3478\n",
      "Epoch 10/10\n",
      "926/926 [==============================] - 44s 48ms/step - loss: 2.2570 - accuracy: 0.5393 - val_loss: 9.9639 - val_accuracy: 0.3607\n"
     ]
    }
   ],
   "source": [
    "filters = 32\n",
    "kernel_size = (2, 2)\n",
    "dropout_rate = 0.25\n",
    "dense_units = 64\n",
    "\n",
    "model = tf.keras.Sequential([\n",
    "    layers.Conv2D(filters, kernel_size, activation='relu', input_shape=input_shape),\n",
    "    layers.MaxPooling2D((2, 2)),\n",
    "    layers.Conv2D(filters, kernel_size, activation='relu'),\n",
    "    layers.Dropout(dropout_rate), \n",
    "    layers.Flatten(),\n",
    "    layers.Dense(dense_units, activation='relu'),\n",
    "    layers.Dropout(dropout_rate), \n",
    "    layers.Dense(y_val.shape[1], activation = 'softmax')\n",
    "])\n",
    "\n",
    "# Compile the model\n",
    "model.compile(optimizer='adam', loss='categorical_crossentropy', metrics=['accuracy'])\n",
    "\n",
    "# Train the model\n",
    "history = model.fit(X_image_train, \n",
    "          y_train, \n",
    "          epochs=10, \n",
    "          batch_size=32, validation_data=(X_image_val, y_val))"
   ]
  },
  {
   "cell_type": "markdown",
   "metadata": {
    "id": "uhHwAyVftt7b"
   },
   "source": [
    "Kernel Size: (3, 3) => (2, 2)\n",
    "\n",
    "Training Accuracy: 0.54 => 0.54\n",
    "\n",
    "Validation Accuracy: 0.34 => 0.36"
   ]
  },
  {
   "cell_type": "code",
   "execution_count": null,
   "metadata": {
    "id": "FUXPL3eq4nUW"
   },
   "outputs": [],
   "source": [
    "# Save the trained model\n",
    "# model.save('base_model.h5')"
   ]
  },
  {
   "cell_type": "code",
   "execution_count": null,
   "metadata": {
    "id": "yLTEJMFE4J0A"
   },
   "outputs": [],
   "source": [
    "# Import the model\n",
    "# from keras.models import load_model\n",
    "# history2 = load_model('base_model.h5')"
   ]
  },
  {
   "cell_type": "code",
   "execution_count": null,
   "metadata": {
    "id": "-bj0sFJN-sNw"
   },
   "outputs": [],
   "source": [
    "# Evaluate the model using the import model\n",
    "# loss, accuracy = history2.evaluate(X_image_val, y_val)\n",
    "# print('Test accuracy:', accuracy)"
   ]
  }
 ],
 "metadata": {
  "accelerator": "GPU",
  "colab": {
   "machine_shape": "hm",
   "provenance": []
  },
  "gpuClass": "premium",
  "kernelspec": {
   "display_name": "Python 3 (ipykernel)",
   "language": "python",
   "name": "python3"
  },
  "language_info": {
   "codemirror_mode": {
    "name": "ipython",
    "version": 3
   },
   "file_extension": ".py",
   "mimetype": "text/x-python",
   "name": "python",
   "nbconvert_exporter": "python",
   "pygments_lexer": "ipython3",
   "version": "3.11.4"
  }
 },
 "nbformat": 4,
 "nbformat_minor": 1
}
