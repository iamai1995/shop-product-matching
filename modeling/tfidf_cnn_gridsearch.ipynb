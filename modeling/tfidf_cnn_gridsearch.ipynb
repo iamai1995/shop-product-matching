{
 "cells": [
  {
   "cell_type": "markdown",
   "metadata": {
    "id": "yjr4ut4Jvf5N"
   },
   "source": [
    "# Set up"
   ]
  },
  {
   "cell_type": "code",
   "execution_count": null,
   "metadata": {
    "id": "MQArqUApwa8Z"
   },
   "outputs": [],
   "source": [
    "# import library\n",
    "\n",
    "import tensorflow as tf\n",
    "tf.config.run_functions_eagerly(True)\n",
    "\n",
    "from tensorflow.keras import layers, Model\n",
    "from tensorflow.keras.layers import Input, Dense, Flatten, Conv2D, MaxPooling2D, concatenate, Dropout\n",
    "\n",
    "import pandas as pd\n",
    "import numpy as np\n",
    "import matplotlib.pyplot as plt\n",
    "%matplotlib inline\n",
    "\n",
    "from PIL import Image\n",
    "\n",
    "from sklearn.model_selection import train_test_split"
   ]
  },
  {
   "cell_type": "code",
   "execution_count": null,
   "metadata": {
    "id": "l01Jr3Lt0rVW"
   },
   "outputs": [],
   "source": [
    "# load the train dataset and title (translated to English)\n",
    "train = pd.read_csv('train_sample.csv')"
   ]
  },
  {
   "cell_type": "code",
   "execution_count": null,
   "metadata": {
    "colab": {
     "base_uri": "https://localhost:8080/",
     "height": 458
    },
    "executionInfo": {
     "elapsed": 167,
     "status": "ok",
     "timestamp": 1681509071888,
     "user": {
      "displayName": "Florence Cheng",
      "userId": "06139676342662614610"
     },
     "user_tz": 420
    },
    "id": "2VDyn-QN1bhh",
    "outputId": "96982169-0b80-4994-f664-305a8060fb22"
   },
   "outputs": [
    {
     "data": {
      "text/html": [
       "\n",
       "  <div id=\"df-c57f4821-287d-4d7f-a3bf-3ae98ab7ad97\">\n",
       "    <div class=\"colab-df-container\">\n",
       "      <div>\n",
       "<style scoped>\n",
       "    .dataframe tbody tr th:only-of-type {\n",
       "        vertical-align: middle;\n",
       "    }\n",
       "\n",
       "    .dataframe tbody tr th {\n",
       "        vertical-align: top;\n",
       "    }\n",
       "\n",
       "    .dataframe thead th {\n",
       "        text-align: right;\n",
       "    }\n",
       "</style>\n",
       "<table border=\"1\" class=\"dataframe\">\n",
       "  <thead>\n",
       "    <tr style=\"text-align: right;\">\n",
       "      <th></th>\n",
       "      <th>Index</th>\n",
       "      <th>posting_id</th>\n",
       "      <th>image</th>\n",
       "      <th>image_phash</th>\n",
       "      <th>title</th>\n",
       "      <th>label_group</th>\n",
       "      <th>title_translate</th>\n",
       "    </tr>\n",
       "  </thead>\n",
       "  <tbody>\n",
       "    <tr>\n",
       "      <th>0</th>\n",
       "      <td>8805</td>\n",
       "      <td>train_2078523022</td>\n",
       "      <td>422eb8e592c3a89e8328133f4a4891c8.jpg</td>\n",
       "      <td>c1b6940f0f591bf4</td>\n",
       "      <td>Kotak Sepatu Lipat / Box Sepatu Lipat / Kotak ...</td>\n",
       "      <td>3486097762</td>\n",
       "      <td>Folding shoe box / Folding shoe box / Cheap tr...</td>\n",
       "    </tr>\n",
       "    <tr>\n",
       "      <th>1</th>\n",
       "      <td>4135</td>\n",
       "      <td>train_177965756</td>\n",
       "      <td>1f83c76907311ee2b3d2e8fbf77adc56.jpg</td>\n",
       "      <td>b1cb792dc8ccc2d4</td>\n",
       "      <td>Agar-agar double swallow 7 gram</td>\n",
       "      <td>739195247</td>\n",
       "      <td>Agar-agar double swallow 7 grams</td>\n",
       "    </tr>\n",
       "    <tr>\n",
       "      <th>2</th>\n",
       "      <td>16716</td>\n",
       "      <td>train_2485621759</td>\n",
       "      <td>7de256d8c2ef90fca570f60284016a08.jpg</td>\n",
       "      <td>d89895fbc6c4a83a</td>\n",
       "      <td>Sprayer Pompa KYOKAN 2 Liter Dan Merek Lain</td>\n",
       "      <td>1703159951</td>\n",
       "      <td>2 Liter KYOKAN Pump Sprayer And Other Brands</td>\n",
       "    </tr>\n",
       "    <tr>\n",
       "      <th>3</th>\n",
       "      <td>7727</td>\n",
       "      <td>train_1226956020</td>\n",
       "      <td>3a5541d69dd5707342bd7bc23d2291b5.jpg</td>\n",
       "      <td>b23ee1cd9c328e1a</td>\n",
       "      <td>Lens Case Motif Character Line</td>\n",
       "      <td>3114936592</td>\n",
       "      <td>Lens Case Motif Character Line</td>\n",
       "    </tr>\n",
       "    <tr>\n",
       "      <th>4</th>\n",
       "      <td>32468</td>\n",
       "      <td>train_1217724113</td>\n",
       "      <td>f3538162e71bdffd0b295cc3cac93783.jpg</td>\n",
       "      <td>e5cdcc32929a93cc</td>\n",
       "      <td>Tepung Terigu Hana Emas 1 Kg</td>\n",
       "      <td>4031639568</td>\n",
       "      <td>Wheat Flour Hana Gold 1 Kg</td>\n",
       "    </tr>\n",
       "  </tbody>\n",
       "</table>\n",
       "</div>\n",
       "      <button class=\"colab-df-convert\" onclick=\"convertToInteractive('df-c57f4821-287d-4d7f-a3bf-3ae98ab7ad97')\"\n",
       "              title=\"Convert this dataframe to an interactive table.\"\n",
       "              style=\"display:none;\">\n",
       "        \n",
       "  <svg xmlns=\"http://www.w3.org/2000/svg\" height=\"24px\"viewBox=\"0 0 24 24\"\n",
       "       width=\"24px\">\n",
       "    <path d=\"M0 0h24v24H0V0z\" fill=\"none\"/>\n",
       "    <path d=\"M18.56 5.44l.94 2.06.94-2.06 2.06-.94-2.06-.94-.94-2.06-.94 2.06-2.06.94zm-11 1L8.5 8.5l.94-2.06 2.06-.94-2.06-.94L8.5 2.5l-.94 2.06-2.06.94zm10 10l.94 2.06.94-2.06 2.06-.94-2.06-.94-.94-2.06-.94 2.06-2.06.94z\"/><path d=\"M17.41 7.96l-1.37-1.37c-.4-.4-.92-.59-1.43-.59-.52 0-1.04.2-1.43.59L10.3 9.45l-7.72 7.72c-.78.78-.78 2.05 0 2.83L4 21.41c.39.39.9.59 1.41.59.51 0 1.02-.2 1.41-.59l7.78-7.78 2.81-2.81c.8-.78.8-2.07 0-2.86zM5.41 20L4 18.59l7.72-7.72 1.47 1.35L5.41 20z\"/>\n",
       "  </svg>\n",
       "      </button>\n",
       "      \n",
       "  <style>\n",
       "    .colab-df-container {\n",
       "      display:flex;\n",
       "      flex-wrap:wrap;\n",
       "      gap: 12px;\n",
       "    }\n",
       "\n",
       "    .colab-df-convert {\n",
       "      background-color: #E8F0FE;\n",
       "      border: none;\n",
       "      border-radius: 50%;\n",
       "      cursor: pointer;\n",
       "      display: none;\n",
       "      fill: #1967D2;\n",
       "      height: 32px;\n",
       "      padding: 0 0 0 0;\n",
       "      width: 32px;\n",
       "    }\n",
       "\n",
       "    .colab-df-convert:hover {\n",
       "      background-color: #E2EBFA;\n",
       "      box-shadow: 0px 1px 2px rgba(60, 64, 67, 0.3), 0px 1px 3px 1px rgba(60, 64, 67, 0.15);\n",
       "      fill: #174EA6;\n",
       "    }\n",
       "\n",
       "    [theme=dark] .colab-df-convert {\n",
       "      background-color: #3B4455;\n",
       "      fill: #D2E3FC;\n",
       "    }\n",
       "\n",
       "    [theme=dark] .colab-df-convert:hover {\n",
       "      background-color: #434B5C;\n",
       "      box-shadow: 0px 1px 3px 1px rgba(0, 0, 0, 0.15);\n",
       "      filter: drop-shadow(0px 1px 2px rgba(0, 0, 0, 0.3));\n",
       "      fill: #FFFFFF;\n",
       "    }\n",
       "  </style>\n",
       "\n",
       "      <script>\n",
       "        const buttonEl =\n",
       "          document.querySelector('#df-c57f4821-287d-4d7f-a3bf-3ae98ab7ad97 button.colab-df-convert');\n",
       "        buttonEl.style.display =\n",
       "          google.colab.kernel.accessAllowed ? 'block' : 'none';\n",
       "\n",
       "        async function convertToInteractive(key) {\n",
       "          const element = document.querySelector('#df-c57f4821-287d-4d7f-a3bf-3ae98ab7ad97');\n",
       "          const dataTable =\n",
       "            await google.colab.kernel.invokeFunction('convertToInteractive',\n",
       "                                                     [key], {});\n",
       "          if (!dataTable) return;\n",
       "\n",
       "          const docLinkHtml = 'Like what you see? Visit the ' +\n",
       "            '<a target=\"_blank\" href=https://colab.research.google.com/notebooks/data_table.ipynb>data table notebook</a>'\n",
       "            + ' to learn more about interactive tables.';\n",
       "          element.innerHTML = '';\n",
       "          dataTable['output_type'] = 'display_data';\n",
       "          await google.colab.output.renderOutput(dataTable, element);\n",
       "          const docLink = document.createElement('div');\n",
       "          docLink.innerHTML = docLinkHtml;\n",
       "          element.appendChild(docLink);\n",
       "        }\n",
       "      </script>\n",
       "    </div>\n",
       "  </div>\n",
       "  "
      ],
      "text/plain": [
       "   Index        posting_id                                 image  \\\n",
       "0   8805  train_2078523022  422eb8e592c3a89e8328133f4a4891c8.jpg   \n",
       "1   4135   train_177965756  1f83c76907311ee2b3d2e8fbf77adc56.jpg   \n",
       "2  16716  train_2485621759  7de256d8c2ef90fca570f60284016a08.jpg   \n",
       "3   7727  train_1226956020  3a5541d69dd5707342bd7bc23d2291b5.jpg   \n",
       "4  32468  train_1217724113  f3538162e71bdffd0b295cc3cac93783.jpg   \n",
       "\n",
       "        image_phash                                              title  \\\n",
       "0  c1b6940f0f591bf4  Kotak Sepatu Lipat / Box Sepatu Lipat / Kotak ...   \n",
       "1  b1cb792dc8ccc2d4                    Agar-agar double swallow 7 gram   \n",
       "2  d89895fbc6c4a83a        Sprayer Pompa KYOKAN 2 Liter Dan Merek Lain   \n",
       "3  b23ee1cd9c328e1a                     Lens Case Motif Character Line   \n",
       "4  e5cdcc32929a93cc                       Tepung Terigu Hana Emas 1 Kg   \n",
       "\n",
       "   label_group                                    title_translate  \n",
       "0   3486097762  Folding shoe box / Folding shoe box / Cheap tr...  \n",
       "1    739195247                   Agar-agar double swallow 7 grams  \n",
       "2   1703159951       2 Liter KYOKAN Pump Sprayer And Other Brands  \n",
       "3   3114936592                     Lens Case Motif Character Line  \n",
       "4   4031639568                         Wheat Flour Hana Gold 1 Kg  "
      ]
     },
     "execution_count": 5,
     "metadata": {},
     "output_type": "execute_result"
    }
   ],
   "source": [
    "train.head()"
   ]
  },
  {
   "cell_type": "code",
   "execution_count": null,
   "metadata": {
    "id": "Brw4S_EKsFwQ"
   },
   "outputs": [],
   "source": [
    "# load the image to dataframe in array format\n",
    "img_df = pd.read_csv(\"images_sample.csv\", delimiter=\",\", engine='c', na_filter=False,\n",
    "                     dtype={col: np.uint8 for col in pd.read_csv('images_sample.csv', nrows=1).select_dtypes(exclude=['object']).columns})"
   ]
  },
  {
   "cell_type": "code",
   "execution_count": null,
   "metadata": {
    "colab": {
     "base_uri": "https://localhost:8080/",
     "height": 300
    },
    "executionInfo": {
     "elapsed": 12,
     "status": "ok",
     "timestamp": 1681509075052,
     "user": {
      "displayName": "Florence Cheng",
      "userId": "06139676342662614610"
     },
     "user_tz": 420
    },
    "id": "ELNazXw7HmOy",
    "outputId": "955ac346-d527-42d6-f278-fc0844edf249"
   },
   "outputs": [
    {
     "data": {
      "text/html": [
       "\n",
       "  <div id=\"df-666e5f29-fec6-49c8-bebe-b48cd51b032c\">\n",
       "    <div class=\"colab-df-container\">\n",
       "      <div>\n",
       "<style scoped>\n",
       "    .dataframe tbody tr th:only-of-type {\n",
       "        vertical-align: middle;\n",
       "    }\n",
       "\n",
       "    .dataframe tbody tr th {\n",
       "        vertical-align: top;\n",
       "    }\n",
       "\n",
       "    .dataframe thead th {\n",
       "        text-align: right;\n",
       "    }\n",
       "</style>\n",
       "<table border=\"1\" class=\"dataframe\">\n",
       "  <thead>\n",
       "    <tr style=\"text-align: right;\">\n",
       "      <th></th>\n",
       "      <th>Index</th>\n",
       "      <th>label_group</th>\n",
       "      <th>image</th>\n",
       "      <th>0</th>\n",
       "      <th>1</th>\n",
       "      <th>2</th>\n",
       "      <th>3</th>\n",
       "      <th>4</th>\n",
       "      <th>5</th>\n",
       "      <th>6</th>\n",
       "      <th>...</th>\n",
       "      <th>12278</th>\n",
       "      <th>12279</th>\n",
       "      <th>12280</th>\n",
       "      <th>12281</th>\n",
       "      <th>12282</th>\n",
       "      <th>12283</th>\n",
       "      <th>12284</th>\n",
       "      <th>12285</th>\n",
       "      <th>12286</th>\n",
       "      <th>12287</th>\n",
       "    </tr>\n",
       "  </thead>\n",
       "  <tbody>\n",
       "    <tr>\n",
       "      <th>0</th>\n",
       "      <td>101</td>\n",
       "      <td>98</td>\n",
       "      <td>422eb8e592c3a89e8328133f4a4891c8.jpg</td>\n",
       "      <td>0</td>\n",
       "      <td>0</td>\n",
       "      <td>0</td>\n",
       "      <td>0</td>\n",
       "      <td>0</td>\n",
       "      <td>0</td>\n",
       "      <td>0</td>\n",
       "      <td>...</td>\n",
       "      <td>0</td>\n",
       "      <td>0</td>\n",
       "      <td>0</td>\n",
       "      <td>0</td>\n",
       "      <td>0</td>\n",
       "      <td>0</td>\n",
       "      <td>0</td>\n",
       "      <td>0</td>\n",
       "      <td>0</td>\n",
       "      <td>0</td>\n",
       "    </tr>\n",
       "    <tr>\n",
       "      <th>1</th>\n",
       "      <td>39</td>\n",
       "      <td>111</td>\n",
       "      <td>1f83c76907311ee2b3d2e8fbf77adc56.jpg</td>\n",
       "      <td>223</td>\n",
       "      <td>199</td>\n",
       "      <td>1</td>\n",
       "      <td>224</td>\n",
       "      <td>200</td>\n",
       "      <td>2</td>\n",
       "      <td>226</td>\n",
       "      <td>...</td>\n",
       "      <td>1</td>\n",
       "      <td>211</td>\n",
       "      <td>189</td>\n",
       "      <td>7</td>\n",
       "      <td>67</td>\n",
       "      <td>59</td>\n",
       "      <td>9</td>\n",
       "      <td>0</td>\n",
       "      <td>0</td>\n",
       "      <td>2</td>\n",
       "    </tr>\n",
       "    <tr>\n",
       "      <th>2</th>\n",
       "      <td>76</td>\n",
       "      <td>143</td>\n",
       "      <td>7de256d8c2ef90fca570f60284016a08.jpg</td>\n",
       "      <td>224</td>\n",
       "      <td>221</td>\n",
       "      <td>225</td>\n",
       "      <td>218</td>\n",
       "      <td>216</td>\n",
       "      <td>219</td>\n",
       "      <td>217</td>\n",
       "      <td>...</td>\n",
       "      <td>76</td>\n",
       "      <td>118</td>\n",
       "      <td>98</td>\n",
       "      <td>79</td>\n",
       "      <td>136</td>\n",
       "      <td>112</td>\n",
       "      <td>89</td>\n",
       "      <td>161</td>\n",
       "      <td>136</td>\n",
       "      <td>111</td>\n",
       "    </tr>\n",
       "    <tr>\n",
       "      <th>3</th>\n",
       "      <td>47</td>\n",
       "      <td>16</td>\n",
       "      <td>3a5541d69dd5707342bd7bc23d2291b5.jpg</td>\n",
       "      <td>255</td>\n",
       "      <td>255</td>\n",
       "      <td>255</td>\n",
       "      <td>255</td>\n",
       "      <td>255</td>\n",
       "      <td>255</td>\n",
       "      <td>255</td>\n",
       "      <td>...</td>\n",
       "      <td>255</td>\n",
       "      <td>255</td>\n",
       "      <td>255</td>\n",
       "      <td>255</td>\n",
       "      <td>255</td>\n",
       "      <td>255</td>\n",
       "      <td>255</td>\n",
       "      <td>255</td>\n",
       "      <td>255</td>\n",
       "      <td>255</td>\n",
       "    </tr>\n",
       "    <tr>\n",
       "      <th>4</th>\n",
       "      <td>212</td>\n",
       "      <td>16</td>\n",
       "      <td>f3538162e71bdffd0b295cc3cac93783.jpg</td>\n",
       "      <td>255</td>\n",
       "      <td>255</td>\n",
       "      <td>255</td>\n",
       "      <td>255</td>\n",
       "      <td>255</td>\n",
       "      <td>255</td>\n",
       "      <td>255</td>\n",
       "      <td>...</td>\n",
       "      <td>255</td>\n",
       "      <td>255</td>\n",
       "      <td>255</td>\n",
       "      <td>255</td>\n",
       "      <td>255</td>\n",
       "      <td>255</td>\n",
       "      <td>255</td>\n",
       "      <td>255</td>\n",
       "      <td>255</td>\n",
       "      <td>255</td>\n",
       "    </tr>\n",
       "  </tbody>\n",
       "</table>\n",
       "<p>5 rows × 12291 columns</p>\n",
       "</div>\n",
       "      <button class=\"colab-df-convert\" onclick=\"convertToInteractive('df-666e5f29-fec6-49c8-bebe-b48cd51b032c')\"\n",
       "              title=\"Convert this dataframe to an interactive table.\"\n",
       "              style=\"display:none;\">\n",
       "        \n",
       "  <svg xmlns=\"http://www.w3.org/2000/svg\" height=\"24px\"viewBox=\"0 0 24 24\"\n",
       "       width=\"24px\">\n",
       "    <path d=\"M0 0h24v24H0V0z\" fill=\"none\"/>\n",
       "    <path d=\"M18.56 5.44l.94 2.06.94-2.06 2.06-.94-2.06-.94-.94-2.06-.94 2.06-2.06.94zm-11 1L8.5 8.5l.94-2.06 2.06-.94-2.06-.94L8.5 2.5l-.94 2.06-2.06.94zm10 10l.94 2.06.94-2.06 2.06-.94-2.06-.94-.94-2.06-.94 2.06-2.06.94z\"/><path d=\"M17.41 7.96l-1.37-1.37c-.4-.4-.92-.59-1.43-.59-.52 0-1.04.2-1.43.59L10.3 9.45l-7.72 7.72c-.78.78-.78 2.05 0 2.83L4 21.41c.39.39.9.59 1.41.59.51 0 1.02-.2 1.41-.59l7.78-7.78 2.81-2.81c.8-.78.8-2.07 0-2.86zM5.41 20L4 18.59l7.72-7.72 1.47 1.35L5.41 20z\"/>\n",
       "  </svg>\n",
       "      </button>\n",
       "      \n",
       "  <style>\n",
       "    .colab-df-container {\n",
       "      display:flex;\n",
       "      flex-wrap:wrap;\n",
       "      gap: 12px;\n",
       "    }\n",
       "\n",
       "    .colab-df-convert {\n",
       "      background-color: #E8F0FE;\n",
       "      border: none;\n",
       "      border-radius: 50%;\n",
       "      cursor: pointer;\n",
       "      display: none;\n",
       "      fill: #1967D2;\n",
       "      height: 32px;\n",
       "      padding: 0 0 0 0;\n",
       "      width: 32px;\n",
       "    }\n",
       "\n",
       "    .colab-df-convert:hover {\n",
       "      background-color: #E2EBFA;\n",
       "      box-shadow: 0px 1px 2px rgba(60, 64, 67, 0.3), 0px 1px 3px 1px rgba(60, 64, 67, 0.15);\n",
       "      fill: #174EA6;\n",
       "    }\n",
       "\n",
       "    [theme=dark] .colab-df-convert {\n",
       "      background-color: #3B4455;\n",
       "      fill: #D2E3FC;\n",
       "    }\n",
       "\n",
       "    [theme=dark] .colab-df-convert:hover {\n",
       "      background-color: #434B5C;\n",
       "      box-shadow: 0px 1px 3px 1px rgba(0, 0, 0, 0.15);\n",
       "      filter: drop-shadow(0px 1px 2px rgba(0, 0, 0, 0.3));\n",
       "      fill: #FFFFFF;\n",
       "    }\n",
       "  </style>\n",
       "\n",
       "      <script>\n",
       "        const buttonEl =\n",
       "          document.querySelector('#df-666e5f29-fec6-49c8-bebe-b48cd51b032c button.colab-df-convert');\n",
       "        buttonEl.style.display =\n",
       "          google.colab.kernel.accessAllowed ? 'block' : 'none';\n",
       "\n",
       "        async function convertToInteractive(key) {\n",
       "          const element = document.querySelector('#df-666e5f29-fec6-49c8-bebe-b48cd51b032c');\n",
       "          const dataTable =\n",
       "            await google.colab.kernel.invokeFunction('convertToInteractive',\n",
       "                                                     [key], {});\n",
       "          if (!dataTable) return;\n",
       "\n",
       "          const docLinkHtml = 'Like what you see? Visit the ' +\n",
       "            '<a target=\"_blank\" href=https://colab.research.google.com/notebooks/data_table.ipynb>data table notebook</a>'\n",
       "            + ' to learn more about interactive tables.';\n",
       "          element.innerHTML = '';\n",
       "          dataTable['output_type'] = 'display_data';\n",
       "          await google.colab.output.renderOutput(dataTable, element);\n",
       "          const docLink = document.createElement('div');\n",
       "          docLink.innerHTML = docLinkHtml;\n",
       "          element.appendChild(docLink);\n",
       "        }\n",
       "      </script>\n",
       "    </div>\n",
       "  </div>\n",
       "  "
      ],
      "text/plain": [
       "   Index  label_group                                 image    0    1    2  \\\n",
       "0    101           98  422eb8e592c3a89e8328133f4a4891c8.jpg    0    0    0   \n",
       "1     39          111  1f83c76907311ee2b3d2e8fbf77adc56.jpg  223  199    1   \n",
       "2     76          143  7de256d8c2ef90fca570f60284016a08.jpg  224  221  225   \n",
       "3     47           16  3a5541d69dd5707342bd7bc23d2291b5.jpg  255  255  255   \n",
       "4    212           16  f3538162e71bdffd0b295cc3cac93783.jpg  255  255  255   \n",
       "\n",
       "     3    4    5    6  ...  12278  12279  12280  12281  12282  12283  12284  \\\n",
       "0    0    0    0    0  ...      0      0      0      0      0      0      0   \n",
       "1  224  200    2  226  ...      1    211    189      7     67     59      9   \n",
       "2  218  216  219  217  ...     76    118     98     79    136    112     89   \n",
       "3  255  255  255  255  ...    255    255    255    255    255    255    255   \n",
       "4  255  255  255  255  ...    255    255    255    255    255    255    255   \n",
       "\n",
       "   12285  12286  12287  \n",
       "0      0      0      0  \n",
       "1      0      0      2  \n",
       "2    161    136    111  \n",
       "3    255    255    255  \n",
       "4    255    255    255  \n",
       "\n",
       "[5 rows x 12291 columns]"
      ]
     },
     "execution_count": 7,
     "metadata": {},
     "output_type": "execute_result"
    }
   ],
   "source": [
    "img_df.head()"
   ]
  },
  {
   "cell_type": "code",
   "execution_count": null,
   "metadata": {
    "id": "Jw80Ro99JTi9"
   },
   "outputs": [],
   "source": [
    "X = img_df.iloc[:,3:]\n",
    "X_rows = img_df.shape[0]"
   ]
  },
  {
   "cell_type": "code",
   "execution_count": null,
   "metadata": {
    "colab": {
     "base_uri": "https://localhost:8080/",
     "height": 280
    },
    "executionInfo": {
     "elapsed": 9,
     "status": "ok",
     "timestamp": 1681509076482,
     "user": {
      "displayName": "Florence Cheng",
      "userId": "06139676342662614610"
     },
     "user_tz": 420
    },
    "id": "7whvGI1Mb0lS",
    "outputId": "77bc2b6a-d09c-4324-9cd0-8ac358ef3a7a"
   },
   "outputs": [
    {
     "data": {
      "text/html": [
       "\n",
       "  <div id=\"df-97008fac-2c76-4a64-bdfb-232ff5123d7d\">\n",
       "    <div class=\"colab-df-container\">\n",
       "      <div>\n",
       "<style scoped>\n",
       "    .dataframe tbody tr th:only-of-type {\n",
       "        vertical-align: middle;\n",
       "    }\n",
       "\n",
       "    .dataframe tbody tr th {\n",
       "        vertical-align: top;\n",
       "    }\n",
       "\n",
       "    .dataframe thead th {\n",
       "        text-align: right;\n",
       "    }\n",
       "</style>\n",
       "<table border=\"1\" class=\"dataframe\">\n",
       "  <thead>\n",
       "    <tr style=\"text-align: right;\">\n",
       "      <th></th>\n",
       "      <th>0</th>\n",
       "      <th>1</th>\n",
       "      <th>2</th>\n",
       "      <th>3</th>\n",
       "      <th>4</th>\n",
       "      <th>5</th>\n",
       "      <th>6</th>\n",
       "      <th>7</th>\n",
       "      <th>8</th>\n",
       "      <th>9</th>\n",
       "      <th>...</th>\n",
       "      <th>12278</th>\n",
       "      <th>12279</th>\n",
       "      <th>12280</th>\n",
       "      <th>12281</th>\n",
       "      <th>12282</th>\n",
       "      <th>12283</th>\n",
       "      <th>12284</th>\n",
       "      <th>12285</th>\n",
       "      <th>12286</th>\n",
       "      <th>12287</th>\n",
       "    </tr>\n",
       "  </thead>\n",
       "  <tbody>\n",
       "    <tr>\n",
       "      <th>0</th>\n",
       "      <td>0</td>\n",
       "      <td>0</td>\n",
       "      <td>0</td>\n",
       "      <td>0</td>\n",
       "      <td>0</td>\n",
       "      <td>0</td>\n",
       "      <td>0</td>\n",
       "      <td>0</td>\n",
       "      <td>0</td>\n",
       "      <td>0</td>\n",
       "      <td>...</td>\n",
       "      <td>0</td>\n",
       "      <td>0</td>\n",
       "      <td>0</td>\n",
       "      <td>0</td>\n",
       "      <td>0</td>\n",
       "      <td>0</td>\n",
       "      <td>0</td>\n",
       "      <td>0</td>\n",
       "      <td>0</td>\n",
       "      <td>0</td>\n",
       "    </tr>\n",
       "    <tr>\n",
       "      <th>1</th>\n",
       "      <td>223</td>\n",
       "      <td>199</td>\n",
       "      <td>1</td>\n",
       "      <td>224</td>\n",
       "      <td>200</td>\n",
       "      <td>2</td>\n",
       "      <td>226</td>\n",
       "      <td>202</td>\n",
       "      <td>3</td>\n",
       "      <td>225</td>\n",
       "      <td>...</td>\n",
       "      <td>1</td>\n",
       "      <td>211</td>\n",
       "      <td>189</td>\n",
       "      <td>7</td>\n",
       "      <td>67</td>\n",
       "      <td>59</td>\n",
       "      <td>9</td>\n",
       "      <td>0</td>\n",
       "      <td>0</td>\n",
       "      <td>2</td>\n",
       "    </tr>\n",
       "    <tr>\n",
       "      <th>2</th>\n",
       "      <td>224</td>\n",
       "      <td>221</td>\n",
       "      <td>225</td>\n",
       "      <td>218</td>\n",
       "      <td>216</td>\n",
       "      <td>219</td>\n",
       "      <td>217</td>\n",
       "      <td>215</td>\n",
       "      <td>218</td>\n",
       "      <td>215</td>\n",
       "      <td>...</td>\n",
       "      <td>76</td>\n",
       "      <td>118</td>\n",
       "      <td>98</td>\n",
       "      <td>79</td>\n",
       "      <td>136</td>\n",
       "      <td>112</td>\n",
       "      <td>89</td>\n",
       "      <td>161</td>\n",
       "      <td>136</td>\n",
       "      <td>111</td>\n",
       "    </tr>\n",
       "    <tr>\n",
       "      <th>3</th>\n",
       "      <td>255</td>\n",
       "      <td>255</td>\n",
       "      <td>255</td>\n",
       "      <td>255</td>\n",
       "      <td>255</td>\n",
       "      <td>255</td>\n",
       "      <td>255</td>\n",
       "      <td>255</td>\n",
       "      <td>255</td>\n",
       "      <td>255</td>\n",
       "      <td>...</td>\n",
       "      <td>255</td>\n",
       "      <td>255</td>\n",
       "      <td>255</td>\n",
       "      <td>255</td>\n",
       "      <td>255</td>\n",
       "      <td>255</td>\n",
       "      <td>255</td>\n",
       "      <td>255</td>\n",
       "      <td>255</td>\n",
       "      <td>255</td>\n",
       "    </tr>\n",
       "    <tr>\n",
       "      <th>4</th>\n",
       "      <td>255</td>\n",
       "      <td>255</td>\n",
       "      <td>255</td>\n",
       "      <td>255</td>\n",
       "      <td>255</td>\n",
       "      <td>255</td>\n",
       "      <td>255</td>\n",
       "      <td>255</td>\n",
       "      <td>255</td>\n",
       "      <td>255</td>\n",
       "      <td>...</td>\n",
       "      <td>255</td>\n",
       "      <td>255</td>\n",
       "      <td>255</td>\n",
       "      <td>255</td>\n",
       "      <td>255</td>\n",
       "      <td>255</td>\n",
       "      <td>255</td>\n",
       "      <td>255</td>\n",
       "      <td>255</td>\n",
       "      <td>255</td>\n",
       "    </tr>\n",
       "  </tbody>\n",
       "</table>\n",
       "<p>5 rows × 12288 columns</p>\n",
       "</div>\n",
       "      <button class=\"colab-df-convert\" onclick=\"convertToInteractive('df-97008fac-2c76-4a64-bdfb-232ff5123d7d')\"\n",
       "              title=\"Convert this dataframe to an interactive table.\"\n",
       "              style=\"display:none;\">\n",
       "        \n",
       "  <svg xmlns=\"http://www.w3.org/2000/svg\" height=\"24px\"viewBox=\"0 0 24 24\"\n",
       "       width=\"24px\">\n",
       "    <path d=\"M0 0h24v24H0V0z\" fill=\"none\"/>\n",
       "    <path d=\"M18.56 5.44l.94 2.06.94-2.06 2.06-.94-2.06-.94-.94-2.06-.94 2.06-2.06.94zm-11 1L8.5 8.5l.94-2.06 2.06-.94-2.06-.94L8.5 2.5l-.94 2.06-2.06.94zm10 10l.94 2.06.94-2.06 2.06-.94-2.06-.94-.94-2.06-.94 2.06-2.06.94z\"/><path d=\"M17.41 7.96l-1.37-1.37c-.4-.4-.92-.59-1.43-.59-.52 0-1.04.2-1.43.59L10.3 9.45l-7.72 7.72c-.78.78-.78 2.05 0 2.83L4 21.41c.39.39.9.59 1.41.59.51 0 1.02-.2 1.41-.59l7.78-7.78 2.81-2.81c.8-.78.8-2.07 0-2.86zM5.41 20L4 18.59l7.72-7.72 1.47 1.35L5.41 20z\"/>\n",
       "  </svg>\n",
       "      </button>\n",
       "      \n",
       "  <style>\n",
       "    .colab-df-container {\n",
       "      display:flex;\n",
       "      flex-wrap:wrap;\n",
       "      gap: 12px;\n",
       "    }\n",
       "\n",
       "    .colab-df-convert {\n",
       "      background-color: #E8F0FE;\n",
       "      border: none;\n",
       "      border-radius: 50%;\n",
       "      cursor: pointer;\n",
       "      display: none;\n",
       "      fill: #1967D2;\n",
       "      height: 32px;\n",
       "      padding: 0 0 0 0;\n",
       "      width: 32px;\n",
       "    }\n",
       "\n",
       "    .colab-df-convert:hover {\n",
       "      background-color: #E2EBFA;\n",
       "      box-shadow: 0px 1px 2px rgba(60, 64, 67, 0.3), 0px 1px 3px 1px rgba(60, 64, 67, 0.15);\n",
       "      fill: #174EA6;\n",
       "    }\n",
       "\n",
       "    [theme=dark] .colab-df-convert {\n",
       "      background-color: #3B4455;\n",
       "      fill: #D2E3FC;\n",
       "    }\n",
       "\n",
       "    [theme=dark] .colab-df-convert:hover {\n",
       "      background-color: #434B5C;\n",
       "      box-shadow: 0px 1px 3px 1px rgba(0, 0, 0, 0.15);\n",
       "      filter: drop-shadow(0px 1px 2px rgba(0, 0, 0, 0.3));\n",
       "      fill: #FFFFFF;\n",
       "    }\n",
       "  </style>\n",
       "\n",
       "      <script>\n",
       "        const buttonEl =\n",
       "          document.querySelector('#df-97008fac-2c76-4a64-bdfb-232ff5123d7d button.colab-df-convert');\n",
       "        buttonEl.style.display =\n",
       "          google.colab.kernel.accessAllowed ? 'block' : 'none';\n",
       "\n",
       "        async function convertToInteractive(key) {\n",
       "          const element = document.querySelector('#df-97008fac-2c76-4a64-bdfb-232ff5123d7d');\n",
       "          const dataTable =\n",
       "            await google.colab.kernel.invokeFunction('convertToInteractive',\n",
       "                                                     [key], {});\n",
       "          if (!dataTable) return;\n",
       "\n",
       "          const docLinkHtml = 'Like what you see? Visit the ' +\n",
       "            '<a target=\"_blank\" href=https://colab.research.google.com/notebooks/data_table.ipynb>data table notebook</a>'\n",
       "            + ' to learn more about interactive tables.';\n",
       "          element.innerHTML = '';\n",
       "          dataTable['output_type'] = 'display_data';\n",
       "          await google.colab.output.renderOutput(dataTable, element);\n",
       "          const docLink = document.createElement('div');\n",
       "          docLink.innerHTML = docLinkHtml;\n",
       "          element.appendChild(docLink);\n",
       "        }\n",
       "      </script>\n",
       "    </div>\n",
       "  </div>\n",
       "  "
      ],
      "text/plain": [
       "     0    1    2    3    4    5    6    7    8    9  ...  12278  12279  12280  \\\n",
       "0    0    0    0    0    0    0    0    0    0    0  ...      0      0      0   \n",
       "1  223  199    1  224  200    2  226  202    3  225  ...      1    211    189   \n",
       "2  224  221  225  218  216  219  217  215  218  215  ...     76    118     98   \n",
       "3  255  255  255  255  255  255  255  255  255  255  ...    255    255    255   \n",
       "4  255  255  255  255  255  255  255  255  255  255  ...    255    255    255   \n",
       "\n",
       "   12281  12282  12283  12284  12285  12286  12287  \n",
       "0      0      0      0      0      0      0      0  \n",
       "1      7     67     59      9      0      0      2  \n",
       "2     79    136    112     89    161    136    111  \n",
       "3    255    255    255    255    255    255    255  \n",
       "4    255    255    255    255    255    255    255  \n",
       "\n",
       "[5 rows x 12288 columns]"
      ]
     },
     "execution_count": 9,
     "metadata": {},
     "output_type": "execute_result"
    }
   ],
   "source": [
    "X.head()"
   ]
  },
  {
   "cell_type": "code",
   "execution_count": null,
   "metadata": {
    "colab": {
     "base_uri": "https://localhost:8080/"
    },
    "executionInfo": {
     "elapsed": 178,
     "status": "ok",
     "timestamp": 1681509078005,
     "user": {
      "displayName": "Florence Cheng",
      "userId": "06139676342662614610"
     },
     "user_tz": 420
    },
    "id": "RBz8FkCYMiQM",
    "outputId": "388017e9-4ade-42b2-efba-277f9205f3cd"
   },
   "outputs": [
    {
     "data": {
      "text/plain": [
       "500"
      ]
     },
     "execution_count": 10,
     "metadata": {},
     "output_type": "execute_result"
    }
   ],
   "source": [
    "X_rows"
   ]
  },
  {
   "cell_type": "markdown",
   "metadata": {
    "id": "giDCN76bvCBI"
   },
   "source": [
    "# Pre-processing"
   ]
  },
  {
   "cell_type": "code",
   "execution_count": null,
   "metadata": {
    "id": "IaLirdMIIGbe"
   },
   "outputs": [],
   "source": [
    "X_ar = X.to_numpy().reshape((X_rows, 64, 64, 3))"
   ]
  },
  {
   "cell_type": "code",
   "execution_count": null,
   "metadata": {
    "colab": {
     "base_uri": "https://localhost:8080/"
    },
    "executionInfo": {
     "elapsed": 4,
     "status": "ok",
     "timestamp": 1681509079279,
     "user": {
      "displayName": "Florence Cheng",
      "userId": "06139676342662614610"
     },
     "user_tz": 420
    },
    "id": "qdv8fS54IwLp",
    "outputId": "f53f558d-07c4-404f-dfa6-abc12b71b624"
   },
   "outputs": [
    {
     "data": {
      "text/plain": [
       "(64, 64, 3)"
      ]
     },
     "execution_count": 12,
     "metadata": {},
     "output_type": "execute_result"
    }
   ],
   "source": [
    "X_ar[0].shape"
   ]
  },
  {
   "cell_type": "code",
   "execution_count": null,
   "metadata": {
    "colab": {
     "base_uri": "https://localhost:8080/",
     "height": 450
    },
    "executionInfo": {
     "elapsed": 370,
     "status": "ok",
     "timestamp": 1681509082334,
     "user": {
      "displayName": "Florence Cheng",
      "userId": "06139676342662614610"
     },
     "user_tz": 420
    },
    "id": "aAFMD-49IIbm",
    "outputId": "47da3f72-1440-41df-cef3-304806a6c7fa"
   },
   "outputs": [
    {
     "data": {
      "text/plain": [
       "<matplotlib.image.AxesImage at 0x7fd73b514f40>"
      ]
     },
     "execution_count": 13,
     "metadata": {},
     "output_type": "execute_result"
    },
    {
     "data": {
      "image/png": "[encoded data removed]",
      "text/plain": [
       "<Figure size 640x480 with 1 Axes>"
      ]
     },
     "metadata": {},
     "output_type": "display_data"
    }
   ],
   "source": [
    "X0 = X_ar[0].reshape([64,64,3])\n",
    "plt.imshow(X0)"
   ]
  },
  {
   "cell_type": "code",
   "execution_count": null,
   "metadata": {
    "id": "QGZHJYPYC8An"
   },
   "outputs": [],
   "source": [
    "# normalize the image\n",
    "X_ar_normalized = X_ar / 255.0"
   ]
  },
  {
   "cell_type": "code",
   "execution_count": null,
   "metadata": {
    "colab": {
     "base_uri": "https://localhost:8080/"
    },
    "executionInfo": {
     "elapsed": 157,
     "status": "ok",
     "timestamp": 1681509091636,
     "user": {
      "displayName": "Florence Cheng",
      "userId": "06139676342662614610"
     },
     "user_tz": 420
    },
    "id": "JayYMHqM4YDE",
    "outputId": "7992ca6e-2a51-4bfa-e049-53a20253860f"
   },
   "outputs": [
    {
     "data": {
      "text/plain": [
       "0      Folding shoe box / Folding shoe box / Cheap tr...\n",
       "1                       Agar-agar double swallow 7 grams\n",
       "2           2 Liter KYOKAN Pump Sprayer And Other Brands\n",
       "3                         Lens Case Motif Character Line\n",
       "4                             Wheat Flour Hana Gold 1 Kg\n",
       "                             ...                        \n",
       "495                                Koko is a pious child\n",
       "496                        RK - VERONICA'S RIGHT TO KNOW\n",
       "497      Miranda Keratin Protein Hair Conditioner 100 ml\n",
       "498       [FREE JARING SOAP] Gluta Collagen Soap [READY]\n",
       "499                Touch Screen iGlove Motorcycle Gloves\n",
       "Name: title_translate, Length: 500, dtype: object"
      ]
     },
     "execution_count": 16,
     "metadata": {},
     "output_type": "execute_result"
    }
   ],
   "source": [
    "train['title_translate']"
   ]
  },
  {
   "cell_type": "code",
   "execution_count": null,
   "metadata": {
    "colab": {
     "base_uri": "https://localhost:8080/"
    },
    "executionInfo": {
     "elapsed": 842,
     "status": "ok",
     "timestamp": 1681509119607,
     "user": {
      "displayName": "Florence Cheng",
      "userId": "06139676342662614610"
     },
     "user_tz": 420
    },
    "id": "3e9MoGr6EY7n",
    "outputId": "019888b7-be5b-4e46-ebfc-121d5a1ad659"
   },
   "outputs": [
    {
     "name": "stderr",
     "output_type": "stream",
     "text": [
      "[nltk_data] Downloading package stopwords to /root/nltk_data...\n",
      "[nltk_data]   Unzipping corpora/stopwords.zip.\n"
     ]
    }
   ],
   "source": [
    "import re, string\n",
    "import nltk\n",
    "nltk.download('stopwords')\n",
    "from nltk.corpus import stopwords"
   ]
  },
  {
   "cell_type": "code",
   "execution_count": null,
   "metadata": {
    "id": "S951AXEWu6tr"
   },
   "outputs": [],
   "source": [
    "# function to clean the translated titles before embedding\n",
    "def clean_title(title):\n",
    "    # Remove all non-alphanumeric characters and convert to lowercase\n",
    "    clean1 = re.sub(r'[^a-zA-Z0-9\\s]', '', title).lower()\n",
    "    # Split the cleaned string into words\n",
    "    clean2 = re.split('\\W+', clean1)\n",
    "    # Remove stopwords and short words\n",
    "    title_cleaned = [word for word in clean2 if (word not in stopwords.words('english')) & (len(word) > 2)]\n",
    "    # Join the cleaned words using a space separator\n",
    "    title_cleaned = ' '.join(title_cleaned)\n",
    "    return title_cleaned"
   ]
  },
  {
   "cell_type": "code",
   "execution_count": null,
   "metadata": {
    "id": "69jfPxLTu92s"
   },
   "outputs": [],
   "source": [
    "# clean the title in the train dataset\n",
    "train['title_cleaned'] = train['title_translate'].apply(clean_title)"
   ]
  },
  {
   "cell_type": "code",
   "execution_count": null,
   "metadata": {
    "colab": {
     "base_uri": "https://localhost:8080/",
     "height": 1000
    },
    "executionInfo": {
     "elapsed": 221,
     "status": "ok",
     "timestamp": 1681509140690,
     "user": {
      "displayName": "Florence Cheng",
      "userId": "06139676342662614610"
     },
     "user_tz": 420
    },
    "id": "0oA9dMuxF5gv",
    "outputId": "1c93c6d8-6e24-4e16-eb1a-ee6ce91507ea"
   },
   "outputs": [
    {
     "data": {
      "text/html": [
       "\n",
       "  <div id=\"df-371ed057-de3a-45e2-8c49-28251aa8b326\">\n",
       "    <div class=\"colab-df-container\">\n",
       "      <div>\n",
       "<style scoped>\n",
       "    .dataframe tbody tr th:only-of-type {\n",
       "        vertical-align: middle;\n",
       "    }\n",
       "\n",
       "    .dataframe tbody tr th {\n",
       "        vertical-align: top;\n",
       "    }\n",
       "\n",
       "    .dataframe thead th {\n",
       "        text-align: right;\n",
       "    }\n",
       "</style>\n",
       "<table border=\"1\" class=\"dataframe\">\n",
       "  <thead>\n",
       "    <tr style=\"text-align: right;\">\n",
       "      <th></th>\n",
       "      <th>Index</th>\n",
       "      <th>posting_id</th>\n",
       "      <th>image</th>\n",
       "      <th>image_phash</th>\n",
       "      <th>title</th>\n",
       "      <th>label_group</th>\n",
       "      <th>title_translate</th>\n",
       "      <th>title_cleaned</th>\n",
       "    </tr>\n",
       "  </thead>\n",
       "  <tbody>\n",
       "    <tr>\n",
       "      <th>0</th>\n",
       "      <td>8805</td>\n",
       "      <td>train_2078523022</td>\n",
       "      <td>422eb8e592c3a89e8328133f4a4891c8.jpg</td>\n",
       "      <td>c1b6940f0f591bf4</td>\n",
       "      <td>Kotak Sepatu Lipat / Box Sepatu Lipat / Kotak ...</td>\n",
       "      <td>3486097762</td>\n",
       "      <td>Folding shoe box / Folding shoe box / Cheap tr...</td>\n",
       "      <td>folding shoe box folding shoe box cheap transp...</td>\n",
       "    </tr>\n",
       "    <tr>\n",
       "      <th>1</th>\n",
       "      <td>4135</td>\n",
       "      <td>train_177965756</td>\n",
       "      <td>1f83c76907311ee2b3d2e8fbf77adc56.jpg</td>\n",
       "      <td>b1cb792dc8ccc2d4</td>\n",
       "      <td>Agar-agar double swallow 7 gram</td>\n",
       "      <td>739195247</td>\n",
       "      <td>Agar-agar double swallow 7 grams</td>\n",
       "      <td>agaragar double swallow grams</td>\n",
       "    </tr>\n",
       "    <tr>\n",
       "      <th>2</th>\n",
       "      <td>16716</td>\n",
       "      <td>train_2485621759</td>\n",
       "      <td>7de256d8c2ef90fca570f60284016a08.jpg</td>\n",
       "      <td>d89895fbc6c4a83a</td>\n",
       "      <td>Sprayer Pompa KYOKAN 2 Liter Dan Merek Lain</td>\n",
       "      <td>1703159951</td>\n",
       "      <td>2 Liter KYOKAN Pump Sprayer And Other Brands</td>\n",
       "      <td>liter kyokan pump sprayer brands</td>\n",
       "    </tr>\n",
       "    <tr>\n",
       "      <th>3</th>\n",
       "      <td>7727</td>\n",
       "      <td>train_1226956020</td>\n",
       "      <td>3a5541d69dd5707342bd7bc23d2291b5.jpg</td>\n",
       "      <td>b23ee1cd9c328e1a</td>\n",
       "      <td>Lens Case Motif Character Line</td>\n",
       "      <td>3114936592</td>\n",
       "      <td>Lens Case Motif Character Line</td>\n",
       "      <td>lens case motif character line</td>\n",
       "    </tr>\n",
       "    <tr>\n",
       "      <th>4</th>\n",
       "      <td>32468</td>\n",
       "      <td>train_1217724113</td>\n",
       "      <td>f3538162e71bdffd0b295cc3cac93783.jpg</td>\n",
       "      <td>e5cdcc32929a93cc</td>\n",
       "      <td>Tepung Terigu Hana Emas 1 Kg</td>\n",
       "      <td>4031639568</td>\n",
       "      <td>Wheat Flour Hana Gold 1 Kg</td>\n",
       "      <td>wheat flour hana gold</td>\n",
       "    </tr>\n",
       "    <tr>\n",
       "      <th>5</th>\n",
       "      <td>29457</td>\n",
       "      <td>train_2982842615</td>\n",
       "      <td>dcbef03ef25f2b160e5b72723ec17a36.jpg</td>\n",
       "      <td>b2c5816c3b77816e</td>\n",
       "      <td>\\xe2\\x9d\\xa4\\xef\\xb8\\x8fCOCOLAND\\xe2\\x9d\\xa4\\x...</td>\n",
       "      <td>871679006</td>\n",
       "      <td>\\xe2\\x9d\\xa4\\xef\\xb8\\x8fCOCOLAND\\xe2\\x9d\\xa4\\x...</td>\n",
       "      <td>xe2x9dxa4xefxb8x8fcocolandxe2x9dxa4xefxb8x8f 0...</td>\n",
       "    </tr>\n",
       "    <tr>\n",
       "      <th>6</th>\n",
       "      <td>30949</td>\n",
       "      <td>train_725991339</td>\n",
       "      <td>e7d08552bf8bec191bd1a361d8c8b0c5.jpg</td>\n",
       "      <td>8f0ff01f706c0f64</td>\n",
       "      <td>GTA Hanger Folding Jemuran Baju Bulat Untuk Ba...</td>\n",
       "      <td>1202808302</td>\n",
       "      <td>GTA Hanger Folding Clothesline Round For Baby ...</td>\n",
       "      <td>gta hanger folding clothesline round baby clot...</td>\n",
       "    </tr>\n",
       "    <tr>\n",
       "      <th>7</th>\n",
       "      <td>24878</td>\n",
       "      <td>train_396267439</td>\n",
       "      <td>ba4ca85f3621eabe06ece82881379bc7.jpg</td>\n",
       "      <td>eadb3afc85250187</td>\n",
       "      <td>Baju Bayi 1 Pc Jumper Pendek / Jumper Panjang ...</td>\n",
       "      <td>3645608002</td>\n",
       "      <td>Baby clothes 1 Pc Short Jumper / Long Jumper /...</td>\n",
       "      <td>baby clothes short jumper long jumper romper p...</td>\n",
       "    </tr>\n",
       "    <tr>\n",
       "      <th>8</th>\n",
       "      <td>13759</td>\n",
       "      <td>train_37176863</td>\n",
       "      <td>679e9129e9f6ca443602d817c90bb452.jpg</td>\n",
       "      <td>9bce3285b4e5093b</td>\n",
       "      <td>Loyang kue BROWNIES tinggi 7cm | Loyang Perseg...</td>\n",
       "      <td>2951799757</td>\n",
       "      <td>BROWNIES cake pan 7cm high | Rectangular Bakin...</td>\n",
       "      <td>brownies cake pan 7cm high rectangular baking ...</td>\n",
       "    </tr>\n",
       "    <tr>\n",
       "      <th>9</th>\n",
       "      <td>6151</td>\n",
       "      <td>train_2275845071</td>\n",
       "      <td>2ead2b6ac1f7d9109517c9d030bf9fd4.jpg</td>\n",
       "      <td>f272caca84359d8d</td>\n",
       "      <td>Air Mineral Prima 330ml Isi 24 Pcs</td>\n",
       "      <td>3805795145</td>\n",
       "      <td>Prima Mineral Water 330ml Contents 24 Pcs</td>\n",
       "      <td>prima mineral water 330ml contents pcs</td>\n",
       "    </tr>\n",
       "    <tr>\n",
       "      <th>10</th>\n",
       "      <td>31972</td>\n",
       "      <td>train_1390366037</td>\n",
       "      <td>ef9c0d37414bb4c5c209243198b34cdd.jpg</td>\n",
       "      <td>f22dd6528d5a8d46</td>\n",
       "      <td>Beli 1 Gratis 1 Jam Tangan Pria/Wanita K-shock...</td>\n",
       "      <td>558174567</td>\n",
       "      <td>Buy 1 Get 1 Free Men's/Women's Watch K-shock D...</td>\n",
       "      <td>buy get free menswomens watch kshock digital wr30</td>\n",
       "    </tr>\n",
       "    <tr>\n",
       "      <th>11</th>\n",
       "      <td>1857</td>\n",
       "      <td>train_3846200994</td>\n",
       "      <td>0e506c4b5867a2a5947ae3b7cc2fd992.jpg</td>\n",
       "      <td>af94d06b943fc1c1</td>\n",
       "      <td>Izzi Fine Fragrance Body Mist 100mL</td>\n",
       "      <td>3658963802</td>\n",
       "      <td>Izzi Fine Fragrance Body Mist 100mL</td>\n",
       "      <td>izzi fine fragrance body mist 100ml</td>\n",
       "    </tr>\n",
       "    <tr>\n",
       "      <th>12</th>\n",
       "      <td>25546</td>\n",
       "      <td>train_1704869412</td>\n",
       "      <td>bf379f777ed35055a8eda82ac657ebc6.jpg</td>\n",
       "      <td>c9d0c4b228fa373b</td>\n",
       "      <td>FUNSTORE PENTIL LED NYALA LAMPU RODA BAN MOBIL...</td>\n",
       "      <td>1575763518</td>\n",
       "      <td>FUNSTORE LED PENTIL LIGHTS WHEEL LIGHTS CAR TI...</td>\n",
       "      <td>funstore led pentil lights wheel lights car ti...</td>\n",
       "    </tr>\n",
       "    <tr>\n",
       "      <th>13</th>\n",
       "      <td>28361</td>\n",
       "      <td>train_3989403655</td>\n",
       "      <td>d411fb7908a5059049e8216f06bec65a.jpg</td>\n",
       "      <td>ba12d6fd79a20e09</td>\n",
       "      <td>100% PREMIUM BNIB Sepatu Converse CT All Star ...</td>\n",
       "      <td>1405549222</td>\n",
       "      <td>100% PREMIUM BNIB Converse CT All Star 70s Sho...</td>\n",
       "      <td>100 premium bnib converse star 70s shoes egret...</td>\n",
       "    </tr>\n",
       "    <tr>\n",
       "      <th>14</th>\n",
       "      <td>138</td>\n",
       "      <td>train_2776660940</td>\n",
       "      <td>011e0d9393b1ff59e6420cdd956d8e92.jpg</td>\n",
       "      <td>8fca5ca743d16cc4</td>\n",
       "      <td>Bakso Sapi Super Special eSseM Food isi 50</td>\n",
       "      <td>1054236580</td>\n",
       "      <td>eSseM Food's Super Special Beef Meatball conta...</td>\n",
       "      <td>essem foods super special beef meatball contains</td>\n",
       "    </tr>\n",
       "    <tr>\n",
       "      <th>15</th>\n",
       "      <td>29188</td>\n",
       "      <td>train_2613499840</td>\n",
       "      <td>daba504a685bd78efafcf8d8b128a056.jpg</td>\n",
       "      <td>beccc0fca3d48323</td>\n",
       "      <td>BONCENGAN MOTOR ANAK/KURSI BONCENGAN MOTOR ANA...</td>\n",
       "      <td>1319159221</td>\n",
       "      <td>CHILDREN'S MOTORCYCLE SEAT / KIDS' MOTORCYCLE ...</td>\n",
       "      <td>childrens motorcycle seat kids motorcycle chai...</td>\n",
       "    </tr>\n",
       "    <tr>\n",
       "      <th>16</th>\n",
       "      <td>17454</td>\n",
       "      <td>train_2537515105</td>\n",
       "      <td>835ee92e8efc3274bbec4d10910d7fd9.jpg</td>\n",
       "      <td>be1cc7e3c3319c30</td>\n",
       "      <td>Some By Mi Serum AHA BHA PHA 30 Days Miracle S...</td>\n",
       "      <td>2389140369</td>\n",
       "      <td>Some By Mi Serum AHA BHA PHA 30 Days Miracle S...</td>\n",
       "      <td>serum aha bha pha days miracle serum original ...</td>\n",
       "    </tr>\n",
       "    <tr>\n",
       "      <th>17</th>\n",
       "      <td>14992</td>\n",
       "      <td>train_2769154320</td>\n",
       "      <td>70f4e7fa6f34fbac787917bd8994fad7.jpg</td>\n",
       "      <td>b061c31e3a626ecf</td>\n",
       "      <td>DERMAROLLER ORIGINAL / DERMAROLLER / perawatan...</td>\n",
       "      <td>775258014</td>\n",
       "      <td>DERMAROLLER ORIGINAL / DERMAROLLER / acne scar...</td>\n",
       "      <td>dermaroller original dermaroller acne scar tre...</td>\n",
       "    </tr>\n",
       "    <tr>\n",
       "      <th>18</th>\n",
       "      <td>6699</td>\n",
       "      <td>train_3791342306</td>\n",
       "      <td>32a5b8df3fe334689e5bca4621f3345b.jpg</td>\n",
       "      <td>8649f94ce10fcce9</td>\n",
       "      <td>Silica gel blue isi 100 sachet penyerap lembab...</td>\n",
       "      <td>673728657</td>\n",
       "      <td>Silica gel blue contains 100 sachets to absorb...</td>\n",
       "      <td>silica gel blue contains 100 sachets absorb mo...</td>\n",
       "    </tr>\n",
       "    <tr>\n",
       "      <th>19</th>\n",
       "      <td>20803</td>\n",
       "      <td>train_2965165091</td>\n",
       "      <td>9c3111f4bf6ad124305717fd7448b97e.jpg</td>\n",
       "      <td>bee6b903e3325065</td>\n",
       "      <td>TRIPOD SPIDER FREE HOLDER U TRIPOD HP MINI OCT...</td>\n",
       "      <td>359918838</td>\n",
       "      <td>TRIPOD SPIDER FREE HOLDER U TRIPOD HP MINI OCT...</td>\n",
       "      <td>tripod spider free holder tripod mini octopus ...</td>\n",
       "    </tr>\n",
       "    <tr>\n",
       "      <th>20</th>\n",
       "      <td>2004</td>\n",
       "      <td>train_1041834574</td>\n",
       "      <td>0f6647e2790f0f1289993e46fd1f9e69.jpg</td>\n",
       "      <td>94c1c833dfc4375a</td>\n",
       "      <td>Rak Kulkas Multifungis Storage Box Kulkas Orga...</td>\n",
       "      <td>3148488658</td>\n",
       "      <td>Multifunction Refrigerator Rack Storage Box Re...</td>\n",
       "      <td>multifunction refrigerator rack storage box re...</td>\n",
       "    </tr>\n",
       "    <tr>\n",
       "      <th>21</th>\n",
       "      <td>1462</td>\n",
       "      <td>train_3283221437</td>\n",
       "      <td>0b8207bd214999837bb51f5613bf65dc.jpg</td>\n",
       "      <td>ead18f3ee02f842c</td>\n",
       "      <td>Mixer V8 Soundcard External Audio Live Broadca...</td>\n",
       "      <td>1431939936</td>\n",
       "      <td>Mixer V8 Soundcard External Audio Live Broadca...</td>\n",
       "      <td>mixer soundcard external audio live broadcast ...</td>\n",
       "    </tr>\n",
       "    <tr>\n",
       "      <th>22</th>\n",
       "      <td>1667</td>\n",
       "      <td>train_4117448365</td>\n",
       "      <td>0cd275825c85632f9a3fad039740e08b.jpg</td>\n",
       "      <td>baa7c394854b9a1d</td>\n",
       "      <td>Termurah! Little Hippo Eco Popok Bayi Cuci Ula...</td>\n",
       "      <td>4092411351</td>\n",
       "      <td>Cheapest! Little Hippo Eco Baby Diapers Rewash...</td>\n",
       "      <td>cheapest little hippo eco baby diapers rewash ...</td>\n",
       "    </tr>\n",
       "    <tr>\n",
       "      <th>23</th>\n",
       "      <td>603</td>\n",
       "      <td>train_4168610580</td>\n",
       "      <td>04c97eebdd7586844a0bf288531a10a2.jpg</td>\n",
       "      <td>ae1f91f0d4c0da8b</td>\n",
       "      <td>Moko Moko My Precious Mascara Midnight Black</td>\n",
       "      <td>3036911820</td>\n",
       "      <td>Moko Moko My Precious Mascara Midnight Black</td>\n",
       "      <td>moko moko precious mascara midnight black</td>\n",
       "    </tr>\n",
       "    <tr>\n",
       "      <th>24</th>\n",
       "      <td>24982</td>\n",
       "      <td>train_1746812178</td>\n",
       "      <td>badaf6d77d28f7a386a04b82de2d42e9.jpg</td>\n",
       "      <td>d98ec6b4601db547</td>\n",
       "      <td>Mukenah anak karakter lol nyala  umur 3-5 th</td>\n",
       "      <td>580745263</td>\n",
       "      <td>Lol character children's mukenah turns on at t...</td>\n",
       "      <td>lol character childrens mukenah turns age years</td>\n",
       "    </tr>\n",
       "    <tr>\n",
       "      <th>25</th>\n",
       "      <td>14195</td>\n",
       "      <td>train_1257726382</td>\n",
       "      <td>6ab3e73f16d9a906e8180ed7762358d8.jpg</td>\n",
       "      <td>fe4689a98156665e</td>\n",
       "      <td>CIPUT RAJUT / BANDANA RAJUT</td>\n",
       "      <td>2943190190</td>\n",
       "      <td>CIPUT KNITTING / KNITTING BANDANA</td>\n",
       "      <td>ciput knitting knitting bandana</td>\n",
       "    </tr>\n",
       "    <tr>\n",
       "      <th>26</th>\n",
       "      <td>27663</td>\n",
       "      <td>train_1438299562</td>\n",
       "      <td>cf1fb6f25d4d6fb0a47f5facfe0126eb.jpg</td>\n",
       "      <td>be12e12f9ec1e198</td>\n",
       "      <td>Hand Mixer Mini Hongxin Elektrik / Pengocok Te...</td>\n",
       "      <td>2748623227</td>\n",
       "      <td>Hongxin Mini Electric Hand Mixer / Multipurpos...</td>\n",
       "      <td>hongxin mini electric hand mixer multipurpose ...</td>\n",
       "    </tr>\n",
       "    <tr>\n",
       "      <th>27</th>\n",
       "      <td>1903</td>\n",
       "      <td>train_3888241630</td>\n",
       "      <td>0eac1ff0a7ced04027a92d1b56d3e449.jpg</td>\n",
       "      <td>ec549749334ec535</td>\n",
       "      <td>baterai batere Awt type 18650 untuk senter swat</td>\n",
       "      <td>316640687</td>\n",
       "      <td>Awt type 18650 battery for swat flashlight</td>\n",
       "      <td>awt type 18650 battery swat flashlight</td>\n",
       "    </tr>\n",
       "    <tr>\n",
       "      <th>28</th>\n",
       "      <td>14528</td>\n",
       "      <td>train_1812681004</td>\n",
       "      <td>6d599ed567c96c801a5a43c4be6be123.jpg</td>\n",
       "      <td>fa789487952f6264</td>\n",
       "      <td>GAS SPONTAN YZ YAMAHA THAILAND ASLII</td>\n",
       "      <td>4199333098</td>\n",
       "      <td>GENUINE YZ YAMAHA THAILAND SPONTAN GAS</td>\n",
       "      <td>genuine yamaha thailand spontan gas</td>\n",
       "    </tr>\n",
       "    <tr>\n",
       "      <th>29</th>\n",
       "      <td>28697</td>\n",
       "      <td>train_3704635344</td>\n",
       "      <td>d6a5bc34bec91d7e7f21fcccbeb8761a.jpg</td>\n",
       "      <td>ea94956b946ad16a</td>\n",
       "      <td>Knot hat</td>\n",
       "      <td>279589368</td>\n",
       "      <td>Knot hat</td>\n",
       "      <td>knot hat</td>\n",
       "    </tr>\n",
       "  </tbody>\n",
       "</table>\n",
       "</div>\n",
       "      <button class=\"colab-df-convert\" onclick=\"convertToInteractive('df-371ed057-de3a-45e2-8c49-28251aa8b326')\"\n",
       "              title=\"Convert this dataframe to an interactive table.\"\n",
       "              style=\"display:none;\">\n",
       "        \n",
       "  <svg xmlns=\"http://www.w3.org/2000/svg\" height=\"24px\"viewBox=\"0 0 24 24\"\n",
       "       width=\"24px\">\n",
       "    <path d=\"M0 0h24v24H0V0z\" fill=\"none\"/>\n",
       "    <path d=\"M18.56 5.44l.94 2.06.94-2.06 2.06-.94-2.06-.94-.94-2.06-.94 2.06-2.06.94zm-11 1L8.5 8.5l.94-2.06 2.06-.94-2.06-.94L8.5 2.5l-.94 2.06-2.06.94zm10 10l.94 2.06.94-2.06 2.06-.94-2.06-.94-.94-2.06-.94 2.06-2.06.94z\"/><path d=\"M17.41 7.96l-1.37-1.37c-.4-.4-.92-.59-1.43-.59-.52 0-1.04.2-1.43.59L10.3 9.45l-7.72 7.72c-.78.78-.78 2.05 0 2.83L4 21.41c.39.39.9.59 1.41.59.51 0 1.02-.2 1.41-.59l7.78-7.78 2.81-2.81c.8-.78.8-2.07 0-2.86zM5.41 20L4 18.59l7.72-7.72 1.47 1.35L5.41 20z\"/>\n",
       "  </svg>\n",
       "      </button>\n",
       "      \n",
       "  <style>\n",
       "    .colab-df-container {\n",
       "      display:flex;\n",
       "      flex-wrap:wrap;\n",
       "      gap: 12px;\n",
       "    }\n",
       "\n",
       "    .colab-df-convert {\n",
       "      background-color: #E8F0FE;\n",
       "      border: none;\n",
       "      border-radius: 50%;\n",
       "      cursor: pointer;\n",
       "      display: none;\n",
       "      fill: #1967D2;\n",
       "      height: 32px;\n",
       "      padding: 0 0 0 0;\n",
       "      width: 32px;\n",
       "    }\n",
       "\n",
       "    .colab-df-convert:hover {\n",
       "      background-color: #E2EBFA;\n",
       "      box-shadow: 0px 1px 2px rgba(60, 64, 67, 0.3), 0px 1px 3px 1px rgba(60, 64, 67, 0.15);\n",
       "      fill: #174EA6;\n",
       "    }\n",
       "\n",
       "    [theme=dark] .colab-df-convert {\n",
       "      background-color: #3B4455;\n",
       "      fill: #D2E3FC;\n",
       "    }\n",
       "\n",
       "    [theme=dark] .colab-df-convert:hover {\n",
       "      background-color: #434B5C;\n",
       "      box-shadow: 0px 1px 3px 1px rgba(0, 0, 0, 0.15);\n",
       "      filter: drop-shadow(0px 1px 2px rgba(0, 0, 0, 0.3));\n",
       "      fill: #FFFFFF;\n",
       "    }\n",
       "  </style>\n",
       "\n",
       "      <script>\n",
       "        const buttonEl =\n",
       "          document.querySelector('#df-371ed057-de3a-45e2-8c49-28251aa8b326 button.colab-df-convert');\n",
       "        buttonEl.style.display =\n",
       "          google.colab.kernel.accessAllowed ? 'block' : 'none';\n",
       "\n",
       "        async function convertToInteractive(key) {\n",
       "          const element = document.querySelector('#df-371ed057-de3a-45e2-8c49-28251aa8b326');\n",
       "          const dataTable =\n",
       "            await google.colab.kernel.invokeFunction('convertToInteractive',\n",
       "                                                     [key], {});\n",
       "          if (!dataTable) return;\n",
       "\n",
       "          const docLinkHtml = 'Like what you see? Visit the ' +\n",
       "            '<a target=\"_blank\" href=https://colab.research.google.com/notebooks/data_table.ipynb>data table notebook</a>'\n",
       "            + ' to learn more about interactive tables.';\n",
       "          element.innerHTML = '';\n",
       "          dataTable['output_type'] = 'display_data';\n",
       "          await google.colab.output.renderOutput(dataTable, element);\n",
       "          const docLink = document.createElement('div');\n",
       "          docLink.innerHTML = docLinkHtml;\n",
       "          element.appendChild(docLink);\n",
       "        }\n",
       "      </script>\n",
       "    </div>\n",
       "  </div>\n",
       "  "
      ],
      "text/plain": [
       "    Index        posting_id                                 image  \\\n",
       "0    8805  train_2078523022  422eb8e592c3a89e8328133f4a4891c8.jpg   \n",
       "1    4135   train_177965756  1f83c76907311ee2b3d2e8fbf77adc56.jpg   \n",
       "2   16716  train_2485621759  7de256d8c2ef90fca570f60284016a08.jpg   \n",
       "3    7727  train_1226956020  3a5541d69dd5707342bd7bc23d2291b5.jpg   \n",
       "4   32468  train_1217724113  f3538162e71bdffd0b295cc3cac93783.jpg   \n",
       "5   29457  train_2982842615  dcbef03ef25f2b160e5b72723ec17a36.jpg   \n",
       "6   30949   train_725991339  e7d08552bf8bec191bd1a361d8c8b0c5.jpg   \n",
       "7   24878   train_396267439  ba4ca85f3621eabe06ece82881379bc7.jpg   \n",
       "8   13759    train_37176863  679e9129e9f6ca443602d817c90bb452.jpg   \n",
       "9    6151  train_2275845071  2ead2b6ac1f7d9109517c9d030bf9fd4.jpg   \n",
       "10  31972  train_1390366037  ef9c0d37414bb4c5c209243198b34cdd.jpg   \n",
       "11   1857  train_3846200994  0e506c4b5867a2a5947ae3b7cc2fd992.jpg   \n",
       "12  25546  train_1704869412  bf379f777ed35055a8eda82ac657ebc6.jpg   \n",
       "13  28361  train_3989403655  d411fb7908a5059049e8216f06bec65a.jpg   \n",
       "14    138  train_2776660940  011e0d9393b1ff59e6420cdd956d8e92.jpg   \n",
       "15  29188  train_2613499840  daba504a685bd78efafcf8d8b128a056.jpg   \n",
       "16  17454  train_2537515105  835ee92e8efc3274bbec4d10910d7fd9.jpg   \n",
       "17  14992  train_2769154320  70f4e7fa6f34fbac787917bd8994fad7.jpg   \n",
       "18   6699  train_3791342306  32a5b8df3fe334689e5bca4621f3345b.jpg   \n",
       "19  20803  train_2965165091  9c3111f4bf6ad124305717fd7448b97e.jpg   \n",
       "20   2004  train_1041834574  0f6647e2790f0f1289993e46fd1f9e69.jpg   \n",
       "21   1462  train_3283221437  0b8207bd214999837bb51f5613bf65dc.jpg   \n",
       "22   1667  train_4117448365  0cd275825c85632f9a3fad039740e08b.jpg   \n",
       "23    603  train_4168610580  04c97eebdd7586844a0bf288531a10a2.jpg   \n",
       "24  24982  train_1746812178  badaf6d77d28f7a386a04b82de2d42e9.jpg   \n",
       "25  14195  train_1257726382  6ab3e73f16d9a906e8180ed7762358d8.jpg   \n",
       "26  27663  train_1438299562  cf1fb6f25d4d6fb0a47f5facfe0126eb.jpg   \n",
       "27   1903  train_3888241630  0eac1ff0a7ced04027a92d1b56d3e449.jpg   \n",
       "28  14528  train_1812681004  6d599ed567c96c801a5a43c4be6be123.jpg   \n",
       "29  28697  train_3704635344  d6a5bc34bec91d7e7f21fcccbeb8761a.jpg   \n",
       "\n",
       "         image_phash                                              title  \\\n",
       "0   c1b6940f0f591bf4  Kotak Sepatu Lipat / Box Sepatu Lipat / Kotak ...   \n",
       "1   b1cb792dc8ccc2d4                    Agar-agar double swallow 7 gram   \n",
       "2   d89895fbc6c4a83a        Sprayer Pompa KYOKAN 2 Liter Dan Merek Lain   \n",
       "3   b23ee1cd9c328e1a                     Lens Case Motif Character Line   \n",
       "4   e5cdcc32929a93cc                       Tepung Terigu Hana Emas 1 Kg   \n",
       "5   b2c5816c3b77816e  \\xe2\\x9d\\xa4\\xef\\xb8\\x8fCOCOLAND\\xe2\\x9d\\xa4\\x...   \n",
       "6   8f0ff01f706c0f64  GTA Hanger Folding Jemuran Baju Bulat Untuk Ba...   \n",
       "7   eadb3afc85250187  Baju Bayi 1 Pc Jumper Pendek / Jumper Panjang ...   \n",
       "8   9bce3285b4e5093b  Loyang kue BROWNIES tinggi 7cm | Loyang Perseg...   \n",
       "9   f272caca84359d8d                 Air Mineral Prima 330ml Isi 24 Pcs   \n",
       "10  f22dd6528d5a8d46  Beli 1 Gratis 1 Jam Tangan Pria/Wanita K-shock...   \n",
       "11  af94d06b943fc1c1                Izzi Fine Fragrance Body Mist 100mL   \n",
       "12  c9d0c4b228fa373b  FUNSTORE PENTIL LED NYALA LAMPU RODA BAN MOBIL...   \n",
       "13  ba12d6fd79a20e09  100% PREMIUM BNIB Sepatu Converse CT All Star ...   \n",
       "14  8fca5ca743d16cc4         Bakso Sapi Super Special eSseM Food isi 50   \n",
       "15  beccc0fca3d48323  BONCENGAN MOTOR ANAK/KURSI BONCENGAN MOTOR ANA...   \n",
       "16  be1cc7e3c3319c30  Some By Mi Serum AHA BHA PHA 30 Days Miracle S...   \n",
       "17  b061c31e3a626ecf  DERMAROLLER ORIGINAL / DERMAROLLER / perawatan...   \n",
       "18  8649f94ce10fcce9  Silica gel blue isi 100 sachet penyerap lembab...   \n",
       "19  bee6b903e3325065  TRIPOD SPIDER FREE HOLDER U TRIPOD HP MINI OCT...   \n",
       "20  94c1c833dfc4375a  Rak Kulkas Multifungis Storage Box Kulkas Orga...   \n",
       "21  ead18f3ee02f842c  Mixer V8 Soundcard External Audio Live Broadca...   \n",
       "22  baa7c394854b9a1d  Termurah! Little Hippo Eco Popok Bayi Cuci Ula...   \n",
       "23  ae1f91f0d4c0da8b       Moko Moko My Precious Mascara Midnight Black   \n",
       "24  d98ec6b4601db547       Mukenah anak karakter lol nyala  umur 3-5 th   \n",
       "25  fe4689a98156665e                        CIPUT RAJUT / BANDANA RAJUT   \n",
       "26  be12e12f9ec1e198  Hand Mixer Mini Hongxin Elektrik / Pengocok Te...   \n",
       "27  ec549749334ec535    baterai batere Awt type 18650 untuk senter swat   \n",
       "28  fa789487952f6264               GAS SPONTAN YZ YAMAHA THAILAND ASLII   \n",
       "29  ea94956b946ad16a                                           Knot hat   \n",
       "\n",
       "    label_group                                    title_translate  \\\n",
       "0    3486097762  Folding shoe box / Folding shoe box / Cheap tr...   \n",
       "1     739195247                   Agar-agar double swallow 7 grams   \n",
       "2    1703159951       2 Liter KYOKAN Pump Sprayer And Other Brands   \n",
       "3    3114936592                     Lens Case Motif Character Line   \n",
       "4    4031639568                         Wheat Flour Hana Gold 1 Kg   \n",
       "5     871679006  \\xe2\\x9d\\xa4\\xef\\xb8\\x8fCOCOLAND\\xe2\\x9d\\xa4\\x...   \n",
       "6    1202808302  GTA Hanger Folding Clothesline Round For Baby ...   \n",
       "7    3645608002  Baby clothes 1 Pc Short Jumper / Long Jumper /...   \n",
       "8    2951799757  BROWNIES cake pan 7cm high | Rectangular Bakin...   \n",
       "9    3805795145          Prima Mineral Water 330ml Contents 24 Pcs   \n",
       "10    558174567  Buy 1 Get 1 Free Men's/Women's Watch K-shock D...   \n",
       "11   3658963802                Izzi Fine Fragrance Body Mist 100mL   \n",
       "12   1575763518  FUNSTORE LED PENTIL LIGHTS WHEEL LIGHTS CAR TI...   \n",
       "13   1405549222  100% PREMIUM BNIB Converse CT All Star 70s Sho...   \n",
       "14   1054236580  eSseM Food's Super Special Beef Meatball conta...   \n",
       "15   1319159221  CHILDREN'S MOTORCYCLE SEAT / KIDS' MOTORCYCLE ...   \n",
       "16   2389140369  Some By Mi Serum AHA BHA PHA 30 Days Miracle S...   \n",
       "17    775258014  DERMAROLLER ORIGINAL / DERMAROLLER / acne scar...   \n",
       "18    673728657  Silica gel blue contains 100 sachets to absorb...   \n",
       "19    359918838  TRIPOD SPIDER FREE HOLDER U TRIPOD HP MINI OCT...   \n",
       "20   3148488658  Multifunction Refrigerator Rack Storage Box Re...   \n",
       "21   1431939936  Mixer V8 Soundcard External Audio Live Broadca...   \n",
       "22   4092411351  Cheapest! Little Hippo Eco Baby Diapers Rewash...   \n",
       "23   3036911820       Moko Moko My Precious Mascara Midnight Black   \n",
       "24    580745263  Lol character children's mukenah turns on at t...   \n",
       "25   2943190190                  CIPUT KNITTING / KNITTING BANDANA   \n",
       "26   2748623227  Hongxin Mini Electric Hand Mixer / Multipurpos...   \n",
       "27    316640687         Awt type 18650 battery for swat flashlight   \n",
       "28   4199333098             GENUINE YZ YAMAHA THAILAND SPONTAN GAS   \n",
       "29    279589368                                           Knot hat   \n",
       "\n",
       "                                        title_cleaned  \n",
       "0   folding shoe box folding shoe box cheap transp...  \n",
       "1                       agaragar double swallow grams  \n",
       "2                    liter kyokan pump sprayer brands  \n",
       "3                      lens case motif character line  \n",
       "4                               wheat flour hana gold  \n",
       "5   xe2x9dxa4xefxb8x8fcocolandxe2x9dxa4xefxb8x8f 0...  \n",
       "6   gta hanger folding clothesline round baby clot...  \n",
       "7   baby clothes short jumper long jumper romper p...  \n",
       "8   brownies cake pan 7cm high rectangular baking ...  \n",
       "9              prima mineral water 330ml contents pcs  \n",
       "10  buy get free menswomens watch kshock digital wr30  \n",
       "11                izzi fine fragrance body mist 100ml  \n",
       "12  funstore led pentil lights wheel lights car ti...  \n",
       "13  100 premium bnib converse star 70s shoes egret...  \n",
       "14   essem foods super special beef meatball contains  \n",
       "15  childrens motorcycle seat kids motorcycle chai...  \n",
       "16  serum aha bha pha days miracle serum original ...  \n",
       "17  dermaroller original dermaroller acne scar tre...  \n",
       "18  silica gel blue contains 100 sachets absorb mo...  \n",
       "19  tripod spider free holder tripod mini octopus ...  \n",
       "20  multifunction refrigerator rack storage box re...  \n",
       "21  mixer soundcard external audio live broadcast ...  \n",
       "22  cheapest little hippo eco baby diapers rewash ...  \n",
       "23          moko moko precious mascara midnight black  \n",
       "24    lol character childrens mukenah turns age years  \n",
       "25                    ciput knitting knitting bandana  \n",
       "26  hongxin mini electric hand mixer multipurpose ...  \n",
       "27             awt type 18650 battery swat flashlight  \n",
       "28                genuine yamaha thailand spontan gas  \n",
       "29                                           knot hat  "
      ]
     },
     "execution_count": 21,
     "metadata": {},
     "output_type": "execute_result"
    }
   ],
   "source": [
    "train.head(30)"
   ]
  },
  {
   "cell_type": "markdown",
   "metadata": {
    "id": "wZxxnBb7vIS1"
   },
   "source": [
    "# Model 1: Keras-CNN Images Only"
   ]
  },
  {
   "cell_type": "code",
   "execution_count": null,
   "metadata": {
    "colab": {
     "base_uri": "https://localhost:8080/"
    },
    "executionInfo": {
     "elapsed": 157,
     "status": "ok",
     "timestamp": 1681509166588,
     "user": {
      "displayName": "Florence Cheng",
      "userId": "06139676342662614610"
     },
     "user_tz": 420
    },
    "id": "k2_Qx4zUGMO0",
    "outputId": "8f6954f2-4a78-4f98-c0a5-d9a8d39a5865"
   },
   "outputs": [
    {
     "name": "stdout",
     "output_type": "stream",
     "text": [
      "(500, 487)\n",
      "487\n"
     ]
    }
   ],
   "source": [
    "# label pre-processing: convert to group then perform onehot encoding\n",
    "\n",
    "from sklearn.preprocessing import LabelEncoder\n",
    "from tensorflow.keras.utils import to_categorical\n",
    "\n",
    "# convert labels to integers using LabelEncoder\n",
    "le = LabelEncoder()\n",
    "labels_int = le.fit_transform(train['label_group'])\n",
    "\n",
    "# one-hot encode the labels using to_categorical\n",
    "y = to_categorical(labels_int)\n",
    "\n",
    "# print the shape of the one-hot encoded labels\n",
    "print(y.shape)\n",
    "print(y.shape[1])"
   ]
  },
  {
   "cell_type": "code",
   "execution_count": null,
   "metadata": {
    "id": "y5mD5IxSISQi"
   },
   "outputs": [],
   "source": [
    "# split to training and validation dataset\n",
    "X_image_train, X_image_val, y_train, y_val = train_test_split(X_ar_normalized, y, test_size=0.2, random_state=1234)"
   ]
  },
  {
   "cell_type": "code",
   "execution_count": null,
   "metadata": {
    "id": "0SZUNJbeNrCi"
   },
   "outputs": [],
   "source": [
    "# Define the architecture of the CNN model\n",
    "model = tf.keras.Sequential([\n",
    "    layers.Conv2D(32, (3, 3), activation='relu', input_shape=X_ar_normalized.shape[1:]),\n",
    "    layers.MaxPooling2D((2, 2)),\n",
    "    layers.Dropout(0.25),  # add dropout here\n",
    "    layers.Conv2D(64, (3, 3), activation='relu'),\n",
    "    layers.MaxPooling2D((2, 2)),\n",
    "    layers.Dropout(0.25),  # add dropout here\n",
    "    layers.Conv2D(64, (3, 3), activation='relu'),\n",
    "    layers.Flatten(),\n",
    "    layers.Dropout(0.25),  # add dropout here\n",
    "    layers.Dense(64, activation='relu'),\n",
    "    layers.Dense(y.shape[1])\n",
    "])"
   ]
  },
  {
   "cell_type": "code",
   "execution_count": null,
   "metadata": {
    "colab": {
     "base_uri": "https://localhost:8080/"
    },
    "executionInfo": {
     "elapsed": 8,
     "status": "ok",
     "timestamp": 1681499301644,
     "user": {
      "displayName": "Florence Cheng",
      "userId": "06139676342662614610"
     },
     "user_tz": 420
    },
    "id": "bWCLJbPMKvwl",
    "outputId": "75902eea-d4da-4cbd-a8f1-0cacf95f5cb2"
   },
   "outputs": [
    {
     "name": "stdout",
     "output_type": "stream",
     "text": [
      "Model: \"sequential_1461\"\n",
      "_________________________________________________________________\n",
      " Layer (type)                Output Shape              Param #   \n",
      "=================================================================\n",
      " conv2d_4383 (Conv2D)        (None, 62, 62, 32)        896       \n",
      "                                                                 \n",
      " max_pooling2d_4383 (MaxPool  (None, 31, 31, 32)       0         \n",
      " ing2D)                                                          \n",
      "                                                                 \n",
      " dropout_4383 (Dropout)      (None, 31, 31, 32)        0         \n",
      "                                                                 \n",
      " conv2d_4384 (Conv2D)        (None, 29, 29, 64)        18496     \n",
      "                                                                 \n",
      " max_pooling2d_4384 (MaxPool  (None, 14, 14, 64)       0         \n",
      " ing2D)                                                          \n",
      "                                                                 \n",
      " dropout_4384 (Dropout)      (None, 14, 14, 64)        0         \n",
      "                                                                 \n",
      " conv2d_4385 (Conv2D)        (None, 12, 12, 64)        36928     \n",
      "                                                                 \n",
      " flatten_1461 (Flatten)      (None, 9216)              0         \n",
      "                                                                 \n",
      " dropout_4385 (Dropout)      (None, 9216)              0         \n",
      "                                                                 \n",
      " dense_2922 (Dense)          (None, 64)                589888    \n",
      "                                                                 \n",
      " dense_2923 (Dense)          (None, 487)               31655     \n",
      "                                                                 \n",
      "=================================================================\n",
      "Total params: 677,863\n",
      "Trainable params: 677,863\n",
      "Non-trainable params: 0\n",
      "_________________________________________________________________\n"
     ]
    }
   ],
   "source": [
    "model.summary()"
   ]
  },
  {
   "cell_type": "code",
   "execution_count": null,
   "metadata": {
    "id": "khGl4nVpLAdk"
   },
   "outputs": [],
   "source": [
    "# Compile the model\n",
    "model.compile(optimizer='adam', loss='categorical_crossentropy', metrics=['accuracy'])"
   ]
  },
  {
   "cell_type": "code",
   "execution_count": null,
   "metadata": {
    "colab": {
     "base_uri": "https://localhost:8080/"
    },
    "executionInfo": {
     "elapsed": 155,
     "status": "ok",
     "timestamp": 1681499304624,
     "user": {
      "displayName": "Florence Cheng",
      "userId": "06139676342662614610"
     },
     "user_tz": 420
    },
    "id": "K9g_-RRXRfau",
    "outputId": "89a804bb-9a05-4cba-9402-6318d6e41c87"
   },
   "outputs": [
    {
     "name": "stdout",
     "output_type": "stream",
     "text": [
      "4/4 [==============================] - 0s 34ms/step\n"
     ]
    }
   ],
   "source": [
    "# Get the predicted probabilities for each class on the validation set\n",
    "y_pred_prob = model.predict(X_image_val)\n",
    "\n",
    "# Get the predicted labels\n",
    "y_pred = np.argmax(y_pred_prob, axis=1)"
   ]
  },
  {
   "cell_type": "code",
   "execution_count": null,
   "metadata": {
    "colab": {
     "base_uri": "https://localhost:8080/"
    },
    "executionInfo": {
     "elapsed": 10849,
     "status": "ok",
     "timestamp": 1681499347665,
     "user": {
      "displayName": "Florence Cheng",
      "userId": "06139676342662614610"
     },
     "user_tz": 420
    },
    "id": "PUnaI47eLFaA",
    "outputId": "e1390031-4b2e-4feb-9716-78dfd3b51de9"
   },
   "outputs": [
    {
     "name": "stdout",
     "output_type": "stream",
     "text": [
      "Epoch 1/10\n",
      "13/13 [==============================] - 1s 105ms/step - loss: 9.3035 - accuracy: 0.0025 - val_loss: 9.0247 - val_accuracy: 0.0000e+00\n",
      "Epoch 2/10\n",
      "13/13 [==============================] - 1s 83ms/step - loss: 10.1983 - accuracy: 0.0025 - val_loss: 9.0877 - val_accuracy: 0.0000e+00\n",
      "Epoch 3/10\n",
      "13/13 [==============================] - 1s 82ms/step - loss: 9.5011 - accuracy: 0.0025 - val_loss: 10.2191 - val_accuracy: 0.0000e+00\n",
      "Epoch 4/10\n",
      "13/13 [==============================] - 1s 55ms/step - loss: 9.9255 - accuracy: 0.0025 - val_loss: 9.1596 - val_accuracy: 0.0000e+00\n",
      "Epoch 5/10\n",
      "13/13 [==============================] - 1s 60ms/step - loss: 10.3654 - accuracy: 0.0025 - val_loss: 9.2535 - val_accuracy: 0.0000e+00\n",
      "Epoch 6/10\n",
      "13/13 [==============================] - 1s 60ms/step - loss: 10.2838 - accuracy: 0.0025 - val_loss: 9.2208 - val_accuracy: 0.0000e+00\n",
      "Epoch 7/10\n",
      "13/13 [==============================] - 1s 55ms/step - loss: 9.9580 - accuracy: 0.0025 - val_loss: 8.4678 - val_accuracy: 0.0000e+00\n",
      "Epoch 8/10\n",
      "13/13 [==============================] - 1s 56ms/step - loss: 8.9055 - accuracy: 0.0025 - val_loss: 9.8041 - val_accuracy: 0.0000e+00\n",
      "Epoch 9/10\n",
      "13/13 [==============================] - 1s 56ms/step - loss: 9.2290 - accuracy: 0.0025 - val_loss: 9.9799 - val_accuracy: 0.0000e+00\n",
      "Epoch 10/10\n",
      "13/13 [==============================] - 1s 58ms/step - loss: 9.0270 - accuracy: 0.0025 - val_loss: 9.3413 - val_accuracy: 0.0000e+00\n"
     ]
    }
   ],
   "source": [
    "# Train the model\n",
    "history = model.fit(X_image_train, \n",
    "          y_train, \n",
    "          epochs=10, \n",
    "          batch_size=32, validation_data=(X_image_val, y_val))"
   ]
  },
  {
   "cell_type": "code",
   "execution_count": null,
   "metadata": {
    "id": "9Q8zTEa6RWZs"
   },
   "outputs": [],
   "source": [
    "val_acc = history.history['val_accuracy']\n",
    "confidence_level = y_pred_prob[np.arange(len(y_pred)), y_pred]"
   ]
  },
  {
   "cell_type": "code",
   "execution_count": null,
   "metadata": {
    "colab": {
     "base_uri": "https://localhost:8080/"
    },
    "executionInfo": {
     "elapsed": 460,
     "status": "ok",
     "timestamp": 1681499355419,
     "user": {
      "displayName": "Florence Cheng",
      "userId": "06139676342662614610"
     },
     "user_tz": 420
    },
    "id": "1MFXostNPP-Q",
    "outputId": "c9ba4f37-0589-4aab-c0ce-fd733968882f"
   },
   "outputs": [
    {
     "name": "stdout",
     "output_type": "stream",
     "text": [
      "Predicted label: 383 with confidence level: 0.1209719\n",
      "Predicted label: 12 with confidence level: 0.10167323\n",
      "Predicted label: 12 with confidence level: 0.1183842\n",
      "Predicted label: 383 with confidence level: 0.12360296\n",
      "Predicted label: 340 with confidence level: 0.059681997\n",
      "Predicted label: 12 with confidence level: 0.09141751\n",
      "Predicted label: 383 with confidence level: 0.11513262\n",
      "Predicted label: 12 with confidence level: 0.11317882\n",
      "Predicted label: 125 with confidence level: 0.08825041\n",
      "Predicted label: 302 with confidence level: 0.10617457\n",
      "Predicted label: 12 with confidence level: 0.09632969\n",
      "Predicted label: 12 with confidence level: 0.14382145\n",
      "Predicted label: 272 with confidence level: 0.0457661\n",
      "Predicted label: 383 with confidence level: 0.10723706\n",
      "Predicted label: 85 with confidence level: 0.069563866\n",
      "Predicted label: 383 with confidence level: 0.120838\n",
      "Predicted label: 383 with confidence level: 0.111687884\n",
      "Predicted label: 12 with confidence level: 0.12695199\n",
      "Predicted label: 383 with confidence level: 0.1195236\n",
      "Predicted label: 12 with confidence level: 0.09557809\n",
      "Predicted label: 12 with confidence level: 0.10980061\n",
      "Predicted label: 12 with confidence level: 0.11818981\n",
      "Predicted label: 12 with confidence level: 0.1089182\n",
      "Predicted label: 12 with confidence level: 0.14591913\n",
      "Predicted label: 12 with confidence level: 0.10130343\n",
      "Predicted label: 12 with confidence level: 0.12583564\n",
      "Predicted label: 291 with confidence level: 0.09794979\n",
      "Predicted label: 383 with confidence level: 0.11841397\n",
      "Predicted label: 291 with confidence level: 0.1209238\n",
      "Predicted label: 383 with confidence level: 0.11812694\n",
      "Predicted label: 409 with confidence level: 0.038925946\n",
      "Predicted label: 383 with confidence level: 0.1217964\n",
      "Predicted label: 12 with confidence level: 0.12422478\n",
      "Predicted label: 383 with confidence level: 0.09310028\n",
      "Predicted label: 12 with confidence level: 0.0980633\n",
      "Predicted label: 332 with confidence level: 0.11234279\n",
      "Predicted label: 12 with confidence level: 0.11059538\n",
      "Predicted label: 383 with confidence level: 0.13485783\n",
      "Predicted label: 383 with confidence level: 0.11664933\n",
      "Predicted label: 383 with confidence level: 0.11076001\n",
      "Predicted label: 12 with confidence level: 0.10053027\n",
      "Predicted label: 414 with confidence level: 0.10633018\n",
      "Predicted label: 12 with confidence level: 0.12430288\n",
      "Predicted label: 383 with confidence level: 0.10073763\n",
      "Predicted label: 383 with confidence level: 0.118638024\n",
      "Predicted label: 369 with confidence level: 0.09311481\n",
      "Predicted label: 298 with confidence level: 0.08843446\n",
      "Predicted label: 12 with confidence level: 0.10396108\n",
      "Predicted label: 383 with confidence level: 0.09479034\n",
      "Predicted label: 12 with confidence level: 0.13909464\n",
      "Predicted label: 383 with confidence level: 0.10271542\n",
      "Predicted label: 383 with confidence level: 0.107516035\n",
      "Predicted label: 12 with confidence level: 0.10038083\n",
      "Predicted label: 302 with confidence level: 0.08754876\n",
      "Predicted label: 85 with confidence level: 0.10349388\n",
      "Predicted label: 439 with confidence level: 0.094115205\n",
      "Predicted label: 12 with confidence level: 0.13288003\n",
      "Predicted label: 383 with confidence level: 0.12520416\n",
      "Predicted label: 383 with confidence level: 0.098936364\n",
      "Predicted label: 338 with confidence level: 0.07131216\n",
      "Predicted label: 125 with confidence level: 0.08146737\n",
      "Predicted label: 12 with confidence level: 0.10250574\n",
      "Predicted label: 383 with confidence level: 0.10858524\n",
      "Predicted label: 12 with confidence level: 0.10910997\n",
      "Predicted label: 12 with confidence level: 0.10115369\n",
      "Predicted label: 12 with confidence level: 0.10638713\n",
      "Predicted label: 12 with confidence level: 0.107881695\n",
      "Predicted label: 383 with confidence level: 0.12191778\n",
      "Predicted label: 383 with confidence level: 0.112053186\n",
      "Predicted label: 383 with confidence level: 0.12761405\n",
      "Predicted label: 12 with confidence level: 0.12280154\n",
      "Predicted label: 12 with confidence level: 0.09852972\n",
      "Predicted label: 383 with confidence level: 0.10015643\n",
      "Predicted label: 12 with confidence level: 0.12885466\n",
      "Predicted label: 383 with confidence level: 0.09321355\n",
      "Predicted label: 12 with confidence level: 0.11195914\n",
      "Predicted label: 383 with confidence level: 0.13552296\n",
      "Predicted label: 383 with confidence level: 0.107878014\n",
      "Predicted label: 12 with confidence level: 0.09944106\n",
      "Predicted label: 12 with confidence level: 0.123922914\n",
      "Predicted label: 383 with confidence level: 0.09359025\n",
      "Predicted label: 12 with confidence level: 0.09635851\n",
      "Predicted label: 383 with confidence level: 0.122688726\n",
      "Predicted label: 125 with confidence level: 0.092400834\n",
      "Predicted label: 302 with confidence level: 0.109776296\n",
      "Predicted label: 332 with confidence level: 0.07349324\n",
      "Predicted label: 125 with confidence level: 0.11547646\n",
      "Predicted label: 383 with confidence level: 0.10209787\n",
      "Predicted label: 125 with confidence level: 0.11425873\n",
      "Predicted label: 383 with confidence level: 0.11629607\n",
      "Predicted label: 383 with confidence level: 0.08850789\n",
      "Predicted label: 383 with confidence level: 0.110301346\n",
      "Predicted label: 383 with confidence level: 0.12947004\n",
      "Predicted label: 383 with confidence level: 0.1012496\n",
      "Predicted label: 383 with confidence level: 0.09803856\n",
      "Predicted label: 383 with confidence level: 0.10498426\n",
      "Predicted label: 12 with confidence level: 0.12461032\n",
      "Predicted label: 383 with confidence level: 0.08731745\n",
      "Predicted label: 383 with confidence level: 0.10451168\n",
      "Predicted label: 12 with confidence level: 0.10977059\n",
      "Validation accuracy: 0.0\n"
     ]
    }
   ],
   "source": [
    "# Print the predicted labels, their corresponding confidence levels, and the validation accuracy\n",
    "for i in range(len(y_pred)):\n",
    "    print('Predicted label:', y_pred[i], 'with confidence level:', confidence_level[i])\n",
    "print('Validation accuracy:', val_acc[-1])"
   ]
  },
  {
   "cell_type": "markdown",
   "metadata": {
    "id": "uPe_dNbCFjZ4"
   },
   "source": [
    "# Model 2: Tuned Keras-CNN Model Images Only"
   ]
  },
  {
   "cell_type": "code",
   "execution_count": null,
   "metadata": {
    "id": "W1AqZfSEaFhj"
   },
   "outputs": [],
   "source": [
    "from keras.wrappers.scikit_learn import KerasClassifier\n",
    "from sklearn.model_selection import GridSearchCV"
   ]
  },
  {
   "cell_type": "code",
   "execution_count": null,
   "metadata": {
    "id": "_8ivgxYSZrdl"
   },
   "outputs": [],
   "source": [
    "# Define the hyperparameters to explore\n",
    "param_grid = {\n",
    "    'filters': [32, 64, 128],\n",
    "    'kernel_size': [(3, 3), (5, 5)],\n",
    "    'dropout_rate': [0.2, 0.3, 0.4],\n",
    "    'dense_units': [64, 128, 256],\n",
    "    'batch_size': [32, 64, 128],\n",
    "    'epochs': [10, 20, 30]\n",
    "}\n",
    "\n",
    "# Create a function to build the model with the given hyperparameters\n",
    "def create_model(filters, kernel_size, dropout_rate, dense_units):\n",
    "    # Define the architecture of the CNN model\n",
    "    model = tf.keras.Sequential([\n",
    "        layers.Conv2D(filters, kernel_size, activation='relu', input_shape=X_ar_normalized.shape[1:]),\n",
    "        layers.MaxPooling2D((2, 2)),\n",
    "        layers.Dropout(dropout_rate),\n",
    "        layers.Conv2D(filters, kernel_size, activation='relu'),\n",
    "        layers.MaxPooling2D((2, 2)),\n",
    "        layers.Dropout(dropout_rate),\n",
    "        layers.Conv2D(filters, kernel_size, activation='relu'),\n",
    "        layers.MaxPooling2D((2, 2)),\n",
    "        layers.Flatten(),\n",
    "        layers.Dense(dense_units, activation='relu'),\n",
    "        layers.Dropout(dropout_rate),\n",
    "        layers.Dense(y.shape[1], activation = 'softmax')\n",
    "    ])\n",
    "    \n",
    "    # Compile the model\n",
    "    model.compile(optimizer='adam', loss='categorical_crossentropy', metrics=['accuracy'])\n",
    "    \n",
    "    return model\n"
   ]
  },
  {
   "cell_type": "code",
   "execution_count": null,
   "metadata": {
    "colab": {
     "base_uri": "https://localhost:8080/"
    },
    "executionInfo": {
     "elapsed": 7,
     "status": "ok",
     "timestamp": 1681486752057,
     "user": {
      "displayName": "Florence Cheng",
      "userId": "06139676342662614610"
     },
     "user_tz": 420
    },
    "id": "yXythuunZz2z",
    "outputId": "a34ccc12-c0c7-4d1a-c125-28a1f08fd9ab"
   },
   "outputs": [
    {
     "name": "stderr",
     "output_type": "stream",
     "text": [
      "<ipython-input-29-326af75e13ea>:2: DeprecationWarning: KerasClassifier is deprecated, use Sci-Keras (https://github.com/adriangb/scikeras) instead. See https://www.adriangb.com/scikeras/stable/migration.html for help migrating.\n",
      "  model = KerasClassifier(build_fn=create_model, verbose=0)\n"
     ]
    }
   ],
   "source": [
    "# Create an instance of the KerasClassifier with the function and hyperparameters to explore\n",
    "model = KerasClassifier(build_fn=create_model, verbose=0)\n",
    "grid = GridSearchCV(estimator=model, param_grid=param_grid, cv=3)"
   ]
  },
  {
   "cell_type": "markdown",
   "metadata": {
    "id": "9n_QSNdDGJSi"
   },
   "source": [
    "## GridSearch"
   ]
  },
  {
   "cell_type": "code",
   "execution_count": null,
   "metadata": {
    "colab": {
     "base_uri": "https://localhost:8080/"
    },
    "executionInfo": {
     "elapsed": 10966385,
     "status": "ok",
     "timestamp": 1681497719583,
     "user": {
      "displayName": "Florence Cheng",
      "userId": "06139676342662614610"
     },
     "user_tz": 420
    },
    "id": "XmrIE68fZ-yl",
    "outputId": "34b462b9-1960-47a0-b23e-089eb5c707fa"
   },
   "outputs": [
    {
     "name": "stderr",
     "output_type": "stream",
     "text": [
      "/usr/local/lib/python3.9/dist-packages/tensorflow/python/data/ops/structured_function.py:254: UserWarning: Even though the `tf.config.experimental_run_functions_eagerly` option is set, this option does not apply to tf.data functions. To force eager execution of tf.data functions, please use `tf.data.experimental.enable_debug_mode()`.\n",
      "  warnings.warn(\n"
     ]
    },
    {
     "name": "stdout",
     "output_type": "stream",
     "text": [
      "Best parameters: {'batch_size': 64, 'dense_units': 64, 'dropout_rate': 0.3, 'epochs': 10, 'filters': 32, 'kernel_size': (3, 3)}\n",
      "Best accuracy score: 0.007500093585501115\n"
     ]
    }
   ],
   "source": [
    "# IT TAKES 3 HOUR TO COMPUTE\n",
    "\n",
    "# Fit the grid search to the data\n",
    "grid_result = grid.fit(X_image_train, y_train)\n",
    "\n",
    "# Print the best parameters and accuracy score\n",
    "print(f\"Best parameters: {grid_result.best_params_}\")\n",
    "print(f\"Best accuracy score: {grid_result.best_score_}\")"
   ]
  },
  {
   "cell_type": "markdown",
   "metadata": {
    "id": "agN3LC0wGPPx"
   },
   "source": [
    "## Best Parameters"
   ]
  },
  {
   "cell_type": "code",
   "execution_count": null,
   "metadata": {
    "id": "lXEJCtj8HH6G"
   },
   "outputs": [],
   "source": [
    "best_params = grid_result.best_params_"
   ]
  },
  {
   "cell_type": "code",
   "execution_count": null,
   "metadata": {
    "id": "p3OeePdAHfEp"
   },
   "outputs": [],
   "source": [
    "# Result from grid search\n",
    "best_params = {'batch_size': 64,\n",
    " 'dense_units': 64,\n",
    " 'dropout_rate': 0.3,\n",
    " 'epochs': 10,\n",
    " 'filters': 32,\n",
    " 'kernel_size': (3, 3)}"
   ]
  },
  {
   "cell_type": "code",
   "execution_count": null,
   "metadata": {
    "colab": {
     "base_uri": "https://localhost:8080/"
    },
    "executionInfo": {
     "elapsed": 471,
     "status": "ok",
     "timestamp": 1681502948236,
     "user": {
      "displayName": "Florence Cheng",
      "userId": "06139676342662614610"
     },
     "user_tz": 420
    },
    "id": "erNJCStCHIxQ",
    "outputId": "1e6178f0-8812-487a-a146-a0bd6e89ba2a"
   },
   "outputs": [
    {
     "data": {
      "text/plain": [
       "{'batch_size': 64,\n",
       " 'dense_units': 64,\n",
       " 'dropout_rate': 0.3,\n",
       " 'epochs': 10,\n",
       " 'filters': 32,\n",
       " 'kernel_size': (3, 3)}"
      ]
     },
     "execution_count": 33,
     "metadata": {},
     "output_type": "execute_result"
    }
   ],
   "source": [
    "best_params"
   ]
  },
  {
   "cell_type": "code",
   "execution_count": null,
   "metadata": {
    "id": "FhFYAkYIGOl2"
   },
   "outputs": [],
   "source": [
    "best_model = create_model(dropout_rate=best_params['dropout_rate'],\n",
    "                          dense_units=best_params['dense_units'],\n",
    "                          filters=best_params['filters'], \n",
    "                          kernel_size=best_params['kernel_size'])"
   ]
  },
  {
   "cell_type": "code",
   "execution_count": null,
   "metadata": {
    "id": "NuKsFPiFJYK8"
   },
   "outputs": [],
   "source": [
    "# Compile the model\n",
    "best_model.compile(optimizer='adam', loss='categorical_crossentropy', metrics=['accuracy'])"
   ]
  },
  {
   "cell_type": "code",
   "execution_count": null,
   "metadata": {
    "colab": {
     "base_uri": "https://localhost:8080/"
    },
    "executionInfo": {
     "elapsed": 236,
     "status": "ok",
     "timestamp": 1681498940531,
     "user": {
      "displayName": "Florence Cheng",
      "userId": "06139676342662614610"
     },
     "user_tz": 420
    },
    "id": "sMFFbLahIKLw",
    "outputId": "234327ce-6341-4571-89bd-7c33a9adbc90"
   },
   "outputs": [
    {
     "name": "stdout",
     "output_type": "stream",
     "text": [
      "Model: \"sequential_1460\"\n",
      "_________________________________________________________________\n",
      " Layer (type)                Output Shape              Param #   \n",
      "=================================================================\n",
      " conv2d_4380 (Conv2D)        (None, 62, 62, 32)        896       \n",
      "                                                                 \n",
      " max_pooling2d_4380 (MaxPool  (None, 31, 31, 32)       0         \n",
      " ing2D)                                                          \n",
      "                                                                 \n",
      " dropout_4380 (Dropout)      (None, 31, 31, 32)        0         \n",
      "                                                                 \n",
      " conv2d_4381 (Conv2D)        (None, 29, 29, 32)        9248      \n",
      "                                                                 \n",
      " max_pooling2d_4381 (MaxPool  (None, 14, 14, 32)       0         \n",
      " ing2D)                                                          \n",
      "                                                                 \n",
      " dropout_4381 (Dropout)      (None, 14, 14, 32)        0         \n",
      "                                                                 \n",
      " conv2d_4382 (Conv2D)        (None, 12, 12, 32)        9248      \n",
      "                                                                 \n",
      " max_pooling2d_4382 (MaxPool  (None, 6, 6, 32)         0         \n",
      " ing2D)                                                          \n",
      "                                                                 \n",
      " flatten_1460 (Flatten)      (None, 1152)              0         \n",
      "                                                                 \n",
      " dense_2920 (Dense)          (None, 64)                73792     \n",
      "                                                                 \n",
      " dropout_4382 (Dropout)      (None, 64)                0         \n",
      "                                                                 \n",
      " dense_2921 (Dense)          (None, 487)               31655     \n",
      "                                                                 \n",
      "=================================================================\n",
      "Total params: 124,839\n",
      "Trainable params: 124,839\n",
      "Non-trainable params: 0\n",
      "_________________________________________________________________\n"
     ]
    }
   ],
   "source": [
    "best_model.summary()"
   ]
  },
  {
   "cell_type": "code",
   "execution_count": null,
   "metadata": {
    "colab": {
     "base_uri": "https://localhost:8080/"
    },
    "executionInfo": {
     "elapsed": 458,
     "status": "ok",
     "timestamp": 1681499007639,
     "user": {
      "displayName": "Florence Cheng",
      "userId": "06139676342662614610"
     },
     "user_tz": 420
    },
    "id": "DprFufx8JmBJ",
    "outputId": "f84ba04a-9e31-4695-cfb7-fba3316f2480"
   },
   "outputs": [
    {
     "name": "stdout",
     "output_type": "stream",
     "text": [
      "4/4 [==============================] - 0s 60ms/step\n"
     ]
    }
   ],
   "source": [
    "# Get the predicted probabilities for each class on the validation set\n",
    "y_pred_prob = best_model.predict(X_image_val)\n",
    "\n",
    "# Get the predicted labels\n",
    "y_pred = np.argmax(y_pred_prob, axis=1)"
   ]
  },
  {
   "cell_type": "code",
   "execution_count": null,
   "metadata": {
    "colab": {
     "base_uri": "https://localhost:8080/"
    },
    "executionInfo": {
     "elapsed": 10508,
     "status": "ok",
     "timestamp": 1681499021550,
     "user": {
      "displayName": "Florence Cheng",
      "userId": "06139676342662614610"
     },
     "user_tz": 420
    },
    "id": "8okaAipLHuWP",
    "outputId": "9f12c99a-c4b3-4e19-8f82-da1ca62e1227"
   },
   "outputs": [
    {
     "name": "stdout",
     "output_type": "stream",
     "text": [
      "Epoch 1/10\n",
      "7/7 [==============================] - 1s 87ms/step - loss: 8.2995 - accuracy: 0.0000e+00 - val_loss: 9.1609 - val_accuracy: 0.0100\n",
      "Epoch 2/10\n",
      "7/7 [==============================] - 1s 87ms/step - loss: 9.0276 - accuracy: 0.0025 - val_loss: 9.2574 - val_accuracy: 0.0100\n",
      "Epoch 3/10\n",
      "7/7 [==============================] - 1s 86ms/step - loss: 9.1976 - accuracy: 0.0000e+00 - val_loss: 8.8417 - val_accuracy: 0.0100\n",
      "Epoch 4/10\n",
      "7/7 [==============================] - 1s 81ms/step - loss: 9.2722 - accuracy: 0.0000e+00 - val_loss: 9.9670 - val_accuracy: 0.0100\n",
      "Epoch 5/10\n",
      "7/7 [==============================] - 1s 88ms/step - loss: 9.1070 - accuracy: 0.0025 - val_loss: 8.3667 - val_accuracy: 0.0100\n",
      "Epoch 6/10\n",
      "7/7 [==============================] - 0s 66ms/step - loss: 8.9582 - accuracy: 0.0000e+00 - val_loss: 9.1338 - val_accuracy: 0.0100\n",
      "Epoch 7/10\n",
      "7/7 [==============================] - 0s 64ms/step - loss: 9.3589 - accuracy: 0.0025 - val_loss: 9.1205 - val_accuracy: 0.0100\n",
      "Epoch 8/10\n",
      "7/7 [==============================] - 0s 61ms/step - loss: 9.2125 - accuracy: 0.0000e+00 - val_loss: 9.4108 - val_accuracy: 0.0100\n",
      "Epoch 9/10\n",
      "7/7 [==============================] - 0s 62ms/step - loss: 8.3583 - accuracy: 0.0000e+00 - val_loss: 9.2500 - val_accuracy: 0.0100\n",
      "Epoch 10/10\n",
      "7/7 [==============================] - 0s 66ms/step - loss: 8.1667 - accuracy: 0.0025 - val_loss: 8.5905 - val_accuracy: 0.0100\n"
     ]
    }
   ],
   "source": [
    "history = best_model.fit(X_image_train, y_train, epochs=best_params['epochs'], batch_size=best_params['batch_size'], validation_data=(X_image_val, y_val))"
   ]
  },
  {
   "cell_type": "code",
   "execution_count": null,
   "metadata": {
    "id": "g-ibQYe_JztJ"
   },
   "outputs": [],
   "source": [
    "val_acc = history.history['val_accuracy']\n",
    "confidence_level = y_pred_prob[np.arange(len(y_pred)), y_pred]"
   ]
  },
  {
   "cell_type": "code",
   "execution_count": null,
   "metadata": {
    "colab": {
     "base_uri": "https://localhost:8080/"
    },
    "executionInfo": {
     "elapsed": 163,
     "status": "ok",
     "timestamp": 1681499071567,
     "user": {
      "displayName": "Florence Cheng",
      "userId": "06139676342662614610"
     },
     "user_tz": 420
    },
    "id": "s2NVNsWnJ560",
    "outputId": "f1f93c9e-6365-4fa5-fa1e-65c8060710c3"
   },
   "outputs": [
    {
     "name": "stdout",
     "output_type": "stream",
     "text": [
      "Predicted label: 364 with confidence level: 2.8662755\n",
      "Predicted label: 23 with confidence level: 2.5173025\n",
      "Predicted label: 364 with confidence level: 2.608202\n",
      "Predicted label: 364 with confidence level: 2.8859215\n",
      "Predicted label: 364 with confidence level: 1.6731976\n",
      "Predicted label: 364 with confidence level: 2.1509423\n",
      "Predicted label: 364 with confidence level: 2.832812\n",
      "Predicted label: 364 with confidence level: 2.4166877\n",
      "Predicted label: 364 with confidence level: 2.0034416\n",
      "Predicted label: 364 with confidence level: 2.5028708\n",
      "Predicted label: 364 with confidence level: 2.459528\n",
      "Predicted label: 117 with confidence level: 2.7080042\n",
      "Predicted label: 364 with confidence level: 1.2989492\n",
      "Predicted label: 364 with confidence level: 2.4894762\n",
      "Predicted label: 117 with confidence level: 1.6038893\n",
      "Predicted label: 364 with confidence level: 2.9191496\n",
      "Predicted label: 364 with confidence level: 2.6031835\n",
      "Predicted label: 364 with confidence level: 2.9204614\n",
      "Predicted label: 23 with confidence level: 2.6591601\n",
      "Predicted label: 364 with confidence level: 2.3863282\n",
      "Predicted label: 364 with confidence level: 2.6388614\n",
      "Predicted label: 364 with confidence level: 2.9369676\n",
      "Predicted label: 23 with confidence level: 2.63397\n",
      "Predicted label: 364 with confidence level: 2.7830462\n",
      "Predicted label: 364 with confidence level: 2.4630802\n",
      "Predicted label: 364 with confidence level: 2.9118118\n",
      "Predicted label: 364 with confidence level: 2.3565602\n",
      "Predicted label: 364 with confidence level: 2.7668397\n",
      "Predicted label: 364 with confidence level: 2.8376997\n",
      "Predicted label: 364 with confidence level: 2.812688\n",
      "Predicted label: 117 with confidence level: 0.82853955\n",
      "Predicted label: 364 with confidence level: 2.9176345\n",
      "Predicted label: 364 with confidence level: 2.7535741\n",
      "Predicted label: 364 with confidence level: 2.0503752\n",
      "Predicted label: 364 with confidence level: 2.1530101\n",
      "Predicted label: 364 with confidence level: 2.5045788\n",
      "Predicted label: 364 with confidence level: 2.8412025\n",
      "Predicted label: 364 with confidence level: 2.936045\n",
      "Predicted label: 364 with confidence level: 2.8213363\n",
      "Predicted label: 364 with confidence level: 2.8291316\n",
      "Predicted label: 364 with confidence level: 2.577911\n",
      "Predicted label: 117 with confidence level: 2.9209604\n",
      "Predicted label: 364 with confidence level: 2.751521\n",
      "Predicted label: 364 with confidence level: 2.5410933\n",
      "Predicted label: 364 with confidence level: 2.9101317\n",
      "Predicted label: 364 with confidence level: 2.0281124\n",
      "Predicted label: 364 with confidence level: 2.1172755\n",
      "Predicted label: 364 with confidence level: 2.5807014\n",
      "Predicted label: 364 with confidence level: 2.4152362\n",
      "Predicted label: 364 with confidence level: 2.6486273\n",
      "Predicted label: 364 with confidence level: 2.580107\n",
      "Predicted label: 364 with confidence level: 2.6926656\n",
      "Predicted label: 364 with confidence level: 2.4045494\n",
      "Predicted label: 364 with confidence level: 1.9766532\n",
      "Predicted label: 117 with confidence level: 2.6631637\n",
      "Predicted label: 364 with confidence level: 1.9974782\n",
      "Predicted label: 364 with confidence level: 2.9550016\n",
      "Predicted label: 364 with confidence level: 2.8847542\n",
      "Predicted label: 23 with confidence level: 2.198227\n",
      "Predicted label: 364 with confidence level: 1.8260404\n",
      "Predicted label: 23 with confidence level: 2.0472465\n",
      "Predicted label: 364 with confidence level: 2.2746594\n",
      "Predicted label: 364 with confidence level: 2.5537908\n",
      "Predicted label: 364 with confidence level: 2.3794618\n",
      "Predicted label: 117 with confidence level: 2.4014924\n",
      "Predicted label: 364 with confidence level: 2.2831833\n",
      "Predicted label: 364 with confidence level: 2.564902\n",
      "Predicted label: 364 with confidence level: 2.8223612\n",
      "Predicted label: 364 with confidence level: 2.8384724\n",
      "Predicted label: 364 with confidence level: 2.9235294\n",
      "Predicted label: 117 with confidence level: 3.0408185\n",
      "Predicted label: 117 with confidence level: 2.357094\n",
      "Predicted label: 117 with confidence level: 2.554484\n",
      "Predicted label: 364 with confidence level: 2.9092464\n",
      "Predicted label: 364 with confidence level: 2.342407\n",
      "Predicted label: 364 with confidence level: 2.6045904\n",
      "Predicted label: 364 with confidence level: 2.9917998\n",
      "Predicted label: 364 with confidence level: 2.8374226\n",
      "Predicted label: 364 with confidence level: 2.4026973\n",
      "Predicted label: 364 with confidence level: 2.6219149\n",
      "Predicted label: 23 with confidence level: 2.2790666\n",
      "Predicted label: 117 with confidence level: 2.3085144\n",
      "Predicted label: 364 with confidence level: 2.8529606\n",
      "Predicted label: 117 with confidence level: 2.0360749\n",
      "Predicted label: 364 with confidence level: 2.0550025\n",
      "Predicted label: 117 with confidence level: 1.9454176\n",
      "Predicted label: 364 with confidence level: 2.9042873\n",
      "Predicted label: 117 with confidence level: 2.8539488\n",
      "Predicted label: 364 with confidence level: 2.790002\n",
      "Predicted label: 364 with confidence level: 2.8348475\n",
      "Predicted label: 364 with confidence level: 2.27276\n",
      "Predicted label: 364 with confidence level: 2.834485\n",
      "Predicted label: 364 with confidence level: 2.8510256\n",
      "Predicted label: 364 with confidence level: 2.612618\n",
      "Predicted label: 364 with confidence level: 2.3478968\n",
      "Predicted label: 364 with confidence level: 2.5202508\n",
      "Predicted label: 364 with confidence level: 2.9487643\n",
      "Predicted label: 364 with confidence level: 2.2708786\n",
      "Predicted label: 364 with confidence level: 2.3009515\n",
      "Predicted label: 364 with confidence level: 2.5950017\n",
      "Validation accuracy: 0.009999999776482582\n"
     ]
    }
   ],
   "source": [
    "# Print the predicted labels, their corresponding confidence levels, and the validation accuracy\n",
    "for i in range(len(y_pred)):\n",
    "    print('Predicted label:', y_pred[i], 'with confidence level:', confidence_level[i])\n",
    "print('Validation accuracy:', val_acc[-1])"
   ]
  },
  {
   "cell_type": "markdown",
   "metadata": {
    "id": "Eelrx9oGa8__"
   },
   "source": [
    "# Model 3: TFIDF-CNN Model using the best hyperparameters\n",
    "\n",
    "To create a model that takes two inputs, we need to use the Functional API instead of the Sequential API.\n",
    "\n",
    "The Sequential API is a straightforward way to create a neural network model by stacking layers on top of each other in a linear fashion. However, when dealing with models that have multiple inputs or outputs, the Sequential API is not sufficient.\n",
    "\n",
    "The Functional API, on the other hand, provides more flexibility in building complex models with multiple inputs and outputs. It allows for more control over how the inputs and outputs are connected to the layers and how the data flows through the network. This flexibility is achieved by defining the input and output layers separately, then connecting the layers using the functional API's various methods."
   ]
  },
  {
   "cell_type": "code",
   "execution_count": null,
   "metadata": {
    "id": "iqzZ0iFYZCKU"
   },
   "outputs": [],
   "source": [
    "from sklearn.feature_extraction.text import TfidfVectorizer"
   ]
  },
  {
   "cell_type": "code",
   "execution_count": null,
   "metadata": {
    "id": "aVx8J_U_dZ1K"
   },
   "outputs": [],
   "source": [
    "X_image_train, X_image_val, X_text_train, X_text_val, y_train, y_val = train_test_split(X_ar_normalized, train['title_clean'], y, test_size=0.05, random_state=1234)"
   ]
  },
  {
   "cell_type": "code",
   "execution_count": null,
   "metadata": {
    "id": "vw4FPozDGBlI"
   },
   "outputs": [],
   "source": [
    "# Define the neural network model\n",
    "# Use a convolutional neural network (CNN) to process the image data.\n",
    "# Use a recurrent neural network (RNN) to process the text data.\n",
    "# Combine the outputs of the two networks using a concatenation layer.\n",
    "# Add dense layers to the combined output to make the final prediction.\n",
    "\n",
    "# define the image input\n",
    "image_input = layers.Input(shape=X_ar_normalized.shape[1:], name='image_input')\n",
    "\n",
    "# define the convolutional layers for the image input\n",
    "x = layers.Conv2D(32, (3, 3), activation='relu')(image_input)\n",
    "x = layers.MaxPooling2D((2, 2))(x)\n",
    "x = Dropout(0.25)(x)  # add dropout here\n",
    "x = layers.Conv2D(64, (3, 3), activation='relu')(x)\n",
    "x = layers.MaxPooling2D((2, 2))(x)\n",
    "x = Dropout(0.25)(x)  # add dropout here\n",
    "x = layers.Conv2D(64, (3, 3), activation='relu')(x)\n",
    "x = layers.Flatten()(x)\n",
    "x = Dropout(0.25)(x)  # add dropout here\n",
    "x = layers.Dense(64, activation='relu')(x)"
   ]
  },
  {
   "cell_type": "code",
   "execution_count": null,
   "metadata": {
    "id": "yZ02nDRYHBG_"
   },
   "outputs": [],
   "source": [
    "# define the text input\n",
    "text_input = layers.Input(shape=(None,), dtype='string', name='text_input')"
   ]
  },
  {
   "cell_type": "code",
   "execution_count": null,
   "metadata": {
    "id": "BfUYAYPwIMzX"
   },
   "outputs": [],
   "source": [
    "# define the TfidfVectorizer to transform the text input\n",
    "tfidf = TfidfVectorizer()\n",
    "# text_features = tfidf.fit_transform(train['title_clean'])\n",
    "text_features_train = tfidf.fit_transform(X_text_train)\n",
    "text_features_val = tfidf.transform(X_text_val)\n",
    "text_features_input = layers.Input(shape=(text_features_train.shape[1],), name='text_features_input')"
   ]
  },
  {
   "cell_type": "code",
   "execution_count": null,
   "metadata": {
    "id": "S9lDzA8JJLYu"
   },
   "outputs": [],
   "source": [
    "# concatenate the image and text features\n",
    "concatenated = layers.concatenate([x, text_features_input])"
   ]
  },
  {
   "cell_type": "code",
   "execution_count": null,
   "metadata": {
    "id": "YBK1t_d-JfFh"
   },
   "outputs": [],
   "source": [
    "# define the output layer\n",
    "output_layer = Dense(487, activation='softmax', name='output')(concatenated) #Need to change if more group labels"
   ]
  },
  {
   "cell_type": "code",
   "execution_count": null,
   "metadata": {
    "id": "C5J8gLIHJhGN"
   },
   "outputs": [],
   "source": [
    "# define the model with the two inputs and one output\n",
    "model1 = Model(inputs=[image_input, text_features_input], outputs=output_layer)"
   ]
  },
  {
   "cell_type": "code",
   "execution_count": null,
   "metadata": {
    "colab": {
     "base_uri": "https://localhost:8080/"
    },
    "executionInfo": {
     "elapsed": 19,
     "status": "ok",
     "timestamp": 1681503148021,
     "user": {
      "displayName": "Florence Cheng",
      "userId": "06139676342662614610"
     },
     "user_tz": 420
    },
    "id": "jJDjsqZOJkX4",
    "outputId": "ddf9d77b-cfae-40a2-fd36-cac46e88e268"
   },
   "outputs": [
    {
     "name": "stdout",
     "output_type": "stream",
     "text": [
      "Model: \"model_2\"\n",
      "__________________________________________________________________________________________________\n",
      " Layer (type)                   Output Shape         Param #     Connected to                     \n",
      "==================================================================================================\n",
      " image_input (InputLayer)       [(None, 64, 64, 3)]  0           []                               \n",
      "                                                                                                  \n",
      " conv2d_9 (Conv2D)              (None, 62, 62, 32)   896         ['image_input[0][0]']            \n",
      "                                                                                                  \n",
      " max_pooling2d_6 (MaxPooling2D)  (None, 31, 31, 32)  0           ['conv2d_9[0][0]']               \n",
      "                                                                                                  \n",
      " dropout_9 (Dropout)            (None, 31, 31, 32)   0           ['max_pooling2d_6[0][0]']        \n",
      "                                                                                                  \n",
      " conv2d_10 (Conv2D)             (None, 29, 29, 64)   18496       ['dropout_9[0][0]']              \n",
      "                                                                                                  \n",
      " max_pooling2d_7 (MaxPooling2D)  (None, 14, 14, 64)  0           ['conv2d_10[0][0]']              \n",
      "                                                                                                  \n",
      " dropout_10 (Dropout)           (None, 14, 14, 64)   0           ['max_pooling2d_7[0][0]']        \n",
      "                                                                                                  \n",
      " conv2d_11 (Conv2D)             (None, 12, 12, 64)   36928       ['dropout_10[0][0]']             \n",
      "                                                                                                  \n",
      " flatten_3 (Flatten)            (None, 9216)         0           ['conv2d_11[0][0]']              \n",
      "                                                                                                  \n",
      " dropout_11 (Dropout)           (None, 9216)         0           ['flatten_3[0][0]']              \n",
      "                                                                                                  \n",
      " dense_3 (Dense)                (None, 64)           589888      ['dropout_11[0][0]']             \n",
      "                                                                                                  \n",
      " text_features_input (InputLaye  [(None, 1856)]      0           []                               \n",
      " r)                                                                                               \n",
      "                                                                                                  \n",
      " concatenate_2 (Concatenate)    (None, 1920)         0           ['dense_3[0][0]',                \n",
      "                                                                  'text_features_input[0][0]']    \n",
      "                                                                                                  \n",
      " output (Dense)                 (None, 487)          935527      ['concatenate_2[0][0]']          \n",
      "                                                                                                  \n",
      "==================================================================================================\n",
      "Total params: 1,581,735\n",
      "Trainable params: 1,581,735\n",
      "Non-trainable params: 0\n",
      "__________________________________________________________________________________________________\n"
     ]
    }
   ],
   "source": [
    "model1.summary()"
   ]
  },
  {
   "cell_type": "code",
   "execution_count": null,
   "metadata": {
    "id": "zXCe6HAEJlW5"
   },
   "outputs": [],
   "source": [
    "# Compile the model\n",
    "model1.compile(optimizer='adam', loss='categorical_crossentropy', metrics=['accuracy'])"
   ]
  },
  {
   "cell_type": "code",
   "execution_count": null,
   "metadata": {
    "colab": {
     "base_uri": "https://localhost:8080/"
    },
    "executionInfo": {
     "elapsed": 28084,
     "status": "ok",
     "timestamp": 1681503177230,
     "user": {
      "displayName": "Florence Cheng",
      "userId": "06139676342662614610"
     },
     "user_tz": 420
    },
    "id": "OO442ECbJpSW",
    "outputId": "de37f9ef-b046-4c18-e5bf-3cdf728eb2b5"
   },
   "outputs": [
    {
     "name": "stdout",
     "output_type": "stream",
     "text": [
      "Epoch 1/10\n",
      "8/8 [==============================] - 3s 367ms/step - loss: 6.2031 - accuracy: 0.0000e+00 - val_loss: 6.1923 - val_accuracy: 0.0000e+00\n",
      "Epoch 2/10\n",
      "8/8 [==============================] - 3s 405ms/step - loss: 6.1715 - accuracy: 0.0084 - val_loss: 6.2012 - val_accuracy: 0.0000e+00\n",
      "Epoch 3/10\n",
      "8/8 [==============================] - 3s 343ms/step - loss: 6.1550 - accuracy: 0.0505 - val_loss: 6.2184 - val_accuracy: 0.0000e+00\n",
      "Epoch 4/10\n",
      "8/8 [==============================] - 3s 332ms/step - loss: 6.1377 - accuracy: 0.0674 - val_loss: 6.2717 - val_accuracy: 0.0000e+00\n",
      "Epoch 5/10\n",
      "8/8 [==============================] - 3s 345ms/step - loss: 6.1217 - accuracy: 0.0400 - val_loss: 6.4187 - val_accuracy: 0.0000e+00\n",
      "Epoch 6/10\n",
      "8/8 [==============================] - 3s 402ms/step - loss: 6.0927 - accuracy: 0.0253 - val_loss: 6.4605 - val_accuracy: 0.0000e+00\n",
      "Epoch 7/10\n",
      "8/8 [==============================] - 3s 371ms/step - loss: 6.0680 - accuracy: 0.0211 - val_loss: 6.8884 - val_accuracy: 0.0000e+00\n",
      "Epoch 8/10\n",
      "8/8 [==============================] - 3s 335ms/step - loss: 6.0355 - accuracy: 0.0211 - val_loss: 7.1294 - val_accuracy: 0.0000e+00\n",
      "Epoch 9/10\n",
      "8/8 [==============================] - 3s 344ms/step - loss: 5.9890 - accuracy: 0.0253 - val_loss: 7.0000 - val_accuracy: 0.0000e+00\n",
      "Epoch 10/10\n",
      "8/8 [==============================] - 3s 339ms/step - loss: 5.9351 - accuracy: 0.0211 - val_loss: 7.0858 - val_accuracy: 0.0000e+00\n"
     ]
    }
   ],
   "source": [
    "# Train the model\n",
    "# history = model1.fit({'image_input': X_image_train, 'text_features_input': text_features_train.toarray()}, \n",
    "#           y_train, \n",
    "#           epochs=10, \n",
    "#           batch_size=32)\n",
    "\n",
    "history = model1.fit(x=[X_image_train, text_features_train.toarray()], y=y_train, epochs=best_params['epochs'], batch_size=best_params['batch_size'], validation_data=([X_image_val, text_features_val.toarray()], y_val))\n"
   ]
  },
  {
   "cell_type": "code",
   "execution_count": null,
   "metadata": {
    "colab": {
     "base_uri": "https://localhost:8080/"
    },
    "executionInfo": {
     "elapsed": 516,
     "status": "ok",
     "timestamp": 1681503181298,
     "user": {
      "displayName": "Florence Cheng",
      "userId": "06139676342662614610"
     },
     "user_tz": 420
    },
    "id": "cqdUyH74Jsnp",
    "outputId": "3e9bd93a-655d-4934-b9c8-b09c69aea60a"
   },
   "outputs": [
    {
     "name": "stdout",
     "output_type": "stream",
     "text": [
      "1/1 [==============================] - 0s 55ms/step\n"
     ]
    }
   ],
   "source": [
    "# Get the predicted probabilities for each class on the validation set\n",
    "y_pred_prob = model1.predict([X_image_val, text_features_val.toarray()])\n",
    "\n",
    "# Get the predicted labels\n",
    "y_pred = np.argmax(y_pred_prob, axis=1)\n",
    "\n",
    "val_acc = history.history['val_accuracy']\n",
    "confidence_level = y_pred_prob[np.arange(len(y_pred)), y_pred]"
   ]
  },
  {
   "cell_type": "code",
   "execution_count": null,
   "metadata": {
    "colab": {
     "base_uri": "https://localhost:8080/"
    },
    "executionInfo": {
     "elapsed": 5,
     "status": "ok",
     "timestamp": 1681503181642,
     "user": {
      "displayName": "Florence Cheng",
      "userId": "06139676342662614610"
     },
     "user_tz": 420
    },
    "id": "629ot90wx2v5",
    "outputId": "86ec2981-46db-4f0e-e034-2152b27794d3"
   },
   "outputs": [
    {
     "name": "stdout",
     "output_type": "stream",
     "text": [
      "Predicted label: 179 with confidence level: 0.005487332\n",
      "Predicted label: 178 with confidence level: 0.0036625364\n",
      "Predicted label: 486 with confidence level: 0.0030530624\n",
      "Predicted label: 22 with confidence level: 0.0050520813\n",
      "Predicted label: 486 with confidence level: 0.0028384922\n",
      "Predicted label: 486 with confidence level: 0.0027603135\n",
      "Predicted label: 22 with confidence level: 0.0030145885\n",
      "Predicted label: 335 with confidence level: 0.0026280275\n",
      "Predicted label: 486 with confidence level: 0.0027077685\n",
      "Predicted label: 486 with confidence level: 0.0025601801\n",
      "Predicted label: 179 with confidence level: 0.0044361167\n",
      "Predicted label: 486 with confidence level: 0.0027101\n",
      "Predicted label: 486 with confidence level: 0.0024890017\n",
      "Predicted label: 22 with confidence level: 0.0034950976\n",
      "Predicted label: 486 with confidence level: 0.0027376963\n",
      "Predicted label: 179 with confidence level: 0.0033801359\n",
      "Predicted label: 179 with confidence level: 0.0037994399\n",
      "Predicted label: 22 with confidence level: 0.003352342\n",
      "Predicted label: 179 with confidence level: 0.0047279797\n",
      "Predicted label: 486 with confidence level: 0.0028022996\n",
      "Predicted label: 22 with confidence level: 0.0037825117\n",
      "Predicted label: 22 with confidence level: 0.0056732884\n",
      "Predicted label: 473 with confidence level: 0.0030483615\n",
      "Predicted label: 486 with confidence level: 0.0029000493\n",
      "Predicted label: 96 with confidence level: 0.003013264\n",
      "Validation accuracy: 0.0\n"
     ]
    }
   ],
   "source": [
    "# Print the predicted labels, their corresponding confidence levels, and the validation accuracy\n",
    "for i in range(len(y_pred)):\n",
    "    print('Predicted label:', y_pred[i], 'with confidence level:', confidence_level[i])\n",
    "print('Validation accuracy:', val_acc[-1])"
   ]
  }
 ],
 "metadata": {
  "colab": {
   "collapsed_sections": [
    "yjr4ut4Jvf5N",
    "giDCN76bvCBI",
    "wZxxnBb7vIS1"
   ],
   "machine_shape": "hm",
   "provenance": []
  },
  "gpuClass": "standard",
  "kernelspec": {
   "display_name": "Python 3 (ipykernel)",
   "language": "python",
   "name": "python3"
  },
  "language_info": {
   "codemirror_mode": {
    "name": "ipython",
    "version": 3
   },
   "file_extension": ".py",
   "mimetype": "text/x-python",
   "name": "python",
   "nbconvert_exporter": "python",
   "pygments_lexer": "ipython3",
   "version": "3.11.4"
  }
 },
 "nbformat": 4,
 "nbformat_minor": 1
}
