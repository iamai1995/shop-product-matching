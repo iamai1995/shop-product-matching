{
 "cells": [
  {
   "cell_type": "markdown",
   "metadata": {
    "id": "-33RDkIXM4eH"
   },
   "source": [
    "# Set up"
   ]
  },
  {
   "cell_type": "code",
   "execution_count": null,
   "metadata": {
    "id": "PVyLHxnpNDR_"
   },
   "outputs": [],
   "source": [
    "#import library\n",
    "\n",
    "from tensorflow.keras.models import Model\n",
    "from tensorflow.keras.layers import Input, Dense, Flatten, Conv2D, MaxPooling2D, LSTM, Embedding, concatenate\n",
    "from tensorflow.keras.preprocessing.image import ImageDataGenerator\n",
    "from tensorflow.keras.preprocessing.text import Tokenizer\n",
    "from tensorflow.keras.preprocessing.sequence import pad_sequences\n",
    "from tensorflow.keras.callbacks import EarlyStopping\n",
    "\n",
    "import pandas as pd\n",
    "import numpy as np\n",
    "import matplotlib.pyplot as plt\n",
    "%matplotlib inline\n",
    "\n",
    "from PIL import Image"
   ]
  },
  {
   "cell_type": "markdown",
   "metadata": {
    "id": "rSVc6nRoRsEm"
   },
   "source": [
    "# Load data"
   ]
  },
  {
   "cell_type": "markdown",
   "metadata": {
    "id": "DMSsFtjcR3-y"
   },
   "source": [
    "## Load the dataset with translated title"
   ]
  },
  {
   "cell_type": "markdown",
   "metadata": {
    "id": "O07w2zthwB4S"
   },
   "source": [
    "### Train text data"
   ]
  },
  {
   "cell_type": "code",
   "execution_count": null,
   "metadata": {
    "id": "680wDm00RrU-"
   },
   "outputs": [],
   "source": [
    "# load the training text data\n",
    "train = pd.read_csv('final_train.csv', usecols = ['posting_id', 'image', 'image_phash', 'label_group', 'title_translate'])"
   ]
  },
  {
   "cell_type": "code",
   "execution_count": null,
   "metadata": {
    "colab": {
     "base_uri": "https://localhost:8080/",
     "height": 173
    },
    "executionInfo": {
     "elapsed": 15,
     "status": "ok",
     "timestamp": 1681517510719,
     "user": {
      "displayName": "Andrew Liu",
      "userId": "01750910414052279045"
     },
     "user_tz": 420
    },
    "id": "WafsjRBiR8-6",
    "outputId": "57ecd642-6bfb-4129-fb55-ab1dddbdb9f1"
   },
   "outputs": [
    {
     "data": {
      "text/html": [
       "\n",
       "  <div id=\"df-5b259f57-751d-40d8-a445-7a269b96ded3\">\n",
       "    <div class=\"colab-df-container\">\n",
       "      <div>\n",
       "<style scoped>\n",
       "    .dataframe tbody tr th:only-of-type {\n",
       "        vertical-align: middle;\n",
       "    }\n",
       "\n",
       "    .dataframe tbody tr th {\n",
       "        vertical-align: top;\n",
       "    }\n",
       "\n",
       "    .dataframe thead th {\n",
       "        text-align: right;\n",
       "    }\n",
       "</style>\n",
       "<table border=\"1\" class=\"dataframe\">\n",
       "  <thead>\n",
       "    <tr style=\"text-align: right;\">\n",
       "      <th></th>\n",
       "      <th>posting_id</th>\n",
       "      <th>image</th>\n",
       "      <th>image_phash</th>\n",
       "      <th>label_group</th>\n",
       "      <th>title_translate</th>\n",
       "    </tr>\n",
       "  </thead>\n",
       "  <tbody>\n",
       "    <tr>\n",
       "      <th>0</th>\n",
       "      <td>train_129225211</td>\n",
       "      <td>0000a68812bc7e98c42888dfb1c07da0.jpg</td>\n",
       "      <td>94974f937d4c2433</td>\n",
       "      <td>249114794</td>\n",
       "      <td>Victoria's Secret Paper Bag</td>\n",
       "    </tr>\n",
       "    <tr>\n",
       "      <th>1</th>\n",
       "      <td>train_3386243561</td>\n",
       "      <td>00039780dfc94d01db8676fe789ecd05.jpg</td>\n",
       "      <td>af3f9460c2838f0f</td>\n",
       "      <td>2937985045</td>\n",
       "      <td>Double Tape 3M VHB 12 mm x 4.5 m ORIGINAL / DO...</td>\n",
       "    </tr>\n",
       "  </tbody>\n",
       "</table>\n",
       "</div>\n",
       "      <button class=\"colab-df-convert\" onclick=\"convertToInteractive('df-5b259f57-751d-40d8-a445-7a269b96ded3')\"\n",
       "              title=\"Convert this dataframe to an interactive table.\"\n",
       "              style=\"display:none;\">\n",
       "        \n",
       "  <svg xmlns=\"http://www.w3.org/2000/svg\" height=\"24px\"viewBox=\"0 0 24 24\"\n",
       "       width=\"24px\">\n",
       "    <path d=\"M0 0h24v24H0V0z\" fill=\"none\"/>\n",
       "    <path d=\"M18.56 5.44l.94 2.06.94-2.06 2.06-.94-2.06-.94-.94-2.06-.94 2.06-2.06.94zm-11 1L8.5 8.5l.94-2.06 2.06-.94-2.06-.94L8.5 2.5l-.94 2.06-2.06.94zm10 10l.94 2.06.94-2.06 2.06-.94-2.06-.94-.94-2.06-.94 2.06-2.06.94z\"/><path d=\"M17.41 7.96l-1.37-1.37c-.4-.4-.92-.59-1.43-.59-.52 0-1.04.2-1.43.59L10.3 9.45l-7.72 7.72c-.78.78-.78 2.05 0 2.83L4 21.41c.39.39.9.59 1.41.59.51 0 1.02-.2 1.41-.59l7.78-7.78 2.81-2.81c.8-.78.8-2.07 0-2.86zM5.41 20L4 18.59l7.72-7.72 1.47 1.35L5.41 20z\"/>\n",
       "  </svg>\n",
       "      </button>\n",
       "      \n",
       "  <style>\n",
       "    .colab-df-container {\n",
       "      display:flex;\n",
       "      flex-wrap:wrap;\n",
       "      gap: 12px;\n",
       "    }\n",
       "\n",
       "    .colab-df-convert {\n",
       "      background-color: #E8F0FE;\n",
       "      border: none;\n",
       "      border-radius: 50%;\n",
       "      cursor: pointer;\n",
       "      display: none;\n",
       "      fill: #1967D2;\n",
       "      height: 32px;\n",
       "      padding: 0 0 0 0;\n",
       "      width: 32px;\n",
       "    }\n",
       "\n",
       "    .colab-df-convert:hover {\n",
       "      background-color: #E2EBFA;\n",
       "      box-shadow: 0px 1px 2px rgba(60, 64, 67, 0.3), 0px 1px 3px 1px rgba(60, 64, 67, 0.15);\n",
       "      fill: #174EA6;\n",
       "    }\n",
       "\n",
       "    [theme=dark] .colab-df-convert {\n",
       "      background-color: #3B4455;\n",
       "      fill: #D2E3FC;\n",
       "    }\n",
       "\n",
       "    [theme=dark] .colab-df-convert:hover {\n",
       "      background-color: #434B5C;\n",
       "      box-shadow: 0px 1px 3px 1px rgba(0, 0, 0, 0.15);\n",
       "      filter: drop-shadow(0px 1px 2px rgba(0, 0, 0, 0.3));\n",
       "      fill: #FFFFFF;\n",
       "    }\n",
       "  </style>\n",
       "\n",
       "      <script>\n",
       "        const buttonEl =\n",
       "          document.querySelector('#df-5b259f57-751d-40d8-a445-7a269b96ded3 button.colab-df-convert');\n",
       "        buttonEl.style.display =\n",
       "          google.colab.kernel.accessAllowed ? 'block' : 'none';\n",
       "\n",
       "        async function convertToInteractive(key) {\n",
       "          const element = document.querySelector('#df-5b259f57-751d-40d8-a445-7a269b96ded3');\n",
       "          const dataTable =\n",
       "            await google.colab.kernel.invokeFunction('convertToInteractive',\n",
       "                                                     [key], {});\n",
       "          if (!dataTable) return;\n",
       "\n",
       "          const docLinkHtml = 'Like what you see? Visit the ' +\n",
       "            '<a target=\"_blank\" href=https://colab.research.google.com/notebooks/data_table.ipynb>data table notebook</a>'\n",
       "            + ' to learn more about interactive tables.';\n",
       "          element.innerHTML = '';\n",
       "          dataTable['output_type'] = 'display_data';\n",
       "          await google.colab.output.renderOutput(dataTable, element);\n",
       "          const docLink = document.createElement('div');\n",
       "          docLink.innerHTML = docLinkHtml;\n",
       "          element.appendChild(docLink);\n",
       "        }\n",
       "      </script>\n",
       "    </div>\n",
       "  </div>\n",
       "  "
      ],
      "text/plain": [
       "         posting_id                                 image       image_phash  \\\n",
       "0   train_129225211  0000a68812bc7e98c42888dfb1c07da0.jpg  94974f937d4c2433   \n",
       "1  train_3386243561  00039780dfc94d01db8676fe789ecd05.jpg  af3f9460c2838f0f   \n",
       "\n",
       "   label_group                                    title_translate  \n",
       "0    249114794                        Victoria's Secret Paper Bag  \n",
       "1   2937985045  Double Tape 3M VHB 12 mm x 4.5 m ORIGINAL / DO...  "
      ]
     },
     "execution_count": 5,
     "metadata": {},
     "output_type": "execute_result"
    }
   ],
   "source": [
    "train.head(2)"
   ]
  },
  {
   "cell_type": "markdown",
   "metadata": {
    "id": "RpVWEau-wJAx"
   },
   "source": [
    "### Validation text data"
   ]
  },
  {
   "cell_type": "code",
   "execution_count": null,
   "metadata": {
    "id": "WiLuWUxUjE3w"
   },
   "outputs": [],
   "source": [
    "# load the validation text data\n",
    "validation = pd.read_csv('final_validation.csv', usecols = ['posting_id', 'image', 'image_phash', 'label_group', 'title_translate'])"
   ]
  },
  {
   "cell_type": "code",
   "execution_count": null,
   "metadata": {
    "colab": {
     "base_uri": "https://localhost:8080/",
     "height": 190
    },
    "executionInfo": {
     "elapsed": 12,
     "status": "ok",
     "timestamp": 1681517511312,
     "user": {
      "displayName": "Andrew Liu",
      "userId": "01750910414052279045"
     },
     "user_tz": 420
    },
    "id": "iIDy0W9UjPt8",
    "outputId": "27c60806-3783-4892-b6d1-32f542e9f798"
   },
   "outputs": [
    {
     "data": {
      "text/html": [
       "\n",
       "  <div id=\"df-4b0bb1c4-d3c8-47af-8386-55f0af644c2f\">\n",
       "    <div class=\"colab-df-container\">\n",
       "      <div>\n",
       "<style scoped>\n",
       "    .dataframe tbody tr th:only-of-type {\n",
       "        vertical-align: middle;\n",
       "    }\n",
       "\n",
       "    .dataframe tbody tr th {\n",
       "        vertical-align: top;\n",
       "    }\n",
       "\n",
       "    .dataframe thead th {\n",
       "        text-align: right;\n",
       "    }\n",
       "</style>\n",
       "<table border=\"1\" class=\"dataframe\">\n",
       "  <thead>\n",
       "    <tr style=\"text-align: right;\">\n",
       "      <th></th>\n",
       "      <th>posting_id</th>\n",
       "      <th>image</th>\n",
       "      <th>image_phash</th>\n",
       "      <th>label_group</th>\n",
       "      <th>title_translate</th>\n",
       "    </tr>\n",
       "  </thead>\n",
       "  <tbody>\n",
       "    <tr>\n",
       "      <th>0</th>\n",
       "      <td>train_1003554842</td>\n",
       "      <td>560a5c3577fb22be2ac82c0e97558158.jpg</td>\n",
       "      <td>f3c78fce8c3050f0</td>\n",
       "      <td>3044373336</td>\n",
       "      <td>Mustika Ratu Oil Cem-Ceman 175 ml</td>\n",
       "    </tr>\n",
       "    <tr>\n",
       "      <th>1</th>\n",
       "      <td>train_523363809</td>\n",
       "      <td>dd1f14c7a734ff28b67062ae4f8529c6.jpg</td>\n",
       "      <td>af919a66c49d688b</td>\n",
       "      <td>873493898</td>\n",
       "      <td>Snobby Baby Mosquito Net Snobby 1 Pole KBX 1201</td>\n",
       "    </tr>\n",
       "  </tbody>\n",
       "</table>\n",
       "</div>\n",
       "      <button class=\"colab-df-convert\" onclick=\"convertToInteractive('df-4b0bb1c4-d3c8-47af-8386-55f0af644c2f')\"\n",
       "              title=\"Convert this dataframe to an interactive table.\"\n",
       "              style=\"display:none;\">\n",
       "        \n",
       "  <svg xmlns=\"http://www.w3.org/2000/svg\" height=\"24px\"viewBox=\"0 0 24 24\"\n",
       "       width=\"24px\">\n",
       "    <path d=\"M0 0h24v24H0V0z\" fill=\"none\"/>\n",
       "    <path d=\"M18.56 5.44l.94 2.06.94-2.06 2.06-.94-2.06-.94-.94-2.06-.94 2.06-2.06.94zm-11 1L8.5 8.5l.94-2.06 2.06-.94-2.06-.94L8.5 2.5l-.94 2.06-2.06.94zm10 10l.94 2.06.94-2.06 2.06-.94-2.06-.94-.94-2.06-.94 2.06-2.06.94z\"/><path d=\"M17.41 7.96l-1.37-1.37c-.4-.4-.92-.59-1.43-.59-.52 0-1.04.2-1.43.59L10.3 9.45l-7.72 7.72c-.78.78-.78 2.05 0 2.83L4 21.41c.39.39.9.59 1.41.59.51 0 1.02-.2 1.41-.59l7.78-7.78 2.81-2.81c.8-.78.8-2.07 0-2.86zM5.41 20L4 18.59l7.72-7.72 1.47 1.35L5.41 20z\"/>\n",
       "  </svg>\n",
       "      </button>\n",
       "      \n",
       "  <style>\n",
       "    .colab-df-container {\n",
       "      display:flex;\n",
       "      flex-wrap:wrap;\n",
       "      gap: 12px;\n",
       "    }\n",
       "\n",
       "    .colab-df-convert {\n",
       "      background-color: #E8F0FE;\n",
       "      border: none;\n",
       "      border-radius: 50%;\n",
       "      cursor: pointer;\n",
       "      display: none;\n",
       "      fill: #1967D2;\n",
       "      height: 32px;\n",
       "      padding: 0 0 0 0;\n",
       "      width: 32px;\n",
       "    }\n",
       "\n",
       "    .colab-df-convert:hover {\n",
       "      background-color: #E2EBFA;\n",
       "      box-shadow: 0px 1px 2px rgba(60, 64, 67, 0.3), 0px 1px 3px 1px rgba(60, 64, 67, 0.15);\n",
       "      fill: #174EA6;\n",
       "    }\n",
       "\n",
       "    [theme=dark] .colab-df-convert {\n",
       "      background-color: #3B4455;\n",
       "      fill: #D2E3FC;\n",
       "    }\n",
       "\n",
       "    [theme=dark] .colab-df-convert:hover {\n",
       "      background-color: #434B5C;\n",
       "      box-shadow: 0px 1px 3px 1px rgba(0, 0, 0, 0.15);\n",
       "      filter: drop-shadow(0px 1px 2px rgba(0, 0, 0, 0.3));\n",
       "      fill: #FFFFFF;\n",
       "    }\n",
       "  </style>\n",
       "\n",
       "      <script>\n",
       "        const buttonEl =\n",
       "          document.querySelector('#df-4b0bb1c4-d3c8-47af-8386-55f0af644c2f button.colab-df-convert');\n",
       "        buttonEl.style.display =\n",
       "          google.colab.kernel.accessAllowed ? 'block' : 'none';\n",
       "\n",
       "        async function convertToInteractive(key) {\n",
       "          const element = document.querySelector('#df-4b0bb1c4-d3c8-47af-8386-55f0af644c2f');\n",
       "          const dataTable =\n",
       "            await google.colab.kernel.invokeFunction('convertToInteractive',\n",
       "                                                     [key], {});\n",
       "          if (!dataTable) return;\n",
       "\n",
       "          const docLinkHtml = 'Like what you see? Visit the ' +\n",
       "            '<a target=\"_blank\" href=https://colab.research.google.com/notebooks/data_table.ipynb>data table notebook</a>'\n",
       "            + ' to learn more about interactive tables.';\n",
       "          element.innerHTML = '';\n",
       "          dataTable['output_type'] = 'display_data';\n",
       "          await google.colab.output.renderOutput(dataTable, element);\n",
       "          const docLink = document.createElement('div');\n",
       "          docLink.innerHTML = docLinkHtml;\n",
       "          element.appendChild(docLink);\n",
       "        }\n",
       "      </script>\n",
       "    </div>\n",
       "  </div>\n",
       "  "
      ],
      "text/plain": [
       "         posting_id                                 image       image_phash  \\\n",
       "0  train_1003554842  560a5c3577fb22be2ac82c0e97558158.jpg  f3c78fce8c3050f0   \n",
       "1   train_523363809  dd1f14c7a734ff28b67062ae4f8529c6.jpg  af919a66c49d688b   \n",
       "\n",
       "   label_group                                  title_translate  \n",
       "0   3044373336                Mustika Ratu Oil Cem-Ceman 175 ml  \n",
       "1    873493898  Snobby Baby Mosquito Net Snobby 1 Pole KBX 1201  "
      ]
     },
     "execution_count": 7,
     "metadata": {},
     "output_type": "execute_result"
    }
   ],
   "source": [
    "validation.head(2)"
   ]
  },
  {
   "cell_type": "markdown",
   "metadata": {
    "id": "WtNLNDl4wMwp"
   },
   "source": [
    "### Test text data"
   ]
  },
  {
   "cell_type": "code",
   "execution_count": null,
   "metadata": {
    "id": "FVhjCSfvQ5qa"
   },
   "outputs": [],
   "source": [
    "# load and preprocess the test text data\n",
    "test = pd.read_csv('test_translated.csv', usecols = ['posting_id', 'image', 'image_phash', 'title_translate'])"
   ]
  },
  {
   "cell_type": "code",
   "execution_count": null,
   "metadata": {
    "colab": {
     "base_uri": "https://localhost:8080/",
     "height": 204
    },
    "executionInfo": {
     "elapsed": 14,
     "status": "ok",
     "timestamp": 1681517511718,
     "user": {
      "displayName": "Andrew Liu",
      "userId": "01750910414052279045"
     },
     "user_tz": 420
    },
    "id": "hc-vTGixRAeN",
    "outputId": "238b6029-8cdf-4774-e815-15a858a121c3"
   },
   "outputs": [
    {
     "data": {
      "text/html": [
       "\n",
       "  <div id=\"df-8fc85abf-514f-47ba-bb61-cfb7a0b705b9\">\n",
       "    <div class=\"colab-df-container\">\n",
       "      <div>\n",
       "<style scoped>\n",
       "    .dataframe tbody tr th:only-of-type {\n",
       "        vertical-align: middle;\n",
       "    }\n",
       "\n",
       "    .dataframe tbody tr th {\n",
       "        vertical-align: top;\n",
       "    }\n",
       "\n",
       "    .dataframe thead th {\n",
       "        text-align: right;\n",
       "    }\n",
       "</style>\n",
       "<table border=\"1\" class=\"dataframe\">\n",
       "  <thead>\n",
       "    <tr style=\"text-align: right;\">\n",
       "      <th></th>\n",
       "      <th>posting_id</th>\n",
       "      <th>image</th>\n",
       "      <th>image_phash</th>\n",
       "      <th>title_translate</th>\n",
       "    </tr>\n",
       "  </thead>\n",
       "  <tbody>\n",
       "    <tr>\n",
       "      <th>0</th>\n",
       "      <td>test_2255846744</td>\n",
       "      <td>0006c8e5462ae52167402bac1c2e916e.jpg</td>\n",
       "      <td>ecc292392dc7687a</td>\n",
       "      <td>Edufuntoys - CHARACTER PHONE has lights and mu...</td>\n",
       "    </tr>\n",
       "    <tr>\n",
       "      <th>1</th>\n",
       "      <td>test_3588702337</td>\n",
       "      <td>0007585c4d0f932859339129f709bfdc.jpg</td>\n",
       "      <td>e9968f60d2699e2c</td>\n",
       "      <td>(Buy 1 Free Spatula) Blackhead Mask | Blackhea...</td>\n",
       "    </tr>\n",
       "    <tr>\n",
       "      <th>2</th>\n",
       "      <td>test_4015706929</td>\n",
       "      <td>0008377d3662e83ef44e1881af38b879.jpg</td>\n",
       "      <td>ba81c17e3581cabe</td>\n",
       "      <td>READY Lemonilo Healthy instant noodle soup and...</td>\n",
       "    </tr>\n",
       "  </tbody>\n",
       "</table>\n",
       "</div>\n",
       "      <button class=\"colab-df-convert\" onclick=\"convertToInteractive('df-8fc85abf-514f-47ba-bb61-cfb7a0b705b9')\"\n",
       "              title=\"Convert this dataframe to an interactive table.\"\n",
       "              style=\"display:none;\">\n",
       "        \n",
       "  <svg xmlns=\"http://www.w3.org/2000/svg\" height=\"24px\"viewBox=\"0 0 24 24\"\n",
       "       width=\"24px\">\n",
       "    <path d=\"M0 0h24v24H0V0z\" fill=\"none\"/>\n",
       "    <path d=\"M18.56 5.44l.94 2.06.94-2.06 2.06-.94-2.06-.94-.94-2.06-.94 2.06-2.06.94zm-11 1L8.5 8.5l.94-2.06 2.06-.94-2.06-.94L8.5 2.5l-.94 2.06-2.06.94zm10 10l.94 2.06.94-2.06 2.06-.94-2.06-.94-.94-2.06-.94 2.06-2.06.94z\"/><path d=\"M17.41 7.96l-1.37-1.37c-.4-.4-.92-.59-1.43-.59-.52 0-1.04.2-1.43.59L10.3 9.45l-7.72 7.72c-.78.78-.78 2.05 0 2.83L4 21.41c.39.39.9.59 1.41.59.51 0 1.02-.2 1.41-.59l7.78-7.78 2.81-2.81c.8-.78.8-2.07 0-2.86zM5.41 20L4 18.59l7.72-7.72 1.47 1.35L5.41 20z\"/>\n",
       "  </svg>\n",
       "      </button>\n",
       "      \n",
       "  <style>\n",
       "    .colab-df-container {\n",
       "      display:flex;\n",
       "      flex-wrap:wrap;\n",
       "      gap: 12px;\n",
       "    }\n",
       "\n",
       "    .colab-df-convert {\n",
       "      background-color: #E8F0FE;\n",
       "      border: none;\n",
       "      border-radius: 50%;\n",
       "      cursor: pointer;\n",
       "      display: none;\n",
       "      fill: #1967D2;\n",
       "      height: 32px;\n",
       "      padding: 0 0 0 0;\n",
       "      width: 32px;\n",
       "    }\n",
       "\n",
       "    .colab-df-convert:hover {\n",
       "      background-color: #E2EBFA;\n",
       "      box-shadow: 0px 1px 2px rgba(60, 64, 67, 0.3), 0px 1px 3px 1px rgba(60, 64, 67, 0.15);\n",
       "      fill: #174EA6;\n",
       "    }\n",
       "\n",
       "    [theme=dark] .colab-df-convert {\n",
       "      background-color: #3B4455;\n",
       "      fill: #D2E3FC;\n",
       "    }\n",
       "\n",
       "    [theme=dark] .colab-df-convert:hover {\n",
       "      background-color: #434B5C;\n",
       "      box-shadow: 0px 1px 3px 1px rgba(0, 0, 0, 0.15);\n",
       "      filter: drop-shadow(0px 1px 2px rgba(0, 0, 0, 0.3));\n",
       "      fill: #FFFFFF;\n",
       "    }\n",
       "  </style>\n",
       "\n",
       "      <script>\n",
       "        const buttonEl =\n",
       "          document.querySelector('#df-8fc85abf-514f-47ba-bb61-cfb7a0b705b9 button.colab-df-convert');\n",
       "        buttonEl.style.display =\n",
       "          google.colab.kernel.accessAllowed ? 'block' : 'none';\n",
       "\n",
       "        async function convertToInteractive(key) {\n",
       "          const element = document.querySelector('#df-8fc85abf-514f-47ba-bb61-cfb7a0b705b9');\n",
       "          const dataTable =\n",
       "            await google.colab.kernel.invokeFunction('convertToInteractive',\n",
       "                                                     [key], {});\n",
       "          if (!dataTable) return;\n",
       "\n",
       "          const docLinkHtml = 'Like what you see? Visit the ' +\n",
       "            '<a target=\"_blank\" href=https://colab.research.google.com/notebooks/data_table.ipynb>data table notebook</a>'\n",
       "            + ' to learn more about interactive tables.';\n",
       "          element.innerHTML = '';\n",
       "          dataTable['output_type'] = 'display_data';\n",
       "          await google.colab.output.renderOutput(dataTable, element);\n",
       "          const docLink = document.createElement('div');\n",
       "          docLink.innerHTML = docLinkHtml;\n",
       "          element.appendChild(docLink);\n",
       "        }\n",
       "      </script>\n",
       "    </div>\n",
       "  </div>\n",
       "  "
      ],
      "text/plain": [
       "        posting_id                                 image       image_phash  \\\n",
       "0  test_2255846744  0006c8e5462ae52167402bac1c2e916e.jpg  ecc292392dc7687a   \n",
       "1  test_3588702337  0007585c4d0f932859339129f709bfdc.jpg  e9968f60d2699e2c   \n",
       "2  test_4015706929  0008377d3662e83ef44e1881af38b879.jpg  ba81c17e3581cabe   \n",
       "\n",
       "                                     title_translate  \n",
       "0  Edufuntoys - CHARACTER PHONE has lights and mu...  \n",
       "1  (Buy 1 Free Spatula) Blackhead Mask | Blackhea...  \n",
       "2  READY Lemonilo Healthy instant noodle soup and...  "
      ]
     },
     "execution_count": 9,
     "metadata": {},
     "output_type": "execute_result"
    }
   ],
   "source": [
    "test"
   ]
  },
  {
   "cell_type": "markdown",
   "metadata": {
    "id": "6Qy88rqkd8gA"
   },
   "source": [
    "## Load the image to dataframe in array format"
   ]
  },
  {
   "cell_type": "markdown",
   "metadata": {
    "id": "x7SZ3KT4oVy-"
   },
   "source": [
    "### Load full training image data"
   ]
  },
  {
   "cell_type": "code",
   "execution_count": null,
   "metadata": {
    "id": "1vSTsvBfSFVh"
   },
   "outputs": [],
   "source": [
    "# load and preprocess the full image training data\n",
    "img_df = pd.read_csv(\"images_train.csv\", delimiter=\",\", engine='c', na_filter=False)"
   ]
  },
  {
   "cell_type": "code",
   "execution_count": null,
   "metadata": {
    "colab": {
     "base_uri": "https://localhost:8080/",
     "height": 222
    },
    "executionInfo": {
     "elapsed": 45,
     "status": "ok",
     "timestamp": 1681517560440,
     "user": {
      "displayName": "Andrew Liu",
      "userId": "01750910414052279045"
     },
     "user_tz": 420
    },
    "id": "rbq5hH9fSGQI",
    "outputId": "dfab6dac-d8f5-4b45-95a9-d50d12b82047"
   },
   "outputs": [
    {
     "data": {
      "text/html": [
       "\n",
       "  <div id=\"df-d77cda67-6d89-47c0-aa27-8459ba4d9367\">\n",
       "    <div class=\"colab-df-container\">\n",
       "      <div>\n",
       "<style scoped>\n",
       "    .dataframe tbody tr th:only-of-type {\n",
       "        vertical-align: middle;\n",
       "    }\n",
       "\n",
       "    .dataframe tbody tr th {\n",
       "        vertical-align: top;\n",
       "    }\n",
       "\n",
       "    .dataframe thead th {\n",
       "        text-align: right;\n",
       "    }\n",
       "</style>\n",
       "<table border=\"1\" class=\"dataframe\">\n",
       "  <thead>\n",
       "    <tr style=\"text-align: right;\">\n",
       "      <th></th>\n",
       "      <th>Unnamed: 0</th>\n",
       "      <th>label_group</th>\n",
       "      <th>image</th>\n",
       "      <th>0</th>\n",
       "      <th>1</th>\n",
       "      <th>2</th>\n",
       "      <th>3</th>\n",
       "      <th>4</th>\n",
       "      <th>5</th>\n",
       "      <th>6</th>\n",
       "      <th>...</th>\n",
       "      <th>12278</th>\n",
       "      <th>12279</th>\n",
       "      <th>12280</th>\n",
       "      <th>12281</th>\n",
       "      <th>12282</th>\n",
       "      <th>12283</th>\n",
       "      <th>12284</th>\n",
       "      <th>12285</th>\n",
       "      <th>12286</th>\n",
       "      <th>12287</th>\n",
       "    </tr>\n",
       "  </thead>\n",
       "  <tbody>\n",
       "    <tr>\n",
       "      <th>0</th>\n",
       "      <td>0</td>\n",
       "      <td>249114794</td>\n",
       "      <td>0000a68812bc7e98c42888dfb1c07da0.jpg</td>\n",
       "      <td>143</td>\n",
       "      <td>73</td>\n",
       "      <td>83</td>\n",
       "      <td>150</td>\n",
       "      <td>85</td>\n",
       "      <td>95</td>\n",
       "      <td>153</td>\n",
       "      <td>...</td>\n",
       "      <td>142</td>\n",
       "      <td>194</td>\n",
       "      <td>116</td>\n",
       "      <td>134</td>\n",
       "      <td>191</td>\n",
       "      <td>111</td>\n",
       "      <td>129</td>\n",
       "      <td>193</td>\n",
       "      <td>122</td>\n",
       "      <td>143</td>\n",
       "    </tr>\n",
       "    <tr>\n",
       "      <th>1</th>\n",
       "      <td>1</td>\n",
       "      <td>2937985045</td>\n",
       "      <td>00039780dfc94d01db8676fe789ecd05.jpg</td>\n",
       "      <td>255</td>\n",
       "      <td>255</td>\n",
       "      <td>255</td>\n",
       "      <td>255</td>\n",
       "      <td>255</td>\n",
       "      <td>255</td>\n",
       "      <td>255</td>\n",
       "      <td>...</td>\n",
       "      <td>255</td>\n",
       "      <td>255</td>\n",
       "      <td>255</td>\n",
       "      <td>255</td>\n",
       "      <td>255</td>\n",
       "      <td>255</td>\n",
       "      <td>255</td>\n",
       "      <td>255</td>\n",
       "      <td>255</td>\n",
       "      <td>255</td>\n",
       "    </tr>\n",
       "  </tbody>\n",
       "</table>\n",
       "<p>2 rows × 12291 columns</p>\n",
       "</div>\n",
       "      <button class=\"colab-df-convert\" onclick=\"convertToInteractive('df-d77cda67-6d89-47c0-aa27-8459ba4d9367')\"\n",
       "              title=\"Convert this dataframe to an interactive table.\"\n",
       "              style=\"display:none;\">\n",
       "        \n",
       "  <svg xmlns=\"http://www.w3.org/2000/svg\" height=\"24px\"viewBox=\"0 0 24 24\"\n",
       "       width=\"24px\">\n",
       "    <path d=\"M0 0h24v24H0V0z\" fill=\"none\"/>\n",
       "    <path d=\"M18.56 5.44l.94 2.06.94-2.06 2.06-.94-2.06-.94-.94-2.06-.94 2.06-2.06.94zm-11 1L8.5 8.5l.94-2.06 2.06-.94-2.06-.94L8.5 2.5l-.94 2.06-2.06.94zm10 10l.94 2.06.94-2.06 2.06-.94-2.06-.94-.94-2.06-.94 2.06-2.06.94z\"/><path d=\"M17.41 7.96l-1.37-1.37c-.4-.4-.92-.59-1.43-.59-.52 0-1.04.2-1.43.59L10.3 9.45l-7.72 7.72c-.78.78-.78 2.05 0 2.83L4 21.41c.39.39.9.59 1.41.59.51 0 1.02-.2 1.41-.59l7.78-7.78 2.81-2.81c.8-.78.8-2.07 0-2.86zM5.41 20L4 18.59l7.72-7.72 1.47 1.35L5.41 20z\"/>\n",
       "  </svg>\n",
       "      </button>\n",
       "      \n",
       "  <style>\n",
       "    .colab-df-container {\n",
       "      display:flex;\n",
       "      flex-wrap:wrap;\n",
       "      gap: 12px;\n",
       "    }\n",
       "\n",
       "    .colab-df-convert {\n",
       "      background-color: #E8F0FE;\n",
       "      border: none;\n",
       "      border-radius: 50%;\n",
       "      cursor: pointer;\n",
       "      display: none;\n",
       "      fill: #1967D2;\n",
       "      height: 32px;\n",
       "      padding: 0 0 0 0;\n",
       "      width: 32px;\n",
       "    }\n",
       "\n",
       "    .colab-df-convert:hover {\n",
       "      background-color: #E2EBFA;\n",
       "      box-shadow: 0px 1px 2px rgba(60, 64, 67, 0.3), 0px 1px 3px 1px rgba(60, 64, 67, 0.15);\n",
       "      fill: #174EA6;\n",
       "    }\n",
       "\n",
       "    [theme=dark] .colab-df-convert {\n",
       "      background-color: #3B4455;\n",
       "      fill: #D2E3FC;\n",
       "    }\n",
       "\n",
       "    [theme=dark] .colab-df-convert:hover {\n",
       "      background-color: #434B5C;\n",
       "      box-shadow: 0px 1px 3px 1px rgba(0, 0, 0, 0.15);\n",
       "      filter: drop-shadow(0px 1px 2px rgba(0, 0, 0, 0.3));\n",
       "      fill: #FFFFFF;\n",
       "    }\n",
       "  </style>\n",
       "\n",
       "      <script>\n",
       "        const buttonEl =\n",
       "          document.querySelector('#df-d77cda67-6d89-47c0-aa27-8459ba4d9367 button.colab-df-convert');\n",
       "        buttonEl.style.display =\n",
       "          google.colab.kernel.accessAllowed ? 'block' : 'none';\n",
       "\n",
       "        async function convertToInteractive(key) {\n",
       "          const element = document.querySelector('#df-d77cda67-6d89-47c0-aa27-8459ba4d9367');\n",
       "          const dataTable =\n",
       "            await google.colab.kernel.invokeFunction('convertToInteractive',\n",
       "                                                     [key], {});\n",
       "          if (!dataTable) return;\n",
       "\n",
       "          const docLinkHtml = 'Like what you see? Visit the ' +\n",
       "            '<a target=\"_blank\" href=https://colab.research.google.com/notebooks/data_table.ipynb>data table notebook</a>'\n",
       "            + ' to learn more about interactive tables.';\n",
       "          element.innerHTML = '';\n",
       "          dataTable['output_type'] = 'display_data';\n",
       "          await google.colab.output.renderOutput(dataTable, element);\n",
       "          const docLink = document.createElement('div');\n",
       "          docLink.innerHTML = docLinkHtml;\n",
       "          element.appendChild(docLink);\n",
       "        }\n",
       "      </script>\n",
       "    </div>\n",
       "  </div>\n",
       "  "
      ],
      "text/plain": [
       "   Unnamed: 0  label_group                                 image    0    1  \\\n",
       "0           0    249114794  0000a68812bc7e98c42888dfb1c07da0.jpg  143   73   \n",
       "1           1   2937985045  00039780dfc94d01db8676fe789ecd05.jpg  255  255   \n",
       "\n",
       "     2    3    4    5    6  ...  12278  12279  12280  12281  12282  12283  \\\n",
       "0   83  150   85   95  153  ...    142    194    116    134    191    111   \n",
       "1  255  255  255  255  255  ...    255    255    255    255    255    255   \n",
       "\n",
       "   12284  12285  12286  12287  \n",
       "0    129    193    122    143  \n",
       "1    255    255    255    255  \n",
       "\n",
       "[2 rows x 12291 columns]"
      ]
     },
     "execution_count": 11,
     "metadata": {},
     "output_type": "execute_result"
    }
   ],
   "source": [
    "img_df.head(2)"
   ]
  },
  {
   "cell_type": "code",
   "execution_count": null,
   "metadata": {
    "id": "Jw80Ro99JTi9"
   },
   "outputs": [],
   "source": [
    "X = img_df.iloc[:,3:]"
   ]
  },
  {
   "cell_type": "code",
   "execution_count": null,
   "metadata": {
    "id": "IaLirdMIIGbe"
   },
   "outputs": [],
   "source": [
    "X_ar = X.to_numpy()"
   ]
  },
  {
   "cell_type": "code",
   "execution_count": null,
   "metadata": {
    "colab": {
     "base_uri": "https://localhost:8080/"
    },
    "executionInfo": {
     "elapsed": 3071,
     "status": "ok",
     "timestamp": 1681517564312,
     "user": {
      "displayName": "Andrew Liu",
      "userId": "01750910414052279045"
     },
     "user_tz": 420
    },
    "id": "hYofV8x2iWOU",
    "outputId": "cb85dad3-fdbc-4fe0-b842-e685df27bb03"
   },
   "outputs": [
    {
     "data": {
      "text/plain": [
       "(29603, 64, 64, 3)"
      ]
     },
     "execution_count": 14,
     "metadata": {},
     "output_type": "execute_result"
    }
   ],
   "source": [
    "n_samples = X_ar.shape[0]\n",
    "X_image_train = np.zeros((n_samples, 64, 64, 3))\n",
    "\n",
    "for i in range(n_samples):\n",
    "    X_image_train[i] = X_ar[i].reshape([64,64,3])\n",
    "\n",
    "X_image_train.shape"
   ]
  },
  {
   "cell_type": "markdown",
   "metadata": {
    "id": "VD8rkynqoSKx"
   },
   "source": [
    "### Load validation image data"
   ]
  },
  {
   "cell_type": "code",
   "execution_count": null,
   "metadata": {
    "id": "5XW2ThJcoulJ"
   },
   "outputs": [],
   "source": [
    "# load and preprocess the full image validation data\n",
    "img_df_val = pd.read_csv(\"images_validation.csv\", delimiter=\",\", engine='c', na_filter=False)"
   ]
  },
  {
   "cell_type": "code",
   "execution_count": null,
   "metadata": {
    "colab": {
     "base_uri": "https://localhost:8080/",
     "height": 222
    },
    "executionInfo": {
     "elapsed": 49,
     "status": "ok",
     "timestamp": 1681517571598,
     "user": {
      "displayName": "Andrew Liu",
      "userId": "01750910414052279045"
     },
     "user_tz": 420
    },
    "id": "yWkvm8w1oulJ",
    "outputId": "96c0e1bf-c4df-45ca-8954-db235689e053"
   },
   "outputs": [
    {
     "data": {
      "text/html": [
       "\n",
       "  <div id=\"df-a1def6aa-8388-42bc-8c6b-ad27a571810c\">\n",
       "    <div class=\"colab-df-container\">\n",
       "      <div>\n",
       "<style scoped>\n",
       "    .dataframe tbody tr th:only-of-type {\n",
       "        vertical-align: middle;\n",
       "    }\n",
       "\n",
       "    .dataframe tbody tr th {\n",
       "        vertical-align: top;\n",
       "    }\n",
       "\n",
       "    .dataframe thead th {\n",
       "        text-align: right;\n",
       "    }\n",
       "</style>\n",
       "<table border=\"1\" class=\"dataframe\">\n",
       "  <thead>\n",
       "    <tr style=\"text-align: right;\">\n",
       "      <th></th>\n",
       "      <th>Unnamed: 0</th>\n",
       "      <th>label_group</th>\n",
       "      <th>image</th>\n",
       "      <th>0</th>\n",
       "      <th>1</th>\n",
       "      <th>2</th>\n",
       "      <th>3</th>\n",
       "      <th>4</th>\n",
       "      <th>5</th>\n",
       "      <th>6</th>\n",
       "      <th>...</th>\n",
       "      <th>12278</th>\n",
       "      <th>12279</th>\n",
       "      <th>12280</th>\n",
       "      <th>12281</th>\n",
       "      <th>12282</th>\n",
       "      <th>12283</th>\n",
       "      <th>12284</th>\n",
       "      <th>12285</th>\n",
       "      <th>12286</th>\n",
       "      <th>12287</th>\n",
       "    </tr>\n",
       "  </thead>\n",
       "  <tbody>\n",
       "    <tr>\n",
       "      <th>0</th>\n",
       "      <td>11443</td>\n",
       "      <td>3044373336</td>\n",
       "      <td>560a5c3577fb22be2ac82c0e97558158.jpg</td>\n",
       "      <td>255</td>\n",
       "      <td>255</td>\n",
       "      <td>255</td>\n",
       "      <td>255</td>\n",
       "      <td>255</td>\n",
       "      <td>255</td>\n",
       "      <td>255</td>\n",
       "      <td>...</td>\n",
       "      <td>255</td>\n",
       "      <td>255</td>\n",
       "      <td>255</td>\n",
       "      <td>255</td>\n",
       "      <td>255</td>\n",
       "      <td>255</td>\n",
       "      <td>255</td>\n",
       "      <td>255</td>\n",
       "      <td>255</td>\n",
       "      <td>255</td>\n",
       "    </tr>\n",
       "    <tr>\n",
       "      <th>1</th>\n",
       "      <td>29516</td>\n",
       "      <td>873493898</td>\n",
       "      <td>dd1f14c7a734ff28b67062ae4f8529c6.jpg</td>\n",
       "      <td>255</td>\n",
       "      <td>255</td>\n",
       "      <td>255</td>\n",
       "      <td>255</td>\n",
       "      <td>255</td>\n",
       "      <td>255</td>\n",
       "      <td>255</td>\n",
       "      <td>...</td>\n",
       "      <td>255</td>\n",
       "      <td>255</td>\n",
       "      <td>255</td>\n",
       "      <td>255</td>\n",
       "      <td>255</td>\n",
       "      <td>255</td>\n",
       "      <td>255</td>\n",
       "      <td>255</td>\n",
       "      <td>255</td>\n",
       "      <td>255</td>\n",
       "    </tr>\n",
       "  </tbody>\n",
       "</table>\n",
       "<p>2 rows × 12291 columns</p>\n",
       "</div>\n",
       "      <button class=\"colab-df-convert\" onclick=\"convertToInteractive('df-a1def6aa-8388-42bc-8c6b-ad27a571810c')\"\n",
       "              title=\"Convert this dataframe to an interactive table.\"\n",
       "              style=\"display:none;\">\n",
       "        \n",
       "  <svg xmlns=\"http://www.w3.org/2000/svg\" height=\"24px\"viewBox=\"0 0 24 24\"\n",
       "       width=\"24px\">\n",
       "    <path d=\"M0 0h24v24H0V0z\" fill=\"none\"/>\n",
       "    <path d=\"M18.56 5.44l.94 2.06.94-2.06 2.06-.94-2.06-.94-.94-2.06-.94 2.06-2.06.94zm-11 1L8.5 8.5l.94-2.06 2.06-.94-2.06-.94L8.5 2.5l-.94 2.06-2.06.94zm10 10l.94 2.06.94-2.06 2.06-.94-2.06-.94-.94-2.06-.94 2.06-2.06.94z\"/><path d=\"M17.41 7.96l-1.37-1.37c-.4-.4-.92-.59-1.43-.59-.52 0-1.04.2-1.43.59L10.3 9.45l-7.72 7.72c-.78.78-.78 2.05 0 2.83L4 21.41c.39.39.9.59 1.41.59.51 0 1.02-.2 1.41-.59l7.78-7.78 2.81-2.81c.8-.78.8-2.07 0-2.86zM5.41 20L4 18.59l7.72-7.72 1.47 1.35L5.41 20z\"/>\n",
       "  </svg>\n",
       "      </button>\n",
       "      \n",
       "  <style>\n",
       "    .colab-df-container {\n",
       "      display:flex;\n",
       "      flex-wrap:wrap;\n",
       "      gap: 12px;\n",
       "    }\n",
       "\n",
       "    .colab-df-convert {\n",
       "      background-color: #E8F0FE;\n",
       "      border: none;\n",
       "      border-radius: 50%;\n",
       "      cursor: pointer;\n",
       "      display: none;\n",
       "      fill: #1967D2;\n",
       "      height: 32px;\n",
       "      padding: 0 0 0 0;\n",
       "      width: 32px;\n",
       "    }\n",
       "\n",
       "    .colab-df-convert:hover {\n",
       "      background-color: #E2EBFA;\n",
       "      box-shadow: 0px 1px 2px rgba(60, 64, 67, 0.3), 0px 1px 3px 1px rgba(60, 64, 67, 0.15);\n",
       "      fill: #174EA6;\n",
       "    }\n",
       "\n",
       "    [theme=dark] .colab-df-convert {\n",
       "      background-color: #3B4455;\n",
       "      fill: #D2E3FC;\n",
       "    }\n",
       "\n",
       "    [theme=dark] .colab-df-convert:hover {\n",
       "      background-color: #434B5C;\n",
       "      box-shadow: 0px 1px 3px 1px rgba(0, 0, 0, 0.15);\n",
       "      filter: drop-shadow(0px 1px 2px rgba(0, 0, 0, 0.3));\n",
       "      fill: #FFFFFF;\n",
       "    }\n",
       "  </style>\n",
       "\n",
       "      <script>\n",
       "        const buttonEl =\n",
       "          document.querySelector('#df-a1def6aa-8388-42bc-8c6b-ad27a571810c button.colab-df-convert');\n",
       "        buttonEl.style.display =\n",
       "          google.colab.kernel.accessAllowed ? 'block' : 'none';\n",
       "\n",
       "        async function convertToInteractive(key) {\n",
       "          const element = document.querySelector('#df-a1def6aa-8388-42bc-8c6b-ad27a571810c');\n",
       "          const dataTable =\n",
       "            await google.colab.kernel.invokeFunction('convertToInteractive',\n",
       "                                                     [key], {});\n",
       "          if (!dataTable) return;\n",
       "\n",
       "          const docLinkHtml = 'Like what you see? Visit the ' +\n",
       "            '<a target=\"_blank\" href=https://colab.research.google.com/notebooks/data_table.ipynb>data table notebook</a>'\n",
       "            + ' to learn more about interactive tables.';\n",
       "          element.innerHTML = '';\n",
       "          dataTable['output_type'] = 'display_data';\n",
       "          await google.colab.output.renderOutput(dataTable, element);\n",
       "          const docLink = document.createElement('div');\n",
       "          docLink.innerHTML = docLinkHtml;\n",
       "          element.appendChild(docLink);\n",
       "        }\n",
       "      </script>\n",
       "    </div>\n",
       "  </div>\n",
       "  "
      ],
      "text/plain": [
       "   Unnamed: 0  label_group                                 image    0    1  \\\n",
       "0       11443   3044373336  560a5c3577fb22be2ac82c0e97558158.jpg  255  255   \n",
       "1       29516    873493898  dd1f14c7a734ff28b67062ae4f8529c6.jpg  255  255   \n",
       "\n",
       "     2    3    4    5    6  ...  12278  12279  12280  12281  12282  12283  \\\n",
       "0  255  255  255  255  255  ...    255    255    255    255    255    255   \n",
       "1  255  255  255  255  255  ...    255    255    255    255    255    255   \n",
       "\n",
       "   12284  12285  12286  12287  \n",
       "0    255    255    255    255  \n",
       "1    255    255    255    255  \n",
       "\n",
       "[2 rows x 12291 columns]"
      ]
     },
     "execution_count": 16,
     "metadata": {},
     "output_type": "execute_result"
    }
   ],
   "source": [
    "img_df_val.head(2)"
   ]
  },
  {
   "cell_type": "code",
   "execution_count": null,
   "metadata": {
    "id": "06x3HbRnoulJ"
   },
   "outputs": [],
   "source": [
    "X_val = img_df_val.iloc[:,3:]"
   ]
  },
  {
   "cell_type": "code",
   "execution_count": null,
   "metadata": {
    "id": "XE4oxtT_oulK"
   },
   "outputs": [],
   "source": [
    "X_ar_val = X_val.to_numpy()"
   ]
  },
  {
   "cell_type": "code",
   "execution_count": null,
   "metadata": {
    "colab": {
     "base_uri": "https://localhost:8080/"
    },
    "executionInfo": {
     "elapsed": 507,
     "status": "ok",
     "timestamp": 1681517572469,
     "user": {
      "displayName": "Andrew Liu",
      "userId": "01750910414052279045"
     },
     "user_tz": 420
    },
    "id": "67ekDpQ4oulK",
    "outputId": "9408a31a-b5d0-47f4-b5a9-8d7551a7bb78"
   },
   "outputs": [
    {
     "data": {
      "text/plain": [
       "(4647, 64, 64, 3)"
      ]
     },
     "execution_count": 19,
     "metadata": {},
     "output_type": "execute_result"
    }
   ],
   "source": [
    "n_samples_val = X_ar_val.shape[0]\n",
    "X_image_val = np.zeros((n_samples_val, 64, 64, 3))\n",
    "\n",
    "for i in range(n_samples_val):\n",
    "    X_image_val[i] = X_ar_val[i].reshape([64,64,3])\n",
    "\n",
    "X_image_val.shape"
   ]
  },
  {
   "cell_type": "code",
   "execution_count": null,
   "metadata": {
    "colab": {
     "base_uri": "https://localhost:8080/"
    },
    "executionInfo": {
     "elapsed": 18,
     "status": "ok",
     "timestamp": 1681517572470,
     "user": {
      "displayName": "Andrew Liu",
      "userId": "01750910414052279045"
     },
     "user_tz": 420
    },
    "id": "8C844MGfoulK",
    "outputId": "e4616bad-4796-47c2-88ce-ee9da867e37e"
   },
   "outputs": [
    {
     "data": {
      "text/plain": [
       "(4647, 12288)"
      ]
     },
     "execution_count": 20,
     "metadata": {},
     "output_type": "execute_result"
    }
   ],
   "source": [
    "X_ar_val.shape"
   ]
  },
  {
   "cell_type": "markdown",
   "metadata": {
    "id": "kyLvnNSzwgAn"
   },
   "source": [
    "### Load test image data"
   ]
  },
  {
   "cell_type": "code",
   "execution_count": null,
   "metadata": {
    "id": "7AC-cacuaNuB"
   },
   "outputs": [],
   "source": [
    "# from PIL import Image\n",
    "# define a function to load the images and convert them to numpy arrays\n",
    "path = 'kaggle/test_images/'\n",
    "\n",
    "def load_image(image_path):\n",
    "    img = Image.open(path+image_path)\n",
    "    fixed_size = (64, 64) # set the desired fixed size\n",
    "    img = img.resize(fixed_size)\n",
    "    img_array = np.array(img)\n",
    "    return img_array"
   ]
  },
  {
   "cell_type": "code",
   "execution_count": null,
   "metadata": {
    "id": "tHqnndD-eEV2"
   },
   "outputs": [],
   "source": [
    "# apply the load_image function to the image file paths in the train dataframe\n",
    "test['image_array'] = test['image'].apply(lambda x: load_image(x))"
   ]
  },
  {
   "cell_type": "code",
   "execution_count": null,
   "metadata": {
    "colab": {
     "base_uri": "https://localhost:8080/"
    },
    "executionInfo": {
     "elapsed": 42,
     "status": "ok",
     "timestamp": 1681517574754,
     "user": {
      "displayName": "Andrew Liu",
      "userId": "01750910414052279045"
     },
     "user_tz": 420
    },
    "id": "75zefK47ZKlh",
    "outputId": "95b7b699-353d-4871-f5f8-2ec0bbf63f0e"
   },
   "outputs": [
    {
     "data": {
      "text/plain": [
       "(3,)"
      ]
     },
     "execution_count": 23,
     "metadata": {},
     "output_type": "execute_result"
    }
   ],
   "source": [
    "test['image_array'].shape"
   ]
  },
  {
   "cell_type": "markdown",
   "metadata": {
    "id": "2kyHB-fTeKPb"
   },
   "source": [
    "Normalize the test image"
   ]
  },
  {
   "cell_type": "code",
   "execution_count": null,
   "metadata": {
    "id": "kT9FBXOMeSQM"
   },
   "outputs": [],
   "source": [
    "test['normalized_image'] = test['image_array'] / 255.0"
   ]
  },
  {
   "cell_type": "code",
   "execution_count": null,
   "metadata": {
    "colab": {
     "base_uri": "https://localhost:8080/"
    },
    "executionInfo": {
     "elapsed": 37,
     "status": "ok",
     "timestamp": 1681517574756,
     "user": {
      "displayName": "Andrew Liu",
      "userId": "01750910414052279045"
     },
     "user_tz": 420
    },
    "id": "Sd-pGvfCYBAU",
    "outputId": "0d18f0ad-1d8a-45b3-c4a4-6c24ab703d59"
   },
   "outputs": [
    {
     "data": {
      "text/plain": [
       "(3,)"
      ]
     },
     "execution_count": 25,
     "metadata": {},
     "output_type": "execute_result"
    }
   ],
   "source": [
    "test['normalized_image'].shape"
   ]
  },
  {
   "cell_type": "code",
   "execution_count": null,
   "metadata": {
    "id": "nsy9oIrxuZr1"
   },
   "outputs": [],
   "source": [
    "X_image_test = np.array(test['normalized_image'].tolist())"
   ]
  },
  {
   "cell_type": "code",
   "execution_count": null,
   "metadata": {
    "colab": {
     "base_uri": "https://localhost:8080/"
    },
    "executionInfo": {
     "elapsed": 30,
     "status": "ok",
     "timestamp": 1681517574759,
     "user": {
      "displayName": "Andrew Liu",
      "userId": "01750910414052279045"
     },
     "user_tz": 420
    },
    "id": "-j6EARpNBWGV",
    "outputId": "bef7ca93-b0ce-470e-b8a9-2a8f7da386b7"
   },
   "outputs": [
    {
     "data": {
      "text/plain": [
       "(3, 64, 64, 3)"
      ]
     },
     "execution_count": 27,
     "metadata": {},
     "output_type": "execute_result"
    }
   ],
   "source": [
    "X_image_test.shape"
   ]
  },
  {
   "cell_type": "markdown",
   "metadata": {
    "id": "4v1I5uvRuIDr"
   },
   "source": [
    "# Title processing"
   ]
  },
  {
   "cell_type": "code",
   "execution_count": null,
   "metadata": {
    "colab": {
     "base_uri": "https://localhost:8080/"
    },
    "executionInfo": {
     "elapsed": 24,
     "status": "ok",
     "timestamp": 1681517574760,
     "user": {
      "displayName": "Andrew Liu",
      "userId": "01750910414052279045"
     },
     "user_tz": 420
    },
    "id": "Q_F0Sp75uIk4",
    "outputId": "25ab3ea7-f801-45f8-fb16-7b2f97166f57"
   },
   "outputs": [
    {
     "data": {
      "text/plain": [
       "0                              Victoria's Secret Paper Bag\n",
       "1        Double Tape 3M VHB 12 mm x 4.5 m ORIGINAL / DO...\n",
       "2              Maling TTS Canned Pork Luncheon Meat 397 gr\n",
       "3        Short sleeve Batik negligee - Random / Mixed P...\n",
       "4                        Nescafe \\xc3\\x89clair Latte 220ml\n",
       "                               ...                        \n",
       "29598    Battery Battery Xiaomi Redmi Note 3 BM46 BM-46...\n",
       "29599    Washable 75 gsm Non-Woven Spunbond Fabric Mask...\n",
       "29600    KHANZAACC Robot RE101S 1.2mm Subwoofer Bass Me...\n",
       "29601    Broth NON MSG HALAL Mama Kamu Free-range Chick...\n",
       "29602    LEAK COATING FLEX TAPE / MAGIC ISOLATION / LEA...\n",
       "Name: title_translate, Length: 29603, dtype: object"
      ]
     },
     "execution_count": 28,
     "metadata": {},
     "output_type": "execute_result"
    }
   ],
   "source": [
    "train['title_translate']"
   ]
  },
  {
   "cell_type": "code",
   "execution_count": null,
   "metadata": {
    "colab": {
     "base_uri": "https://localhost:8080/"
    },
    "executionInfo": {
     "elapsed": 943,
     "status": "ok",
     "timestamp": 1681517575686,
     "user": {
      "displayName": "Andrew Liu",
      "userId": "01750910414052279045"
     },
     "user_tz": 420
    },
    "id": "UFIlk-8JuKpV",
    "outputId": "35d814f5-fc36-46a3-eafb-b9f1c6e78935"
   },
   "outputs": [
    {
     "name": "stderr",
     "output_type": "stream",
     "text": [
      "[nltk_data] Downloading package stopwords to /root/nltk_data...\n",
      "[nltk_data]   Unzipping corpora/stopwords.zip.\n"
     ]
    }
   ],
   "source": [
    "import re, string\n",
    "import nltk\n",
    "nltk.download('stopwords')\n",
    "from nltk.corpus import stopwords"
   ]
  },
  {
   "cell_type": "code",
   "execution_count": null,
   "metadata": {
    "id": "Vx7eraXuuKl7"
   },
   "outputs": [],
   "source": [
    "# function to clean the translated titles before embedding\n",
    "def clean_title(title):\n",
    "    # Remove all non-alphanumeric characters and convert to lowercase\n",
    "    clean1 = re.sub(r'[^a-zA-Z0-9\\s]', '', title).lower()\n",
    "    # Split the cleaned string into words\n",
    "    clean2 = re.split('\\W+', clean1)\n",
    "    # Remove stopwords and short words\n",
    "    title_cleaned = [word for word in clean2 if (word not in stopwords.words('english')) & (len(word) > 2)]\n",
    "    # Join the cleaned words using a space separator\n",
    "    title_cleaned = ' '.join(title_cleaned)\n",
    "    return title_cleaned"
   ]
  },
  {
   "cell_type": "markdown",
   "metadata": {
    "id": "p31hBiK7te7d"
   },
   "source": [
    "## Title in train data"
   ]
  },
  {
   "cell_type": "code",
   "execution_count": null,
   "metadata": {
    "id": "dogh991IuKil"
   },
   "outputs": [],
   "source": [
    "texts = train['title_translate'].values.tolist()\n",
    "for i in range(len(texts)):\n",
    "  texts[i] = clean_title(texts[i])"
   ]
  },
  {
   "cell_type": "code",
   "execution_count": null,
   "metadata": {
    "colab": {
     "base_uri": "https://localhost:8080/",
     "height": 49
    },
    "executionInfo": {
     "elapsed": 61,
     "status": "ok",
     "timestamp": 1681517599148,
     "user": {
      "displayName": "Andrew Liu",
      "userId": "01750910414052279045"
     },
     "user_tz": 420
    },
    "id": "KIMAIYTduKeB",
    "outputId": "7dd2787b-555c-49f0-c153-d2259d53e350"
   },
   "outputs": [
    {
     "data": {
      "text/html": [
       "\n",
       "  <div id=\"df-5f61a7a0-40b9-4341-b1ee-f6faaf4d8c26\">\n",
       "    <div class=\"colab-df-container\">\n",
       "      <div>\n",
       "<style scoped>\n",
       "    .dataframe tbody tr th:only-of-type {\n",
       "        vertical-align: middle;\n",
       "    }\n",
       "\n",
       "    .dataframe tbody tr th {\n",
       "        vertical-align: top;\n",
       "    }\n",
       "\n",
       "    .dataframe thead th {\n",
       "        text-align: right;\n",
       "    }\n",
       "</style>\n",
       "<table border=\"1\" class=\"dataframe\">\n",
       "  <thead>\n",
       "    <tr style=\"text-align: right;\">\n",
       "      <th></th>\n",
       "      <th>0</th>\n",
       "    </tr>\n",
       "  </thead>\n",
       "  <tbody>\n",
       "  </tbody>\n",
       "</table>\n",
       "</div>\n",
       "      <button class=\"colab-df-convert\" onclick=\"convertToInteractive('df-5f61a7a0-40b9-4341-b1ee-f6faaf4d8c26')\"\n",
       "              title=\"Convert this dataframe to an interactive table.\"\n",
       "              style=\"display:none;\">\n",
       "        \n",
       "  <svg xmlns=\"http://www.w3.org/2000/svg\" height=\"24px\"viewBox=\"0 0 24 24\"\n",
       "       width=\"24px\">\n",
       "    <path d=\"M0 0h24v24H0V0z\" fill=\"none\"/>\n",
       "    <path d=\"M18.56 5.44l.94 2.06.94-2.06 2.06-.94-2.06-.94-.94-2.06-.94 2.06-2.06.94zm-11 1L8.5 8.5l.94-2.06 2.06-.94-2.06-.94L8.5 2.5l-.94 2.06-2.06.94zm10 10l.94 2.06.94-2.06 2.06-.94-2.06-.94-.94-2.06-.94 2.06-2.06.94z\"/><path d=\"M17.41 7.96l-1.37-1.37c-.4-.4-.92-.59-1.43-.59-.52 0-1.04.2-1.43.59L10.3 9.45l-7.72 7.72c-.78.78-.78 2.05 0 2.83L4 21.41c.39.39.9.59 1.41.59.51 0 1.02-.2 1.41-.59l7.78-7.78 2.81-2.81c.8-.78.8-2.07 0-2.86zM5.41 20L4 18.59l7.72-7.72 1.47 1.35L5.41 20z\"/>\n",
       "  </svg>\n",
       "      </button>\n",
       "      \n",
       "  <style>\n",
       "    .colab-df-container {\n",
       "      display:flex;\n",
       "      flex-wrap:wrap;\n",
       "      gap: 12px;\n",
       "    }\n",
       "\n",
       "    .colab-df-convert {\n",
       "      background-color: #E8F0FE;\n",
       "      border: none;\n",
       "      border-radius: 50%;\n",
       "      cursor: pointer;\n",
       "      display: none;\n",
       "      fill: #1967D2;\n",
       "      height: 32px;\n",
       "      padding: 0 0 0 0;\n",
       "      width: 32px;\n",
       "    }\n",
       "\n",
       "    .colab-df-convert:hover {\n",
       "      background-color: #E2EBFA;\n",
       "      box-shadow: 0px 1px 2px rgba(60, 64, 67, 0.3), 0px 1px 3px 1px rgba(60, 64, 67, 0.15);\n",
       "      fill: #174EA6;\n",
       "    }\n",
       "\n",
       "    [theme=dark] .colab-df-convert {\n",
       "      background-color: #3B4455;\n",
       "      fill: #D2E3FC;\n",
       "    }\n",
       "\n",
       "    [theme=dark] .colab-df-convert:hover {\n",
       "      background-color: #434B5C;\n",
       "      box-shadow: 0px 1px 3px 1px rgba(0, 0, 0, 0.15);\n",
       "      filter: drop-shadow(0px 1px 2px rgba(0, 0, 0, 0.3));\n",
       "      fill: #FFFFFF;\n",
       "    }\n",
       "  </style>\n",
       "\n",
       "      <script>\n",
       "        const buttonEl =\n",
       "          document.querySelector('#df-5f61a7a0-40b9-4341-b1ee-f6faaf4d8c26 button.colab-df-convert');\n",
       "        buttonEl.style.display =\n",
       "          google.colab.kernel.accessAllowed ? 'block' : 'none';\n",
       "\n",
       "        async function convertToInteractive(key) {\n",
       "          const element = document.querySelector('#df-5f61a7a0-40b9-4341-b1ee-f6faaf4d8c26');\n",
       "          const dataTable =\n",
       "            await google.colab.kernel.invokeFunction('convertToInteractive',\n",
       "                                                     [key], {});\n",
       "          if (!dataTable) return;\n",
       "\n",
       "          const docLinkHtml = 'Like what you see? Visit the ' +\n",
       "            '<a target=\"_blank\" href=https://colab.research.google.com/notebooks/data_table.ipynb>data table notebook</a>'\n",
       "            + ' to learn more about interactive tables.';\n",
       "          element.innerHTML = '';\n",
       "          dataTable['output_type'] = 'display_data';\n",
       "          await google.colab.output.renderOutput(dataTable, element);\n",
       "          const docLink = document.createElement('div');\n",
       "          docLink.innerHTML = docLinkHtml;\n",
       "          element.appendChild(docLink);\n",
       "        }\n",
       "      </script>\n",
       "    </div>\n",
       "  </div>\n",
       "  "
      ],
      "text/plain": [
       "Empty DataFrame\n",
       "Columns: [0]\n",
       "Index: []"
      ]
     },
     "execution_count": 32,
     "metadata": {},
     "output_type": "execute_result"
    }
   ],
   "source": [
    "#Check if blank text exists after filtering\n",
    "string_lengths = [len(string) for string in texts]\n",
    "string_lengths = pd.DataFrame(string_lengths)\n",
    "string_lengths[string_lengths.iloc[:,0]==0]"
   ]
  },
  {
   "cell_type": "code",
   "execution_count": null,
   "metadata": {
    "id": "TXmhx6PauKaX"
   },
   "outputs": [],
   "source": [
    "train['title_clean'] = texts"
   ]
  },
  {
   "cell_type": "code",
   "execution_count": null,
   "metadata": {
    "colab": {
     "base_uri": "https://localhost:8080/",
     "height": 1000
    },
    "executionInfo": {
     "elapsed": 57,
     "status": "ok",
     "timestamp": 1681517599150,
     "user": {
      "displayName": "Andrew Liu",
      "userId": "01750910414052279045"
     },
     "user_tz": 420
    },
    "id": "i6Inhj9OuZzt",
    "outputId": "0275a4bf-136d-407b-d07f-b7768b2ab6fa"
   },
   "outputs": [
    {
     "data": {
      "text/html": [
       "\n",
       "  <div id=\"df-bdc8db3f-26d2-4c7e-82ca-4ae34b12e573\">\n",
       "    <div class=\"colab-df-container\">\n",
       "      <div>\n",
       "<style scoped>\n",
       "    .dataframe tbody tr th:only-of-type {\n",
       "        vertical-align: middle;\n",
       "    }\n",
       "\n",
       "    .dataframe tbody tr th {\n",
       "        vertical-align: top;\n",
       "    }\n",
       "\n",
       "    .dataframe thead th {\n",
       "        text-align: right;\n",
       "    }\n",
       "</style>\n",
       "<table border=\"1\" class=\"dataframe\">\n",
       "  <thead>\n",
       "    <tr style=\"text-align: right;\">\n",
       "      <th></th>\n",
       "      <th>posting_id</th>\n",
       "      <th>image</th>\n",
       "      <th>image_phash</th>\n",
       "      <th>label_group</th>\n",
       "      <th>title_translate</th>\n",
       "      <th>title_clean</th>\n",
       "    </tr>\n",
       "  </thead>\n",
       "  <tbody>\n",
       "    <tr>\n",
       "      <th>0</th>\n",
       "      <td>train_129225211</td>\n",
       "      <td>0000a68812bc7e98c42888dfb1c07da0.jpg</td>\n",
       "      <td>94974f937d4c2433</td>\n",
       "      <td>249114794</td>\n",
       "      <td>Victoria's Secret Paper Bag</td>\n",
       "      <td>victorias secret paper bag</td>\n",
       "    </tr>\n",
       "    <tr>\n",
       "      <th>1</th>\n",
       "      <td>train_3386243561</td>\n",
       "      <td>00039780dfc94d01db8676fe789ecd05.jpg</td>\n",
       "      <td>af3f9460c2838f0f</td>\n",
       "      <td>2937985045</td>\n",
       "      <td>Double Tape 3M VHB 12 mm x 4.5 m ORIGINAL / DO...</td>\n",
       "      <td>double tape vhb original double foam tape</td>\n",
       "    </tr>\n",
       "    <tr>\n",
       "      <th>2</th>\n",
       "      <td>train_2288590299</td>\n",
       "      <td>000a190fdd715a2a36faed16e2c65df7.jpg</td>\n",
       "      <td>b94cb00ed3e50f78</td>\n",
       "      <td>2395904891</td>\n",
       "      <td>Maling TTS Canned Pork Luncheon Meat 397 gr</td>\n",
       "      <td>maling tts canned pork luncheon meat 397</td>\n",
       "    </tr>\n",
       "    <tr>\n",
       "      <th>3</th>\n",
       "      <td>train_2406599165</td>\n",
       "      <td>00117e4fc239b1b641ff08340b429633.jpg</td>\n",
       "      <td>8514fc58eafea283</td>\n",
       "      <td>4093212188</td>\n",
       "      <td>Short sleeve Batik negligee - Random / Mixed P...</td>\n",
       "      <td>short sleeve batik negligee random mixed patte...</td>\n",
       "    </tr>\n",
       "    <tr>\n",
       "      <th>4</th>\n",
       "      <td>train_3369186413</td>\n",
       "      <td>00136d1cf4edede0203f32f05f660588.jpg</td>\n",
       "      <td>a6f319f924ad708c</td>\n",
       "      <td>3648931069</td>\n",
       "      <td>Nescafe \\xc3\\x89clair Latte 220ml</td>\n",
       "      <td>nescafe xc3x89clair latte 220ml</td>\n",
       "    </tr>\n",
       "    <tr>\n",
       "      <th>5</th>\n",
       "      <td>train_2464356923</td>\n",
       "      <td>0013e7355ffc5ff8fb1ccad3e42d92fe.jpg</td>\n",
       "      <td>bbd097a7870f4a50</td>\n",
       "      <td>2660605217</td>\n",
       "      <td>WOMEN'S PANTS (BB 45-84 KG) Harem women (cod a...</td>\n",
       "      <td>womens pants 4584 harem women cod available</td>\n",
       "    </tr>\n",
       "    <tr>\n",
       "      <th>6</th>\n",
       "      <td>train_1802986387</td>\n",
       "      <td>00144a49c56599d45354a1c28104c039.jpg</td>\n",
       "      <td>f815c9bb833ab4c8</td>\n",
       "      <td>1835033137</td>\n",
       "      <td>Children's robe size 1-12 yrs</td>\n",
       "      <td>childrens robe size 112 yrs</td>\n",
       "    </tr>\n",
       "    <tr>\n",
       "      <th>7</th>\n",
       "      <td>train_1806152124</td>\n",
       "      <td>0014f61389cbaa687a58e38a97b6383d.jpg</td>\n",
       "      <td>eea7e1c0c04da33d</td>\n",
       "      <td>1565741687</td>\n",
       "      <td>SALUR PLISKET CULOT / CANDY PLISKET / WISH KUL...</td>\n",
       "      <td>salur plisket culot candy plisket wish kulot p...</td>\n",
       "    </tr>\n",
       "    <tr>\n",
       "      <th>8</th>\n",
       "      <td>train_86570404</td>\n",
       "      <td>0019a3c6755a194cb2e2c12bfc63972e.jpg</td>\n",
       "      <td>ea9af4f483249972</td>\n",
       "      <td>2359912463</td>\n",
       "      <td>[LOGU] Magnetic number fridge sticker, magneti...</td>\n",
       "      <td>logu magnetic number fridge sticker magnetic n...</td>\n",
       "    </tr>\n",
       "    <tr>\n",
       "      <th>9</th>\n",
       "      <td>train_831680791</td>\n",
       "      <td>001be52b2beec40ddc1d2d7fc7a68f08.jpg</td>\n",
       "      <td>e1ce953d1a70618f</td>\n",
       "      <td>2630990665</td>\n",
       "      <td>BIG SALE SHOES COOL LEATHER LOOSE TO WORK OFFI...</td>\n",
       "      <td>big sale shoes cool leather loose work office ...</td>\n",
       "    </tr>\n",
       "    <tr>\n",
       "      <th>10</th>\n",
       "      <td>train_1598329973</td>\n",
       "      <td>001d7f5d9a2fac714f4d5f37b3baffb4.jpg</td>\n",
       "      <td>bec8d09693634b4b</td>\n",
       "      <td>2462407944</td>\n",
       "      <td>LISDIA SWEATER Women's Knit Top</td>\n",
       "      <td>lisdia sweater womens knit top</td>\n",
       "    </tr>\n",
       "    <tr>\n",
       "      <th>11</th>\n",
       "      <td>train_2496690777</td>\n",
       "      <td>001e11145b8e9bf5ac51110c0fdd8697.jpg</td>\n",
       "      <td>eab5c295966ac368</td>\n",
       "      <td>509010932</td>\n",
       "      <td>PASHMINA KUSUT RAWIS PLAIN CRINKLE SHAWL VERY ...</td>\n",
       "      <td>pashmina kusut rawis plain crinkle shawl cheap</td>\n",
       "    </tr>\n",
       "    <tr>\n",
       "      <th>12</th>\n",
       "      <td>train_2771755203</td>\n",
       "      <td>001e11145b8e9bf5ac51110c0fdd8697.jpg</td>\n",
       "      <td>eab5c295966ac368</td>\n",
       "      <td>509010932</td>\n",
       "      <td>PASHMINA KUSUT RAWIS POLOS CRINKLE SHAWL VERY ...</td>\n",
       "      <td>pashmina kusut rawis polos crinkle shawl cheap...</td>\n",
       "    </tr>\n",
       "    <tr>\n",
       "      <th>13</th>\n",
       "      <td>train_998568945</td>\n",
       "      <td>001f4c8331d0554d133b10d85b7fafb2.jpg</td>\n",
       "      <td>d8a6082bb93d2db5</td>\n",
       "      <td>4206465630</td>\n",
       "      <td>T5 led light Speedometer Dashboard Motor Car 5...</td>\n",
       "      <td>led light speedometer dashboard motor car 5050...</td>\n",
       "    </tr>\n",
       "    <tr>\n",
       "      <th>14</th>\n",
       "      <td>train_4287573913</td>\n",
       "      <td>001f5580b058c6b8e33132190a757318.jpg</td>\n",
       "      <td>dc85e1750687f932</td>\n",
       "      <td>1932232224</td>\n",
       "      <td>Charger VIZZ VZ-TC11 / original vizz 1A charge...</td>\n",
       "      <td>charger vizz vztc11 original vizz charger real...</td>\n",
       "    </tr>\n",
       "    <tr>\n",
       "      <th>15</th>\n",
       "      <td>train_4196427721</td>\n",
       "      <td>002039aaf8618627a0442d5e89e5dda6.jpg</td>\n",
       "      <td>e98c873acc65946e</td>\n",
       "      <td>349297863</td>\n",
       "      <td>CherryBabyKidsShop SP LC LED Earplugs for todd...</td>\n",
       "      <td>cherrybabykidsshop led earplugs toddlers</td>\n",
       "    </tr>\n",
       "    <tr>\n",
       "      <th>16</th>\n",
       "      <td>train_3009013664</td>\n",
       "      <td>0027aaf8dd8bdbf0e4f2c19024e436cf.jpg</td>\n",
       "      <td>b3cccc26cc3333cc</td>\n",
       "      <td>1574620312</td>\n",
       "      <td>MARKS &amp; SPENCER - Rose Hand &amp; Body Lotion 250 ml</td>\n",
       "      <td>marks spencer rose hand body lotion 250</td>\n",
       "    </tr>\n",
       "    <tr>\n",
       "      <th>17</th>\n",
       "      <td>train_3054371232</td>\n",
       "      <td>00286d2760e433a8a01cbd9e056144f7.jpg</td>\n",
       "      <td>be85837b8ca44ad3</td>\n",
       "      <td>2353399596</td>\n",
       "      <td>Saffron 0.25 gr to 2 gr Super Negin Premium Qu...</td>\n",
       "      <td>saffron 025 super negin premium quality original</td>\n",
       "    </tr>\n",
       "    <tr>\n",
       "      <th>18</th>\n",
       "      <td>train_2985955659</td>\n",
       "      <td>002f978c58a44a00aadfca71c3cad2bb.jpg</td>\n",
       "      <td>bf38f0e083d7c710</td>\n",
       "      <td>3415582503</td>\n",
       "      <td>HnKfashion Sweater Hoodie WHO Printing BabyTer...</td>\n",
       "      <td>hnkfashion sweater hoodie printing babyterry fit</td>\n",
       "    </tr>\n",
       "    <tr>\n",
       "      <th>19</th>\n",
       "      <td>train_2961381387</td>\n",
       "      <td>00303ad1c062fdeaf5f41b9ffb71a5fb.jpg</td>\n",
       "      <td>e48d9b652098efe1</td>\n",
       "      <td>2098400894</td>\n",
       "      <td>Madame Gie MakeUp Blush On BY GISELL</td>\n",
       "      <td>madame gie makeup blush gisell</td>\n",
       "    </tr>\n",
       "    <tr>\n",
       "      <th>20</th>\n",
       "      <td>train_999391364</td>\n",
       "      <td>00324695e37299a00b955674d984592b.jpg</td>\n",
       "      <td>a734d84d34702f37</td>\n",
       "      <td>3624674138</td>\n",
       "      <td>Safi Dermasafe Night Moisturizer 50 gr</td>\n",
       "      <td>safi dermasafe night moisturizer</td>\n",
       "    </tr>\n",
       "    <tr>\n",
       "      <th>21</th>\n",
       "      <td>train_2238403912</td>\n",
       "      <td>003524b70715bf6bfa00451ca08e66e0.jpg</td>\n",
       "      <td>ba35c44a3fb7c068</td>\n",
       "      <td>531768918</td>\n",
       "      <td>Kangaroo Teflon / Allu Fry Pan 18 cm - KG652</td>\n",
       "      <td>kangaroo teflon allu fry pan kg652</td>\n",
       "    </tr>\n",
       "    <tr>\n",
       "      <th>22</th>\n",
       "      <td>train_1396146683</td>\n",
       "      <td>0035b8fc42955c0fa2301b68e2ffe861.jpg</td>\n",
       "      <td>d5c0caa0aeb3b23e</td>\n",
       "      <td>4240123481</td>\n",
       "      <td>CHOCO BALL LAGIE CHOCOLATE Lagie Wholesale Lag...</td>\n",
       "      <td>choco ball lagie chocolate lagie wholesale lag...</td>\n",
       "    </tr>\n",
       "    <tr>\n",
       "      <th>23</th>\n",
       "      <td>train_1180155871</td>\n",
       "      <td>00369839c7d94411e54437b7cf59b603.jpg</td>\n",
       "      <td>bbc1c43ec3633ec0</td>\n",
       "      <td>2224428568</td>\n",
       "      <td>[INCLUDE TAX] NCT DREAM RELOAD ALBUM</td>\n",
       "      <td>include tax nct dream reload album</td>\n",
       "    </tr>\n",
       "    <tr>\n",
       "      <th>24</th>\n",
       "      <td>train_1872347548</td>\n",
       "      <td>003906c6c6bba4cde15e5e854dba8f6d.jpg</td>\n",
       "      <td>f3e18c5ea14493e3</td>\n",
       "      <td>4044205497</td>\n",
       "      <td>Multifunctional Hanger Stand - 9 Hook Scarf Co...</td>\n",
       "      <td>multifunctional hanger stand hook scarf coat h...</td>\n",
       "    </tr>\n",
       "    <tr>\n",
       "      <th>25</th>\n",
       "      <td>train_249329869</td>\n",
       "      <td>003a6fbbdf88f0f60dc074458911f01e.jpg</td>\n",
       "      <td>9a9a631adca50bda</td>\n",
       "      <td>404551210</td>\n",
       "      <td>Boyya Spicy Shrimp Seasoning Petis Sambal 270 ...</td>\n",
       "      <td>boyya spicy shrimp seasoning petis sambal 270 ...</td>\n",
       "    </tr>\n",
       "    <tr>\n",
       "      <th>26</th>\n",
       "      <td>train_2905529497</td>\n",
       "      <td>003c7129aef72ad3ae8af64eac5bfd29.jpg</td>\n",
       "      <td>ce4e2d3570721ab5</td>\n",
       "      <td>2034299767</td>\n",
       "      <td>3ply Earloop Medical Mask (50pcs) - 3ply Dispo...</td>\n",
       "      <td>3ply earloop medical mask 50pcs 3ply disposabl...</td>\n",
       "    </tr>\n",
       "    <tr>\n",
       "      <th>27</th>\n",
       "      <td>train_3466601092</td>\n",
       "      <td>004076b57135e761ab8b41d84acc4c94.jpg</td>\n",
       "      <td>aa2c0ee4eb6ba0cd</td>\n",
       "      <td>2933791615</td>\n",
       "      <td>[Shiyan] Baby teether set pack baby teether tr...</td>\n",
       "      <td>shiyan baby teether set pack baby teether trai...</td>\n",
       "    </tr>\n",
       "    <tr>\n",
       "      <th>28</th>\n",
       "      <td>train_1572286671</td>\n",
       "      <td>00416d439a613fb6cbede5cfc95176e6.jpg</td>\n",
       "      <td>bb3fccc4c013c3e1</td>\n",
       "      <td>532279668</td>\n",
       "      <td>Girls' underwear wings bra seamless push up br...</td>\n",
       "      <td>girls underwear wings bra seamless push bra im...</td>\n",
       "    </tr>\n",
       "    <tr>\n",
       "      <th>29</th>\n",
       "      <td>train_3117535609</td>\n",
       "      <td>00416d439a613fb6cbede5cfc95176e6.jpg</td>\n",
       "      <td>bb3fccc4c013c3e1</td>\n",
       "      <td>532279668</td>\n",
       "      <td>WINGs BRA-BRA TEMPEL SEAMLESS - PUSH UP BRA - ...</td>\n",
       "      <td>wings brabra tempel seamless push bra straples...</td>\n",
       "    </tr>\n",
       "  </tbody>\n",
       "</table>\n",
       "</div>\n",
       "      <button class=\"colab-df-convert\" onclick=\"convertToInteractive('df-bdc8db3f-26d2-4c7e-82ca-4ae34b12e573')\"\n",
       "              title=\"Convert this dataframe to an interactive table.\"\n",
       "              style=\"display:none;\">\n",
       "        \n",
       "  <svg xmlns=\"http://www.w3.org/2000/svg\" height=\"24px\"viewBox=\"0 0 24 24\"\n",
       "       width=\"24px\">\n",
       "    <path d=\"M0 0h24v24H0V0z\" fill=\"none\"/>\n",
       "    <path d=\"M18.56 5.44l.94 2.06.94-2.06 2.06-.94-2.06-.94-.94-2.06-.94 2.06-2.06.94zm-11 1L8.5 8.5l.94-2.06 2.06-.94-2.06-.94L8.5 2.5l-.94 2.06-2.06.94zm10 10l.94 2.06.94-2.06 2.06-.94-2.06-.94-.94-2.06-.94 2.06-2.06.94z\"/><path d=\"M17.41 7.96l-1.37-1.37c-.4-.4-.92-.59-1.43-.59-.52 0-1.04.2-1.43.59L10.3 9.45l-7.72 7.72c-.78.78-.78 2.05 0 2.83L4 21.41c.39.39.9.59 1.41.59.51 0 1.02-.2 1.41-.59l7.78-7.78 2.81-2.81c.8-.78.8-2.07 0-2.86zM5.41 20L4 18.59l7.72-7.72 1.47 1.35L5.41 20z\"/>\n",
       "  </svg>\n",
       "      </button>\n",
       "      \n",
       "  <style>\n",
       "    .colab-df-container {\n",
       "      display:flex;\n",
       "      flex-wrap:wrap;\n",
       "      gap: 12px;\n",
       "    }\n",
       "\n",
       "    .colab-df-convert {\n",
       "      background-color: #E8F0FE;\n",
       "      border: none;\n",
       "      border-radius: 50%;\n",
       "      cursor: pointer;\n",
       "      display: none;\n",
       "      fill: #1967D2;\n",
       "      height: 32px;\n",
       "      padding: 0 0 0 0;\n",
       "      width: 32px;\n",
       "    }\n",
       "\n",
       "    .colab-df-convert:hover {\n",
       "      background-color: #E2EBFA;\n",
       "      box-shadow: 0px 1px 2px rgba(60, 64, 67, 0.3), 0px 1px 3px 1px rgba(60, 64, 67, 0.15);\n",
       "      fill: #174EA6;\n",
       "    }\n",
       "\n",
       "    [theme=dark] .colab-df-convert {\n",
       "      background-color: #3B4455;\n",
       "      fill: #D2E3FC;\n",
       "    }\n",
       "\n",
       "    [theme=dark] .colab-df-convert:hover {\n",
       "      background-color: #434B5C;\n",
       "      box-shadow: 0px 1px 3px 1px rgba(0, 0, 0, 0.15);\n",
       "      filter: drop-shadow(0px 1px 2px rgba(0, 0, 0, 0.3));\n",
       "      fill: #FFFFFF;\n",
       "    }\n",
       "  </style>\n",
       "\n",
       "      <script>\n",
       "        const buttonEl =\n",
       "          document.querySelector('#df-bdc8db3f-26d2-4c7e-82ca-4ae34b12e573 button.colab-df-convert');\n",
       "        buttonEl.style.display =\n",
       "          google.colab.kernel.accessAllowed ? 'block' : 'none';\n",
       "\n",
       "        async function convertToInteractive(key) {\n",
       "          const element = document.querySelector('#df-bdc8db3f-26d2-4c7e-82ca-4ae34b12e573');\n",
       "          const dataTable =\n",
       "            await google.colab.kernel.invokeFunction('convertToInteractive',\n",
       "                                                     [key], {});\n",
       "          if (!dataTable) return;\n",
       "\n",
       "          const docLinkHtml = 'Like what you see? Visit the ' +\n",
       "            '<a target=\"_blank\" href=https://colab.research.google.com/notebooks/data_table.ipynb>data table notebook</a>'\n",
       "            + ' to learn more about interactive tables.';\n",
       "          element.innerHTML = '';\n",
       "          dataTable['output_type'] = 'display_data';\n",
       "          await google.colab.output.renderOutput(dataTable, element);\n",
       "          const docLink = document.createElement('div');\n",
       "          docLink.innerHTML = docLinkHtml;\n",
       "          element.appendChild(docLink);\n",
       "        }\n",
       "      </script>\n",
       "    </div>\n",
       "  </div>\n",
       "  "
      ],
      "text/plain": [
       "          posting_id                                 image       image_phash  \\\n",
       "0    train_129225211  0000a68812bc7e98c42888dfb1c07da0.jpg  94974f937d4c2433   \n",
       "1   train_3386243561  00039780dfc94d01db8676fe789ecd05.jpg  af3f9460c2838f0f   \n",
       "2   train_2288590299  000a190fdd715a2a36faed16e2c65df7.jpg  b94cb00ed3e50f78   \n",
       "3   train_2406599165  00117e4fc239b1b641ff08340b429633.jpg  8514fc58eafea283   \n",
       "4   train_3369186413  00136d1cf4edede0203f32f05f660588.jpg  a6f319f924ad708c   \n",
       "5   train_2464356923  0013e7355ffc5ff8fb1ccad3e42d92fe.jpg  bbd097a7870f4a50   \n",
       "6   train_1802986387  00144a49c56599d45354a1c28104c039.jpg  f815c9bb833ab4c8   \n",
       "7   train_1806152124  0014f61389cbaa687a58e38a97b6383d.jpg  eea7e1c0c04da33d   \n",
       "8     train_86570404  0019a3c6755a194cb2e2c12bfc63972e.jpg  ea9af4f483249972   \n",
       "9    train_831680791  001be52b2beec40ddc1d2d7fc7a68f08.jpg  e1ce953d1a70618f   \n",
       "10  train_1598329973  001d7f5d9a2fac714f4d5f37b3baffb4.jpg  bec8d09693634b4b   \n",
       "11  train_2496690777  001e11145b8e9bf5ac51110c0fdd8697.jpg  eab5c295966ac368   \n",
       "12  train_2771755203  001e11145b8e9bf5ac51110c0fdd8697.jpg  eab5c295966ac368   \n",
       "13   train_998568945  001f4c8331d0554d133b10d85b7fafb2.jpg  d8a6082bb93d2db5   \n",
       "14  train_4287573913  001f5580b058c6b8e33132190a757318.jpg  dc85e1750687f932   \n",
       "15  train_4196427721  002039aaf8618627a0442d5e89e5dda6.jpg  e98c873acc65946e   \n",
       "16  train_3009013664  0027aaf8dd8bdbf0e4f2c19024e436cf.jpg  b3cccc26cc3333cc   \n",
       "17  train_3054371232  00286d2760e433a8a01cbd9e056144f7.jpg  be85837b8ca44ad3   \n",
       "18  train_2985955659  002f978c58a44a00aadfca71c3cad2bb.jpg  bf38f0e083d7c710   \n",
       "19  train_2961381387  00303ad1c062fdeaf5f41b9ffb71a5fb.jpg  e48d9b652098efe1   \n",
       "20   train_999391364  00324695e37299a00b955674d984592b.jpg  a734d84d34702f37   \n",
       "21  train_2238403912  003524b70715bf6bfa00451ca08e66e0.jpg  ba35c44a3fb7c068   \n",
       "22  train_1396146683  0035b8fc42955c0fa2301b68e2ffe861.jpg  d5c0caa0aeb3b23e   \n",
       "23  train_1180155871  00369839c7d94411e54437b7cf59b603.jpg  bbc1c43ec3633ec0   \n",
       "24  train_1872347548  003906c6c6bba4cde15e5e854dba8f6d.jpg  f3e18c5ea14493e3   \n",
       "25   train_249329869  003a6fbbdf88f0f60dc074458911f01e.jpg  9a9a631adca50bda   \n",
       "26  train_2905529497  003c7129aef72ad3ae8af64eac5bfd29.jpg  ce4e2d3570721ab5   \n",
       "27  train_3466601092  004076b57135e761ab8b41d84acc4c94.jpg  aa2c0ee4eb6ba0cd   \n",
       "28  train_1572286671  00416d439a613fb6cbede5cfc95176e6.jpg  bb3fccc4c013c3e1   \n",
       "29  train_3117535609  00416d439a613fb6cbede5cfc95176e6.jpg  bb3fccc4c013c3e1   \n",
       "\n",
       "    label_group                                    title_translate  \\\n",
       "0     249114794                        Victoria's Secret Paper Bag   \n",
       "1    2937985045  Double Tape 3M VHB 12 mm x 4.5 m ORIGINAL / DO...   \n",
       "2    2395904891        Maling TTS Canned Pork Luncheon Meat 397 gr   \n",
       "3    4093212188  Short sleeve Batik negligee - Random / Mixed P...   \n",
       "4    3648931069                  Nescafe \\xc3\\x89clair Latte 220ml   \n",
       "5    2660605217  WOMEN'S PANTS (BB 45-84 KG) Harem women (cod a...   \n",
       "6    1835033137                      Children's robe size 1-12 yrs   \n",
       "7    1565741687  SALUR PLISKET CULOT / CANDY PLISKET / WISH KUL...   \n",
       "8    2359912463  [LOGU] Magnetic number fridge sticker, magneti...   \n",
       "9    2630990665  BIG SALE SHOES COOL LEATHER LOOSE TO WORK OFFI...   \n",
       "10   2462407944                    LISDIA SWEATER Women's Knit Top   \n",
       "11    509010932  PASHMINA KUSUT RAWIS PLAIN CRINKLE SHAWL VERY ...   \n",
       "12    509010932  PASHMINA KUSUT RAWIS POLOS CRINKLE SHAWL VERY ...   \n",
       "13   4206465630  T5 led light Speedometer Dashboard Motor Car 5...   \n",
       "14   1932232224  Charger VIZZ VZ-TC11 / original vizz 1A charge...   \n",
       "15    349297863  CherryBabyKidsShop SP LC LED Earplugs for todd...   \n",
       "16   1574620312   MARKS & SPENCER - Rose Hand & Body Lotion 250 ml   \n",
       "17   2353399596  Saffron 0.25 gr to 2 gr Super Negin Premium Qu...   \n",
       "18   3415582503  HnKfashion Sweater Hoodie WHO Printing BabyTer...   \n",
       "19   2098400894               Madame Gie MakeUp Blush On BY GISELL   \n",
       "20   3624674138             Safi Dermasafe Night Moisturizer 50 gr   \n",
       "21    531768918       Kangaroo Teflon / Allu Fry Pan 18 cm - KG652   \n",
       "22   4240123481  CHOCO BALL LAGIE CHOCOLATE Lagie Wholesale Lag...   \n",
       "23   2224428568               [INCLUDE TAX] NCT DREAM RELOAD ALBUM   \n",
       "24   4044205497  Multifunctional Hanger Stand - 9 Hook Scarf Co...   \n",
       "25    404551210  Boyya Spicy Shrimp Seasoning Petis Sambal 270 ...   \n",
       "26   2034299767  3ply Earloop Medical Mask (50pcs) - 3ply Dispo...   \n",
       "27   2933791615  [Shiyan] Baby teether set pack baby teether tr...   \n",
       "28    532279668  Girls' underwear wings bra seamless push up br...   \n",
       "29    532279668  WINGs BRA-BRA TEMPEL SEAMLESS - PUSH UP BRA - ...   \n",
       "\n",
       "                                          title_clean  \n",
       "0                          victorias secret paper bag  \n",
       "1           double tape vhb original double foam tape  \n",
       "2            maling tts canned pork luncheon meat 397  \n",
       "3   short sleeve batik negligee random mixed patte...  \n",
       "4                     nescafe xc3x89clair latte 220ml  \n",
       "5         womens pants 4584 harem women cod available  \n",
       "6                         childrens robe size 112 yrs  \n",
       "7   salur plisket culot candy plisket wish kulot p...  \n",
       "8   logu magnetic number fridge sticker magnetic n...  \n",
       "9   big sale shoes cool leather loose work office ...  \n",
       "10                     lisdia sweater womens knit top  \n",
       "11     pashmina kusut rawis plain crinkle shawl cheap  \n",
       "12  pashmina kusut rawis polos crinkle shawl cheap...  \n",
       "13  led light speedometer dashboard motor car 5050...  \n",
       "14  charger vizz vztc11 original vizz charger real...  \n",
       "15           cherrybabykidsshop led earplugs toddlers  \n",
       "16            marks spencer rose hand body lotion 250  \n",
       "17   saffron 025 super negin premium quality original  \n",
       "18   hnkfashion sweater hoodie printing babyterry fit  \n",
       "19                     madame gie makeup blush gisell  \n",
       "20                   safi dermasafe night moisturizer  \n",
       "21                 kangaroo teflon allu fry pan kg652  \n",
       "22  choco ball lagie chocolate lagie wholesale lag...  \n",
       "23                 include tax nct dream reload album  \n",
       "24  multifunctional hanger stand hook scarf coat h...  \n",
       "25  boyya spicy shrimp seasoning petis sambal 270 ...  \n",
       "26  3ply earloop medical mask 50pcs 3ply disposabl...  \n",
       "27  shiyan baby teether set pack baby teether trai...  \n",
       "28  girls underwear wings bra seamless push bra im...  \n",
       "29  wings brabra tempel seamless push bra straples...  "
      ]
     },
     "execution_count": 34,
     "metadata": {},
     "output_type": "execute_result"
    }
   ],
   "source": [
    "train.head(30)"
   ]
  },
  {
   "cell_type": "markdown",
   "metadata": {
    "id": "LtEaWD7NvjMZ"
   },
   "source": [
    "## Title in validation data"
   ]
  },
  {
   "cell_type": "code",
   "execution_count": null,
   "metadata": {
    "id": "NGc13ON5CZDY"
   },
   "outputs": [],
   "source": [
    "texts_val = validation['title_translate'].values.tolist()\n",
    "for i in range(len(texts_val)):\n",
    "  texts_val[i] = clean_title(texts_val[i])"
   ]
  },
  {
   "cell_type": "code",
   "execution_count": null,
   "metadata": {
    "colab": {
     "base_uri": "https://localhost:8080/",
     "height": 1000
    },
    "executionInfo": {
     "elapsed": 643,
     "status": "ok",
     "timestamp": 1681517602981,
     "user": {
      "displayName": "Andrew Liu",
      "userId": "01750910414052279045"
     },
     "user_tz": 420
    },
    "id": "oLxHzQmSvocR",
    "outputId": "ddc62342-cee1-4a12-8bcc-33398d5a6763"
   },
   "outputs": [
    {
     "data": {
      "text/html": [
       "\n",
       "  <div id=\"df-11c29f02-f555-4adc-9ef0-74cf9c849f66\">\n",
       "    <div class=\"colab-df-container\">\n",
       "      <div>\n",
       "<style scoped>\n",
       "    .dataframe tbody tr th:only-of-type {\n",
       "        vertical-align: middle;\n",
       "    }\n",
       "\n",
       "    .dataframe tbody tr th {\n",
       "        vertical-align: top;\n",
       "    }\n",
       "\n",
       "    .dataframe thead th {\n",
       "        text-align: right;\n",
       "    }\n",
       "</style>\n",
       "<table border=\"1\" class=\"dataframe\">\n",
       "  <thead>\n",
       "    <tr style=\"text-align: right;\">\n",
       "      <th></th>\n",
       "      <th>posting_id</th>\n",
       "      <th>image</th>\n",
       "      <th>image_phash</th>\n",
       "      <th>label_group</th>\n",
       "      <th>title_translate</th>\n",
       "      <th>title_clean</th>\n",
       "    </tr>\n",
       "  </thead>\n",
       "  <tbody>\n",
       "    <tr>\n",
       "      <th>0</th>\n",
       "      <td>train_1003554842</td>\n",
       "      <td>560a5c3577fb22be2ac82c0e97558158.jpg</td>\n",
       "      <td>f3c78fce8c3050f0</td>\n",
       "      <td>3044373336</td>\n",
       "      <td>Mustika Ratu Oil Cem-Ceman 175 ml</td>\n",
       "      <td>mustika ratu oil cemceman 175</td>\n",
       "    </tr>\n",
       "    <tr>\n",
       "      <th>1</th>\n",
       "      <td>train_523363809</td>\n",
       "      <td>dd1f14c7a734ff28b67062ae4f8529c6.jpg</td>\n",
       "      <td>af919a66c49d688b</td>\n",
       "      <td>873493898</td>\n",
       "      <td>Snobby Baby Mosquito Net Snobby 1 Pole KBX 1201</td>\n",
       "      <td>snobby baby mosquito net snobby pole kbx 1201</td>\n",
       "    </tr>\n",
       "    <tr>\n",
       "      <th>2</th>\n",
       "      <td>train_1036373061</td>\n",
       "      <td>34b4aa697f4606fcf52ec74f53c9f246.jpg</td>\n",
       "      <td>dc132bece40552db</td>\n",
       "      <td>578575602</td>\n",
       "      <td>mini stoppers</td>\n",
       "      <td>mini stoppers</td>\n",
       "    </tr>\n",
       "    <tr>\n",
       "      <th>3</th>\n",
       "      <td>train_3107279377</td>\n",
       "      <td>8255718baadd70981be5f49de9ff270b.jpg</td>\n",
       "      <td>e691986c9586cdec</td>\n",
       "      <td>1376270839</td>\n",
       "      <td>F916/304 Jelly Slides Wedges Shoes</td>\n",
       "      <td>f916304 jelly slides wedges shoes</td>\n",
       "    </tr>\n",
       "    <tr>\n",
       "      <th>4</th>\n",
       "      <td>train_2073151758</td>\n",
       "      <td>4e8d8a4d98f98dd41be729476d498701.jpg</td>\n",
       "      <td>f7b9c25c64433926</td>\n",
       "      <td>994676122</td>\n",
       "      <td>\\xe3\\x80\\x90CELEB\\xe3\\x80\\x91100 Pcs Korean St...</td>\n",
       "      <td>xe3x80x90celebxe3x80x91100 pcs korean style el...</td>\n",
       "    </tr>\n",
       "    <tr>\n",
       "      <th>5</th>\n",
       "      <td>train_953854502</td>\n",
       "      <td>c941fd0e10d0a58b39825e32edf0ef9d.jpg</td>\n",
       "      <td>b3111172e5bdfa30</td>\n",
       "      <td>2299022995</td>\n",
       "      <td>U disk pen digital audio recording USB flash d...</td>\n",
       "      <td>disk pen digital audio recording usb flash drive</td>\n",
       "    </tr>\n",
       "    <tr>\n",
       "      <th>6</th>\n",
       "      <td>train_329988377</td>\n",
       "      <td>bc957fd54730829bd15d75f39eccce5b.jpg</td>\n",
       "      <td>836164e79938f8f1</td>\n",
       "      <td>2121822798</td>\n",
       "      <td>Something Niacinamide + Moisture Beet Serum</td>\n",
       "      <td>something niacinamide moisture beet serum</td>\n",
       "    </tr>\n",
       "    <tr>\n",
       "      <th>7</th>\n",
       "      <td>train_2310491569</td>\n",
       "      <td>c2e3ca6729aa9975b351b52fa5e6d477.jpg</td>\n",
       "      <td>ec88c6b793d0ac66</td>\n",
       "      <td>2803363809</td>\n",
       "      <td>Cosmetic Bag</td>\n",
       "      <td>cosmetic bag</td>\n",
       "    </tr>\n",
       "    <tr>\n",
       "      <th>8</th>\n",
       "      <td>train_4223409596</td>\n",
       "      <td>f2486add3fa87aa40b652af9bd925e90.jpg</td>\n",
       "      <td>bb70859fe0ce4847</td>\n",
       "      <td>1256204969</td>\n",
       "      <td>3 Pairs of MACHU PICHU Junior Velvet Suits - S...</td>\n",
       "      <td>pairs machu pichu junior velvet suits sml trou...</td>\n",
       "    </tr>\n",
       "    <tr>\n",
       "      <th>9</th>\n",
       "      <td>train_38697839</td>\n",
       "      <td>a910d82d906ce755c1bcffcc22e5dd9e.jpg</td>\n",
       "      <td>819eff698642c13d</td>\n",
       "      <td>3576030179</td>\n",
       "      <td>BOLA VOLLY / VOLLY / VOLLY/ VOLLEYBALL MIKASA ...</td>\n",
       "      <td>bola volly volly volly volleyball mikasa 210</td>\n",
       "    </tr>\n",
       "    <tr>\n",
       "      <th>10</th>\n",
       "      <td>train_3717713529</td>\n",
       "      <td>72bbb6311e75fcbf2e4a77703f401eb3.jpg</td>\n",
       "      <td>faca953568cb8a1c</td>\n",
       "      <td>2730803770</td>\n",
       "      <td>NICOLE KELSEY JK03 SLIP ON SHOES</td>\n",
       "      <td>nicole kelsey jk03 slip shoes</td>\n",
       "    </tr>\n",
       "    <tr>\n",
       "      <th>11</th>\n",
       "      <td>train_1866966227</td>\n",
       "      <td>43a8f1a6dc7c7149ad9177a301151326.jpg</td>\n",
       "      <td>b94cc8d383875c6d</td>\n",
       "      <td>3308317766</td>\n",
       "      <td>The Latest Korean Teen Bandana</td>\n",
       "      <td>latest korean teen bandana</td>\n",
       "    </tr>\n",
       "    <tr>\n",
       "      <th>12</th>\n",
       "      <td>train_148882098</td>\n",
       "      <td>c734849a240780d9a60ff7d16af320b7.jpg</td>\n",
       "      <td>e6663399cc31cc33</td>\n",
       "      <td>2634848676</td>\n",
       "      <td>Ikyusan Water Disinfectant 300ml ( JABODETABEK...</td>\n",
       "      <td>ikyusan water disinfectant 300ml jabodetabek d...</td>\n",
       "    </tr>\n",
       "    <tr>\n",
       "      <th>13</th>\n",
       "      <td>train_3387065879</td>\n",
       "      <td>1fa5fb875ccd90388a2c4064f1064140.jpg</td>\n",
       "      <td>b073c334cddb24cc</td>\n",
       "      <td>3414534045</td>\n",
       "      <td>Kinder Joy For Girls 20Gr</td>\n",
       "      <td>kinder joy girls 20gr</td>\n",
       "    </tr>\n",
       "    <tr>\n",
       "      <th>14</th>\n",
       "      <td>train_548782513</td>\n",
       "      <td>ac0abd5cdc8ff79c6f18cc50526ed23a.jpg</td>\n",
       "      <td>88a74e494bd95b5a</td>\n",
       "      <td>3113678103</td>\n",
       "      <td>Spiral faucet filter / faucet connection</td>\n",
       "      <td>spiral faucet filter faucet connection</td>\n",
       "    </tr>\n",
       "    <tr>\n",
       "      <th>15</th>\n",
       "      <td>train_3437930510</td>\n",
       "      <td>b85968c132e2000750f1d52e16bdfd68.jpg</td>\n",
       "      <td>fcc1c21cc33c9ce3</td>\n",
       "      <td>2143266562</td>\n",
       "      <td>[BPOM] SKIN1004 Madagascar Centella Asiatica T...</td>\n",
       "      <td>bpom skin1004 madagascar centella asiatica toner</td>\n",
       "    </tr>\n",
       "    <tr>\n",
       "      <th>16</th>\n",
       "      <td>train_3884768201</td>\n",
       "      <td>e6e60998fb24dbbe52850a0bf737e1d3.jpg</td>\n",
       "      <td>ef819a7ee125960a</td>\n",
       "      <td>1333574565</td>\n",
       "      <td>Tecnix Speaker Subwoofer 2.1 Channel Design - ...</td>\n",
       "      <td>tecnix speaker subwoofer channel design year w...</td>\n",
       "    </tr>\n",
       "    <tr>\n",
       "      <th>17</th>\n",
       "      <td>train_274634554</td>\n",
       "      <td>0646dd97b50476098e5309fc06570471.jpg</td>\n",
       "      <td>9f8370c68e1f1d94</td>\n",
       "      <td>1724536819</td>\n",
       "      <td>\\xe3\\x80\\x90 Pay On Spot\\xe3\\x80\\x91 Creative ...</td>\n",
       "      <td>xe3x80x90 pay spotxe3x80x91 creative cartoon c...</td>\n",
       "    </tr>\n",
       "    <tr>\n",
       "      <th>18</th>\n",
       "      <td>train_3866048168</td>\n",
       "      <td>fccade9417f83c4f8137248c23b81171.jpg</td>\n",
       "      <td>aa82f5d1a179d52a</td>\n",
       "      <td>249398264</td>\n",
       "      <td>Chil kid platinum 800gr honey/vanilla</td>\n",
       "      <td>chil kid platinum 800gr honeyvanilla</td>\n",
       "    </tr>\n",
       "    <tr>\n",
       "      <th>19</th>\n",
       "      <td>train_2092353204</td>\n",
       "      <td>bb6bea1efb67cef51edce4e044fd1164.jpg</td>\n",
       "      <td>ab9dc462199d2e36</td>\n",
       "      <td>1677189623</td>\n",
       "      <td>Natur E 100IU Natural Vitamin E 16 Capsules</td>\n",
       "      <td>natur 100iu natural vitamin capsules</td>\n",
       "    </tr>\n",
       "    <tr>\n",
       "      <th>20</th>\n",
       "      <td>train_2555825988</td>\n",
       "      <td>85fd4c010873ff981324eb84edb40dbf.jpg</td>\n",
       "      <td>e26f4e911c671b16</td>\n",
       "      <td>3489985175</td>\n",
       "      <td>[CAN COD] BUY 2 GET 1 FREE - ORIGINAL TZUKI SO...</td>\n",
       "      <td>cod buy get free original tzuki soap whitening...</td>\n",
       "    </tr>\n",
       "    <tr>\n",
       "      <th>21</th>\n",
       "      <td>train_3262901926</td>\n",
       "      <td>7984732c9cb303647b9aa9c2bebdea41.jpg</td>\n",
       "      <td>a5c688fbe011671f</td>\n",
       "      <td>1809363506</td>\n",
       "      <td>\\xe2\\x9d\\xa4 RATU \\xe2\\x9d\\xa4 DAZZLING WHITE ...</td>\n",
       "      <td>xe2x9dxa4 ratu xe2x9dxa4 dazzling white profes...</td>\n",
       "    </tr>\n",
       "    <tr>\n",
       "      <th>22</th>\n",
       "      <td>train_1248358305</td>\n",
       "      <td>e2ab770827623e1c2a0d0b7852ce77b2.jpg</td>\n",
       "      <td>ef9698b3c86891b1</td>\n",
       "      <td>4096197598</td>\n",
       "      <td>Adult Body Fattening Honey | Body Fat Fattenin...</td>\n",
       "      <td>adult body fattening honey body fat fattening ...</td>\n",
       "    </tr>\n",
       "    <tr>\n",
       "      <th>23</th>\n",
       "      <td>train_1854141549</td>\n",
       "      <td>47761d12a29157a1db891ee8582238af.jpg</td>\n",
       "      <td>acc9c36db4949687</td>\n",
       "      <td>1887467014</td>\n",
       "      <td>Wardah Nature Daily Sheet Mask Green Tea 20 ml</td>\n",
       "      <td>wardah nature daily sheet mask green tea</td>\n",
       "    </tr>\n",
       "    <tr>\n",
       "      <th>24</th>\n",
       "      <td>train_1791162909</td>\n",
       "      <td>961bccca0f54db44c5260fc503654efc.jpg</td>\n",
       "      <td>866719f87c48afa2</td>\n",
       "      <td>4081219855</td>\n",
       "      <td>KHIMAR PET GERIGI</td>\n",
       "      <td>khimar pet gerigi</td>\n",
       "    </tr>\n",
       "    <tr>\n",
       "      <th>25</th>\n",
       "      <td>train_2041221256</td>\n",
       "      <td>21319c693a8eca588902445aba612fdc.jpg</td>\n",
       "      <td>b3ca9bcc31641dcc</td>\n",
       "      <td>1135976474</td>\n",
       "      <td>Aseptic Gel Hand Sanitizer 500ml+Dispenser OneMed</td>\n",
       "      <td>aseptic gel hand sanitizer 500mldispenser onemed</td>\n",
       "    </tr>\n",
       "    <tr>\n",
       "      <th>26</th>\n",
       "      <td>train_3918745736</td>\n",
       "      <td>1b6ed621b18e535c625fdea60bdd82ee.jpg</td>\n",
       "      <td>90cc6fe13b33c62c</td>\n",
       "      <td>1183988707</td>\n",
       "      <td>Sari Lemon ZHU C 500ml Healthy and Slim Diet J...</td>\n",
       "      <td>sari lemon zhu 500ml healthy slim diet juice</td>\n",
       "    </tr>\n",
       "    <tr>\n",
       "      <th>27</th>\n",
       "      <td>train_1688331998</td>\n",
       "      <td>1d9720f31f385e1c8b29fc4d815e4209.jpg</td>\n",
       "      <td>dac6bd78091e52b1</td>\n",
       "      <td>2258286322</td>\n",
       "      <td>Pods Kuy Original</td>\n",
       "      <td>pods kuy original</td>\n",
       "    </tr>\n",
       "    <tr>\n",
       "      <th>28</th>\n",
       "      <td>train_1416736422</td>\n",
       "      <td>f1d7fe7473b0005affe1b1ccd148d719.jpg</td>\n",
       "      <td>ca070f0f0f93cda5</td>\n",
       "      <td>4052306734</td>\n",
       "      <td>Gold / Silver Color Heart Pattern Vintage Ring...</td>\n",
       "      <td>gold silver color heart pattern vintage ring w...</td>\n",
       "    </tr>\n",
       "    <tr>\n",
       "      <th>29</th>\n",
       "      <td>train_1543914143</td>\n",
       "      <td>d5573390125fb4a1c46d1be87002720b.jpg</td>\n",
       "      <td>a3434c2dc3273afc</td>\n",
       "      <td>3355477886</td>\n",
       "      <td>WOMEN'S PANTS MATERIAL 96cm LONG PENCIL MODEL ...</td>\n",
       "      <td>womens pants material 96cm long pencil model x...</td>\n",
       "    </tr>\n",
       "  </tbody>\n",
       "</table>\n",
       "</div>\n",
       "      <button class=\"colab-df-convert\" onclick=\"convertToInteractive('df-11c29f02-f555-4adc-9ef0-74cf9c849f66')\"\n",
       "              title=\"Convert this dataframe to an interactive table.\"\n",
       "              style=\"display:none;\">\n",
       "        \n",
       "  <svg xmlns=\"http://www.w3.org/2000/svg\" height=\"24px\"viewBox=\"0 0 24 24\"\n",
       "       width=\"24px\">\n",
       "    <path d=\"M0 0h24v24H0V0z\" fill=\"none\"/>\n",
       "    <path d=\"M18.56 5.44l.94 2.06.94-2.06 2.06-.94-2.06-.94-.94-2.06-.94 2.06-2.06.94zm-11 1L8.5 8.5l.94-2.06 2.06-.94-2.06-.94L8.5 2.5l-.94 2.06-2.06.94zm10 10l.94 2.06.94-2.06 2.06-.94-2.06-.94-.94-2.06-.94 2.06-2.06.94z\"/><path d=\"M17.41 7.96l-1.37-1.37c-.4-.4-.92-.59-1.43-.59-.52 0-1.04.2-1.43.59L10.3 9.45l-7.72 7.72c-.78.78-.78 2.05 0 2.83L4 21.41c.39.39.9.59 1.41.59.51 0 1.02-.2 1.41-.59l7.78-7.78 2.81-2.81c.8-.78.8-2.07 0-2.86zM5.41 20L4 18.59l7.72-7.72 1.47 1.35L5.41 20z\"/>\n",
       "  </svg>\n",
       "      </button>\n",
       "      \n",
       "  <style>\n",
       "    .colab-df-container {\n",
       "      display:flex;\n",
       "      flex-wrap:wrap;\n",
       "      gap: 12px;\n",
       "    }\n",
       "\n",
       "    .colab-df-convert {\n",
       "      background-color: #E8F0FE;\n",
       "      border: none;\n",
       "      border-radius: 50%;\n",
       "      cursor: pointer;\n",
       "      display: none;\n",
       "      fill: #1967D2;\n",
       "      height: 32px;\n",
       "      padding: 0 0 0 0;\n",
       "      width: 32px;\n",
       "    }\n",
       "\n",
       "    .colab-df-convert:hover {\n",
       "      background-color: #E2EBFA;\n",
       "      box-shadow: 0px 1px 2px rgba(60, 64, 67, 0.3), 0px 1px 3px 1px rgba(60, 64, 67, 0.15);\n",
       "      fill: #174EA6;\n",
       "    }\n",
       "\n",
       "    [theme=dark] .colab-df-convert {\n",
       "      background-color: #3B4455;\n",
       "      fill: #D2E3FC;\n",
       "    }\n",
       "\n",
       "    [theme=dark] .colab-df-convert:hover {\n",
       "      background-color: #434B5C;\n",
       "      box-shadow: 0px 1px 3px 1px rgba(0, 0, 0, 0.15);\n",
       "      filter: drop-shadow(0px 1px 2px rgba(0, 0, 0, 0.3));\n",
       "      fill: #FFFFFF;\n",
       "    }\n",
       "  </style>\n",
       "\n",
       "      <script>\n",
       "        const buttonEl =\n",
       "          document.querySelector('#df-11c29f02-f555-4adc-9ef0-74cf9c849f66 button.colab-df-convert');\n",
       "        buttonEl.style.display =\n",
       "          google.colab.kernel.accessAllowed ? 'block' : 'none';\n",
       "\n",
       "        async function convertToInteractive(key) {\n",
       "          const element = document.querySelector('#df-11c29f02-f555-4adc-9ef0-74cf9c849f66');\n",
       "          const dataTable =\n",
       "            await google.colab.kernel.invokeFunction('convertToInteractive',\n",
       "                                                     [key], {});\n",
       "          if (!dataTable) return;\n",
       "\n",
       "          const docLinkHtml = 'Like what you see? Visit the ' +\n",
       "            '<a target=\"_blank\" href=https://colab.research.google.com/notebooks/data_table.ipynb>data table notebook</a>'\n",
       "            + ' to learn more about interactive tables.';\n",
       "          element.innerHTML = '';\n",
       "          dataTable['output_type'] = 'display_data';\n",
       "          await google.colab.output.renderOutput(dataTable, element);\n",
       "          const docLink = document.createElement('div');\n",
       "          docLink.innerHTML = docLinkHtml;\n",
       "          element.appendChild(docLink);\n",
       "        }\n",
       "      </script>\n",
       "    </div>\n",
       "  </div>\n",
       "  "
      ],
      "text/plain": [
       "          posting_id                                 image       image_phash  \\\n",
       "0   train_1003554842  560a5c3577fb22be2ac82c0e97558158.jpg  f3c78fce8c3050f0   \n",
       "1    train_523363809  dd1f14c7a734ff28b67062ae4f8529c6.jpg  af919a66c49d688b   \n",
       "2   train_1036373061  34b4aa697f4606fcf52ec74f53c9f246.jpg  dc132bece40552db   \n",
       "3   train_3107279377  8255718baadd70981be5f49de9ff270b.jpg  e691986c9586cdec   \n",
       "4   train_2073151758  4e8d8a4d98f98dd41be729476d498701.jpg  f7b9c25c64433926   \n",
       "5    train_953854502  c941fd0e10d0a58b39825e32edf0ef9d.jpg  b3111172e5bdfa30   \n",
       "6    train_329988377  bc957fd54730829bd15d75f39eccce5b.jpg  836164e79938f8f1   \n",
       "7   train_2310491569  c2e3ca6729aa9975b351b52fa5e6d477.jpg  ec88c6b793d0ac66   \n",
       "8   train_4223409596  f2486add3fa87aa40b652af9bd925e90.jpg  bb70859fe0ce4847   \n",
       "9     train_38697839  a910d82d906ce755c1bcffcc22e5dd9e.jpg  819eff698642c13d   \n",
       "10  train_3717713529  72bbb6311e75fcbf2e4a77703f401eb3.jpg  faca953568cb8a1c   \n",
       "11  train_1866966227  43a8f1a6dc7c7149ad9177a301151326.jpg  b94cc8d383875c6d   \n",
       "12   train_148882098  c734849a240780d9a60ff7d16af320b7.jpg  e6663399cc31cc33   \n",
       "13  train_3387065879  1fa5fb875ccd90388a2c4064f1064140.jpg  b073c334cddb24cc   \n",
       "14   train_548782513  ac0abd5cdc8ff79c6f18cc50526ed23a.jpg  88a74e494bd95b5a   \n",
       "15  train_3437930510  b85968c132e2000750f1d52e16bdfd68.jpg  fcc1c21cc33c9ce3   \n",
       "16  train_3884768201  e6e60998fb24dbbe52850a0bf737e1d3.jpg  ef819a7ee125960a   \n",
       "17   train_274634554  0646dd97b50476098e5309fc06570471.jpg  9f8370c68e1f1d94   \n",
       "18  train_3866048168  fccade9417f83c4f8137248c23b81171.jpg  aa82f5d1a179d52a   \n",
       "19  train_2092353204  bb6bea1efb67cef51edce4e044fd1164.jpg  ab9dc462199d2e36   \n",
       "20  train_2555825988  85fd4c010873ff981324eb84edb40dbf.jpg  e26f4e911c671b16   \n",
       "21  train_3262901926  7984732c9cb303647b9aa9c2bebdea41.jpg  a5c688fbe011671f   \n",
       "22  train_1248358305  e2ab770827623e1c2a0d0b7852ce77b2.jpg  ef9698b3c86891b1   \n",
       "23  train_1854141549  47761d12a29157a1db891ee8582238af.jpg  acc9c36db4949687   \n",
       "24  train_1791162909  961bccca0f54db44c5260fc503654efc.jpg  866719f87c48afa2   \n",
       "25  train_2041221256  21319c693a8eca588902445aba612fdc.jpg  b3ca9bcc31641dcc   \n",
       "26  train_3918745736  1b6ed621b18e535c625fdea60bdd82ee.jpg  90cc6fe13b33c62c   \n",
       "27  train_1688331998  1d9720f31f385e1c8b29fc4d815e4209.jpg  dac6bd78091e52b1   \n",
       "28  train_1416736422  f1d7fe7473b0005affe1b1ccd148d719.jpg  ca070f0f0f93cda5   \n",
       "29  train_1543914143  d5573390125fb4a1c46d1be87002720b.jpg  a3434c2dc3273afc   \n",
       "\n",
       "    label_group                                    title_translate  \\\n",
       "0    3044373336                  Mustika Ratu Oil Cem-Ceman 175 ml   \n",
       "1     873493898    Snobby Baby Mosquito Net Snobby 1 Pole KBX 1201   \n",
       "2     578575602                                      mini stoppers   \n",
       "3    1376270839                 F916/304 Jelly Slides Wedges Shoes   \n",
       "4     994676122  \\xe3\\x80\\x90CELEB\\xe3\\x80\\x91100 Pcs Korean St...   \n",
       "5    2299022995  U disk pen digital audio recording USB flash d...   \n",
       "6    2121822798        Something Niacinamide + Moisture Beet Serum   \n",
       "7    2803363809                                       Cosmetic Bag   \n",
       "8    1256204969  3 Pairs of MACHU PICHU Junior Velvet Suits - S...   \n",
       "9    3576030179  BOLA VOLLY / VOLLY / VOLLY/ VOLLEYBALL MIKASA ...   \n",
       "10   2730803770                   NICOLE KELSEY JK03 SLIP ON SHOES   \n",
       "11   3308317766                     The Latest Korean Teen Bandana   \n",
       "12   2634848676  Ikyusan Water Disinfectant 300ml ( JABODETABEK...   \n",
       "13   3414534045                          Kinder Joy For Girls 20Gr   \n",
       "14   3113678103           Spiral faucet filter / faucet connection   \n",
       "15   2143266562  [BPOM] SKIN1004 Madagascar Centella Asiatica T...   \n",
       "16   1333574565  Tecnix Speaker Subwoofer 2.1 Channel Design - ...   \n",
       "17   1724536819  \\xe3\\x80\\x90 Pay On Spot\\xe3\\x80\\x91 Creative ...   \n",
       "18    249398264              Chil kid platinum 800gr honey/vanilla   \n",
       "19   1677189623        Natur E 100IU Natural Vitamin E 16 Capsules   \n",
       "20   3489985175  [CAN COD] BUY 2 GET 1 FREE - ORIGINAL TZUKI SO...   \n",
       "21   1809363506  \\xe2\\x9d\\xa4 RATU \\xe2\\x9d\\xa4 DAZZLING WHITE ...   \n",
       "22   4096197598  Adult Body Fattening Honey | Body Fat Fattenin...   \n",
       "23   1887467014     Wardah Nature Daily Sheet Mask Green Tea 20 ml   \n",
       "24   4081219855                                  KHIMAR PET GERIGI   \n",
       "25   1135976474  Aseptic Gel Hand Sanitizer 500ml+Dispenser OneMed   \n",
       "26   1183988707  Sari Lemon ZHU C 500ml Healthy and Slim Diet J...   \n",
       "27   2258286322                                  Pods Kuy Original   \n",
       "28   4052306734  Gold / Silver Color Heart Pattern Vintage Ring...   \n",
       "29   3355477886  WOMEN'S PANTS MATERIAL 96cm LONG PENCIL MODEL ...   \n",
       "\n",
       "                                          title_clean  \n",
       "0                       mustika ratu oil cemceman 175  \n",
       "1       snobby baby mosquito net snobby pole kbx 1201  \n",
       "2                                       mini stoppers  \n",
       "3                   f916304 jelly slides wedges shoes  \n",
       "4   xe3x80x90celebxe3x80x91100 pcs korean style el...  \n",
       "5    disk pen digital audio recording usb flash drive  \n",
       "6           something niacinamide moisture beet serum  \n",
       "7                                        cosmetic bag  \n",
       "8   pairs machu pichu junior velvet suits sml trou...  \n",
       "9        bola volly volly volly volleyball mikasa 210  \n",
       "10                      nicole kelsey jk03 slip shoes  \n",
       "11                         latest korean teen bandana  \n",
       "12  ikyusan water disinfectant 300ml jabodetabek d...  \n",
       "13                              kinder joy girls 20gr  \n",
       "14             spiral faucet filter faucet connection  \n",
       "15   bpom skin1004 madagascar centella asiatica toner  \n",
       "16  tecnix speaker subwoofer channel design year w...  \n",
       "17  xe3x80x90 pay spotxe3x80x91 creative cartoon c...  \n",
       "18               chil kid platinum 800gr honeyvanilla  \n",
       "19               natur 100iu natural vitamin capsules  \n",
       "20  cod buy get free original tzuki soap whitening...  \n",
       "21  xe2x9dxa4 ratu xe2x9dxa4 dazzling white profes...  \n",
       "22  adult body fattening honey body fat fattening ...  \n",
       "23           wardah nature daily sheet mask green tea  \n",
       "24                                  khimar pet gerigi  \n",
       "25   aseptic gel hand sanitizer 500mldispenser onemed  \n",
       "26       sari lemon zhu 500ml healthy slim diet juice  \n",
       "27                                  pods kuy original  \n",
       "28  gold silver color heart pattern vintage ring w...  \n",
       "29  womens pants material 96cm long pencil model x...  "
      ]
     },
     "execution_count": 36,
     "metadata": {},
     "output_type": "execute_result"
    }
   ],
   "source": [
    "validation['title_clean'] = texts_val\n",
    "validation.head(30)"
   ]
  },
  {
   "cell_type": "markdown",
   "metadata": {
    "id": "GNarsV61rBwj"
   },
   "source": [
    "## Title in test data"
   ]
  },
  {
   "cell_type": "code",
   "execution_count": null,
   "metadata": {
    "id": "9oAswDubCnBh"
   },
   "outputs": [],
   "source": [
    "texts_test = test['title_translate'].values.tolist()\n",
    "for i in range(len(texts_test)):\n",
    "  texts_test[i] = clean_title(texts_test[i])"
   ]
  },
  {
   "cell_type": "code",
   "execution_count": null,
   "metadata": {
    "colab": {
     "base_uri": "https://localhost:8080/",
     "height": 450
    },
    "executionInfo": {
     "elapsed": 4823,
     "status": "ok",
     "timestamp": 1681517607801,
     "user": {
      "displayName": "Andrew Liu",
      "userId": "01750910414052279045"
     },
     "user_tz": 420
    },
    "id": "EKAcNBKoUJvJ",
    "outputId": "87127421-3bc2-4be6-a7a8-13984aaad928"
   },
   "outputs": [
    {
     "data": {
      "text/html": [
       "\n",
       "  <div id=\"df-72692e9f-8cf3-4b3b-ab4f-63624edcf112\">\n",
       "    <div class=\"colab-df-container\">\n",
       "      <div>\n",
       "<style scoped>\n",
       "    .dataframe tbody tr th:only-of-type {\n",
       "        vertical-align: middle;\n",
       "    }\n",
       "\n",
       "    .dataframe tbody tr th {\n",
       "        vertical-align: top;\n",
       "    }\n",
       "\n",
       "    .dataframe thead th {\n",
       "        text-align: right;\n",
       "    }\n",
       "</style>\n",
       "<table border=\"1\" class=\"dataframe\">\n",
       "  <thead>\n",
       "    <tr style=\"text-align: right;\">\n",
       "      <th></th>\n",
       "      <th>posting_id</th>\n",
       "      <th>image</th>\n",
       "      <th>image_phash</th>\n",
       "      <th>title_translate</th>\n",
       "      <th>image_array</th>\n",
       "      <th>normalized_image</th>\n",
       "      <th>title_clean</th>\n",
       "    </tr>\n",
       "  </thead>\n",
       "  <tbody>\n",
       "    <tr>\n",
       "      <th>0</th>\n",
       "      <td>test_2255846744</td>\n",
       "      <td>0006c8e5462ae52167402bac1c2e916e.jpg</td>\n",
       "      <td>ecc292392dc7687a</td>\n",
       "      <td>Edufuntoys - CHARACTER PHONE has lights and mu...</td>\n",
       "      <td>[[[255, 255, 255], [255, 255, 255], [255, 255,...</td>\n",
       "      <td>[[[1.0, 1.0, 1.0], [1.0, 1.0, 1.0], [1.0, 1.0,...</td>\n",
       "      <td>edufuntoys character phone lights music toy phone</td>\n",
       "    </tr>\n",
       "    <tr>\n",
       "      <th>1</th>\n",
       "      <td>test_3588702337</td>\n",
       "      <td>0007585c4d0f932859339129f709bfdc.jpg</td>\n",
       "      <td>e9968f60d2699e2c</td>\n",
       "      <td>(Buy 1 Free Spatula) Blackhead Mask | Blackhea...</td>\n",
       "      <td>[[[255, 245, 244], [255, 245, 244], [255, 245,...</td>\n",
       "      <td>[[[1.0, 0.9607843137254902, 0.9568627450980393...</td>\n",
       "      <td>buy free spatula blackhead mask blackheads mas...</td>\n",
       "    </tr>\n",
       "    <tr>\n",
       "      <th>2</th>\n",
       "      <td>test_4015706929</td>\n",
       "      <td>0008377d3662e83ef44e1881af38b879.jpg</td>\n",
       "      <td>ba81c17e3581cabe</td>\n",
       "      <td>READY Lemonilo Healthy instant noodle soup and...</td>\n",
       "      <td>[[[254, 254, 254], [254, 254, 254], [254, 254,...</td>\n",
       "      <td>[[[0.996078431372549, 0.996078431372549, 0.996...</td>\n",
       "      <td>ready lemonilo healthy instant noodle soup fried</td>\n",
       "    </tr>\n",
       "  </tbody>\n",
       "</table>\n",
       "</div>\n",
       "      <button class=\"colab-df-convert\" onclick=\"convertToInteractive('df-72692e9f-8cf3-4b3b-ab4f-63624edcf112')\"\n",
       "              title=\"Convert this dataframe to an interactive table.\"\n",
       "              style=\"display:none;\">\n",
       "        \n",
       "  <svg xmlns=\"http://www.w3.org/2000/svg\" height=\"24px\"viewBox=\"0 0 24 24\"\n",
       "       width=\"24px\">\n",
       "    <path d=\"M0 0h24v24H0V0z\" fill=\"none\"/>\n",
       "    <path d=\"M18.56 5.44l.94 2.06.94-2.06 2.06-.94-2.06-.94-.94-2.06-.94 2.06-2.06.94zm-11 1L8.5 8.5l.94-2.06 2.06-.94-2.06-.94L8.5 2.5l-.94 2.06-2.06.94zm10 10l.94 2.06.94-2.06 2.06-.94-2.06-.94-.94-2.06-.94 2.06-2.06.94z\"/><path d=\"M17.41 7.96l-1.37-1.37c-.4-.4-.92-.59-1.43-.59-.52 0-1.04.2-1.43.59L10.3 9.45l-7.72 7.72c-.78.78-.78 2.05 0 2.83L4 21.41c.39.39.9.59 1.41.59.51 0 1.02-.2 1.41-.59l7.78-7.78 2.81-2.81c.8-.78.8-2.07 0-2.86zM5.41 20L4 18.59l7.72-7.72 1.47 1.35L5.41 20z\"/>\n",
       "  </svg>\n",
       "      </button>\n",
       "      \n",
       "  <style>\n",
       "    .colab-df-container {\n",
       "      display:flex;\n",
       "      flex-wrap:wrap;\n",
       "      gap: 12px;\n",
       "    }\n",
       "\n",
       "    .colab-df-convert {\n",
       "      background-color: #E8F0FE;\n",
       "      border: none;\n",
       "      border-radius: 50%;\n",
       "      cursor: pointer;\n",
       "      display: none;\n",
       "      fill: #1967D2;\n",
       "      height: 32px;\n",
       "      padding: 0 0 0 0;\n",
       "      width: 32px;\n",
       "    }\n",
       "\n",
       "    .colab-df-convert:hover {\n",
       "      background-color: #E2EBFA;\n",
       "      box-shadow: 0px 1px 2px rgba(60, 64, 67, 0.3), 0px 1px 3px 1px rgba(60, 64, 67, 0.15);\n",
       "      fill: #174EA6;\n",
       "    }\n",
       "\n",
       "    [theme=dark] .colab-df-convert {\n",
       "      background-color: #3B4455;\n",
       "      fill: #D2E3FC;\n",
       "    }\n",
       "\n",
       "    [theme=dark] .colab-df-convert:hover {\n",
       "      background-color: #434B5C;\n",
       "      box-shadow: 0px 1px 3px 1px rgba(0, 0, 0, 0.15);\n",
       "      filter: drop-shadow(0px 1px 2px rgba(0, 0, 0, 0.3));\n",
       "      fill: #FFFFFF;\n",
       "    }\n",
       "  </style>\n",
       "\n",
       "      <script>\n",
       "        const buttonEl =\n",
       "          document.querySelector('#df-72692e9f-8cf3-4b3b-ab4f-63624edcf112 button.colab-df-convert');\n",
       "        buttonEl.style.display =\n",
       "          google.colab.kernel.accessAllowed ? 'block' : 'none';\n",
       "\n",
       "        async function convertToInteractive(key) {\n",
       "          const element = document.querySelector('#df-72692e9f-8cf3-4b3b-ab4f-63624edcf112');\n",
       "          const dataTable =\n",
       "            await google.colab.kernel.invokeFunction('convertToInteractive',\n",
       "                                                     [key], {});\n",
       "          if (!dataTable) return;\n",
       "\n",
       "          const docLinkHtml = 'Like what you see? Visit the ' +\n",
       "            '<a target=\"_blank\" href=https://colab.research.google.com/notebooks/data_table.ipynb>data table notebook</a>'\n",
       "            + ' to learn more about interactive tables.';\n",
       "          element.innerHTML = '';\n",
       "          dataTable['output_type'] = 'display_data';\n",
       "          await google.colab.output.renderOutput(dataTable, element);\n",
       "          const docLink = document.createElement('div');\n",
       "          docLink.innerHTML = docLinkHtml;\n",
       "          element.appendChild(docLink);\n",
       "        }\n",
       "      </script>\n",
       "    </div>\n",
       "  </div>\n",
       "  "
      ],
      "text/plain": [
       "        posting_id                                 image       image_phash  \\\n",
       "0  test_2255846744  0006c8e5462ae52167402bac1c2e916e.jpg  ecc292392dc7687a   \n",
       "1  test_3588702337  0007585c4d0f932859339129f709bfdc.jpg  e9968f60d2699e2c   \n",
       "2  test_4015706929  0008377d3662e83ef44e1881af38b879.jpg  ba81c17e3581cabe   \n",
       "\n",
       "                                     title_translate  \\\n",
       "0  Edufuntoys - CHARACTER PHONE has lights and mu...   \n",
       "1  (Buy 1 Free Spatula) Blackhead Mask | Blackhea...   \n",
       "2  READY Lemonilo Healthy instant noodle soup and...   \n",
       "\n",
       "                                         image_array  \\\n",
       "0  [[[255, 255, 255], [255, 255, 255], [255, 255,...   \n",
       "1  [[[255, 245, 244], [255, 245, 244], [255, 245,...   \n",
       "2  [[[254, 254, 254], [254, 254, 254], [254, 254,...   \n",
       "\n",
       "                                    normalized_image  \\\n",
       "0  [[[1.0, 1.0, 1.0], [1.0, 1.0, 1.0], [1.0, 1.0,...   \n",
       "1  [[[1.0, 0.9607843137254902, 0.9568627450980393...   \n",
       "2  [[[0.996078431372549, 0.996078431372549, 0.996...   \n",
       "\n",
       "                                         title_clean  \n",
       "0  edufuntoys character phone lights music toy phone  \n",
       "1  buy free spatula blackhead mask blackheads mas...  \n",
       "2   ready lemonilo healthy instant noodle soup fried  "
      ]
     },
     "execution_count": 38,
     "metadata": {},
     "output_type": "execute_result"
    }
   ],
   "source": [
    "test['title_clean'] = texts_test\n",
    "test.head(30)"
   ]
  },
  {
   "cell_type": "markdown",
   "metadata": {
    "id": "jGMP_eSKueOM"
   },
   "source": [
    "# Embedding / Modeling"
   ]
  },
  {
   "cell_type": "code",
   "execution_count": null,
   "metadata": {
    "colab": {
     "base_uri": "https://localhost:8080/"
    },
    "executionInfo": {
     "elapsed": 12315,
     "status": "ok",
     "timestamp": 1681517620107,
     "user": {
      "displayName": "Andrew Liu",
      "userId": "01750910414052279045"
     },
     "user_tz": 420
    },
    "id": "bIK-fewwwMw0",
    "outputId": "9225e8ae-ad0e-4616-c48a-2740d3d903d5"
   },
   "outputs": [
    {
     "name": "stdout",
     "output_type": "stream",
     "text": [
      "Looking in indexes: https://pypi.org/simple, https://us-python.pkg.dev/colab-wheels/public/simple/\n",
      "Collecting transformers\n",
      "  Downloading transformers-4.28.1-py3-none-any.whl (7.0 MB)\n",
      "\u001b[2K     \u001b[90m━━━━━━━━━━━━━━━━━━━━━━━━━━━━━━━━━━━━━━━━\u001b[0m \u001b[32m7.0/7.0 MB\u001b[0m \u001b[31m96.5 MB/s\u001b[0m eta \u001b[36m0:00:00\u001b[0m\n",
      "\u001b[?25hCollecting huggingface-hub<1.0,>=0.11.0\n",
      "  Downloading huggingface_hub-0.13.4-py3-none-any.whl (200 kB)\n",
      "\u001b[2K     \u001b[90m━━━━━━━━━━━━━━━━━━━━━━━━━━━━━━━━━━━━━━\u001b[0m \u001b[32m200.1/200.1 kB\u001b[0m \u001b[31m29.8 MB/s\u001b[0m eta \u001b[36m0:00:00\u001b[0m\n",
      "\u001b[?25hRequirement already satisfied: numpy>=1.17 in /usr/local/lib/python3.9/dist-packages (from transformers) (1.22.4)\n",
      "Requirement already satisfied: tqdm>=4.27 in /usr/local/lib/python3.9/dist-packages (from transformers) (4.65.0)\n",
      "Requirement already satisfied: filelock in /usr/local/lib/python3.9/dist-packages (from transformers) (3.11.0)\n",
      "Requirement already satisfied: requests in /usr/local/lib/python3.9/dist-packages (from transformers) (2.27.1)\n",
      "Requirement already satisfied: packaging>=20.0 in /usr/local/lib/python3.9/dist-packages (from transformers) (23.0)\n",
      "Collecting tokenizers!=0.11.3,<0.14,>=0.11.1\n",
      "  Downloading tokenizers-0.13.3-cp39-cp39-manylinux_2_17_x86_64.manylinux2014_x86_64.whl (7.8 MB)\n",
      "\u001b[2K     \u001b[90m━━━━━━━━━━━━━━━━━━━━━━━━━━━━━━━━━━━━━━━━\u001b[0m \u001b[32m7.8/7.8 MB\u001b[0m \u001b[31m107.2 MB/s\u001b[0m eta \u001b[36m0:00:00\u001b[0m\n",
      "\u001b[?25hRequirement already satisfied: pyyaml>=5.1 in /usr/local/lib/python3.9/dist-packages (from transformers) (6.0)\n",
      "Requirement already satisfied: regex!=2019.12.17 in /usr/local/lib/python3.9/dist-packages (from transformers) (2022.10.31)\n",
      "Requirement already satisfied: typing-extensions>=3.7.4.3 in /usr/local/lib/python3.9/dist-packages (from huggingface-hub<1.0,>=0.11.0->transformers) (4.5.0)\n",
      "Requirement already satisfied: certifi>=2017.4.17 in /usr/local/lib/python3.9/dist-packages (from requests->transformers) (2022.12.7)\n",
      "Requirement already satisfied: idna<4,>=2.5 in /usr/local/lib/python3.9/dist-packages (from requests->transformers) (3.4)\n",
      "Requirement already satisfied: charset-normalizer~=2.0.0 in /usr/local/lib/python3.9/dist-packages (from requests->transformers) (2.0.12)\n",
      "Requirement already satisfied: urllib3<1.27,>=1.21.1 in /usr/local/lib/python3.9/dist-packages (from requests->transformers) (1.26.15)\n",
      "Installing collected packages: tokenizers, huggingface-hub, transformers\n",
      "Successfully installed huggingface-hub-0.13.4 tokenizers-0.13.3 transformers-4.28.1\n"
     ]
    }
   ],
   "source": [
    "!pip install transformers"
   ]
  },
  {
   "cell_type": "code",
   "execution_count": null,
   "metadata": {
    "id": "L10m-pRLwAa0"
   },
   "outputs": [],
   "source": [
    "from transformers import GPT2Tokenizer, TFGPT2Model"
   ]
  },
  {
   "cell_type": "code",
   "execution_count": null,
   "metadata": {
    "id": "hQEsZm232sQ7"
   },
   "outputs": [],
   "source": [
    "import tensorflow as tf"
   ]
  },
  {
   "cell_type": "code",
   "execution_count": null,
   "metadata": {
    "colab": {
     "base_uri": "https://localhost:8080/",
     "height": 237,
     "referenced_widgets": [
      "3166346adce1469397c6520a71a1cdbc",
      "06394a4dda874643acd10ad8b2e3076b",
      "0f822ddf56734f5fafcef357dc65db08",
      "ca8543805a5f4b75b0dfae626a9c7fe9",
      "7ef2cafbf56c4f5c9bb11e6c291f20a3",
      "93584f0028604a12af6401242efffe1d",
      "c4455694198e4a2ba8ac0b655a839f78",
      "7c38c8596695444aa7c215d57028f1f5",
      "5484fc197aa4472e8ff49ce109c1d9cf",
      "4846c0276c85487cbe5e67c2326ad799",
      "b3bae1a20ab34032abe47e7e880bc777",
      "89bf7e89f6384c9b86eee73e90ffd411",
      "edf4cf57fcbc4b95b166c08157af311b",
      "c92755a96f3f46ce8c3363130379bbab",
      "f00cf66bedb64a85937879d21d53179a",
      "d22123e83f1246a890e4cfde1fbeb113",
      "d5bdce6a71e948a2b61da8d9b24af401",
      "9c4851ca29ce4608a766053466a7a319",
      "4fe23d0e03104fc386209ee06cfb3af5",
      "279b208cc5aa467c9b3a99114c65c6d9",
      "a71d134740e042be879da12df04f56e0",
      "4b3efd4352a74a74995e3eaadf22d8ab",
      "68b771d3a7cf4c698b69fac76bfeb64f",
      "c025a5b072f64541b6f83dc15459ec61",
      "39446cd7361f4e75a9188e523a4f7523",
      "933c86188bc049dcb70bd509f7972850",
      "00a815bc54544ec88760b60899860883",
      "14e2893ed6cb4ca883173c4d3232e0d6",
      "5368fdbf0d4f4bad80b61387006accec",
      "1423de9587fa43e18e5e08b72b982e73",
      "a677847a444043f7b3f36df75ea3e532",
      "ae21f23d975544a4adf6c5f70a3ed44d",
      "d8660f77c5844218a9121ad0b5e27789",
      "f0e6c03b74ac42d48c9866851188c5a1",
      "8f92d607f8d843c9aacbba03a05765c3",
      "04b236f5d6914c02846f466e932e6cf7",
      "f2ee26bcb29042be842eb0b02c89ab25",
      "7c251ce0c75d4dc298963872833c8c55",
      "f136c364abbd429387b7113bf885ad9b",
      "c8562db544744942a83a9d55e876c504",
      "d8172e5e379b42d09bf95c0d0d44b651",
      "4a1a9dac55fb4ad180d65adfb55ff5f1",
      "c5af1365663c404ca3e1fabd39ae0dc0",
      "0a49a684bbb4499697b9ca9c7484c35d"
     ]
    },
    "executionInfo": {
     "elapsed": 18741,
     "status": "ok",
     "timestamp": 1681517642182,
     "user": {
      "displayName": "Andrew Liu",
      "userId": "01750910414052279045"
     },
     "user_tz": 420
    },
    "id": "WHhUfFU5v3RI",
    "outputId": "0a3db3e1-4bb6-4956-a8ee-9208c63ff609"
   },
   "outputs": [
    {
     "data": {
      "application/vnd.jupyter.widget-view+json": {
       "model_id": "3166346adce1469397c6520a71a1cdbc",
       "version_major": 2,
       "version_minor": 0
      },
      "text/plain": [
       "Downloading (…)olve/main/vocab.json:   0%|          | 0.00/1.04M [00:00<?, ?B/s]"
      ]
     },
     "metadata": {},
     "output_type": "display_data"
    },
    {
     "data": {
      "application/vnd.jupyter.widget-view+json": {
       "model_id": "89bf7e89f6384c9b86eee73e90ffd411",
       "version_major": 2,
       "version_minor": 0
      },
      "text/plain": [
       "Downloading (…)olve/main/merges.txt:   0%|          | 0.00/456k [00:00<?, ?B/s]"
      ]
     },
     "metadata": {},
     "output_type": "display_data"
    },
    {
     "data": {
      "application/vnd.jupyter.widget-view+json": {
       "model_id": "68b771d3a7cf4c698b69fac76bfeb64f",
       "version_major": 2,
       "version_minor": 0
      },
      "text/plain": [
       "Downloading (…)lve/main/config.json:   0%|          | 0.00/665 [00:00<?, ?B/s]"
      ]
     },
     "metadata": {},
     "output_type": "display_data"
    },
    {
     "data": {
      "application/vnd.jupyter.widget-view+json": {
       "model_id": "f0e6c03b74ac42d48c9866851188c5a1",
       "version_major": 2,
       "version_minor": 0
      },
      "text/plain": [
       "Downloading tf_model.h5:   0%|          | 0.00/498M [00:00<?, ?B/s]"
      ]
     },
     "metadata": {},
     "output_type": "display_data"
    },
    {
     "name": "stderr",
     "output_type": "stream",
     "text": [
      "All model checkpoint layers were used when initializing TFGPT2Model.\n",
      "\n",
      "All the layers of TFGPT2Model were initialized from the model checkpoint at gpt2.\n",
      "If your task is similar to the task the model of the checkpoint was trained on, you can already use TFGPT2Model for predictions without further training.\n"
     ]
    }
   ],
   "source": [
    "# Load the tokenizer and GPT-2 model\n",
    "tokenizer = GPT2Tokenizer.from_pretrained('gpt2')\n",
    "gpt2 = TFGPT2Model.from_pretrained('gpt2')"
   ]
  },
  {
   "cell_type": "markdown",
   "metadata": {
    "id": "XE62q_uZyju-"
   },
   "source": [
    "## Title preprocessing"
   ]
  },
  {
   "cell_type": "code",
   "execution_count": null,
   "metadata": {
    "id": "p-SbuLQJ9tUq"
   },
   "outputs": [],
   "source": [
    "X_text_train = [tokenizer.encode(text, add_special_tokens = True) for text in train['title_clean']]"
   ]
  },
  {
   "cell_type": "code",
   "execution_count": null,
   "metadata": {
    "id": "tLN6RsZex_XD"
   },
   "outputs": [],
   "source": [
    "X_text_val = [tokenizer.encode(text, add_special_tokens = True) for text in validation['title_clean']]"
   ]
  },
  {
   "cell_type": "code",
   "execution_count": null,
   "metadata": {
    "id": "KE33LgzbU9yj"
   },
   "outputs": [],
   "source": [
    "X_text_test = [tokenizer.encode(text, add_special_tokens = True) for text in test['title_clean']]"
   ]
  },
  {
   "cell_type": "code",
   "execution_count": null,
   "metadata": {
    "colab": {
     "base_uri": "https://localhost:8080/"
    },
    "executionInfo": {
     "elapsed": 387,
     "status": "ok",
     "timestamp": 1681517647949,
     "user": {
      "displayName": "Andrew Liu",
      "userId": "01750910414052279045"
     },
     "user_tz": 420
    },
    "id": "-3ewK9gAQ-Sc",
    "outputId": "d4ef444e-3e61-40ad-87be-dda82706c129"
   },
   "outputs": [
    {
     "name": "stdout",
     "output_type": "stream",
     "text": [
      "(29603, 128)\n",
      "(4647, 128)\n",
      "(3, 128)\n"
     ]
    }
   ],
   "source": [
    "# Pad the text input sequences to have the same length\n",
    "max_len = 128  # Set the maximum sequence length to 128\n",
    "X_text_train = pad_sequences(X_text_train, \n",
    "                                maxlen = max_len, dtype = \"long\", value = 0, \n",
    "                                truncating = \"post\", padding = \"post\")\n",
    "X_text_val = pad_sequences(X_text_val, \n",
    "                          maxlen = max_len, dtype = \"long\", value = 0, \n",
    "                          truncating = \"post\", padding = \"post\")\n",
    "X_text_test = pad_sequences(X_text_test, \n",
    "                          maxlen = max_len, dtype = \"long\", value = 0, \n",
    "                          truncating = \"post\", padding = \"post\")\n",
    "\n",
    "# Convert the input sequences to a TensorFlow constant tensor\n",
    "X_text_train = tf.constant(X_text_train, dtype = tf.int32)\n",
    "X_text_val = tf.constant(X_text_val, dtype = tf.int32)\n",
    "X_text_test = tf.constant(X_text_test, dtype = tf.int32)\n",
    "\n",
    "print(X_text_train.shape)\n",
    "print(X_text_val.shape)\n",
    "print(X_text_test.shape)"
   ]
  },
  {
   "cell_type": "markdown",
   "metadata": {
    "id": "ssVz80VuyrVB"
   },
   "source": [
    "## Label preprocessing"
   ]
  },
  {
   "cell_type": "code",
   "execution_count": null,
   "metadata": {
    "colab": {
     "base_uri": "https://localhost:8080/"
    },
    "executionInfo": {
     "elapsed": 26,
     "status": "ok",
     "timestamp": 1681517647950,
     "user": {
      "displayName": "Andrew Liu",
      "userId": "01750910414052279045"
     },
     "user_tz": 420
    },
    "id": "tdUSbxSdf4QD",
    "outputId": "2826357e-aaaf-46d8-b36b-a11aef1aec9b"
   },
   "outputs": [
    {
     "data": {
      "text/plain": [
       "11014"
      ]
     },
     "execution_count": 47,
     "metadata": {},
     "output_type": "execute_result"
    }
   ],
   "source": [
    "class_num = train[\"label_group\"].nunique()\n",
    "class_num"
   ]
  },
  {
   "cell_type": "code",
   "execution_count": null,
   "metadata": {
    "colab": {
     "base_uri": "https://localhost:8080/"
    },
    "executionInfo": {
     "elapsed": 18,
     "status": "ok",
     "timestamp": 1681517647951,
     "user": {
      "displayName": "Andrew Liu",
      "userId": "01750910414052279045"
     },
     "user_tz": 420
    },
    "id": "zXcouEJ6uZpN",
    "outputId": "e4608778-27fe-4b2b-d8aa-f135be5624aa"
   },
   "outputs": [
    {
     "name": "stdout",
     "output_type": "stream",
     "text": [
      "(29603, 11014)\n",
      "(4647, 11014)\n"
     ]
    }
   ],
   "source": [
    "# label pre-processing: convert to group then perform onehot encoding\n",
    "\n",
    "from sklearn.preprocessing import LabelEncoder\n",
    "from tensorflow.keras.utils import to_categorical\n",
    "\n",
    "# Convert labels to integers using LabelEncoder\n",
    "le = LabelEncoder()\n",
    "labels_int = le.fit_transform(train['label_group'])\n",
    "labels_int_val = le.fit_transform(validation['label_group'])\n",
    "\n",
    "# One-hot encode the labels using to_categorical\n",
    "y_train = to_categorical(labels_int)\n",
    "y_val = to_categorical(labels_int_val, num_classes = 11014)\n",
    "\n",
    "# Print the shape of the one-hot encoded labels\n",
    "print(y_train.shape)\n",
    "print(y_val.shape)"
   ]
  },
  {
   "cell_type": "markdown",
   "metadata": {
    "id": "aOhKkml2zUkd"
   },
   "source": [
    "## Define the model"
   ]
  },
  {
   "cell_type": "code",
   "execution_count": null,
   "metadata": {
    "id": "Yi8GEzBv3id7"
   },
   "outputs": [],
   "source": [
    "from tensorflow.keras import layers"
   ]
  },
  {
   "cell_type": "code",
   "execution_count": null,
   "metadata": {
    "id": "7Em5a1UkuZjv"
   },
   "outputs": [],
   "source": [
    "# Define the neural network model\n",
    "# Use a convolutional neural network (CNN) to process the image data.\n",
    "# Use GPT-2 to process the text data.\n",
    "# Combine the outputs of the two networks using a concatenation layer.\n",
    "\n",
    "# define the image input\n",
    "image_input = layers.Input(shape=(64, 64, 3), name='image_input')\n",
    "\n",
    "# define the convolutional layers for the image input\n",
    "x = layers.Conv2D(32, (3, 3), activation='relu')(image_input)\n",
    "x = layers.MaxPooling2D((2, 2))(x)\n",
    "x = layers.Dropout(0.25)(x)\n",
    "x = layers.Conv2D(64, (3, 3), activation='relu')(x)\n",
    "x = layers.MaxPooling2D((2, 2))(x)\n",
    "x = layers.Dropout(0.25)(x)  \n",
    "x = layers.Flatten()(x)\n",
    "x = layers.Dropout(0.25)(x)  \n",
    "x = layers.Dense(64, activation='relu')(x)"
   ]
  },
  {
   "cell_type": "code",
   "execution_count": null,
   "metadata": {
    "id": "oc-n-7S5v3Kw"
   },
   "outputs": [],
   "source": [
    "# Define the text input\n",
    "text_input = layers.Input(shape=(max_len,), dtype=tf.int32, name='text_input')"
   ]
  },
  {
   "cell_type": "code",
   "execution_count": null,
   "metadata": {
    "id": "wnSkZPxs5y8J"
   },
   "outputs": [],
   "source": [
    "# Get the output of the GPT-2 model using the input layer\n",
    "gpt2_output = gpt2(text_input)[0]"
   ]
  },
  {
   "cell_type": "code",
   "execution_count": null,
   "metadata": {
    "id": "DcfH5Cz1LC3V"
   },
   "outputs": [],
   "source": [
    "flatten_layer = Flatten()(gpt2_output)"
   ]
  },
  {
   "cell_type": "code",
   "execution_count": null,
   "metadata": {
    "id": "mtvxxOIc1W2g"
   },
   "outputs": [],
   "source": [
    "# Concatenate the image and text features\n",
    "concatenated = layers.concatenate([x, flatten_layer])"
   ]
  },
  {
   "cell_type": "code",
   "execution_count": null,
   "metadata": {
    "id": "J5u_G7bw1ICz"
   },
   "outputs": [],
   "source": [
    "# Define the output layer\n",
    "output_layer = layers.Dense(class_num, activation='softmax', name='output')(concatenated)"
   ]
  },
  {
   "cell_type": "code",
   "execution_count": null,
   "metadata": {
    "colab": {
     "base_uri": "https://localhost:8080/"
    },
    "executionInfo": {
     "elapsed": 51,
     "status": "ok",
     "timestamp": 1681517653295,
     "user": {
      "displayName": "Andrew Liu",
      "userId": "01750910414052279045"
     },
     "user_tz": 420
    },
    "id": "Ye8stlhUv3Hy",
    "outputId": "f5908bf2-6094-4969-adc4-1f43c72982ff"
   },
   "outputs": [
    {
     "name": "stdout",
     "output_type": "stream",
     "text": [
      "Model: \"model\"\n",
      "__________________________________________________________________________________________________\n",
      " Layer (type)                   Output Shape         Param #     Connected to                     \n",
      "==================================================================================================\n",
      " image_input (InputLayer)       [(None, 64, 64, 3)]  0           []                               \n",
      "                                                                                                  \n",
      " conv2d (Conv2D)                (None, 62, 62, 32)   896         ['image_input[0][0]']            \n",
      "                                                                                                  \n",
      " max_pooling2d (MaxPooling2D)   (None, 31, 31, 32)   0           ['conv2d[0][0]']                 \n",
      "                                                                                                  \n",
      " dropout_37 (Dropout)           (None, 31, 31, 32)   0           ['max_pooling2d[0][0]']          \n",
      "                                                                                                  \n",
      " conv2d_1 (Conv2D)              (None, 29, 29, 64)   18496       ['dropout_37[0][0]']             \n",
      "                                                                                                  \n",
      " max_pooling2d_1 (MaxPooling2D)  (None, 14, 14, 64)  0           ['conv2d_1[0][0]']               \n",
      "                                                                                                  \n",
      " dropout_38 (Dropout)           (None, 14, 14, 64)   0           ['max_pooling2d_1[0][0]']        \n",
      "                                                                                                  \n",
      " flatten (Flatten)              (None, 12544)        0           ['dropout_38[0][0]']             \n",
      "                                                                                                  \n",
      " text_input (InputLayer)        [(None, 128)]        0           []                               \n",
      "                                                                                                  \n",
      " dropout_39 (Dropout)           (None, 12544)        0           ['flatten[0][0]']                \n",
      "                                                                                                  \n",
      " tfgpt2_model (TFGPT2Model)     TFBaseModelOutputWi  124439808   ['text_input[0][0]']             \n",
      "                                thPastAndCrossAtten                                               \n",
      "                                tions(last_hidden_s                                               \n",
      "                                tate=(None, 128, 76                                               \n",
      "                                8),                                                               \n",
      "                                 past_key_values=((                                               \n",
      "                                2, None, 12, 128, 6                                               \n",
      "                                4),                                                               \n",
      "                                 (2, None, 12, 128,                                               \n",
      "                                 64),                                                             \n",
      "                                 (2, None, 12, 128,                                               \n",
      "                                 64),                                                             \n",
      "                                 (2, None, 12, 128,                                               \n",
      "                                 64),                                                             \n",
      "                                 (2, None, 12, 128,                                               \n",
      "                                 64),                                                             \n",
      "                                 (2, None, 12, 128,                                               \n",
      "                                 64),                                                             \n",
      "                                 (2, None, 12, 128,                                               \n",
      "                                 64),                                                             \n",
      "                                 (2, None, 12, 128,                                               \n",
      "                                 64),                                                             \n",
      "                                 (2, None, 12, 128,                                               \n",
      "                                 64),                                                             \n",
      "                                 (2, None, 12, 128,                                               \n",
      "                                 64),                                                             \n",
      "                                 (2, None, 12, 128,                                               \n",
      "                                 64),                                                             \n",
      "                                 (2, None, 12, 128,                                               \n",
      "                                 64)),                                                            \n",
      "                                 hidden_states=None                                               \n",
      "                                , attentions=None,                                                \n",
      "                                cross_attentions=No                                               \n",
      "                                ne)                                                               \n",
      "                                                                                                  \n",
      " dense (Dense)                  (None, 64)           802880      ['dropout_39[0][0]']             \n",
      "                                                                                                  \n",
      " flatten_1 (Flatten)            (None, 98304)        0           ['tfgpt2_model[0][0]']           \n",
      "                                                                                                  \n",
      " concatenate (Concatenate)      (None, 98368)        0           ['dense[0][0]',                  \n",
      "                                                                  'flatten_1[0][0]']              \n",
      "                                                                                                  \n",
      " output (Dense)                 (None, 11014)        1083436166  ['concatenate[0][0]']            \n",
      "                                                                                                  \n",
      "==================================================================================================\n",
      "Total params: 1,208,698,246\n",
      "Trainable params: 1,208,698,246\n",
      "Non-trainable params: 0\n",
      "__________________________________________________________________________________________________\n"
     ]
    }
   ],
   "source": [
    "# Define the model with the two inputs and one output\n",
    "model = Model(inputs=[image_input, text_input], outputs=output_layer)\n",
    "\n",
    "model.summary()"
   ]
  },
  {
   "cell_type": "code",
   "execution_count": null,
   "metadata": {
    "id": "riBk11ZNuwsM"
   },
   "outputs": [],
   "source": [
    "# Compile the model\n",
    "model.compile(optimizer='adam', loss='categorical_crossentropy', metrics=['accuracy'])"
   ]
  },
  {
   "cell_type": "markdown",
   "metadata": {
    "id": "hCAKFCgw0TfC"
   },
   "source": [
    "## Train the model"
   ]
  },
  {
   "cell_type": "code",
   "execution_count": null,
   "metadata": {
    "colab": {
     "base_uri": "https://localhost:8080/"
    },
    "executionInfo": {
     "elapsed": 1312312,
     "status": "ok",
     "timestamp": 1681518965601,
     "user": {
      "displayName": "Andrew Liu",
      "userId": "01750910414052279045"
     },
     "user_tz": 420
    },
    "id": "tqa8OjFdNUF8",
    "outputId": "58a06a84-2cf0-4947-f04c-357bd8d33eda"
   },
   "outputs": [
    {
     "name": "stdout",
     "output_type": "stream",
     "text": [
      "Epoch 1/10\n",
      "926/926 [==============================] - 189s 157ms/step - loss: 11.8017 - accuracy: 0.0031 - val_loss: 12.0146 - val_accuracy: 2.1519e-04\n",
      "Epoch 2/10\n",
      "926/926 [==============================] - 126s 136ms/step - loss: 7.9840 - accuracy: 0.1157 - val_loss: 14.3378 - val_accuracy: 2.1519e-04\n",
      "Epoch 3/10\n",
      "926/926 [==============================] - 125s 135ms/step - loss: 2.4633 - accuracy: 0.6339 - val_loss: 24.6283 - val_accuracy: 0.0000e+00\n",
      "Epoch 4/10\n",
      "926/926 [==============================] - 124s 134ms/step - loss: 1.0967 - accuracy: 0.8503 - val_loss: 31.0965 - val_accuracy: 0.0000e+00\n",
      "Epoch 5/10\n",
      "926/926 [==============================] - 124s 134ms/step - loss: 1.0358 - accuracy: 0.8785 - val_loss: 41.0926 - val_accuracy: 0.0000e+00\n",
      "Epoch 6/10\n",
      "926/926 [==============================] - 124s 134ms/step - loss: 0.9371 - accuracy: 0.9007 - val_loss: 49.9006 - val_accuracy: 0.0000e+00\n",
      "Epoch 7/10\n",
      "926/926 [==============================] - 124s 134ms/step - loss: 0.7849 - accuracy: 0.9222 - val_loss: 55.2962 - val_accuracy: 0.0000e+00\n",
      "Epoch 8/10\n",
      "926/926 [==============================] - 124s 134ms/step - loss: 0.7657 - accuracy: 0.9274 - val_loss: 62.7911 - val_accuracy: 2.1519e-04\n",
      "Epoch 9/10\n",
      "926/926 [==============================] - 124s 134ms/step - loss: 0.6370 - accuracy: 0.9449 - val_loss: 74.5247 - val_accuracy: 2.1519e-04\n",
      "Epoch 10/10\n",
      "926/926 [==============================] - 124s 134ms/step - loss: 0.6285 - accuracy: 0.9478 - val_loss: 80.2854 - val_accuracy: 2.1519e-04\n"
     ]
    }
   ],
   "source": [
    "# Train the model\n",
    "history = model.fit({'image_input': X_image_train, 'text_input': X_text_train}, \n",
    "          y_train, \n",
    "          epochs=10, \n",
    "          batch_size=32,\n",
    "          validation_data=([X_image_val, X_text_val], y_val))"
   ]
  },
  {
   "cell_type": "markdown",
   "metadata": {
    "id": "qjMjlZYj1L6U"
   },
   "source": [
    "## Validate the model"
   ]
  },
  {
   "cell_type": "code",
   "execution_count": null,
   "metadata": {
    "colab": {
     "base_uri": "https://localhost:8080/"
    },
    "executionInfo": {
     "elapsed": 8594,
     "status": "ok",
     "timestamp": 1681518974152,
     "user": {
      "displayName": "Andrew Liu",
      "userId": "01750910414052279045"
     },
     "user_tz": 420
    },
    "id": "rtpgThSuvB9V",
    "outputId": "0fae4a58-de76-4932-8fad-c15b47051268"
   },
   "outputs": [
    {
     "name": "stdout",
     "output_type": "stream",
     "text": [
      "Validation accuracy: 0.00021519260189961642\n"
     ]
    }
   ],
   "source": [
    "# Prediction on the validation set\n",
    "score = model.evaluate({'image_input': X_image_val, 'text_input': X_text_val}, y_val, verbose=0)\n",
    "\n",
    "# Print the validation accuracy\n",
    "print('Validation accuracy:', score[1])"
   ]
  },
  {
   "cell_type": "markdown",
   "metadata": {
    "id": "Qe7sHR-e1EhT"
   },
   "source": [
    "## Save the model"
   ]
  },
  {
   "cell_type": "code",
   "execution_count": null,
   "metadata": {
    "id": "VKszCNCr1Siw"
   },
   "outputs": [],
   "source": [
    "# Save the model parameters\n",
    "model.save(\"GPT2_model.h5\")"
   ]
  },
  {
   "cell_type": "markdown",
   "metadata": {
    "id": "Sn-JihLq1TJV"
   },
   "source": [
    "## Prediction on test data and image"
   ]
  },
  {
   "cell_type": "code",
   "execution_count": null,
   "metadata": {
    "id": "sP4e1A46vB7E"
   },
   "outputs": [],
   "source": [
    "# Predict on test data\n",
    "prediction = model.predict({\"image_input\": X_image_test, \"text_input\": X_text_test})"
   ]
  },
  {
   "cell_type": "code",
   "execution_count": null,
   "metadata": {
    "id": "pNTaMxASatMw"
   },
   "outputs": [],
   "source": [
    "# Convert the predicted one-hot encoded labels to original type.\n",
    "y_pred_int = np.argmax(prediction, axis=1)\n",
    "pre_label = le.inverse_transform(y_pred_int)\n",
    "pre_label"
   ]
  },
  {
   "cell_type": "code",
   "execution_count": null,
   "metadata": {
    "id": "hkJfU-0VduvQ"
   },
   "outputs": [],
   "source": [
    "# Get the maximum predicted probability for each sample\n",
    "confidence_level = np.max(prediction, axis=1)"
   ]
  },
  {
   "cell_type": "code",
   "execution_count": null,
   "metadata": {
    "id": "xpR8V_1QvB4O"
   },
   "outputs": [],
   "source": [
    "# Add the predicted labels and confidence levels into the test dataset\n",
    "test[\"predicted label\"] = pre_label\n",
    "test[\"confidence level\"] = confidence_level\n",
    "test"
   ]
  }
 ],
 "metadata": {
  "accelerator": "GPU",
  "colab": {
   "machine_shape": "hm",
   "provenance": [
    {
     "file_id": "1jJ-9nVnnAW0Ardf7BIS8nIlvLcglASol",
     "timestamp": 1680824867329
    }
   ]
  },
  "gpuClass": "premium",
  "kernelspec": {
   "display_name": "Python 3 (ipykernel)",
   "language": "python",
   "name": "python3"
  },
  "language_info": {
   "codemirror_mode": {
    "name": "ipython",
    "version": 3
   },
   "file_extension": ".py",
   "mimetype": "text/x-python",
   "name": "python",
   "nbconvert_exporter": "python",
   "pygments_lexer": "ipython3",
   "version": "3.11.4"
  },
  "widgets": {
   "application/vnd.jupyter.widget-state+json": {
    "00a815bc54544ec88760b60899860883": {
     "model_module": "@jupyter-widgets/base",
     "model_module_version": "1.2.0",
     "model_name": "LayoutModel",
     "state": {
      "_model_module": "@jupyter-widgets/base",
      "_model_module_version": "1.2.0",
      "_model_name": "LayoutModel",
      "_view_count": null,
      "_view_module": "@jupyter-widgets/base",
      "_view_module_version": "1.2.0",
      "_view_name": "LayoutView",
      "align_content": null,
      "align_items": null,
      "align_self": null,
      "border": null,
      "bottom": null,
      "display": null,
      "flex": null,
      "flex_flow": null,
      "grid_area": null,
      "grid_auto_columns": null,
      "grid_auto_flow": null,
      "grid_auto_rows": null,
      "grid_column": null,
      "grid_gap": null,
      "grid_row": null,
      "grid_template_areas": null,
      "grid_template_columns": null,
      "grid_template_rows": null,
      "height": null,
      "justify_content": null,
      "justify_items": null,
      "left": null,
      "margin": null,
      "max_height": null,
      "max_width": null,
      "min_height": null,
      "min_width": null,
      "object_fit": null,
      "object_position": null,
      "order": null,
      "overflow": null,
      "overflow_x": null,
      "overflow_y": null,
      "padding": null,
      "right": null,
      "top": null,
      "visibility": null,
      "width": null
     }
    },
    "04b236f5d6914c02846f466e932e6cf7": {
     "model_module": "@jupyter-widgets/controls",
     "model_module_version": "1.5.0",
     "model_name": "FloatProgressModel",
     "state": {
      "_dom_classes": [],
      "_model_module": "@jupyter-widgets/controls",
      "_model_module_version": "1.5.0",
      "_model_name": "FloatProgressModel",
      "_view_count": null,
      "_view_module": "@jupyter-widgets/controls",
      "_view_module_version": "1.5.0",
      "_view_name": "ProgressView",
      "bar_style": "success",
      "description": "",
      "description_tooltip": null,
      "layout": "IPY_MODEL_d8172e5e379b42d09bf95c0d0d44b651",
      "max": 497933648,
      "min": 0,
      "orientation": "horizontal",
      "style": "IPY_MODEL_4a1a9dac55fb4ad180d65adfb55ff5f1",
      "value": 497933648
     }
    },
    "06394a4dda874643acd10ad8b2e3076b": {
     "model_module": "@jupyter-widgets/controls",
     "model_module_version": "1.5.0",
     "model_name": "HTMLModel",
     "state": {
      "_dom_classes": [],
      "_model_module": "@jupyter-widgets/controls",
      "_model_module_version": "1.5.0",
      "_model_name": "HTMLModel",
      "_view_count": null,
      "_view_module": "@jupyter-widgets/controls",
      "_view_module_version": "1.5.0",
      "_view_name": "HTMLView",
      "description": "",
      "description_tooltip": null,
      "layout": "IPY_MODEL_93584f0028604a12af6401242efffe1d",
      "placeholder": "​",
      "style": "IPY_MODEL_c4455694198e4a2ba8ac0b655a839f78",
      "value": "Downloading (…)olve/main/vocab.json: 100%"
     }
    },
    "0a49a684bbb4499697b9ca9c7484c35d": {
     "model_module": "@jupyter-widgets/controls",
     "model_module_version": "1.5.0",
     "model_name": "DescriptionStyleModel",
     "state": {
      "_model_module": "@jupyter-widgets/controls",
      "_model_module_version": "1.5.0",
      "_model_name": "DescriptionStyleModel",
      "_view_count": null,
      "_view_module": "@jupyter-widgets/base",
      "_view_module_version": "1.2.0",
      "_view_name": "StyleView",
      "description_width": ""
     }
    },
    "0f822ddf56734f5fafcef357dc65db08": {
     "model_module": "@jupyter-widgets/controls",
     "model_module_version": "1.5.0",
     "model_name": "FloatProgressModel",
     "state": {
      "_dom_classes": [],
      "_model_module": "@jupyter-widgets/controls",
      "_model_module_version": "1.5.0",
      "_model_name": "FloatProgressModel",
      "_view_count": null,
      "_view_module": "@jupyter-widgets/controls",
      "_view_module_version": "1.5.0",
      "_view_name": "ProgressView",
      "bar_style": "success",
      "description": "",
      "description_tooltip": null,
      "layout": "IPY_MODEL_7c38c8596695444aa7c215d57028f1f5",
      "max": 1042301,
      "min": 0,
      "orientation": "horizontal",
      "style": "IPY_MODEL_5484fc197aa4472e8ff49ce109c1d9cf",
      "value": 1042301
     }
    },
    "1423de9587fa43e18e5e08b72b982e73": {
     "model_module": "@jupyter-widgets/base",
     "model_module_version": "1.2.0",
     "model_name": "LayoutModel",
     "state": {
      "_model_module": "@jupyter-widgets/base",
      "_model_module_version": "1.2.0",
      "_model_name": "LayoutModel",
      "_view_count": null,
      "_view_module": "@jupyter-widgets/base",
      "_view_module_version": "1.2.0",
      "_view_name": "LayoutView",
      "align_content": null,
      "align_items": null,
      "align_self": null,
      "border": null,
      "bottom": null,
      "display": null,
      "flex": null,
      "flex_flow": null,
      "grid_area": null,
      "grid_auto_columns": null,
      "grid_auto_flow": null,
      "grid_auto_rows": null,
      "grid_column": null,
      "grid_gap": null,
      "grid_row": null,
      "grid_template_areas": null,
      "grid_template_columns": null,
      "grid_template_rows": null,
      "height": null,
      "justify_content": null,
      "justify_items": null,
      "left": null,
      "margin": null,
      "max_height": null,
      "max_width": null,
      "min_height": null,
      "min_width": null,
      "object_fit": null,
      "object_position": null,
      "order": null,
      "overflow": null,
      "overflow_x": null,
      "overflow_y": null,
      "padding": null,
      "right": null,
      "top": null,
      "visibility": null,
      "width": null
     }
    },
    "14e2893ed6cb4ca883173c4d3232e0d6": {
     "model_module": "@jupyter-widgets/base",
     "model_module_version": "1.2.0",
     "model_name": "LayoutModel",
     "state": {
      "_model_module": "@jupyter-widgets/base",
      "_model_module_version": "1.2.0",
      "_model_name": "LayoutModel",
      "_view_count": null,
      "_view_module": "@jupyter-widgets/base",
      "_view_module_version": "1.2.0",
      "_view_name": "LayoutView",
      "align_content": null,
      "align_items": null,
      "align_self": null,
      "border": null,
      "bottom": null,
      "display": null,
      "flex": null,
      "flex_flow": null,
      "grid_area": null,
      "grid_auto_columns": null,
      "grid_auto_flow": null,
      "grid_auto_rows": null,
      "grid_column": null,
      "grid_gap": null,
      "grid_row": null,
      "grid_template_areas": null,
      "grid_template_columns": null,
      "grid_template_rows": null,
      "height": null,
      "justify_content": null,
      "justify_items": null,
      "left": null,
      "margin": null,
      "max_height": null,
      "max_width": null,
      "min_height": null,
      "min_width": null,
      "object_fit": null,
      "object_position": null,
      "order": null,
      "overflow": null,
      "overflow_x": null,
      "overflow_y": null,
      "padding": null,
      "right": null,
      "top": null,
      "visibility": null,
      "width": null
     }
    },
    "279b208cc5aa467c9b3a99114c65c6d9": {
     "model_module": "@jupyter-widgets/controls",
     "model_module_version": "1.5.0",
     "model_name": "ProgressStyleModel",
     "state": {
      "_model_module": "@jupyter-widgets/controls",
      "_model_module_version": "1.5.0",
      "_model_name": "ProgressStyleModel",
      "_view_count": null,
      "_view_module": "@jupyter-widgets/base",
      "_view_module_version": "1.2.0",
      "_view_name": "StyleView",
      "bar_color": null,
      "description_width": ""
     }
    },
    "3166346adce1469397c6520a71a1cdbc": {
     "model_module": "@jupyter-widgets/controls",
     "model_module_version": "1.5.0",
     "model_name": "HBoxModel",
     "state": {
      "_dom_classes": [],
      "_model_module": "@jupyter-widgets/controls",
      "_model_module_version": "1.5.0",
      "_model_name": "HBoxModel",
      "_view_count": null,
      "_view_module": "@jupyter-widgets/controls",
      "_view_module_version": "1.5.0",
      "_view_name": "HBoxView",
      "box_style": "",
      "children": [
       "IPY_MODEL_06394a4dda874643acd10ad8b2e3076b",
       "IPY_MODEL_0f822ddf56734f5fafcef357dc65db08",
       "IPY_MODEL_ca8543805a5f4b75b0dfae626a9c7fe9"
      ],
      "layout": "IPY_MODEL_7ef2cafbf56c4f5c9bb11e6c291f20a3"
     }
    },
    "39446cd7361f4e75a9188e523a4f7523": {
     "model_module": "@jupyter-widgets/controls",
     "model_module_version": "1.5.0",
     "model_name": "FloatProgressModel",
     "state": {
      "_dom_classes": [],
      "_model_module": "@jupyter-widgets/controls",
      "_model_module_version": "1.5.0",
      "_model_name": "FloatProgressModel",
      "_view_count": null,
      "_view_module": "@jupyter-widgets/controls",
      "_view_module_version": "1.5.0",
      "_view_name": "ProgressView",
      "bar_style": "success",
      "description": "",
      "description_tooltip": null,
      "layout": "IPY_MODEL_1423de9587fa43e18e5e08b72b982e73",
      "max": 665,
      "min": 0,
      "orientation": "horizontal",
      "style": "IPY_MODEL_a677847a444043f7b3f36df75ea3e532",
      "value": 665
     }
    },
    "4846c0276c85487cbe5e67c2326ad799": {
     "model_module": "@jupyter-widgets/base",
     "model_module_version": "1.2.0",
     "model_name": "LayoutModel",
     "state": {
      "_model_module": "@jupyter-widgets/base",
      "_model_module_version": "1.2.0",
      "_model_name": "LayoutModel",
      "_view_count": null,
      "_view_module": "@jupyter-widgets/base",
      "_view_module_version": "1.2.0",
      "_view_name": "LayoutView",
      "align_content": null,
      "align_items": null,
      "align_self": null,
      "border": null,
      "bottom": null,
      "display": null,
      "flex": null,
      "flex_flow": null,
      "grid_area": null,
      "grid_auto_columns": null,
      "grid_auto_flow": null,
      "grid_auto_rows": null,
      "grid_column": null,
      "grid_gap": null,
      "grid_row": null,
      "grid_template_areas": null,
      "grid_template_columns": null,
      "grid_template_rows": null,
      "height": null,
      "justify_content": null,
      "justify_items": null,
      "left": null,
      "margin": null,
      "max_height": null,
      "max_width": null,
      "min_height": null,
      "min_width": null,
      "object_fit": null,
      "object_position": null,
      "order": null,
      "overflow": null,
      "overflow_x": null,
      "overflow_y": null,
      "padding": null,
      "right": null,
      "top": null,
      "visibility": null,
      "width": null
     }
    },
    "4a1a9dac55fb4ad180d65adfb55ff5f1": {
     "model_module": "@jupyter-widgets/controls",
     "model_module_version": "1.5.0",
     "model_name": "ProgressStyleModel",
     "state": {
      "_model_module": "@jupyter-widgets/controls",
      "_model_module_version": "1.5.0",
      "_model_name": "ProgressStyleModel",
      "_view_count": null,
      "_view_module": "@jupyter-widgets/base",
      "_view_module_version": "1.2.0",
      "_view_name": "StyleView",
      "bar_color": null,
      "description_width": ""
     }
    },
    "4b3efd4352a74a74995e3eaadf22d8ab": {
     "model_module": "@jupyter-widgets/controls",
     "model_module_version": "1.5.0",
     "model_name": "DescriptionStyleModel",
     "state": {
      "_model_module": "@jupyter-widgets/controls",
      "_model_module_version": "1.5.0",
      "_model_name": "DescriptionStyleModel",
      "_view_count": null,
      "_view_module": "@jupyter-widgets/base",
      "_view_module_version": "1.2.0",
      "_view_name": "StyleView",
      "description_width": ""
     }
    },
    "4fe23d0e03104fc386209ee06cfb3af5": {
     "model_module": "@jupyter-widgets/base",
     "model_module_version": "1.2.0",
     "model_name": "LayoutModel",
     "state": {
      "_model_module": "@jupyter-widgets/base",
      "_model_module_version": "1.2.0",
      "_model_name": "LayoutModel",
      "_view_count": null,
      "_view_module": "@jupyter-widgets/base",
      "_view_module_version": "1.2.0",
      "_view_name": "LayoutView",
      "align_content": null,
      "align_items": null,
      "align_self": null,
      "border": null,
      "bottom": null,
      "display": null,
      "flex": null,
      "flex_flow": null,
      "grid_area": null,
      "grid_auto_columns": null,
      "grid_auto_flow": null,
      "grid_auto_rows": null,
      "grid_column": null,
      "grid_gap": null,
      "grid_row": null,
      "grid_template_areas": null,
      "grid_template_columns": null,
      "grid_template_rows": null,
      "height": null,
      "justify_content": null,
      "justify_items": null,
      "left": null,
      "margin": null,
      "max_height": null,
      "max_width": null,
      "min_height": null,
      "min_width": null,
      "object_fit": null,
      "object_position": null,
      "order": null,
      "overflow": null,
      "overflow_x": null,
      "overflow_y": null,
      "padding": null,
      "right": null,
      "top": null,
      "visibility": null,
      "width": null
     }
    },
    "5368fdbf0d4f4bad80b61387006accec": {
     "model_module": "@jupyter-widgets/controls",
     "model_module_version": "1.5.0",
     "model_name": "DescriptionStyleModel",
     "state": {
      "_model_module": "@jupyter-widgets/controls",
      "_model_module_version": "1.5.0",
      "_model_name": "DescriptionStyleModel",
      "_view_count": null,
      "_view_module": "@jupyter-widgets/base",
      "_view_module_version": "1.2.0",
      "_view_name": "StyleView",
      "description_width": ""
     }
    },
    "5484fc197aa4472e8ff49ce109c1d9cf": {
     "model_module": "@jupyter-widgets/controls",
     "model_module_version": "1.5.0",
     "model_name": "ProgressStyleModel",
     "state": {
      "_model_module": "@jupyter-widgets/controls",
      "_model_module_version": "1.5.0",
      "_model_name": "ProgressStyleModel",
      "_view_count": null,
      "_view_module": "@jupyter-widgets/base",
      "_view_module_version": "1.2.0",
      "_view_name": "StyleView",
      "bar_color": null,
      "description_width": ""
     }
    },
    "68b771d3a7cf4c698b69fac76bfeb64f": {
     "model_module": "@jupyter-widgets/controls",
     "model_module_version": "1.5.0",
     "model_name": "HBoxModel",
     "state": {
      "_dom_classes": [],
      "_model_module": "@jupyter-widgets/controls",
      "_model_module_version": "1.5.0",
      "_model_name": "HBoxModel",
      "_view_count": null,
      "_view_module": "@jupyter-widgets/controls",
      "_view_module_version": "1.5.0",
      "_view_name": "HBoxView",
      "box_style": "",
      "children": [
       "IPY_MODEL_c025a5b072f64541b6f83dc15459ec61",
       "IPY_MODEL_39446cd7361f4e75a9188e523a4f7523",
       "IPY_MODEL_933c86188bc049dcb70bd509f7972850"
      ],
      "layout": "IPY_MODEL_00a815bc54544ec88760b60899860883"
     }
    },
    "7c251ce0c75d4dc298963872833c8c55": {
     "model_module": "@jupyter-widgets/base",
     "model_module_version": "1.2.0",
     "model_name": "LayoutModel",
     "state": {
      "_model_module": "@jupyter-widgets/base",
      "_model_module_version": "1.2.0",
      "_model_name": "LayoutModel",
      "_view_count": null,
      "_view_module": "@jupyter-widgets/base",
      "_view_module_version": "1.2.0",
      "_view_name": "LayoutView",
      "align_content": null,
      "align_items": null,
      "align_self": null,
      "border": null,
      "bottom": null,
      "display": null,
      "flex": null,
      "flex_flow": null,
      "grid_area": null,
      "grid_auto_columns": null,
      "grid_auto_flow": null,
      "grid_auto_rows": null,
      "grid_column": null,
      "grid_gap": null,
      "grid_row": null,
      "grid_template_areas": null,
      "grid_template_columns": null,
      "grid_template_rows": null,
      "height": null,
      "justify_content": null,
      "justify_items": null,
      "left": null,
      "margin": null,
      "max_height": null,
      "max_width": null,
      "min_height": null,
      "min_width": null,
      "object_fit": null,
      "object_position": null,
      "order": null,
      "overflow": null,
      "overflow_x": null,
      "overflow_y": null,
      "padding": null,
      "right": null,
      "top": null,
      "visibility": null,
      "width": null
     }
    },
    "7c38c8596695444aa7c215d57028f1f5": {
     "model_module": "@jupyter-widgets/base",
     "model_module_version": "1.2.0",
     "model_name": "LayoutModel",
     "state": {
      "_model_module": "@jupyter-widgets/base",
      "_model_module_version": "1.2.0",
      "_model_name": "LayoutModel",
      "_view_count": null,
      "_view_module": "@jupyter-widgets/base",
      "_view_module_version": "1.2.0",
      "_view_name": "LayoutView",
      "align_content": null,
      "align_items": null,
      "align_self": null,
      "border": null,
      "bottom": null,
      "display": null,
      "flex": null,
      "flex_flow": null,
      "grid_area": null,
      "grid_auto_columns": null,
      "grid_auto_flow": null,
      "grid_auto_rows": null,
      "grid_column": null,
      "grid_gap": null,
      "grid_row": null,
      "grid_template_areas": null,
      "grid_template_columns": null,
      "grid_template_rows": null,
      "height": null,
      "justify_content": null,
      "justify_items": null,
      "left": null,
      "margin": null,
      "max_height": null,
      "max_width": null,
      "min_height": null,
      "min_width": null,
      "object_fit": null,
      "object_position": null,
      "order": null,
      "overflow": null,
      "overflow_x": null,
      "overflow_y": null,
      "padding": null,
      "right": null,
      "top": null,
      "visibility": null,
      "width": null
     }
    },
    "7ef2cafbf56c4f5c9bb11e6c291f20a3": {
     "model_module": "@jupyter-widgets/base",
     "model_module_version": "1.2.0",
     "model_name": "LayoutModel",
     "state": {
      "_model_module": "@jupyter-widgets/base",
      "_model_module_version": "1.2.0",
      "_model_name": "LayoutModel",
      "_view_count": null,
      "_view_module": "@jupyter-widgets/base",
      "_view_module_version": "1.2.0",
      "_view_name": "LayoutView",
      "align_content": null,
      "align_items": null,
      "align_self": null,
      "border": null,
      "bottom": null,
      "display": null,
      "flex": null,
      "flex_flow": null,
      "grid_area": null,
      "grid_auto_columns": null,
      "grid_auto_flow": null,
      "grid_auto_rows": null,
      "grid_column": null,
      "grid_gap": null,
      "grid_row": null,
      "grid_template_areas": null,
      "grid_template_columns": null,
      "grid_template_rows": null,
      "height": null,
      "justify_content": null,
      "justify_items": null,
      "left": null,
      "margin": null,
      "max_height": null,
      "max_width": null,
      "min_height": null,
      "min_width": null,
      "object_fit": null,
      "object_position": null,
      "order": null,
      "overflow": null,
      "overflow_x": null,
      "overflow_y": null,
      "padding": null,
      "right": null,
      "top": null,
      "visibility": null,
      "width": null
     }
    },
    "89bf7e89f6384c9b86eee73e90ffd411": {
     "model_module": "@jupyter-widgets/controls",
     "model_module_version": "1.5.0",
     "model_name": "HBoxModel",
     "state": {
      "_dom_classes": [],
      "_model_module": "@jupyter-widgets/controls",
      "_model_module_version": "1.5.0",
      "_model_name": "HBoxModel",
      "_view_count": null,
      "_view_module": "@jupyter-widgets/controls",
      "_view_module_version": "1.5.0",
      "_view_name": "HBoxView",
      "box_style": "",
      "children": [
       "IPY_MODEL_edf4cf57fcbc4b95b166c08157af311b",
       "IPY_MODEL_c92755a96f3f46ce8c3363130379bbab",
       "IPY_MODEL_f00cf66bedb64a85937879d21d53179a"
      ],
      "layout": "IPY_MODEL_d22123e83f1246a890e4cfde1fbeb113"
     }
    },
    "8f92d607f8d843c9aacbba03a05765c3": {
     "model_module": "@jupyter-widgets/controls",
     "model_module_version": "1.5.0",
     "model_name": "HTMLModel",
     "state": {
      "_dom_classes": [],
      "_model_module": "@jupyter-widgets/controls",
      "_model_module_version": "1.5.0",
      "_model_name": "HTMLModel",
      "_view_count": null,
      "_view_module": "@jupyter-widgets/controls",
      "_view_module_version": "1.5.0",
      "_view_name": "HTMLView",
      "description": "",
      "description_tooltip": null,
      "layout": "IPY_MODEL_f136c364abbd429387b7113bf885ad9b",
      "placeholder": "​",
      "style": "IPY_MODEL_c8562db544744942a83a9d55e876c504",
      "value": "Downloading tf_model.h5: 100%"
     }
    },
    "933c86188bc049dcb70bd509f7972850": {
     "model_module": "@jupyter-widgets/controls",
     "model_module_version": "1.5.0",
     "model_name": "HTMLModel",
     "state": {
      "_dom_classes": [],
      "_model_module": "@jupyter-widgets/controls",
      "_model_module_version": "1.5.0",
      "_model_name": "HTMLModel",
      "_view_count": null,
      "_view_module": "@jupyter-widgets/controls",
      "_view_module_version": "1.5.0",
      "_view_name": "HTMLView",
      "description": "",
      "description_tooltip": null,
      "layout": "IPY_MODEL_ae21f23d975544a4adf6c5f70a3ed44d",
      "placeholder": "​",
      "style": "IPY_MODEL_d8660f77c5844218a9121ad0b5e27789",
      "value": " 665/665 [00:00&lt;00:00, 50.6kB/s]"
     }
    },
    "93584f0028604a12af6401242efffe1d": {
     "model_module": "@jupyter-widgets/base",
     "model_module_version": "1.2.0",
     "model_name": "LayoutModel",
     "state": {
      "_model_module": "@jupyter-widgets/base",
      "_model_module_version": "1.2.0",
      "_model_name": "LayoutModel",
      "_view_count": null,
      "_view_module": "@jupyter-widgets/base",
      "_view_module_version": "1.2.0",
      "_view_name": "LayoutView",
      "align_content": null,
      "align_items": null,
      "align_self": null,
      "border": null,
      "bottom": null,
      "display": null,
      "flex": null,
      "flex_flow": null,
      "grid_area": null,
      "grid_auto_columns": null,
      "grid_auto_flow": null,
      "grid_auto_rows": null,
      "grid_column": null,
      "grid_gap": null,
      "grid_row": null,
      "grid_template_areas": null,
      "grid_template_columns": null,
      "grid_template_rows": null,
      "height": null,
      "justify_content": null,
      "justify_items": null,
      "left": null,
      "margin": null,
      "max_height": null,
      "max_width": null,
      "min_height": null,
      "min_width": null,
      "object_fit": null,
      "object_position": null,
      "order": null,
      "overflow": null,
      "overflow_x": null,
      "overflow_y": null,
      "padding": null,
      "right": null,
      "top": null,
      "visibility": null,
      "width": null
     }
    },
    "9c4851ca29ce4608a766053466a7a319": {
     "model_module": "@jupyter-widgets/controls",
     "model_module_version": "1.5.0",
     "model_name": "DescriptionStyleModel",
     "state": {
      "_model_module": "@jupyter-widgets/controls",
      "_model_module_version": "1.5.0",
      "_model_name": "DescriptionStyleModel",
      "_view_count": null,
      "_view_module": "@jupyter-widgets/base",
      "_view_module_version": "1.2.0",
      "_view_name": "StyleView",
      "description_width": ""
     }
    },
    "a677847a444043f7b3f36df75ea3e532": {
     "model_module": "@jupyter-widgets/controls",
     "model_module_version": "1.5.0",
     "model_name": "ProgressStyleModel",
     "state": {
      "_model_module": "@jupyter-widgets/controls",
      "_model_module_version": "1.5.0",
      "_model_name": "ProgressStyleModel",
      "_view_count": null,
      "_view_module": "@jupyter-widgets/base",
      "_view_module_version": "1.2.0",
      "_view_name": "StyleView",
      "bar_color": null,
      "description_width": ""
     }
    },
    "a71d134740e042be879da12df04f56e0": {
     "model_module": "@jupyter-widgets/base",
     "model_module_version": "1.2.0",
     "model_name": "LayoutModel",
     "state": {
      "_model_module": "@jupyter-widgets/base",
      "_model_module_version": "1.2.0",
      "_model_name": "LayoutModel",
      "_view_count": null,
      "_view_module": "@jupyter-widgets/base",
      "_view_module_version": "1.2.0",
      "_view_name": "LayoutView",
      "align_content": null,
      "align_items": null,
      "align_self": null,
      "border": null,
      "bottom": null,
      "display": null,
      "flex": null,
      "flex_flow": null,
      "grid_area": null,
      "grid_auto_columns": null,
      "grid_auto_flow": null,
      "grid_auto_rows": null,
      "grid_column": null,
      "grid_gap": null,
      "grid_row": null,
      "grid_template_areas": null,
      "grid_template_columns": null,
      "grid_template_rows": null,
      "height": null,
      "justify_content": null,
      "justify_items": null,
      "left": null,
      "margin": null,
      "max_height": null,
      "max_width": null,
      "min_height": null,
      "min_width": null,
      "object_fit": null,
      "object_position": null,
      "order": null,
      "overflow": null,
      "overflow_x": null,
      "overflow_y": null,
      "padding": null,
      "right": null,
      "top": null,
      "visibility": null,
      "width": null
     }
    },
    "ae21f23d975544a4adf6c5f70a3ed44d": {
     "model_module": "@jupyter-widgets/base",
     "model_module_version": "1.2.0",
     "model_name": "LayoutModel",
     "state": {
      "_model_module": "@jupyter-widgets/base",
      "_model_module_version": "1.2.0",
      "_model_name": "LayoutModel",
      "_view_count": null,
      "_view_module": "@jupyter-widgets/base",
      "_view_module_version": "1.2.0",
      "_view_name": "LayoutView",
      "align_content": null,
      "align_items": null,
      "align_self": null,
      "border": null,
      "bottom": null,
      "display": null,
      "flex": null,
      "flex_flow": null,
      "grid_area": null,
      "grid_auto_columns": null,
      "grid_auto_flow": null,
      "grid_auto_rows": null,
      "grid_column": null,
      "grid_gap": null,
      "grid_row": null,
      "grid_template_areas": null,
      "grid_template_columns": null,
      "grid_template_rows": null,
      "height": null,
      "justify_content": null,
      "justify_items": null,
      "left": null,
      "margin": null,
      "max_height": null,
      "max_width": null,
      "min_height": null,
      "min_width": null,
      "object_fit": null,
      "object_position": null,
      "order": null,
      "overflow": null,
      "overflow_x": null,
      "overflow_y": null,
      "padding": null,
      "right": null,
      "top": null,
      "visibility": null,
      "width": null
     }
    },
    "b3bae1a20ab34032abe47e7e880bc777": {
     "model_module": "@jupyter-widgets/controls",
     "model_module_version": "1.5.0",
     "model_name": "DescriptionStyleModel",
     "state": {
      "_model_module": "@jupyter-widgets/controls",
      "_model_module_version": "1.5.0",
      "_model_name": "DescriptionStyleModel",
      "_view_count": null,
      "_view_module": "@jupyter-widgets/base",
      "_view_module_version": "1.2.0",
      "_view_name": "StyleView",
      "description_width": ""
     }
    },
    "c025a5b072f64541b6f83dc15459ec61": {
     "model_module": "@jupyter-widgets/controls",
     "model_module_version": "1.5.0",
     "model_name": "HTMLModel",
     "state": {
      "_dom_classes": [],
      "_model_module": "@jupyter-widgets/controls",
      "_model_module_version": "1.5.0",
      "_model_name": "HTMLModel",
      "_view_count": null,
      "_view_module": "@jupyter-widgets/controls",
      "_view_module_version": "1.5.0",
      "_view_name": "HTMLView",
      "description": "",
      "description_tooltip": null,
      "layout": "IPY_MODEL_14e2893ed6cb4ca883173c4d3232e0d6",
      "placeholder": "​",
      "style": "IPY_MODEL_5368fdbf0d4f4bad80b61387006accec",
      "value": "Downloading (…)lve/main/config.json: 100%"
     }
    },
    "c4455694198e4a2ba8ac0b655a839f78": {
     "model_module": "@jupyter-widgets/controls",
     "model_module_version": "1.5.0",
     "model_name": "DescriptionStyleModel",
     "state": {
      "_model_module": "@jupyter-widgets/controls",
      "_model_module_version": "1.5.0",
      "_model_name": "DescriptionStyleModel",
      "_view_count": null,
      "_view_module": "@jupyter-widgets/base",
      "_view_module_version": "1.2.0",
      "_view_name": "StyleView",
      "description_width": ""
     }
    },
    "c5af1365663c404ca3e1fabd39ae0dc0": {
     "model_module": "@jupyter-widgets/base",
     "model_module_version": "1.2.0",
     "model_name": "LayoutModel",
     "state": {
      "_model_module": "@jupyter-widgets/base",
      "_model_module_version": "1.2.0",
      "_model_name": "LayoutModel",
      "_view_count": null,
      "_view_module": "@jupyter-widgets/base",
      "_view_module_version": "1.2.0",
      "_view_name": "LayoutView",
      "align_content": null,
      "align_items": null,
      "align_self": null,
      "border": null,
      "bottom": null,
      "display": null,
      "flex": null,
      "flex_flow": null,
      "grid_area": null,
      "grid_auto_columns": null,
      "grid_auto_flow": null,
      "grid_auto_rows": null,
      "grid_column": null,
      "grid_gap": null,
      "grid_row": null,
      "grid_template_areas": null,
      "grid_template_columns": null,
      "grid_template_rows": null,
      "height": null,
      "justify_content": null,
      "justify_items": null,
      "left": null,
      "margin": null,
      "max_height": null,
      "max_width": null,
      "min_height": null,
      "min_width": null,
      "object_fit": null,
      "object_position": null,
      "order": null,
      "overflow": null,
      "overflow_x": null,
      "overflow_y": null,
      "padding": null,
      "right": null,
      "top": null,
      "visibility": null,
      "width": null
     }
    },
    "c8562db544744942a83a9d55e876c504": {
     "model_module": "@jupyter-widgets/controls",
     "model_module_version": "1.5.0",
     "model_name": "DescriptionStyleModel",
     "state": {
      "_model_module": "@jupyter-widgets/controls",
      "_model_module_version": "1.5.0",
      "_model_name": "DescriptionStyleModel",
      "_view_count": null,
      "_view_module": "@jupyter-widgets/base",
      "_view_module_version": "1.2.0",
      "_view_name": "StyleView",
      "description_width": ""
     }
    },
    "c92755a96f3f46ce8c3363130379bbab": {
     "model_module": "@jupyter-widgets/controls",
     "model_module_version": "1.5.0",
     "model_name": "FloatProgressModel",
     "state": {
      "_dom_classes": [],
      "_model_module": "@jupyter-widgets/controls",
      "_model_module_version": "1.5.0",
      "_model_name": "FloatProgressModel",
      "_view_count": null,
      "_view_module": "@jupyter-widgets/controls",
      "_view_module_version": "1.5.0",
      "_view_name": "ProgressView",
      "bar_style": "success",
      "description": "",
      "description_tooltip": null,
      "layout": "IPY_MODEL_4fe23d0e03104fc386209ee06cfb3af5",
      "max": 456318,
      "min": 0,
      "orientation": "horizontal",
      "style": "IPY_MODEL_279b208cc5aa467c9b3a99114c65c6d9",
      "value": 456318
     }
    },
    "ca8543805a5f4b75b0dfae626a9c7fe9": {
     "model_module": "@jupyter-widgets/controls",
     "model_module_version": "1.5.0",
     "model_name": "HTMLModel",
     "state": {
      "_dom_classes": [],
      "_model_module": "@jupyter-widgets/controls",
      "_model_module_version": "1.5.0",
      "_model_name": "HTMLModel",
      "_view_count": null,
      "_view_module": "@jupyter-widgets/controls",
      "_view_module_version": "1.5.0",
      "_view_name": "HTMLView",
      "description": "",
      "description_tooltip": null,
      "layout": "IPY_MODEL_4846c0276c85487cbe5e67c2326ad799",
      "placeholder": "​",
      "style": "IPY_MODEL_b3bae1a20ab34032abe47e7e880bc777",
      "value": " 1.04M/1.04M [00:00&lt;00:00, 1.23MB/s]"
     }
    },
    "d22123e83f1246a890e4cfde1fbeb113": {
     "model_module": "@jupyter-widgets/base",
     "model_module_version": "1.2.0",
     "model_name": "LayoutModel",
     "state": {
      "_model_module": "@jupyter-widgets/base",
      "_model_module_version": "1.2.0",
      "_model_name": "LayoutModel",
      "_view_count": null,
      "_view_module": "@jupyter-widgets/base",
      "_view_module_version": "1.2.0",
      "_view_name": "LayoutView",
      "align_content": null,
      "align_items": null,
      "align_self": null,
      "border": null,
      "bottom": null,
      "display": null,
      "flex": null,
      "flex_flow": null,
      "grid_area": null,
      "grid_auto_columns": null,
      "grid_auto_flow": null,
      "grid_auto_rows": null,
      "grid_column": null,
      "grid_gap": null,
      "grid_row": null,
      "grid_template_areas": null,
      "grid_template_columns": null,
      "grid_template_rows": null,
      "height": null,
      "justify_content": null,
      "justify_items": null,
      "left": null,
      "margin": null,
      "max_height": null,
      "max_width": null,
      "min_height": null,
      "min_width": null,
      "object_fit": null,
      "object_position": null,
      "order": null,
      "overflow": null,
      "overflow_x": null,
      "overflow_y": null,
      "padding": null,
      "right": null,
      "top": null,
      "visibility": null,
      "width": null
     }
    },
    "d5bdce6a71e948a2b61da8d9b24af401": {
     "model_module": "@jupyter-widgets/base",
     "model_module_version": "1.2.0",
     "model_name": "LayoutModel",
     "state": {
      "_model_module": "@jupyter-widgets/base",
      "_model_module_version": "1.2.0",
      "_model_name": "LayoutModel",
      "_view_count": null,
      "_view_module": "@jupyter-widgets/base",
      "_view_module_version": "1.2.0",
      "_view_name": "LayoutView",
      "align_content": null,
      "align_items": null,
      "align_self": null,
      "border": null,
      "bottom": null,
      "display": null,
      "flex": null,
      "flex_flow": null,
      "grid_area": null,
      "grid_auto_columns": null,
      "grid_auto_flow": null,
      "grid_auto_rows": null,
      "grid_column": null,
      "grid_gap": null,
      "grid_row": null,
      "grid_template_areas": null,
      "grid_template_columns": null,
      "grid_template_rows": null,
      "height": null,
      "justify_content": null,
      "justify_items": null,
      "left": null,
      "margin": null,
      "max_height": null,
      "max_width": null,
      "min_height": null,
      "min_width": null,
      "object_fit": null,
      "object_position": null,
      "order": null,
      "overflow": null,
      "overflow_x": null,
      "overflow_y": null,
      "padding": null,
      "right": null,
      "top": null,
      "visibility": null,
      "width": null
     }
    },
    "d8172e5e379b42d09bf95c0d0d44b651": {
     "model_module": "@jupyter-widgets/base",
     "model_module_version": "1.2.0",
     "model_name": "LayoutModel",
     "state": {
      "_model_module": "@jupyter-widgets/base",
      "_model_module_version": "1.2.0",
      "_model_name": "LayoutModel",
      "_view_count": null,
      "_view_module": "@jupyter-widgets/base",
      "_view_module_version": "1.2.0",
      "_view_name": "LayoutView",
      "align_content": null,
      "align_items": null,
      "align_self": null,
      "border": null,
      "bottom": null,
      "display": null,
      "flex": null,
      "flex_flow": null,
      "grid_area": null,
      "grid_auto_columns": null,
      "grid_auto_flow": null,
      "grid_auto_rows": null,
      "grid_column": null,
      "grid_gap": null,
      "grid_row": null,
      "grid_template_areas": null,
      "grid_template_columns": null,
      "grid_template_rows": null,
      "height": null,
      "justify_content": null,
      "justify_items": null,
      "left": null,
      "margin": null,
      "max_height": null,
      "max_width": null,
      "min_height": null,
      "min_width": null,
      "object_fit": null,
      "object_position": null,
      "order": null,
      "overflow": null,
      "overflow_x": null,
      "overflow_y": null,
      "padding": null,
      "right": null,
      "top": null,
      "visibility": null,
      "width": null
     }
    },
    "d8660f77c5844218a9121ad0b5e27789": {
     "model_module": "@jupyter-widgets/controls",
     "model_module_version": "1.5.0",
     "model_name": "DescriptionStyleModel",
     "state": {
      "_model_module": "@jupyter-widgets/controls",
      "_model_module_version": "1.5.0",
      "_model_name": "DescriptionStyleModel",
      "_view_count": null,
      "_view_module": "@jupyter-widgets/base",
      "_view_module_version": "1.2.0",
      "_view_name": "StyleView",
      "description_width": ""
     }
    },
    "edf4cf57fcbc4b95b166c08157af311b": {
     "model_module": "@jupyter-widgets/controls",
     "model_module_version": "1.5.0",
     "model_name": "HTMLModel",
     "state": {
      "_dom_classes": [],
      "_model_module": "@jupyter-widgets/controls",
      "_model_module_version": "1.5.0",
      "_model_name": "HTMLModel",
      "_view_count": null,
      "_view_module": "@jupyter-widgets/controls",
      "_view_module_version": "1.5.0",
      "_view_name": "HTMLView",
      "description": "",
      "description_tooltip": null,
      "layout": "IPY_MODEL_d5bdce6a71e948a2b61da8d9b24af401",
      "placeholder": "​",
      "style": "IPY_MODEL_9c4851ca29ce4608a766053466a7a319",
      "value": "Downloading (…)olve/main/merges.txt: 100%"
     }
    },
    "f00cf66bedb64a85937879d21d53179a": {
     "model_module": "@jupyter-widgets/controls",
     "model_module_version": "1.5.0",
     "model_name": "HTMLModel",
     "state": {
      "_dom_classes": [],
      "_model_module": "@jupyter-widgets/controls",
      "_model_module_version": "1.5.0",
      "_model_name": "HTMLModel",
      "_view_count": null,
      "_view_module": "@jupyter-widgets/controls",
      "_view_module_version": "1.5.0",
      "_view_name": "HTMLView",
      "description": "",
      "description_tooltip": null,
      "layout": "IPY_MODEL_a71d134740e042be879da12df04f56e0",
      "placeholder": "​",
      "style": "IPY_MODEL_4b3efd4352a74a74995e3eaadf22d8ab",
      "value": " 456k/456k [00:00&lt;00:00, 718kB/s]"
     }
    },
    "f0e6c03b74ac42d48c9866851188c5a1": {
     "model_module": "@jupyter-widgets/controls",
     "model_module_version": "1.5.0",
     "model_name": "HBoxModel",
     "state": {
      "_dom_classes": [],
      "_model_module": "@jupyter-widgets/controls",
      "_model_module_version": "1.5.0",
      "_model_name": "HBoxModel",
      "_view_count": null,
      "_view_module": "@jupyter-widgets/controls",
      "_view_module_version": "1.5.0",
      "_view_name": "HBoxView",
      "box_style": "",
      "children": [
       "IPY_MODEL_8f92d607f8d843c9aacbba03a05765c3",
       "IPY_MODEL_04b236f5d6914c02846f466e932e6cf7",
       "IPY_MODEL_f2ee26bcb29042be842eb0b02c89ab25"
      ],
      "layout": "IPY_MODEL_7c251ce0c75d4dc298963872833c8c55"
     }
    },
    "f136c364abbd429387b7113bf885ad9b": {
     "model_module": "@jupyter-widgets/base",
     "model_module_version": "1.2.0",
     "model_name": "LayoutModel",
     "state": {
      "_model_module": "@jupyter-widgets/base",
      "_model_module_version": "1.2.0",
      "_model_name": "LayoutModel",
      "_view_count": null,
      "_view_module": "@jupyter-widgets/base",
      "_view_module_version": "1.2.0",
      "_view_name": "LayoutView",
      "align_content": null,
      "align_items": null,
      "align_self": null,
      "border": null,
      "bottom": null,
      "display": null,
      "flex": null,
      "flex_flow": null,
      "grid_area": null,
      "grid_auto_columns": null,
      "grid_auto_flow": null,
      "grid_auto_rows": null,
      "grid_column": null,
      "grid_gap": null,
      "grid_row": null,
      "grid_template_areas": null,
      "grid_template_columns": null,
      "grid_template_rows": null,
      "height": null,
      "justify_content": null,
      "justify_items": null,
      "left": null,
      "margin": null,
      "max_height": null,
      "max_width": null,
      "min_height": null,
      "min_width": null,
      "object_fit": null,
      "object_position": null,
      "order": null,
      "overflow": null,
      "overflow_x": null,
      "overflow_y": null,
      "padding": null,
      "right": null,
      "top": null,
      "visibility": null,
      "width": null
     }
    },
    "f2ee26bcb29042be842eb0b02c89ab25": {
     "model_module": "@jupyter-widgets/controls",
     "model_module_version": "1.5.0",
     "model_name": "HTMLModel",
     "state": {
      "_dom_classes": [],
      "_model_module": "@jupyter-widgets/controls",
      "_model_module_version": "1.5.0",
      "_model_name": "HTMLModel",
      "_view_count": null,
      "_view_module": "@jupyter-widgets/controls",
      "_view_module_version": "1.5.0",
      "_view_name": "HTMLView",
      "description": "",
      "description_tooltip": null,
      "layout": "IPY_MODEL_c5af1365663c404ca3e1fabd39ae0dc0",
      "placeholder": "​",
      "style": "IPY_MODEL_0a49a684bbb4499697b9ca9c7484c35d",
      "value": " 498M/498M [00:05&lt;00:00, 90.6MB/s]"
     }
    }
   }
  }
 },
 "nbformat": 4,
 "nbformat_minor": 1
}
