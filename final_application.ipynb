{
 "cells": [
  {
   "cell_type": "markdown",
   "metadata": {
    "id": "-33RDkIXM4eH"
   },
   "source": [
    "# Set up"
   ]
  },
  {
   "cell_type": "code",
   "execution_count": null,
   "metadata": {
    "colab": {
     "base_uri": "https://localhost:8080/"
    },
    "executionInfo": {
     "elapsed": 5095,
     "status": "ok",
     "timestamp": 1681657865487,
     "user": {
      "displayName": "Andrew Liu",
      "userId": "01750910414052279045"
     },
     "user_tz": 420
    },
    "id": "TLdM43FYKCTQ",
    "outputId": "e1f6688b-c7af-45fe-d26c-a9eebd131182"
   },
   "outputs": [
    {
     "name": "stderr",
     "output_type": "stream",
     "text": [
      "[nltk_data] Downloading package stopwords to /root/nltk_data...\n",
      "[nltk_data]   Unzipping corpora/stopwords.zip.\n"
     ]
    }
   ],
   "source": [
    "import pandas as pd\n",
    "import numpy as np\n",
    "import matplotlib.pyplot as plt\n",
    "\n",
    "import re, string\n",
    "import nltk\n",
    "nltk.download('stopwords')\n",
    "from nltk.corpus import stopwords\n",
    "\n",
    "from tensorflow import keras\n",
    "from keras.utils import to_categorical\n",
    "\n",
    "from sklearn.feature_extraction.text import TfidfVectorizer\n",
    "from sklearn.preprocessing import LabelEncoder\n",
    "\n",
    "from PIL import Image"
   ]
  },
  {
   "cell_type": "markdown",
   "metadata": {
    "id": "r_jejNcMvV5M"
   },
   "source": [
    "# Use image hashes for prediction\n",
    "\n",
    "Check to see if image hashes can be used to predict label groups for the test dataset."
   ]
  },
  {
   "cell_type": "code",
   "execution_count": null,
   "metadata": {
    "id": "C6OBTRDYwBPy"
   },
   "outputs": [],
   "source": [
    "train_df = pd.read_csv('train.csv')\n",
    "test_df = pd.read_csv('test_translated.csv')"
   ]
  },
  {
   "cell_type": "code",
   "execution_count": null,
   "metadata": {
    "id": "oBOwoYC2wePd"
   },
   "outputs": [],
   "source": [
    "# function to check the matching of image_phash in 2 dataset\n",
    "def check_phash(test_df, train_df):\n",
    "\n",
    "  # merge label_group from train_df into test_df only on rows\n",
    "  # where image_phash from train_df also exist in test_df\n",
    "  merged_df = pd.merge(test_df, train_df[['image_phash', 'label_group']],\n",
    "                       on = 'image_phash', how = 'inner')\n",
    "\n",
    "  # group merge_df by image_phash and aggregate the label_group as a list\n",
    "  # resulting dataframe has 2 columns:\n",
    "  # image_phash and label_group (containing a list of label_group with the same image_phash)\n",
    "  grouped_df = merged_df.groupby('image_phash',\n",
    "                                 group_keys = True)['label_group'].apply(list).reset_index()\n",
    "\n",
    "  # combine test_df with the new column containing\n",
    "  # lists of label_groups with the same image_phash\n",
    "  test_match = test_df.copy()\n",
    "  test_match = pd.merge(test_match, grouped_df,\n",
    "                          on = 'image_phash', how = 'left')\n",
    "  test_match.rename(columns = {'label_group': 'matching_labels'},\n",
    "                    inplace = True) # rename label_group to matching_labels\n",
    "\n",
    "\n",
    "  # check if any NA value in matching_labels column\n",
    "  if test_match['matching_labels'].isna().any():\n",
    "\n",
    "    # if yes, not all image_phashes in test_df have matching in train_df\n",
    "    # unable to predict label_group in test_df with image_phash\n",
    "    # return the records in test_df that need a model to predict label_group\n",
    "    non_null_mask = test_match['matching_labels'].notnull()\n",
    "    phash_nomatch = test_match.drop(index = test_match[non_null_mask].index)\n",
    "\n",
    "    print('\\033[1mCannot find label groups for these records.\\nPlease use model for prediction\\033[0m\\n')\n",
    "\n",
    "    return phash_nomatch\n",
    "\n",
    "  else:\n",
    "\n",
    "    # if no, all image_phashes in test_df have matching in train_df\n",
    "    # image_phashes can be used to predict label_group in test_df\n",
    "    # return the label_group prediction in a dataframe\n",
    "    phash_match = test_match.dropna(subset=['matching_labels'])\n",
    "\n",
    "    print('\\033[1mAll image hashes have been matched with appropriate label groups.\\nPlease proceed to look for matching posting ids\\033[0m\\n')\n",
    "\n",
    "    return phash_match"
   ]
  },
  {
   "cell_type": "code",
   "execution_count": null,
   "metadata": {
    "colab": {
     "base_uri": "https://localhost:8080/",
     "height": 486
    },
    "executionInfo": {
     "elapsed": 225,
     "status": "ok",
     "timestamp": 1681657850478,
     "user": {
      "displayName": "Andrew Liu",
      "userId": "01750910414052279045"
     },
     "user_tz": 420
    },
    "id": "6wBF6rZQwivK",
    "outputId": "2cae9fee-cca8-4d9e-e9cb-70098e7db2d5"
   },
   "outputs": [
    {
     "name": "stdout",
     "output_type": "stream",
     "text": [
      "\u001b[1mCannot find label groups for these records.\n",
      "Please use model for prediction\u001b[0m\n",
      "\n"
     ]
    },
    {
     "data": {
      "text/html": [
       "\n",
       "  <div id=\"df-8cc28a4b-ce53-4dda-bcb2-5971749fc40b\">\n",
       "    <div class=\"colab-df-container\">\n",
       "      <div>\n",
       "<style scoped>\n",
       "    .dataframe tbody tr th:only-of-type {\n",
       "        vertical-align: middle;\n",
       "    }\n",
       "\n",
       "    .dataframe tbody tr th {\n",
       "        vertical-align: top;\n",
       "    }\n",
       "\n",
       "    .dataframe thead th {\n",
       "        text-align: right;\n",
       "    }\n",
       "</style>\n",
       "<table border=\"1\" class=\"dataframe\">\n",
       "  <thead>\n",
       "    <tr style=\"text-align: right;\">\n",
       "      <th></th>\n",
       "      <th>Unnamed: 0</th>\n",
       "      <th>posting_id</th>\n",
       "      <th>image</th>\n",
       "      <th>image_phash</th>\n",
       "      <th>title</th>\n",
       "      <th>title_translate</th>\n",
       "      <th>matching_labels</th>\n",
       "    </tr>\n",
       "  </thead>\n",
       "  <tbody>\n",
       "    <tr>\n",
       "      <th>0</th>\n",
       "      <td>0</td>\n",
       "      <td>test_2255846744</td>\n",
       "      <td>0006c8e5462ae52167402bac1c2e916e.jpg</td>\n",
       "      <td>ecc292392dc7687a</td>\n",
       "      <td>Edufuntoys - CHARACTER PHONE ada lampu dan mus...</td>\n",
       "      <td>Edufuntoys - CHARACTER PHONE has lights and mu...</td>\n",
       "      <td>NaN</td>\n",
       "    </tr>\n",
       "    <tr>\n",
       "      <th>1</th>\n",
       "      <td>1</td>\n",
       "      <td>test_3588702337</td>\n",
       "      <td>0007585c4d0f932859339129f709bfdc.jpg</td>\n",
       "      <td>e9968f60d2699e2c</td>\n",
       "      <td>(Beli 1 Free Spatula) Masker Komedo | Blackhea...</td>\n",
       "      <td>(Buy 1 Free Spatula) Blackhead Mask | Blackhea...</td>\n",
       "      <td>NaN</td>\n",
       "    </tr>\n",
       "    <tr>\n",
       "      <th>2</th>\n",
       "      <td>2</td>\n",
       "      <td>test_4015706929</td>\n",
       "      <td>0008377d3662e83ef44e1881af38b879.jpg</td>\n",
       "      <td>ba81c17e3581cabe</td>\n",
       "      <td>READY Lemonilo Mie instant sehat kuah dan goreng</td>\n",
       "      <td>READY Lemonilo Healthy instant noodle soup and...</td>\n",
       "      <td>NaN</td>\n",
       "    </tr>\n",
       "  </tbody>\n",
       "</table>\n",
       "</div>\n",
       "      <button class=\"colab-df-convert\" onclick=\"convertToInteractive('df-8cc28a4b-ce53-4dda-bcb2-5971749fc40b')\"\n",
       "              title=\"Convert this dataframe to an interactive table.\"\n",
       "              style=\"display:none;\">\n",
       "        \n",
       "  <svg xmlns=\"http://www.w3.org/2000/svg\" height=\"24px\"viewBox=\"0 0 24 24\"\n",
       "       width=\"24px\">\n",
       "    <path d=\"M0 0h24v24H0V0z\" fill=\"none\"/>\n",
       "    <path d=\"M18.56 5.44l.94 2.06.94-2.06 2.06-.94-2.06-.94-.94-2.06-.94 2.06-2.06.94zm-11 1L8.5 8.5l.94-2.06 2.06-.94-2.06-.94L8.5 2.5l-.94 2.06-2.06.94zm10 10l.94 2.06.94-2.06 2.06-.94-2.06-.94-.94-2.06-.94 2.06-2.06.94z\"/><path d=\"M17.41 7.96l-1.37-1.37c-.4-.4-.92-.59-1.43-.59-.52 0-1.04.2-1.43.59L10.3 9.45l-7.72 7.72c-.78.78-.78 2.05 0 2.83L4 21.41c.39.39.9.59 1.41.59.51 0 1.02-.2 1.41-.59l7.78-7.78 2.81-2.81c.8-.78.8-2.07 0-2.86zM5.41 20L4 18.59l7.72-7.72 1.47 1.35L5.41 20z\"/>\n",
       "  </svg>\n",
       "      </button>\n",
       "      \n",
       "  <style>\n",
       "    .colab-df-container {\n",
       "      display:flex;\n",
       "      flex-wrap:wrap;\n",
       "      gap: 12px;\n",
       "    }\n",
       "\n",
       "    .colab-df-convert {\n",
       "      background-color: #E8F0FE;\n",
       "      border: none;\n",
       "      border-radius: 50%;\n",
       "      cursor: pointer;\n",
       "      display: none;\n",
       "      fill: #1967D2;\n",
       "      height: 32px;\n",
       "      padding: 0 0 0 0;\n",
       "      width: 32px;\n",
       "    }\n",
       "\n",
       "    .colab-df-convert:hover {\n",
       "      background-color: #E2EBFA;\n",
       "      box-shadow: 0px 1px 2px rgba(60, 64, 67, 0.3), 0px 1px 3px 1px rgba(60, 64, 67, 0.15);\n",
       "      fill: #174EA6;\n",
       "    }\n",
       "\n",
       "    [theme=dark] .colab-df-convert {\n",
       "      background-color: #3B4455;\n",
       "      fill: #D2E3FC;\n",
       "    }\n",
       "\n",
       "    [theme=dark] .colab-df-convert:hover {\n",
       "      background-color: #434B5C;\n",
       "      box-shadow: 0px 1px 3px 1px rgba(0, 0, 0, 0.15);\n",
       "      filter: drop-shadow(0px 1px 2px rgba(0, 0, 0, 0.3));\n",
       "      fill: #FFFFFF;\n",
       "    }\n",
       "  </style>\n",
       "\n",
       "      <script>\n",
       "        const buttonEl =\n",
       "          document.querySelector('#df-8cc28a4b-ce53-4dda-bcb2-5971749fc40b button.colab-df-convert');\n",
       "        buttonEl.style.display =\n",
       "          google.colab.kernel.accessAllowed ? 'block' : 'none';\n",
       "\n",
       "        async function convertToInteractive(key) {\n",
       "          const element = document.querySelector('#df-8cc28a4b-ce53-4dda-bcb2-5971749fc40b');\n",
       "          const dataTable =\n",
       "            await google.colab.kernel.invokeFunction('convertToInteractive',\n",
       "                                                     [key], {});\n",
       "          if (!dataTable) return;\n",
       "\n",
       "          const docLinkHtml = 'Like what you see? Visit the ' +\n",
       "            '<a target=\"_blank\" href=https://colab.research.google.com/notebooks/data_table.ipynb>data table notebook</a>'\n",
       "            + ' to learn more about interactive tables.';\n",
       "          element.innerHTML = '';\n",
       "          dataTable['output_type'] = 'display_data';\n",
       "          await google.colab.output.renderOutput(dataTable, element);\n",
       "          const docLink = document.createElement('div');\n",
       "          docLink.innerHTML = docLinkHtml;\n",
       "          element.appendChild(docLink);\n",
       "        }\n",
       "      </script>\n",
       "    </div>\n",
       "  </div>\n",
       "  "
      ],
      "text/plain": [
       "   Unnamed: 0       posting_id                                 image  \\\n",
       "0           0  test_2255846744  0006c8e5462ae52167402bac1c2e916e.jpg   \n",
       "1           1  test_3588702337  0007585c4d0f932859339129f709bfdc.jpg   \n",
       "2           2  test_4015706929  0008377d3662e83ef44e1881af38b879.jpg   \n",
       "\n",
       "        image_phash                                              title  \\\n",
       "0  ecc292392dc7687a  Edufuntoys - CHARACTER PHONE ada lampu dan mus...   \n",
       "1  e9968f60d2699e2c  (Beli 1 Free Spatula) Masker Komedo | Blackhea...   \n",
       "2  ba81c17e3581cabe   READY Lemonilo Mie instant sehat kuah dan goreng   \n",
       "\n",
       "                                     title_translate  matching_labels  \n",
       "0  Edufuntoys - CHARACTER PHONE has lights and mu...              NaN  \n",
       "1  (Buy 1 Free Spatula) Blackhead Mask | Blackhea...              NaN  \n",
       "2  READY Lemonilo Healthy instant noodle soup and...              NaN  "
      ]
     },
     "execution_count": 6,
     "metadata": {},
     "output_type": "execute_result"
    }
   ],
   "source": [
    "match_result = check_phash(test_df = test_df, train_df = train_df)\n",
    "match_result"
   ]
  },
  {
   "cell_type": "markdown",
   "metadata": {
    "id": "yMQQLiE9yAG9"
   },
   "source": [
    "# Use model for prediction"
   ]
  },
  {
   "cell_type": "markdown",
   "metadata": {
    "id": "OTHYVvuiF-1e"
   },
   "source": [
    "## Load model\n",
    "\n",
    "Loading the trained TF-IDF - CNN model that takes both titles and images as inputs to predict the label groups"
   ]
  },
  {
   "cell_type": "code",
   "execution_count": null,
   "metadata": {
    "id": "KE-EkSqIDzaU"
   },
   "outputs": [],
   "source": [
    "model = keras.models.load_model('final_model.h5')"
   ]
  },
  {
   "cell_type": "markdown",
   "metadata": {
    "id": "G5mDhPJ23U1G"
   },
   "source": [
    "## Load data"
   ]
  },
  {
   "cell_type": "markdown",
   "metadata": {
    "id": "GO7cCuJNnj-o"
   },
   "source": [
    "### Datasets"
   ]
  },
  {
   "cell_type": "code",
   "execution_count": null,
   "metadata": {
    "colab": {
     "base_uri": "https://localhost:8080/",
     "height": 343
    },
    "executionInfo": {
     "elapsed": 847,
     "status": "ok",
     "timestamp": 1681657920718,
     "user": {
      "displayName": "Andrew Liu",
      "userId": "01750910414052279045"
     },
     "user_tz": 420
    },
    "id": "cSlhvcg43XXr",
    "outputId": "9835b7fb-c9b4-4615-aacd-22a6d7839211"
   },
   "outputs": [
    {
     "data": {
      "text/html": [
       "\n",
       "  <div id=\"df-d737c8ea-c24a-4f14-b353-c00f3fff6a1b\">\n",
       "    <div class=\"colab-df-container\">\n",
       "      <div>\n",
       "<style scoped>\n",
       "    .dataframe tbody tr th:only-of-type {\n",
       "        vertical-align: middle;\n",
       "    }\n",
       "\n",
       "    .dataframe tbody tr th {\n",
       "        vertical-align: top;\n",
       "    }\n",
       "\n",
       "    .dataframe thead th {\n",
       "        text-align: right;\n",
       "    }\n",
       "</style>\n",
       "<table border=\"1\" class=\"dataframe\">\n",
       "  <thead>\n",
       "    <tr style=\"text-align: right;\">\n",
       "      <th></th>\n",
       "      <th>posting_id</th>\n",
       "      <th>image</th>\n",
       "      <th>image_phash</th>\n",
       "      <th>title</th>\n",
       "      <th>label_group</th>\n",
       "      <th>title_translate</th>\n",
       "    </tr>\n",
       "  </thead>\n",
       "  <tbody>\n",
       "    <tr>\n",
       "      <th>0</th>\n",
       "      <td>train_129225211</td>\n",
       "      <td>0000a68812bc7e98c42888dfb1c07da0.jpg</td>\n",
       "      <td>94974f937d4c2433</td>\n",
       "      <td>Paper Bag Victoria Secret</td>\n",
       "      <td>249114794</td>\n",
       "      <td>Victoria's Secret Paper Bag</td>\n",
       "    </tr>\n",
       "    <tr>\n",
       "      <th>1</th>\n",
       "      <td>train_3386243561</td>\n",
       "      <td>00039780dfc94d01db8676fe789ecd05.jpg</td>\n",
       "      <td>af3f9460c2838f0f</td>\n",
       "      <td>Double Tape 3M VHB 12 mm x 4,5 m ORIGINAL / DO...</td>\n",
       "      <td>2937985045</td>\n",
       "      <td>Double Tape 3M VHB 12 mm x 4.5 m ORIGINAL / DO...</td>\n",
       "    </tr>\n",
       "    <tr>\n",
       "      <th>2</th>\n",
       "      <td>train_2288590299</td>\n",
       "      <td>000a190fdd715a2a36faed16e2c65df7.jpg</td>\n",
       "      <td>b94cb00ed3e50f78</td>\n",
       "      <td>Maling TTS Canned Pork Luncheon Meat 397 gr</td>\n",
       "      <td>2395904891</td>\n",
       "      <td>Maling TTS Canned Pork Luncheon Meat 397 gr</td>\n",
       "    </tr>\n",
       "  </tbody>\n",
       "</table>\n",
       "</div>\n",
       "      <button class=\"colab-df-convert\" onclick=\"convertToInteractive('df-d737c8ea-c24a-4f14-b353-c00f3fff6a1b')\"\n",
       "              title=\"Convert this dataframe to an interactive table.\"\n",
       "              style=\"display:none;\">\n",
       "        \n",
       "  <svg xmlns=\"http://www.w3.org/2000/svg\" height=\"24px\"viewBox=\"0 0 24 24\"\n",
       "       width=\"24px\">\n",
       "    <path d=\"M0 0h24v24H0V0z\" fill=\"none\"/>\n",
       "    <path d=\"M18.56 5.44l.94 2.06.94-2.06 2.06-.94-2.06-.94-.94-2.06-.94 2.06-2.06.94zm-11 1L8.5 8.5l.94-2.06 2.06-.94-2.06-.94L8.5 2.5l-.94 2.06-2.06.94zm10 10l.94 2.06.94-2.06 2.06-.94-2.06-.94-.94-2.06-.94 2.06-2.06.94z\"/><path d=\"M17.41 7.96l-1.37-1.37c-.4-.4-.92-.59-1.43-.59-.52 0-1.04.2-1.43.59L10.3 9.45l-7.72 7.72c-.78.78-.78 2.05 0 2.83L4 21.41c.39.39.9.59 1.41.59.51 0 1.02-.2 1.41-.59l7.78-7.78 2.81-2.81c.8-.78.8-2.07 0-2.86zM5.41 20L4 18.59l7.72-7.72 1.47 1.35L5.41 20z\"/>\n",
       "  </svg>\n",
       "      </button>\n",
       "      \n",
       "  <style>\n",
       "    .colab-df-container {\n",
       "      display:flex;\n",
       "      flex-wrap:wrap;\n",
       "      gap: 12px;\n",
       "    }\n",
       "\n",
       "    .colab-df-convert {\n",
       "      background-color: #E8F0FE;\n",
       "      border: none;\n",
       "      border-radius: 50%;\n",
       "      cursor: pointer;\n",
       "      display: none;\n",
       "      fill: #1967D2;\n",
       "      height: 32px;\n",
       "      padding: 0 0 0 0;\n",
       "      width: 32px;\n",
       "    }\n",
       "\n",
       "    .colab-df-convert:hover {\n",
       "      background-color: #E2EBFA;\n",
       "      box-shadow: 0px 1px 2px rgba(60, 64, 67, 0.3), 0px 1px 3px 1px rgba(60, 64, 67, 0.15);\n",
       "      fill: #174EA6;\n",
       "    }\n",
       "\n",
       "    [theme=dark] .colab-df-convert {\n",
       "      background-color: #3B4455;\n",
       "      fill: #D2E3FC;\n",
       "    }\n",
       "\n",
       "    [theme=dark] .colab-df-convert:hover {\n",
       "      background-color: #434B5C;\n",
       "      box-shadow: 0px 1px 3px 1px rgba(0, 0, 0, 0.15);\n",
       "      filter: drop-shadow(0px 1px 2px rgba(0, 0, 0, 0.3));\n",
       "      fill: #FFFFFF;\n",
       "    }\n",
       "  </style>\n",
       "\n",
       "      <script>\n",
       "        const buttonEl =\n",
       "          document.querySelector('#df-d737c8ea-c24a-4f14-b353-c00f3fff6a1b button.colab-df-convert');\n",
       "        buttonEl.style.display =\n",
       "          google.colab.kernel.accessAllowed ? 'block' : 'none';\n",
       "\n",
       "        async function convertToInteractive(key) {\n",
       "          const element = document.querySelector('#df-d737c8ea-c24a-4f14-b353-c00f3fff6a1b');\n",
       "          const dataTable =\n",
       "            await google.colab.kernel.invokeFunction('convertToInteractive',\n",
       "                                                     [key], {});\n",
       "          if (!dataTable) return;\n",
       "\n",
       "          const docLinkHtml = 'Like what you see? Visit the ' +\n",
       "            '<a target=\"_blank\" href=https://colab.research.google.com/notebooks/data_table.ipynb>data table notebook</a>'\n",
       "            + ' to learn more about interactive tables.';\n",
       "          element.innerHTML = '';\n",
       "          dataTable['output_type'] = 'display_data';\n",
       "          await google.colab.output.renderOutput(dataTable, element);\n",
       "          const docLink = document.createElement('div');\n",
       "          docLink.innerHTML = docLinkHtml;\n",
       "          element.appendChild(docLink);\n",
       "        }\n",
       "      </script>\n",
       "    </div>\n",
       "  </div>\n",
       "  "
      ],
      "text/plain": [
       "         posting_id                                 image       image_phash  \\\n",
       "0   train_129225211  0000a68812bc7e98c42888dfb1c07da0.jpg  94974f937d4c2433   \n",
       "1  train_3386243561  00039780dfc94d01db8676fe789ecd05.jpg  af3f9460c2838f0f   \n",
       "2  train_2288590299  000a190fdd715a2a36faed16e2c65df7.jpg  b94cb00ed3e50f78   \n",
       "\n",
       "                                               title  label_group  \\\n",
       "0                          Paper Bag Victoria Secret    249114794   \n",
       "1  Double Tape 3M VHB 12 mm x 4,5 m ORIGINAL / DO...   2937985045   \n",
       "2        Maling TTS Canned Pork Luncheon Meat 397 gr   2395904891   \n",
       "\n",
       "                                     title_translate  \n",
       "0                        Victoria's Secret Paper Bag  \n",
       "1  Double Tape 3M VHB 12 mm x 4.5 m ORIGINAL / DO...  \n",
       "2        Maling TTS Canned Pork Luncheon Meat 397 gr  "
      ]
     },
     "execution_count": 9,
     "metadata": {},
     "output_type": "execute_result"
    }
   ],
   "source": [
    "# train\n",
    "train = pd.read_csv('final_train.csv')\n",
    "train.set_index(train.columns[0], inplace = True)\n",
    "train.index.name = None\n",
    "train.head(3)"
   ]
  },
  {
   "cell_type": "code",
   "execution_count": null,
   "metadata": {
    "colab": {
     "base_uri": "https://localhost:8080/",
     "height": 395
    },
    "executionInfo": {
     "elapsed": 444,
     "status": "ok",
     "timestamp": 1681657922125,
     "user": {
      "displayName": "Andrew Liu",
      "userId": "01750910414052279045"
     },
     "user_tz": 420
    },
    "id": "LwkTlzige5ej",
    "outputId": "3a5fff37-9947-4988-d975-0ac926332d5e"
   },
   "outputs": [
    {
     "data": {
      "text/html": [
       "\n",
       "  <div id=\"df-36cbff5b-45a3-4b07-abda-1a364ad66eb7\">\n",
       "    <div class=\"colab-df-container\">\n",
       "      <div>\n",
       "<style scoped>\n",
       "    .dataframe tbody tr th:only-of-type {\n",
       "        vertical-align: middle;\n",
       "    }\n",
       "\n",
       "    .dataframe tbody tr th {\n",
       "        vertical-align: top;\n",
       "    }\n",
       "\n",
       "    .dataframe thead th {\n",
       "        text-align: right;\n",
       "    }\n",
       "</style>\n",
       "<table border=\"1\" class=\"dataframe\">\n",
       "  <thead>\n",
       "    <tr style=\"text-align: right;\">\n",
       "      <th></th>\n",
       "      <th>posting_id</th>\n",
       "      <th>image</th>\n",
       "      <th>image_phash</th>\n",
       "      <th>title</th>\n",
       "      <th>label_group</th>\n",
       "      <th>title_translate</th>\n",
       "    </tr>\n",
       "  </thead>\n",
       "  <tbody>\n",
       "    <tr>\n",
       "      <th>11443</th>\n",
       "      <td>train_1003554842</td>\n",
       "      <td>560a5c3577fb22be2ac82c0e97558158.jpg</td>\n",
       "      <td>f3c78fce8c3050f0</td>\n",
       "      <td>Mustika  Ratu Minyak Cem-Ceman 175 ml</td>\n",
       "      <td>3044373336</td>\n",
       "      <td>Mustika Ratu Oil Cem-Ceman 175 ml</td>\n",
       "    </tr>\n",
       "    <tr>\n",
       "      <th>29516</th>\n",
       "      <td>train_523363809</td>\n",
       "      <td>dd1f14c7a734ff28b67062ae4f8529c6.jpg</td>\n",
       "      <td>af919a66c49d688b</td>\n",
       "      <td>Snobby Kelambu Box Bayi Snobby 1 Tiang KBX 1201</td>\n",
       "      <td>873493898</td>\n",
       "      <td>Snobby Baby Mosquito Net Snobby 1 Pole KBX 1201</td>\n",
       "    </tr>\n",
       "    <tr>\n",
       "      <th>6976</th>\n",
       "      <td>train_1036373061</td>\n",
       "      <td>34b4aa697f4606fcf52ec74f53c9f246.jpg</td>\n",
       "      <td>dc132bece40552db</td>\n",
       "      <td>stopper mini</td>\n",
       "      <td>578575602</td>\n",
       "      <td>mini stoppers</td>\n",
       "    </tr>\n",
       "  </tbody>\n",
       "</table>\n",
       "</div>\n",
       "      <button class=\"colab-df-convert\" onclick=\"convertToInteractive('df-36cbff5b-45a3-4b07-abda-1a364ad66eb7')\"\n",
       "              title=\"Convert this dataframe to an interactive table.\"\n",
       "              style=\"display:none;\">\n",
       "        \n",
       "  <svg xmlns=\"http://www.w3.org/2000/svg\" height=\"24px\"viewBox=\"0 0 24 24\"\n",
       "       width=\"24px\">\n",
       "    <path d=\"M0 0h24v24H0V0z\" fill=\"none\"/>\n",
       "    <path d=\"M18.56 5.44l.94 2.06.94-2.06 2.06-.94-2.06-.94-.94-2.06-.94 2.06-2.06.94zm-11 1L8.5 8.5l.94-2.06 2.06-.94-2.06-.94L8.5 2.5l-.94 2.06-2.06.94zm10 10l.94 2.06.94-2.06 2.06-.94-2.06-.94-.94-2.06-.94 2.06-2.06.94z\"/><path d=\"M17.41 7.96l-1.37-1.37c-.4-.4-.92-.59-1.43-.59-.52 0-1.04.2-1.43.59L10.3 9.45l-7.72 7.72c-.78.78-.78 2.05 0 2.83L4 21.41c.39.39.9.59 1.41.59.51 0 1.02-.2 1.41-.59l7.78-7.78 2.81-2.81c.8-.78.8-2.07 0-2.86zM5.41 20L4 18.59l7.72-7.72 1.47 1.35L5.41 20z\"/>\n",
       "  </svg>\n",
       "      </button>\n",
       "      \n",
       "  <style>\n",
       "    .colab-df-container {\n",
       "      display:flex;\n",
       "      flex-wrap:wrap;\n",
       "      gap: 12px;\n",
       "    }\n",
       "\n",
       "    .colab-df-convert {\n",
       "      background-color: #E8F0FE;\n",
       "      border: none;\n",
       "      border-radius: 50%;\n",
       "      cursor: pointer;\n",
       "      display: none;\n",
       "      fill: #1967D2;\n",
       "      height: 32px;\n",
       "      padding: 0 0 0 0;\n",
       "      width: 32px;\n",
       "    }\n",
       "\n",
       "    .colab-df-convert:hover {\n",
       "      background-color: #E2EBFA;\n",
       "      box-shadow: 0px 1px 2px rgba(60, 64, 67, 0.3), 0px 1px 3px 1px rgba(60, 64, 67, 0.15);\n",
       "      fill: #174EA6;\n",
       "    }\n",
       "\n",
       "    [theme=dark] .colab-df-convert {\n",
       "      background-color: #3B4455;\n",
       "      fill: #D2E3FC;\n",
       "    }\n",
       "\n",
       "    [theme=dark] .colab-df-convert:hover {\n",
       "      background-color: #434B5C;\n",
       "      box-shadow: 0px 1px 3px 1px rgba(0, 0, 0, 0.15);\n",
       "      filter: drop-shadow(0px 1px 2px rgba(0, 0, 0, 0.3));\n",
       "      fill: #FFFFFF;\n",
       "    }\n",
       "  </style>\n",
       "\n",
       "      <script>\n",
       "        const buttonEl =\n",
       "          document.querySelector('#df-36cbff5b-45a3-4b07-abda-1a364ad66eb7 button.colab-df-convert');\n",
       "        buttonEl.style.display =\n",
       "          google.colab.kernel.accessAllowed ? 'block' : 'none';\n",
       "\n",
       "        async function convertToInteractive(key) {\n",
       "          const element = document.querySelector('#df-36cbff5b-45a3-4b07-abda-1a364ad66eb7');\n",
       "          const dataTable =\n",
       "            await google.colab.kernel.invokeFunction('convertToInteractive',\n",
       "                                                     [key], {});\n",
       "          if (!dataTable) return;\n",
       "\n",
       "          const docLinkHtml = 'Like what you see? Visit the ' +\n",
       "            '<a target=\"_blank\" href=https://colab.research.google.com/notebooks/data_table.ipynb>data table notebook</a>'\n",
       "            + ' to learn more about interactive tables.';\n",
       "          element.innerHTML = '';\n",
       "          dataTable['output_type'] = 'display_data';\n",
       "          await google.colab.output.renderOutput(dataTable, element);\n",
       "          const docLink = document.createElement('div');\n",
       "          docLink.innerHTML = docLinkHtml;\n",
       "          element.appendChild(docLink);\n",
       "        }\n",
       "      </script>\n",
       "    </div>\n",
       "  </div>\n",
       "  "
      ],
      "text/plain": [
       "             posting_id                                 image  \\\n",
       "11443  train_1003554842  560a5c3577fb22be2ac82c0e97558158.jpg   \n",
       "29516   train_523363809  dd1f14c7a734ff28b67062ae4f8529c6.jpg   \n",
       "6976   train_1036373061  34b4aa697f4606fcf52ec74f53c9f246.jpg   \n",
       "\n",
       "            image_phash                                            title  \\\n",
       "11443  f3c78fce8c3050f0            Mustika  Ratu Minyak Cem-Ceman 175 ml   \n",
       "29516  af919a66c49d688b  Snobby Kelambu Box Bayi Snobby 1 Tiang KBX 1201   \n",
       "6976   dc132bece40552db                                     stopper mini   \n",
       "\n",
       "       label_group                                  title_translate  \n",
       "11443   3044373336                Mustika Ratu Oil Cem-Ceman 175 ml  \n",
       "29516    873493898  Snobby Baby Mosquito Net Snobby 1 Pole KBX 1201  \n",
       "6976     578575602                                    mini stoppers  "
      ]
     },
     "execution_count": 10,
     "metadata": {},
     "output_type": "execute_result"
    }
   ],
   "source": [
    "# validation\n",
    "validation = pd.read_csv('final_validation.csv')\n",
    "validation.set_index(validation.columns[0], inplace = True)\n",
    "validation.index.name = None\n",
    "validation.head(3)"
   ]
  },
  {
   "cell_type": "code",
   "execution_count": null,
   "metadata": {
    "colab": {
     "base_uri": "https://localhost:8080/",
     "height": 291
    },
    "executionInfo": {
     "elapsed": 211,
     "status": "ok",
     "timestamp": 1681657927509,
     "user": {
      "displayName": "Andrew Liu",
      "userId": "01750910414052279045"
     },
     "user_tz": 420
    },
    "id": "qZ0L-3mWnS0Y",
    "outputId": "d7a469ed-e73c-44bf-dcf9-38a7e5401845"
   },
   "outputs": [
    {
     "data": {
      "text/html": [
       "\n",
       "  <div id=\"df-8d8ac907-7e70-4566-ba1d-b870e24a5560\">\n",
       "    <div class=\"colab-df-container\">\n",
       "      <div>\n",
       "<style scoped>\n",
       "    .dataframe tbody tr th:only-of-type {\n",
       "        vertical-align: middle;\n",
       "    }\n",
       "\n",
       "    .dataframe tbody tr th {\n",
       "        vertical-align: top;\n",
       "    }\n",
       "\n",
       "    .dataframe thead th {\n",
       "        text-align: right;\n",
       "    }\n",
       "</style>\n",
       "<table border=\"1\" class=\"dataframe\">\n",
       "  <thead>\n",
       "    <tr style=\"text-align: right;\">\n",
       "      <th></th>\n",
       "      <th>posting_id</th>\n",
       "      <th>image</th>\n",
       "      <th>image_phash</th>\n",
       "      <th>title</th>\n",
       "      <th>title_translate</th>\n",
       "    </tr>\n",
       "  </thead>\n",
       "  <tbody>\n",
       "    <tr>\n",
       "      <th>0</th>\n",
       "      <td>test_2255846744</td>\n",
       "      <td>0006c8e5462ae52167402bac1c2e916e.jpg</td>\n",
       "      <td>ecc292392dc7687a</td>\n",
       "      <td>Edufuntoys - CHARACTER PHONE ada lampu dan mus...</td>\n",
       "      <td>Edufuntoys - CHARACTER PHONE has lights and mu...</td>\n",
       "    </tr>\n",
       "    <tr>\n",
       "      <th>1</th>\n",
       "      <td>test_3588702337</td>\n",
       "      <td>0007585c4d0f932859339129f709bfdc.jpg</td>\n",
       "      <td>e9968f60d2699e2c</td>\n",
       "      <td>(Beli 1 Free Spatula) Masker Komedo | Blackhea...</td>\n",
       "      <td>(Buy 1 Free Spatula) Blackhead Mask | Blackhea...</td>\n",
       "    </tr>\n",
       "    <tr>\n",
       "      <th>2</th>\n",
       "      <td>test_4015706929</td>\n",
       "      <td>0008377d3662e83ef44e1881af38b879.jpg</td>\n",
       "      <td>ba81c17e3581cabe</td>\n",
       "      <td>READY Lemonilo Mie instant sehat kuah dan goreng</td>\n",
       "      <td>READY Lemonilo Healthy instant noodle soup and...</td>\n",
       "    </tr>\n",
       "  </tbody>\n",
       "</table>\n",
       "</div>\n",
       "      <button class=\"colab-df-convert\" onclick=\"convertToInteractive('df-8d8ac907-7e70-4566-ba1d-b870e24a5560')\"\n",
       "              title=\"Convert this dataframe to an interactive table.\"\n",
       "              style=\"display:none;\">\n",
       "        \n",
       "  <svg xmlns=\"http://www.w3.org/2000/svg\" height=\"24px\"viewBox=\"0 0 24 24\"\n",
       "       width=\"24px\">\n",
       "    <path d=\"M0 0h24v24H0V0z\" fill=\"none\"/>\n",
       "    <path d=\"M18.56 5.44l.94 2.06.94-2.06 2.06-.94-2.06-.94-.94-2.06-.94 2.06-2.06.94zm-11 1L8.5 8.5l.94-2.06 2.06-.94-2.06-.94L8.5 2.5l-.94 2.06-2.06.94zm10 10l.94 2.06.94-2.06 2.06-.94-2.06-.94-.94-2.06-.94 2.06-2.06.94z\"/><path d=\"M17.41 7.96l-1.37-1.37c-.4-.4-.92-.59-1.43-.59-.52 0-1.04.2-1.43.59L10.3 9.45l-7.72 7.72c-.78.78-.78 2.05 0 2.83L4 21.41c.39.39.9.59 1.41.59.51 0 1.02-.2 1.41-.59l7.78-7.78 2.81-2.81c.8-.78.8-2.07 0-2.86zM5.41 20L4 18.59l7.72-7.72 1.47 1.35L5.41 20z\"/>\n",
       "  </svg>\n",
       "      </button>\n",
       "      \n",
       "  <style>\n",
       "    .colab-df-container {\n",
       "      display:flex;\n",
       "      flex-wrap:wrap;\n",
       "      gap: 12px;\n",
       "    }\n",
       "\n",
       "    .colab-df-convert {\n",
       "      background-color: #E8F0FE;\n",
       "      border: none;\n",
       "      border-radius: 50%;\n",
       "      cursor: pointer;\n",
       "      display: none;\n",
       "      fill: #1967D2;\n",
       "      height: 32px;\n",
       "      padding: 0 0 0 0;\n",
       "      width: 32px;\n",
       "    }\n",
       "\n",
       "    .colab-df-convert:hover {\n",
       "      background-color: #E2EBFA;\n",
       "      box-shadow: 0px 1px 2px rgba(60, 64, 67, 0.3), 0px 1px 3px 1px rgba(60, 64, 67, 0.15);\n",
       "      fill: #174EA6;\n",
       "    }\n",
       "\n",
       "    [theme=dark] .colab-df-convert {\n",
       "      background-color: #3B4455;\n",
       "      fill: #D2E3FC;\n",
       "    }\n",
       "\n",
       "    [theme=dark] .colab-df-convert:hover {\n",
       "      background-color: #434B5C;\n",
       "      box-shadow: 0px 1px 3px 1px rgba(0, 0, 0, 0.15);\n",
       "      filter: drop-shadow(0px 1px 2px rgba(0, 0, 0, 0.3));\n",
       "      fill: #FFFFFF;\n",
       "    }\n",
       "  </style>\n",
       "\n",
       "      <script>\n",
       "        const buttonEl =\n",
       "          document.querySelector('#df-8d8ac907-7e70-4566-ba1d-b870e24a5560 button.colab-df-convert');\n",
       "        buttonEl.style.display =\n",
       "          google.colab.kernel.accessAllowed ? 'block' : 'none';\n",
       "\n",
       "        async function convertToInteractive(key) {\n",
       "          const element = document.querySelector('#df-8d8ac907-7e70-4566-ba1d-b870e24a5560');\n",
       "          const dataTable =\n",
       "            await google.colab.kernel.invokeFunction('convertToInteractive',\n",
       "                                                     [key], {});\n",
       "          if (!dataTable) return;\n",
       "\n",
       "          const docLinkHtml = 'Like what you see? Visit the ' +\n",
       "            '<a target=\"_blank\" href=https://colab.research.google.com/notebooks/data_table.ipynb>data table notebook</a>'\n",
       "            + ' to learn more about interactive tables.';\n",
       "          element.innerHTML = '';\n",
       "          dataTable['output_type'] = 'display_data';\n",
       "          await google.colab.output.renderOutput(dataTable, element);\n",
       "          const docLink = document.createElement('div');\n",
       "          docLink.innerHTML = docLinkHtml;\n",
       "          element.appendChild(docLink);\n",
       "        }\n",
       "      </script>\n",
       "    </div>\n",
       "  </div>\n",
       "  "
      ],
      "text/plain": [
       "        posting_id                                 image       image_phash  \\\n",
       "0  test_2255846744  0006c8e5462ae52167402bac1c2e916e.jpg  ecc292392dc7687a   \n",
       "1  test_3588702337  0007585c4d0f932859339129f709bfdc.jpg  e9968f60d2699e2c   \n",
       "2  test_4015706929  0008377d3662e83ef44e1881af38b879.jpg  ba81c17e3581cabe   \n",
       "\n",
       "                                               title  \\\n",
       "0  Edufuntoys - CHARACTER PHONE ada lampu dan mus...   \n",
       "1  (Beli 1 Free Spatula) Masker Komedo | Blackhea...   \n",
       "2   READY Lemonilo Mie instant sehat kuah dan goreng   \n",
       "\n",
       "                                     title_translate  \n",
       "0  Edufuntoys - CHARACTER PHONE has lights and mu...  \n",
       "1  (Buy 1 Free Spatula) Blackhead Mask | Blackhea...  \n",
       "2  READY Lemonilo Healthy instant noodle soup and...  "
      ]
     },
     "execution_count": 11,
     "metadata": {},
     "output_type": "execute_result"
    }
   ],
   "source": [
    "# test\n",
    "test = match_result.copy()\n",
    "test.set_index(test.columns[0], inplace = True)\n",
    "test.index.name = None\n",
    "test.drop(['matching_labels'], axis = 1, inplace = True)\n",
    "test.head()"
   ]
  },
  {
   "cell_type": "markdown",
   "metadata": {
    "id": "kyLvnNSzwgAn"
   },
   "source": [
    "### Test Images\n",
    "\n",
    "Load the test images as numpy arrays"
   ]
  },
  {
   "cell_type": "code",
   "execution_count": null,
   "metadata": {
    "id": "7AC-cacuaNuB"
   },
   "outputs": [],
   "source": [
    "# define a function to load the images and convert them to numpy arrays\n",
    "path = 'kaggle/test_images/'\n",
    "\n",
    "def load_image(file_name):\n",
    "    img = Image.open(path + file_name)\n",
    "    fixed_size = (64, 64) # set the desired fixed size\n",
    "    img = img.resize(fixed_size)\n",
    "    img_array = np.array(img)\n",
    "    return img_array"
   ]
  },
  {
   "cell_type": "code",
   "execution_count": null,
   "metadata": {
    "id": "tHqnndD-eEV2"
   },
   "outputs": [],
   "source": [
    "# apply the load_image function to the test images\n",
    "test['image_array'] = test['image'].apply(lambda x: load_image(x))"
   ]
  },
  {
   "cell_type": "code",
   "execution_count": null,
   "metadata": {
    "colab": {
     "base_uri": "https://localhost:8080/"
    },
    "executionInfo": {
     "elapsed": 5,
     "status": "ok",
     "timestamp": 1681657929755,
     "user": {
      "displayName": "Andrew Liu",
      "userId": "01750910414052279045"
     },
     "user_tz": 420
    },
    "id": "75zefK47ZKlh",
    "outputId": "024c35a5-e439-4c4e-8cf3-8480eec2ea32"
   },
   "outputs": [
    {
     "data": {
      "text/plain": [
       "(3,)"
      ]
     },
     "execution_count": 14,
     "metadata": {},
     "output_type": "execute_result"
    }
   ],
   "source": [
    "test['image_array'].shape"
   ]
  },
  {
   "cell_type": "markdown",
   "metadata": {
    "id": "SRWyVoksrdYQ"
   },
   "source": [
    "## Pre-process Inputs"
   ]
  },
  {
   "cell_type": "markdown",
   "metadata": {
    "id": "XE62q_uZyju-"
   },
   "source": [
    "### Titles\n",
    "**CLEANING**"
   ]
  },
  {
   "cell_type": "code",
   "execution_count": null,
   "metadata": {
    "id": "Vx7eraXuuKl7"
   },
   "outputs": [],
   "source": [
    "# function to clean the translated titles before embedding\n",
    "def clean_title(title):\n",
    "    # remove all non-alphanumeric characters and convert to lowercase\n",
    "    clean1 = re.sub(r'[^a-zA-Z0-9\\s]', '', title).lower()\n",
    "    # split the cleaned string into words\n",
    "    clean2 = re.split('\\W+', clean1)\n",
    "    # remove stopwords and short words\n",
    "    title_cleaned = [word for word in clean2 if (word not in stopwords.words('english')) & (len(word) > 2)]\n",
    "    # join the cleaned words using a space separator\n",
    "    title_cleaned = ' '.join(title_cleaned)\n",
    "    return title_cleaned"
   ]
  },
  {
   "cell_type": "code",
   "execution_count": null,
   "metadata": {
    "id": "4eA_kUJW3vpl"
   },
   "outputs": [],
   "source": [
    "train['title_cleaned'] = train['title_translate'].apply(clean_title)"
   ]
  },
  {
   "cell_type": "code",
   "execution_count": null,
   "metadata": {
    "id": "7h39xerS0Afd"
   },
   "outputs": [],
   "source": [
    "test['title_cleaned'] = test['title_translate'].apply(clean_title)"
   ]
  },
  {
   "cell_type": "markdown",
   "metadata": {
    "id": "sU-ivz8Kt7UV"
   },
   "source": [
    "**TOKENIZATION**"
   ]
  },
  {
   "cell_type": "code",
   "execution_count": null,
   "metadata": {
    "id": "_AdD5VSUs87_"
   },
   "outputs": [],
   "source": [
    "# define the TfidfVectorizer to transform the text input\n",
    "tfidf = TfidfVectorizer()\n",
    "\n",
    "# text_features = tfidf.fit_transform(train['title_clean'])\n",
    "texts_train = train['title_cleaned']\n",
    "texts_test = test['title_cleaned']\n",
    "X_text_train = tfidf.fit_transform(texts_train)\n",
    "X_text_test = tfidf.transform(texts_test)"
   ]
  },
  {
   "cell_type": "code",
   "execution_count": null,
   "metadata": {
    "colab": {
     "base_uri": "https://localhost:8080/"
    },
    "executionInfo": {
     "elapsed": 39,
     "status": "ok",
     "timestamp": 1681657963344,
     "user": {
      "displayName": "Andrew Liu",
      "userId": "01750910414052279045"
     },
     "user_tz": 420
    },
    "id": "Yhv2sq4w7VV3",
    "outputId": "5c79e698-0fe5-4d4f-8a4d-addf8bc72d89"
   },
   "outputs": [
    {
     "data": {
      "text/plain": [
       "(29603, 24193)"
      ]
     },
     "execution_count": 19,
     "metadata": {},
     "output_type": "execute_result"
    }
   ],
   "source": [
    "X_text_train.shape"
   ]
  },
  {
   "cell_type": "code",
   "execution_count": null,
   "metadata": {
    "colab": {
     "base_uri": "https://localhost:8080/"
    },
    "executionInfo": {
     "elapsed": 33,
     "status": "ok",
     "timestamp": 1681657963345,
     "user": {
      "displayName": "Andrew Liu",
      "userId": "01750910414052279045"
     },
     "user_tz": 420
    },
    "id": "ffwozx9LxyIA",
    "outputId": "a75523d8-fc54-438c-9a60-3e2ab82f0a45"
   },
   "outputs": [
    {
     "data": {
      "text/plain": [
       "(3, 24193)"
      ]
     },
     "execution_count": 20,
     "metadata": {},
     "output_type": "execute_result"
    }
   ],
   "source": [
    "X_text_test.shape"
   ]
  },
  {
   "cell_type": "markdown",
   "metadata": {
    "id": "2kyHB-fTeKPb"
   },
   "source": [
    "### Images"
   ]
  },
  {
   "cell_type": "code",
   "execution_count": null,
   "metadata": {
    "colab": {
     "base_uri": "https://localhost:8080/"
    },
    "executionInfo": {
     "elapsed": 28,
     "status": "ok",
     "timestamp": 1681657963345,
     "user": {
      "displayName": "Andrew Liu",
      "userId": "01750910414052279045"
     },
     "user_tz": 420
    },
    "id": "kT9FBXOMeSQM",
    "outputId": "4e4a12c5-484a-4b7f-cf41-a1578a634748"
   },
   "outputs": [
    {
     "data": {
      "text/plain": [
       "(3,)"
      ]
     },
     "execution_count": 21,
     "metadata": {},
     "output_type": "execute_result"
    }
   ],
   "source": [
    "# normalize the images\n",
    "test['normalized_image'] = test['image_array'] / 255.0\n",
    "test['normalized_image'].shape"
   ]
  },
  {
   "cell_type": "code",
   "execution_count": null,
   "metadata": {
    "id": "nsy9oIrxuZr1"
   },
   "outputs": [],
   "source": [
    "# reshape\n",
    "X_image_test = np.array(test['normalized_image'].tolist())"
   ]
  },
  {
   "cell_type": "code",
   "execution_count": null,
   "metadata": {
    "colab": {
     "base_uri": "https://localhost:8080/"
    },
    "executionInfo": {
     "elapsed": 28,
     "status": "ok",
     "timestamp": 1681657963348,
     "user": {
      "displayName": "Andrew Liu",
      "userId": "01750910414052279045"
     },
     "user_tz": 420
    },
    "id": "-j6EARpNBWGV",
    "outputId": "e891acc5-7077-432d-b43f-b1f84791a838"
   },
   "outputs": [
    {
     "data": {
      "text/plain": [
       "(3, 64, 64, 3)"
      ]
     },
     "execution_count": 23,
     "metadata": {},
     "output_type": "execute_result"
    }
   ],
   "source": [
    "X_image_test.shape"
   ]
  },
  {
   "cell_type": "markdown",
   "metadata": {
    "id": "Sn-JihLq1TJV"
   },
   "source": [
    "## Prediction\n",
    "\n",
    "Using the pre-processed inputs (titles and images) to predict the label_group"
   ]
  },
  {
   "cell_type": "code",
   "execution_count": null,
   "metadata": {
    "colab": {
     "base_uri": "https://localhost:8080/"
    },
    "executionInfo": {
     "elapsed": 27,
     "status": "ok",
     "timestamp": 1681657963349,
     "user": {
      "displayName": "Andrew Liu",
      "userId": "01750910414052279045"
     },
     "user_tz": 420
    },
    "id": "sP4e1A46vB7E",
    "outputId": "bc5bd2fd-700f-493a-a0a9-0c167915ca35"
   },
   "outputs": [
    {
     "name": "stdout",
     "output_type": "stream",
     "text": [
      "1/1 [==============================] - 1s 619ms/step\n"
     ]
    }
   ],
   "source": [
    "# predict on test data\n",
    "prediction = model.predict([X_image_test, X_text_test.toarray()])"
   ]
  },
  {
   "cell_type": "markdown",
   "metadata": {
    "id": "tBP1TgTks6tC"
   },
   "source": [
    "## Post-process Ouputs\n",
    "\n",
    "Since the outputs of the model are one-hot encoded label_group, they will need to be decoded back to the original form."
   ]
  },
  {
   "cell_type": "code",
   "execution_count": null,
   "metadata": {
    "id": "_5TncWUUfDJH"
   },
   "outputs": [],
   "source": [
    "# combine the train and validation set to ensure consistent encoding\n",
    "combined_df = pd.concat([train, validation])\n",
    "combined = combined_df['label_group']"
   ]
  },
  {
   "cell_type": "code",
   "execution_count": null,
   "metadata": {
    "colab": {
     "base_uri": "https://localhost:8080/"
    },
    "executionInfo": {
     "elapsed": 24,
     "status": "ok",
     "timestamp": 1681657963350,
     "user": {
      "displayName": "Andrew Liu",
      "userId": "01750910414052279045"
     },
     "user_tz": 420
    },
    "id": "pNTaMxASatMw",
    "outputId": "0ddb8b8e-eb54-40ba-c6c1-0fffa7536b9d"
   },
   "outputs": [
    {
     "name": "stdout",
     "output_type": "stream",
     "text": [
      "       Encoded Label  Original Label\n",
      "0                  0          258047\n",
      "1                  1          297977\n",
      "2                  2          645628\n",
      "3                  3          801176\n",
      "4                  4          887886\n",
      "...              ...             ...\n",
      "11009          11009      4292154092\n",
      "11010          11010      4292520070\n",
      "11011          11011      4292939171\n",
      "11012          11012      4293276364\n",
      "11013          11013      4294197112\n",
      "\n",
      "[11014 rows x 2 columns]\n"
     ]
    }
   ],
   "source": [
    "# create mapping between integer label groups and their original forms from one-hot encoding\n",
    "le = LabelEncoder()\n",
    "\n",
    "# convert label groups to integers\n",
    "labels_int = le.fit_transform(combined)\n",
    "\n",
    "# one-hot encode the label groups\n",
    "y = to_categorical(labels_int)\n",
    "\n",
    "# mapping dictionary\n",
    "int_to_label = {i: label for i, label in enumerate(le.classes_)}\n",
    "\n",
    "# convert the mapping dictionary to a dataframe\n",
    "int_to_label_df = pd.DataFrame(list(int_to_label.items()), columns=['Encoded Label', 'Original Label'])\n",
    "\n",
    "# print the mapping dataframe\n",
    "print(int_to_label_df)"
   ]
  },
  {
   "cell_type": "code",
   "execution_count": null,
   "metadata": {
    "colab": {
     "base_uri": "https://localhost:8080/",
     "height": 308
    },
    "executionInfo": {
     "elapsed": 22,
     "status": "ok",
     "timestamp": 1681657963350,
     "user": {
      "displayName": "Andrew Liu",
      "userId": "01750910414052279045"
     },
     "user_tz": 420
    },
    "id": "rCrpKiB8LOy6",
    "outputId": "17dda729-6821-48f1-c28d-a5f523760219"
   },
   "outputs": [
    {
     "data": {
      "text/html": [
       "\n",
       "  <div id=\"df-8129a19e-f84f-47a5-a803-b4d80e24a092\">\n",
       "    <div class=\"colab-df-container\">\n",
       "      <div>\n",
       "<style scoped>\n",
       "    .dataframe tbody tr th:only-of-type {\n",
       "        vertical-align: middle;\n",
       "    }\n",
       "\n",
       "    .dataframe tbody tr th {\n",
       "        vertical-align: top;\n",
       "    }\n",
       "\n",
       "    .dataframe thead th {\n",
       "        text-align: right;\n",
       "    }\n",
       "</style>\n",
       "<table border=\"1\" class=\"dataframe\">\n",
       "  <thead>\n",
       "    <tr style=\"text-align: right;\">\n",
       "      <th></th>\n",
       "      <th>posting_id</th>\n",
       "      <th>image</th>\n",
       "      <th>image_phash</th>\n",
       "      <th>title_translate</th>\n",
       "      <th>label_pred_int</th>\n",
       "      <th>CL</th>\n",
       "    </tr>\n",
       "  </thead>\n",
       "  <tbody>\n",
       "    <tr>\n",
       "      <th>0</th>\n",
       "      <td>test_2255846744</td>\n",
       "      <td>0006c8e5462ae52167402bac1c2e916e.jpg</td>\n",
       "      <td>ecc292392dc7687a</td>\n",
       "      <td>Edufuntoys - CHARACTER PHONE has lights and mu...</td>\n",
       "      <td>2602</td>\n",
       "      <td>0.094924</td>\n",
       "    </tr>\n",
       "    <tr>\n",
       "      <th>1</th>\n",
       "      <td>test_3588702337</td>\n",
       "      <td>0007585c4d0f932859339129f709bfdc.jpg</td>\n",
       "      <td>e9968f60d2699e2c</td>\n",
       "      <td>(Buy 1 Free Spatula) Blackhead Mask | Blackhea...</td>\n",
       "      <td>7891</td>\n",
       "      <td>0.088755</td>\n",
       "    </tr>\n",
       "    <tr>\n",
       "      <th>2</th>\n",
       "      <td>test_4015706929</td>\n",
       "      <td>0008377d3662e83ef44e1881af38b879.jpg</td>\n",
       "      <td>ba81c17e3581cabe</td>\n",
       "      <td>READY Lemonilo Healthy instant noodle soup and...</td>\n",
       "      <td>3427</td>\n",
       "      <td>0.091190</td>\n",
       "    </tr>\n",
       "  </tbody>\n",
       "</table>\n",
       "</div>\n",
       "      <button class=\"colab-df-convert\" onclick=\"convertToInteractive('df-8129a19e-f84f-47a5-a803-b4d80e24a092')\"\n",
       "              title=\"Convert this dataframe to an interactive table.\"\n",
       "              style=\"display:none;\">\n",
       "        \n",
       "  <svg xmlns=\"http://www.w3.org/2000/svg\" height=\"24px\"viewBox=\"0 0 24 24\"\n",
       "       width=\"24px\">\n",
       "    <path d=\"M0 0h24v24H0V0z\" fill=\"none\"/>\n",
       "    <path d=\"M18.56 5.44l.94 2.06.94-2.06 2.06-.94-2.06-.94-.94-2.06-.94 2.06-2.06.94zm-11 1L8.5 8.5l.94-2.06 2.06-.94-2.06-.94L8.5 2.5l-.94 2.06-2.06.94zm10 10l.94 2.06.94-2.06 2.06-.94-2.06-.94-.94-2.06-.94 2.06-2.06.94z\"/><path d=\"M17.41 7.96l-1.37-1.37c-.4-.4-.92-.59-1.43-.59-.52 0-1.04.2-1.43.59L10.3 9.45l-7.72 7.72c-.78.78-.78 2.05 0 2.83L4 21.41c.39.39.9.59 1.41.59.51 0 1.02-.2 1.41-.59l7.78-7.78 2.81-2.81c.8-.78.8-2.07 0-2.86zM5.41 20L4 18.59l7.72-7.72 1.47 1.35L5.41 20z\"/>\n",
       "  </svg>\n",
       "      </button>\n",
       "      \n",
       "  <style>\n",
       "    .colab-df-container {\n",
       "      display:flex;\n",
       "      flex-wrap:wrap;\n",
       "      gap: 12px;\n",
       "    }\n",
       "\n",
       "    .colab-df-convert {\n",
       "      background-color: #E8F0FE;\n",
       "      border: none;\n",
       "      border-radius: 50%;\n",
       "      cursor: pointer;\n",
       "      display: none;\n",
       "      fill: #1967D2;\n",
       "      height: 32px;\n",
       "      padding: 0 0 0 0;\n",
       "      width: 32px;\n",
       "    }\n",
       "\n",
       "    .colab-df-convert:hover {\n",
       "      background-color: #E2EBFA;\n",
       "      box-shadow: 0px 1px 2px rgba(60, 64, 67, 0.3), 0px 1px 3px 1px rgba(60, 64, 67, 0.15);\n",
       "      fill: #174EA6;\n",
       "    }\n",
       "\n",
       "    [theme=dark] .colab-df-convert {\n",
       "      background-color: #3B4455;\n",
       "      fill: #D2E3FC;\n",
       "    }\n",
       "\n",
       "    [theme=dark] .colab-df-convert:hover {\n",
       "      background-color: #434B5C;\n",
       "      box-shadow: 0px 1px 3px 1px rgba(0, 0, 0, 0.15);\n",
       "      filter: drop-shadow(0px 1px 2px rgba(0, 0, 0, 0.3));\n",
       "      fill: #FFFFFF;\n",
       "    }\n",
       "  </style>\n",
       "\n",
       "      <script>\n",
       "        const buttonEl =\n",
       "          document.querySelector('#df-8129a19e-f84f-47a5-a803-b4d80e24a092 button.colab-df-convert');\n",
       "        buttonEl.style.display =\n",
       "          google.colab.kernel.accessAllowed ? 'block' : 'none';\n",
       "\n",
       "        async function convertToInteractive(key) {\n",
       "          const element = document.querySelector('#df-8129a19e-f84f-47a5-a803-b4d80e24a092');\n",
       "          const dataTable =\n",
       "            await google.colab.kernel.invokeFunction('convertToInteractive',\n",
       "                                                     [key], {});\n",
       "          if (!dataTable) return;\n",
       "\n",
       "          const docLinkHtml = 'Like what you see? Visit the ' +\n",
       "            '<a target=\"_blank\" href=https://colab.research.google.com/notebooks/data_table.ipynb>data table notebook</a>'\n",
       "            + ' to learn more about interactive tables.';\n",
       "          element.innerHTML = '';\n",
       "          dataTable['output_type'] = 'display_data';\n",
       "          await google.colab.output.renderOutput(dataTable, element);\n",
       "          const docLink = document.createElement('div');\n",
       "          docLink.innerHTML = docLinkHtml;\n",
       "          element.appendChild(docLink);\n",
       "        }\n",
       "      </script>\n",
       "    </div>\n",
       "  </div>\n",
       "  "
      ],
      "text/plain": [
       "        posting_id                                 image       image_phash  \\\n",
       "0  test_2255846744  0006c8e5462ae52167402bac1c2e916e.jpg  ecc292392dc7687a   \n",
       "1  test_3588702337  0007585c4d0f932859339129f709bfdc.jpg  e9968f60d2699e2c   \n",
       "2  test_4015706929  0008377d3662e83ef44e1881af38b879.jpg  ba81c17e3581cabe   \n",
       "\n",
       "                                     title_translate  label_pred_int        CL  \n",
       "0  Edufuntoys - CHARACTER PHONE has lights and mu...            2602  0.094924  \n",
       "1  (Buy 1 Free Spatula) Blackhead Mask | Blackhea...            7891  0.088755  \n",
       "2  READY Lemonilo Healthy instant noodle soup and...            3427  0.091190  "
      ]
     },
     "execution_count": 27,
     "metadata": {},
     "output_type": "execute_result"
    }
   ],
   "source": [
    "# ddd the predicted label groups in intergers and their confidence levels into the test_pred dataset\n",
    "test_pred = test.loc[:, ['posting_id', 'image', 'image_phash', 'title_translate']]\n",
    "\n",
    "test_pred[\"label_pred_int\"] = np.argmax(prediction, axis=1) # decode to interger\n",
    "test_pred[\"CL\"] = np.max(prediction, axis = 1)\n",
    "\n",
    "test_pred"
   ]
  },
  {
   "cell_type": "code",
   "execution_count": null,
   "metadata": {
    "colab": {
     "base_uri": "https://localhost:8080/",
     "height": 346
    },
    "executionInfo": {
     "elapsed": 21,
     "status": "ok",
     "timestamp": 1681657963351,
     "user": {
      "displayName": "Andrew Liu",
      "userId": "01750910414052279045"
     },
     "user_tz": 420
    },
    "id": "vVyWPLldXxIv",
    "outputId": "d7d7df8b-001a-4a5d-f8c9-7e3a63f7dbb6"
   },
   "outputs": [
    {
     "data": {
      "text/html": [
       "\n",
       "  <div id=\"df-e35ae3c8-d9ed-49e9-9afb-9f15542657bb\">\n",
       "    <div class=\"colab-df-container\">\n",
       "      <div>\n",
       "<style scoped>\n",
       "    .dataframe tbody tr th:only-of-type {\n",
       "        vertical-align: middle;\n",
       "    }\n",
       "\n",
       "    .dataframe tbody tr th {\n",
       "        vertical-align: top;\n",
       "    }\n",
       "\n",
       "    .dataframe thead th {\n",
       "        text-align: right;\n",
       "    }\n",
       "</style>\n",
       "<table border=\"1\" class=\"dataframe\">\n",
       "  <thead>\n",
       "    <tr style=\"text-align: right;\">\n",
       "      <th></th>\n",
       "      <th>posting_id</th>\n",
       "      <th>image</th>\n",
       "      <th>image_phash</th>\n",
       "      <th>title_translate</th>\n",
       "      <th>label_pred_int</th>\n",
       "      <th>CL</th>\n",
       "      <th>label_group_pred</th>\n",
       "    </tr>\n",
       "  </thead>\n",
       "  <tbody>\n",
       "    <tr>\n",
       "      <th>0</th>\n",
       "      <td>test_2255846744</td>\n",
       "      <td>0006c8e5462ae52167402bac1c2e916e.jpg</td>\n",
       "      <td>ecc292392dc7687a</td>\n",
       "      <td>Edufuntoys - CHARACTER PHONE has lights and mu...</td>\n",
       "      <td>2602</td>\n",
       "      <td>0.094924</td>\n",
       "      <td>993561200</td>\n",
       "    </tr>\n",
       "    <tr>\n",
       "      <th>1</th>\n",
       "      <td>test_3588702337</td>\n",
       "      <td>0007585c4d0f932859339129f709bfdc.jpg</td>\n",
       "      <td>e9968f60d2699e2c</td>\n",
       "      <td>(Buy 1 Free Spatula) Blackhead Mask | Blackhea...</td>\n",
       "      <td>7891</td>\n",
       "      <td>0.088755</td>\n",
       "      <td>3058128663</td>\n",
       "    </tr>\n",
       "    <tr>\n",
       "      <th>2</th>\n",
       "      <td>test_4015706929</td>\n",
       "      <td>0008377d3662e83ef44e1881af38b879.jpg</td>\n",
       "      <td>ba81c17e3581cabe</td>\n",
       "      <td>READY Lemonilo Healthy instant noodle soup and...</td>\n",
       "      <td>3427</td>\n",
       "      <td>0.091190</td>\n",
       "      <td>1330267064</td>\n",
       "    </tr>\n",
       "  </tbody>\n",
       "</table>\n",
       "</div>\n",
       "      <button class=\"colab-df-convert\" onclick=\"convertToInteractive('df-e35ae3c8-d9ed-49e9-9afb-9f15542657bb')\"\n",
       "              title=\"Convert this dataframe to an interactive table.\"\n",
       "              style=\"display:none;\">\n",
       "        \n",
       "  <svg xmlns=\"http://www.w3.org/2000/svg\" height=\"24px\"viewBox=\"0 0 24 24\"\n",
       "       width=\"24px\">\n",
       "    <path d=\"M0 0h24v24H0V0z\" fill=\"none\"/>\n",
       "    <path d=\"M18.56 5.44l.94 2.06.94-2.06 2.06-.94-2.06-.94-.94-2.06-.94 2.06-2.06.94zm-11 1L8.5 8.5l.94-2.06 2.06-.94-2.06-.94L8.5 2.5l-.94 2.06-2.06.94zm10 10l.94 2.06.94-2.06 2.06-.94-2.06-.94-.94-2.06-.94 2.06-2.06.94z\"/><path d=\"M17.41 7.96l-1.37-1.37c-.4-.4-.92-.59-1.43-.59-.52 0-1.04.2-1.43.59L10.3 9.45l-7.72 7.72c-.78.78-.78 2.05 0 2.83L4 21.41c.39.39.9.59 1.41.59.51 0 1.02-.2 1.41-.59l7.78-7.78 2.81-2.81c.8-.78.8-2.07 0-2.86zM5.41 20L4 18.59l7.72-7.72 1.47 1.35L5.41 20z\"/>\n",
       "  </svg>\n",
       "      </button>\n",
       "      \n",
       "  <style>\n",
       "    .colab-df-container {\n",
       "      display:flex;\n",
       "      flex-wrap:wrap;\n",
       "      gap: 12px;\n",
       "    }\n",
       "\n",
       "    .colab-df-convert {\n",
       "      background-color: #E8F0FE;\n",
       "      border: none;\n",
       "      border-radius: 50%;\n",
       "      cursor: pointer;\n",
       "      display: none;\n",
       "      fill: #1967D2;\n",
       "      height: 32px;\n",
       "      padding: 0 0 0 0;\n",
       "      width: 32px;\n",
       "    }\n",
       "\n",
       "    .colab-df-convert:hover {\n",
       "      background-color: #E2EBFA;\n",
       "      box-shadow: 0px 1px 2px rgba(60, 64, 67, 0.3), 0px 1px 3px 1px rgba(60, 64, 67, 0.15);\n",
       "      fill: #174EA6;\n",
       "    }\n",
       "\n",
       "    [theme=dark] .colab-df-convert {\n",
       "      background-color: #3B4455;\n",
       "      fill: #D2E3FC;\n",
       "    }\n",
       "\n",
       "    [theme=dark] .colab-df-convert:hover {\n",
       "      background-color: #434B5C;\n",
       "      box-shadow: 0px 1px 3px 1px rgba(0, 0, 0, 0.15);\n",
       "      filter: drop-shadow(0px 1px 2px rgba(0, 0, 0, 0.3));\n",
       "      fill: #FFFFFF;\n",
       "    }\n",
       "  </style>\n",
       "\n",
       "      <script>\n",
       "        const buttonEl =\n",
       "          document.querySelector('#df-e35ae3c8-d9ed-49e9-9afb-9f15542657bb button.colab-df-convert');\n",
       "        buttonEl.style.display =\n",
       "          google.colab.kernel.accessAllowed ? 'block' : 'none';\n",
       "\n",
       "        async function convertToInteractive(key) {\n",
       "          const element = document.querySelector('#df-e35ae3c8-d9ed-49e9-9afb-9f15542657bb');\n",
       "          const dataTable =\n",
       "            await google.colab.kernel.invokeFunction('convertToInteractive',\n",
       "                                                     [key], {});\n",
       "          if (!dataTable) return;\n",
       "\n",
       "          const docLinkHtml = 'Like what you see? Visit the ' +\n",
       "            '<a target=\"_blank\" href=https://colab.research.google.com/notebooks/data_table.ipynb>data table notebook</a>'\n",
       "            + ' to learn more about interactive tables.';\n",
       "          element.innerHTML = '';\n",
       "          dataTable['output_type'] = 'display_data';\n",
       "          await google.colab.output.renderOutput(dataTable, element);\n",
       "          const docLink = document.createElement('div');\n",
       "          docLink.innerHTML = docLinkHtml;\n",
       "          element.appendChild(docLink);\n",
       "        }\n",
       "      </script>\n",
       "    </div>\n",
       "  </div>\n",
       "  "
      ],
      "text/plain": [
       "        posting_id                                 image       image_phash  \\\n",
       "0  test_2255846744  0006c8e5462ae52167402bac1c2e916e.jpg  ecc292392dc7687a   \n",
       "1  test_3588702337  0007585c4d0f932859339129f709bfdc.jpg  e9968f60d2699e2c   \n",
       "2  test_4015706929  0008377d3662e83ef44e1881af38b879.jpg  ba81c17e3581cabe   \n",
       "\n",
       "                                     title_translate  label_pred_int  \\\n",
       "0  Edufuntoys - CHARACTER PHONE has lights and mu...            2602   \n",
       "1  (Buy 1 Free Spatula) Blackhead Mask | Blackhea...            7891   \n",
       "2  READY Lemonilo Healthy instant noodle soup and...            3427   \n",
       "\n",
       "         CL  label_group_pred  \n",
       "0  0.094924         993561200  \n",
       "1  0.088755        3058128663  \n",
       "2  0.091190        1330267064  "
      ]
     },
     "execution_count": 28,
     "metadata": {},
     "output_type": "execute_result"
    }
   ],
   "source": [
    "# decode predicted label group from integers to their original forms\n",
    "test_pred['label_group_pred'] = [int_to_label[i] for i in test_pred['label_pred_int']]\n",
    "test_pred"
   ]
  },
  {
   "cell_type": "markdown",
   "metadata": {
    "id": "-aQyCjAyjD7z"
   },
   "source": [
    "## Image Check\n",
    "\n",
    "Check the training images that have the same label group as the predicted ones.\n",
    "\n"
   ]
  },
  {
   "cell_type": "code",
   "execution_count": null,
   "metadata": {
    "id": "NlfELPH_hz70"
   },
   "outputs": [],
   "source": [
    "# check the training images of these label groups\n",
    "path = 'train_images/'"
   ]
  },
  {
   "cell_type": "code",
   "execution_count": null,
   "metadata": {
    "colab": {
     "base_uri": "https://localhost:8080/"
    },
    "executionInfo": {
     "elapsed": 351,
     "status": "ok",
     "timestamp": 1681666249659,
     "user": {
      "displayName": "Andrew Liu",
      "userId": "01750910414052279045"
     },
     "user_tz": 420
    },
    "id": "WBHUv6WjHop4",
    "outputId": "548d6c54-df9e-4bfc-a352-89a92100f50d"
   },
   "outputs": [
    {
     "data": {
      "text/plain": [
       "0     993561200\n",
       "1    3058128663\n",
       "2    1330267064\n",
       "Name: label_group_pred, dtype: int64"
      ]
     },
     "execution_count": 84,
     "metadata": {},
     "output_type": "execute_result"
    }
   ],
   "source": [
    "test_pred['label_group_pred']"
   ]
  },
  {
   "cell_type": "code",
   "execution_count": null,
   "metadata": {
    "colab": {
     "base_uri": "https://localhost:8080/",
     "height": 264
    },
    "executionInfo": {
     "elapsed": 1445,
     "status": "ok",
     "timestamp": 1681666379792,
     "user": {
      "displayName": "Andrew Liu",
      "userId": "01750910414052279045"
     },
     "user_tz": 420
    },
    "id": "ixq6Z29Hii2H",
    "outputId": "7a7a6433-1707-4350-e733-612ccbacb184"
   },
   "outputs": [
    {
     "data": {
      "image/png": "[encoded data removed]",
      "text/plain": [
       "<Figure size 1000x600 with 2 Axes>"
      ]
     },
     "metadata": {},
     "output_type": "display_data"
    }
   ],
   "source": [
    "# plot test images\n",
    "plt.figure(figsize = (10, 6))\n",
    "\n",
    "df = combined_df[combined_df['label_group'] == 993561200]\n",
    "\n",
    "# loop through all records in df\n",
    "for m in range(len(df)):\n",
    "  plt.subplot((len(df)//3) + 1, 3, m + 1)\n",
    "\n",
    "  # get the image\n",
    "  img_path = path + df['image'].iloc[m]\n",
    "  plt.axis('off')\n",
    "  img = plt.imread(img_path) # plot the image\n",
    "  plt.imshow(np.asarray(img))"
   ]
  },
  {
   "cell_type": "code",
   "execution_count": null,
   "metadata": {
    "colab": {
     "base_uri": "https://localhost:8080/",
     "height": 264
    },
    "executionInfo": {
     "elapsed": 930,
     "status": "ok",
     "timestamp": 1681666389611,
     "user": {
      "displayName": "Andrew Liu",
      "userId": "01750910414052279045"
     },
     "user_tz": 420
    },
    "id": "9mqSwoyKH7nn",
    "outputId": "9b5a3970-3602-4c2a-a8e0-0a5659e9faca"
   },
   "outputs": [
    {
     "data": {
      "image/png": "[encoded data removed]",
      "text/plain": [
       "<Figure size 1000x600 with 2 Axes>"
      ]
     },
     "metadata": {},
     "output_type": "display_data"
    }
   ],
   "source": [
    "# plot test images\n",
    "plt.figure(figsize = (10, 6))\n",
    "\n",
    "df = combined_df[combined_df['label_group'] == 3058128663]\n",
    "\n",
    "# loop through all records in df\n",
    "for m in range(len(df)):\n",
    "  plt.subplot((len(df)//3) + 1, 3, m + 1)\n",
    "\n",
    "  # get the image\n",
    "  img_path = path + df['image'].iloc[m]\n",
    "  plt.axis('off')\n",
    "  img = plt.imread(img_path) # plot the image\n",
    "  plt.imshow(np.asarray(img))"
   ]
  },
  {
   "cell_type": "code",
   "execution_count": null,
   "metadata": {
    "colab": {
     "base_uri": "https://localhost:8080/",
     "height": 264
    },
    "executionInfo": {
     "elapsed": 1007,
     "status": "ok",
     "timestamp": 1681666420981,
     "user": {
      "displayName": "Andrew Liu",
      "userId": "01750910414052279045"
     },
     "user_tz": 420
    },
    "id": "kjF9xUj3IQE-",
    "outputId": "3bd7a22e-a56a-4cb3-df57-12097646a3e2"
   },
   "outputs": [
    {
     "data": {
      "image/png": "[encoded data removed]",
      "text/plain": [
       "<Figure size 1000x600 with 2 Axes>"
      ]
     },
     "metadata": {},
     "output_type": "display_data"
    }
   ],
   "source": [
    "# plot test images\n",
    "plt.figure(figsize = (10, 6))\n",
    "\n",
    "df = combined_df[combined_df['label_group'] == 1330267064]\n",
    "\n",
    "# loop through all records in df\n",
    "for m in range(len(df)):\n",
    "  plt.subplot((len(df)//3) + 1, 3, m + 1)\n",
    "\n",
    "  # get the image\n",
    "  img_path = path + df['image'].iloc[m]\n",
    "  plt.axis('off')\n",
    "  img = plt.imread(img_path) # plot the image\n",
    "  plt.imshow(np.asarray(img))"
   ]
  },
  {
   "cell_type": "code",
   "execution_count": null,
   "metadata": {
    "colab": {
     "base_uri": "https://localhost:8080/",
     "height": 314
    },
    "executionInfo": {
     "elapsed": 5,
     "status": "ok",
     "timestamp": 1681658277121,
     "user": {
      "displayName": "Andrew Liu",
      "userId": "01750910414052279045"
     },
     "user_tz": 420
    },
    "id": "XYMRmoJl0w6l",
    "outputId": "de491639-3b78-4b4b-90c4-5f4d451182c2"
   },
   "outputs": [
    {
     "data": {
      "text/html": [
       "\n",
       "  <div id=\"df-032ee51d-2d14-4ebe-a250-040a6a2202b5\">\n",
       "    <div class=\"colab-df-container\">\n",
       "      <div>\n",
       "<style scoped>\n",
       "    .dataframe tbody tr th:only-of-type {\n",
       "        vertical-align: middle;\n",
       "    }\n",
       "\n",
       "    .dataframe tbody tr th {\n",
       "        vertical-align: top;\n",
       "    }\n",
       "\n",
       "    .dataframe thead th {\n",
       "        text-align: right;\n",
       "    }\n",
       "</style>\n",
       "<table border=\"1\" class=\"dataframe\">\n",
       "  <thead>\n",
       "    <tr style=\"text-align: right;\">\n",
       "      <th></th>\n",
       "      <th>posting_id</th>\n",
       "      <th>image</th>\n",
       "      <th>image_phash</th>\n",
       "      <th>title</th>\n",
       "      <th>label_group</th>\n",
       "      <th>title_translate</th>\n",
       "      <th>title_cleaned</th>\n",
       "    </tr>\n",
       "  </thead>\n",
       "  <tbody>\n",
       "    <tr>\n",
       "      <th>2080</th>\n",
       "      <td>train_426195351</td>\n",
       "      <td>10043b865221828b6d41d601cbf205ae.jpg</td>\n",
       "      <td>afe5901a9ab5c16a</td>\n",
       "      <td>ISI STAPLES ETONA NO.10 stapler steples hekter...</td>\n",
       "      <td>993561200</td>\n",
       "      <td>ISI STAPLES ETONA NO.10 stapler staples hekter...</td>\n",
       "      <td>isi staples etona no10 stapler staples hekter ...</td>\n",
       "    </tr>\n",
       "    <tr>\n",
       "      <th>34081</th>\n",
       "      <td>train_3436898021</td>\n",
       "      <td>feb4041f8ae80718347e9d8b796ded2f.jpg</td>\n",
       "      <td>cee6b059932e1cb1</td>\n",
       "      <td>isi staples etona no 10</td>\n",
       "      <td>993561200</td>\n",
       "      <td>fill in staples etona no 10</td>\n",
       "      <td>fill staples etona</td>\n",
       "    </tr>\n",
       "  </tbody>\n",
       "</table>\n",
       "</div>\n",
       "      <button class=\"colab-df-convert\" onclick=\"convertToInteractive('df-032ee51d-2d14-4ebe-a250-040a6a2202b5')\"\n",
       "              title=\"Convert this dataframe to an interactive table.\"\n",
       "              style=\"display:none;\">\n",
       "        \n",
       "  <svg xmlns=\"http://www.w3.org/2000/svg\" height=\"24px\"viewBox=\"0 0 24 24\"\n",
       "       width=\"24px\">\n",
       "    <path d=\"M0 0h24v24H0V0z\" fill=\"none\"/>\n",
       "    <path d=\"M18.56 5.44l.94 2.06.94-2.06 2.06-.94-2.06-.94-.94-2.06-.94 2.06-2.06.94zm-11 1L8.5 8.5l.94-2.06 2.06-.94-2.06-.94L8.5 2.5l-.94 2.06-2.06.94zm10 10l.94 2.06.94-2.06 2.06-.94-2.06-.94-.94-2.06-.94 2.06-2.06.94z\"/><path d=\"M17.41 7.96l-1.37-1.37c-.4-.4-.92-.59-1.43-.59-.52 0-1.04.2-1.43.59L10.3 9.45l-7.72 7.72c-.78.78-.78 2.05 0 2.83L4 21.41c.39.39.9.59 1.41.59.51 0 1.02-.2 1.41-.59l7.78-7.78 2.81-2.81c.8-.78.8-2.07 0-2.86zM5.41 20L4 18.59l7.72-7.72 1.47 1.35L5.41 20z\"/>\n",
       "  </svg>\n",
       "      </button>\n",
       "      \n",
       "  <style>\n",
       "    .colab-df-container {\n",
       "      display:flex;\n",
       "      flex-wrap:wrap;\n",
       "      gap: 12px;\n",
       "    }\n",
       "\n",
       "    .colab-df-convert {\n",
       "      background-color: #E8F0FE;\n",
       "      border: none;\n",
       "      border-radius: 50%;\n",
       "      cursor: pointer;\n",
       "      display: none;\n",
       "      fill: #1967D2;\n",
       "      height: 32px;\n",
       "      padding: 0 0 0 0;\n",
       "      width: 32px;\n",
       "    }\n",
       "\n",
       "    .colab-df-convert:hover {\n",
       "      background-color: #E2EBFA;\n",
       "      box-shadow: 0px 1px 2px rgba(60, 64, 67, 0.3), 0px 1px 3px 1px rgba(60, 64, 67, 0.15);\n",
       "      fill: #174EA6;\n",
       "    }\n",
       "\n",
       "    [theme=dark] .colab-df-convert {\n",
       "      background-color: #3B4455;\n",
       "      fill: #D2E3FC;\n",
       "    }\n",
       "\n",
       "    [theme=dark] .colab-df-convert:hover {\n",
       "      background-color: #434B5C;\n",
       "      box-shadow: 0px 1px 3px 1px rgba(0, 0, 0, 0.15);\n",
       "      filter: drop-shadow(0px 1px 2px rgba(0, 0, 0, 0.3));\n",
       "      fill: #FFFFFF;\n",
       "    }\n",
       "  </style>\n",
       "\n",
       "      <script>\n",
       "        const buttonEl =\n",
       "          document.querySelector('#df-032ee51d-2d14-4ebe-a250-040a6a2202b5 button.colab-df-convert');\n",
       "        buttonEl.style.display =\n",
       "          google.colab.kernel.accessAllowed ? 'block' : 'none';\n",
       "\n",
       "        async function convertToInteractive(key) {\n",
       "          const element = document.querySelector('#df-032ee51d-2d14-4ebe-a250-040a6a2202b5');\n",
       "          const dataTable =\n",
       "            await google.colab.kernel.invokeFunction('convertToInteractive',\n",
       "                                                     [key], {});\n",
       "          if (!dataTable) return;\n",
       "\n",
       "          const docLinkHtml = 'Like what you see? Visit the ' +\n",
       "            '<a target=\"_blank\" href=https://colab.research.google.com/notebooks/data_table.ipynb>data table notebook</a>'\n",
       "            + ' to learn more about interactive tables.';\n",
       "          element.innerHTML = '';\n",
       "          dataTable['output_type'] = 'display_data';\n",
       "          await google.colab.output.renderOutput(dataTable, element);\n",
       "          const docLink = document.createElement('div');\n",
       "          docLink.innerHTML = docLinkHtml;\n",
       "          element.appendChild(docLink);\n",
       "        }\n",
       "      </script>\n",
       "    </div>\n",
       "  </div>\n",
       "  "
      ],
      "text/plain": [
       "             posting_id                                 image  \\\n",
       "2080    train_426195351  10043b865221828b6d41d601cbf205ae.jpg   \n",
       "34081  train_3436898021  feb4041f8ae80718347e9d8b796ded2f.jpg   \n",
       "\n",
       "            image_phash                                              title  \\\n",
       "2080   afe5901a9ab5c16a  ISI STAPLES ETONA NO.10 stapler steples hekter...   \n",
       "34081  cee6b059932e1cb1                            isi staples etona no 10   \n",
       "\n",
       "       label_group                                    title_translate  \\\n",
       "2080     993561200  ISI STAPLES ETONA NO.10 stapler staples hekter...   \n",
       "34081    993561200                        fill in staples etona no 10   \n",
       "\n",
       "                                           title_cleaned  \n",
       "2080   isi staples etona no10 stapler staples hekter ...  \n",
       "34081                                 fill staples etona  "
      ]
     },
     "execution_count": 34,
     "metadata": {},
     "output_type": "execute_result"
    }
   ],
   "source": [
    "df1 = train[train['label_group'] == 993561200]\n",
    "df1"
   ]
  },
  {
   "cell_type": "code",
   "execution_count": null,
   "metadata": {
    "colab": {
     "base_uri": "https://localhost:8080/",
     "height": 332
    },
    "executionInfo": {
     "elapsed": 161,
     "status": "ok",
     "timestamp": 1681658281021,
     "user": {
      "displayName": "Andrew Liu",
      "userId": "01750910414052279045"
     },
     "user_tz": 420
    },
    "id": "RJiHN7SCbRn3",
    "outputId": "0fa2f481-c5d6-4473-b9ef-375b67d8e5d4"
   },
   "outputs": [
    {
     "data": {
      "text/html": [
       "\n",
       "  <div id=\"df-4caa30d0-6166-4531-88c0-fdb5962413c3\">\n",
       "    <div class=\"colab-df-container\">\n",
       "      <div>\n",
       "<style scoped>\n",
       "    .dataframe tbody tr th:only-of-type {\n",
       "        vertical-align: middle;\n",
       "    }\n",
       "\n",
       "    .dataframe tbody tr th {\n",
       "        vertical-align: top;\n",
       "    }\n",
       "\n",
       "    .dataframe thead th {\n",
       "        text-align: right;\n",
       "    }\n",
       "</style>\n",
       "<table border=\"1\" class=\"dataframe\">\n",
       "  <thead>\n",
       "    <tr style=\"text-align: right;\">\n",
       "      <th></th>\n",
       "      <th>posting_id</th>\n",
       "      <th>image</th>\n",
       "      <th>image_phash</th>\n",
       "      <th>title</th>\n",
       "      <th>label_group</th>\n",
       "      <th>title_translate</th>\n",
       "      <th>title_cleaned</th>\n",
       "    </tr>\n",
       "  </thead>\n",
       "  <tbody>\n",
       "    <tr>\n",
       "      <th>5551</th>\n",
       "      <td>train_4243420357</td>\n",
       "      <td>29ea7463620c0e76d31bfa3f796d8d24.jpg</td>\n",
       "      <td>95917a886a2f6e6c</td>\n",
       "      <td>[Free Spatula Min Beli 5] Peel Off Mask Petal ...</td>\n",
       "      <td>3058128663</td>\n",
       "      <td>[Free Spatula Min Buy 5] Peel Off Mask Petal 1...</td>\n",
       "      <td>free spatula min buy peel mask petal 10gr acon...</td>\n",
       "    </tr>\n",
       "    <tr>\n",
       "      <th>14253</th>\n",
       "      <td>train_559372785</td>\n",
       "      <td>6b2ebc478318b06a385a12c44e129b8d.jpg</td>\n",
       "      <td>ea6b87b494896a4b</td>\n",
       "      <td>[GROSIR] 10gr Peel Off Mask with Petal Masker ...</td>\n",
       "      <td>3058128663</td>\n",
       "      <td>[WHOLESALE] 10gr Peel Off Mask with Petal Peta...</td>\n",
       "      <td>wholesale 10gr peel mask petal petal peel mask...</td>\n",
       "    </tr>\n",
       "  </tbody>\n",
       "</table>\n",
       "</div>\n",
       "      <button class=\"colab-df-convert\" onclick=\"convertToInteractive('df-4caa30d0-6166-4531-88c0-fdb5962413c3')\"\n",
       "              title=\"Convert this dataframe to an interactive table.\"\n",
       "              style=\"display:none;\">\n",
       "        \n",
       "  <svg xmlns=\"http://www.w3.org/2000/svg\" height=\"24px\"viewBox=\"0 0 24 24\"\n",
       "       width=\"24px\">\n",
       "    <path d=\"M0 0h24v24H0V0z\" fill=\"none\"/>\n",
       "    <path d=\"M18.56 5.44l.94 2.06.94-2.06 2.06-.94-2.06-.94-.94-2.06-.94 2.06-2.06.94zm-11 1L8.5 8.5l.94-2.06 2.06-.94-2.06-.94L8.5 2.5l-.94 2.06-2.06.94zm10 10l.94 2.06.94-2.06 2.06-.94-2.06-.94-.94-2.06-.94 2.06-2.06.94z\"/><path d=\"M17.41 7.96l-1.37-1.37c-.4-.4-.92-.59-1.43-.59-.52 0-1.04.2-1.43.59L10.3 9.45l-7.72 7.72c-.78.78-.78 2.05 0 2.83L4 21.41c.39.39.9.59 1.41.59.51 0 1.02-.2 1.41-.59l7.78-7.78 2.81-2.81c.8-.78.8-2.07 0-2.86zM5.41 20L4 18.59l7.72-7.72 1.47 1.35L5.41 20z\"/>\n",
       "  </svg>\n",
       "      </button>\n",
       "      \n",
       "  <style>\n",
       "    .colab-df-container {\n",
       "      display:flex;\n",
       "      flex-wrap:wrap;\n",
       "      gap: 12px;\n",
       "    }\n",
       "\n",
       "    .colab-df-convert {\n",
       "      background-color: #E8F0FE;\n",
       "      border: none;\n",
       "      border-radius: 50%;\n",
       "      cursor: pointer;\n",
       "      display: none;\n",
       "      fill: #1967D2;\n",
       "      height: 32px;\n",
       "      padding: 0 0 0 0;\n",
       "      width: 32px;\n",
       "    }\n",
       "\n",
       "    .colab-df-convert:hover {\n",
       "      background-color: #E2EBFA;\n",
       "      box-shadow: 0px 1px 2px rgba(60, 64, 67, 0.3), 0px 1px 3px 1px rgba(60, 64, 67, 0.15);\n",
       "      fill: #174EA6;\n",
       "    }\n",
       "\n",
       "    [theme=dark] .colab-df-convert {\n",
       "      background-color: #3B4455;\n",
       "      fill: #D2E3FC;\n",
       "    }\n",
       "\n",
       "    [theme=dark] .colab-df-convert:hover {\n",
       "      background-color: #434B5C;\n",
       "      box-shadow: 0px 1px 3px 1px rgba(0, 0, 0, 0.15);\n",
       "      filter: drop-shadow(0px 1px 2px rgba(0, 0, 0, 0.3));\n",
       "      fill: #FFFFFF;\n",
       "    }\n",
       "  </style>\n",
       "\n",
       "      <script>\n",
       "        const buttonEl =\n",
       "          document.querySelector('#df-4caa30d0-6166-4531-88c0-fdb5962413c3 button.colab-df-convert');\n",
       "        buttonEl.style.display =\n",
       "          google.colab.kernel.accessAllowed ? 'block' : 'none';\n",
       "\n",
       "        async function convertToInteractive(key) {\n",
       "          const element = document.querySelector('#df-4caa30d0-6166-4531-88c0-fdb5962413c3');\n",
       "          const dataTable =\n",
       "            await google.colab.kernel.invokeFunction('convertToInteractive',\n",
       "                                                     [key], {});\n",
       "          if (!dataTable) return;\n",
       "\n",
       "          const docLinkHtml = 'Like what you see? Visit the ' +\n",
       "            '<a target=\"_blank\" href=https://colab.research.google.com/notebooks/data_table.ipynb>data table notebook</a>'\n",
       "            + ' to learn more about interactive tables.';\n",
       "          element.innerHTML = '';\n",
       "          dataTable['output_type'] = 'display_data';\n",
       "          await google.colab.output.renderOutput(dataTable, element);\n",
       "          const docLink = document.createElement('div');\n",
       "          docLink.innerHTML = docLinkHtml;\n",
       "          element.appendChild(docLink);\n",
       "        }\n",
       "      </script>\n",
       "    </div>\n",
       "  </div>\n",
       "  "
      ],
      "text/plain": [
       "             posting_id                                 image  \\\n",
       "5551   train_4243420357  29ea7463620c0e76d31bfa3f796d8d24.jpg   \n",
       "14253   train_559372785  6b2ebc478318b06a385a12c44e129b8d.jpg   \n",
       "\n",
       "            image_phash                                              title  \\\n",
       "5551   95917a886a2f6e6c  [Free Spatula Min Beli 5] Peel Off Mask Petal ...   \n",
       "14253  ea6b87b494896a4b  [GROSIR] 10gr Peel Off Mask with Petal Masker ...   \n",
       "\n",
       "       label_group                                    title_translate  \\\n",
       "5551    3058128663  [Free Spatula Min Buy 5] Peel Off Mask Petal 1...   \n",
       "14253   3058128663  [WHOLESALE] 10gr Peel Off Mask with Petal Peta...   \n",
       "\n",
       "                                           title_cleaned  \n",
       "5551   free spatula min buy peel mask petal 10gr acon...  \n",
       "14253  wholesale 10gr peel mask petal petal peel mask...  "
      ]
     },
     "execution_count": 35,
     "metadata": {},
     "output_type": "execute_result"
    }
   ],
   "source": [
    "df2 = train[train['label_group'] == 3058128663]\n",
    "df2"
   ]
  },
  {
   "cell_type": "code",
   "execution_count": null,
   "metadata": {
    "colab": {
     "base_uri": "https://localhost:8080/",
     "height": 280
    },
    "executionInfo": {
     "elapsed": 5,
     "status": "ok",
     "timestamp": 1681658283257,
     "user": {
      "displayName": "Andrew Liu",
      "userId": "01750910414052279045"
     },
     "user_tz": 420
    },
    "id": "jxvsLjSLdON1",
    "outputId": "530f4a55-8223-4c21-ed93-7532997fefee"
   },
   "outputs": [
    {
     "data": {
      "text/html": [
       "\n",
       "  <div id=\"df-33740598-c2c8-4a10-9f7d-60edf38a8b3d\">\n",
       "    <div class=\"colab-df-container\">\n",
       "      <div>\n",
       "<style scoped>\n",
       "    .dataframe tbody tr th:only-of-type {\n",
       "        vertical-align: middle;\n",
       "    }\n",
       "\n",
       "    .dataframe tbody tr th {\n",
       "        vertical-align: top;\n",
       "    }\n",
       "\n",
       "    .dataframe thead th {\n",
       "        text-align: right;\n",
       "    }\n",
       "</style>\n",
       "<table border=\"1\" class=\"dataframe\">\n",
       "  <thead>\n",
       "    <tr style=\"text-align: right;\">\n",
       "      <th></th>\n",
       "      <th>posting_id</th>\n",
       "      <th>image</th>\n",
       "      <th>image_phash</th>\n",
       "      <th>title</th>\n",
       "      <th>label_group</th>\n",
       "      <th>title_translate</th>\n",
       "      <th>title_cleaned</th>\n",
       "    </tr>\n",
       "  </thead>\n",
       "  <tbody>\n",
       "    <tr>\n",
       "      <th>11069</th>\n",
       "      <td>train_2093689294</td>\n",
       "      <td>53398a9363e6ff2f251c279c47d85f4e.jpg</td>\n",
       "      <td>e68d9d2739d86605</td>\n",
       "      <td>[Bayar di Tempat]12Pcs/Set Mainan Action Figur...</td>\n",
       "      <td>1330267064</td>\n",
       "      <td>[Pay on the spot]12Pcs/Set Mini Paw Patrol Kar...</td>\n",
       "      <td>pay spot12pcsset mini paw patrol karate action...</td>\n",
       "    </tr>\n",
       "    <tr>\n",
       "      <th>26405</th>\n",
       "      <td>train_1187044476</td>\n",
       "      <td>c5936f27b0bfe8ebc4af8be7eb29b735.jpg</td>\n",
       "      <td>e68d9d2739d86605</td>\n",
       "      <td>Set Paw Patrol Action Figure / Pajangan mainan...</td>\n",
       "      <td>1330267064</td>\n",
       "      <td>Paw Patrol Action Figure Set / Display toys 12...</td>\n",
       "      <td>paw patrol action figure set display toys pcs</td>\n",
       "    </tr>\n",
       "  </tbody>\n",
       "</table>\n",
       "</div>\n",
       "      <button class=\"colab-df-convert\" onclick=\"convertToInteractive('df-33740598-c2c8-4a10-9f7d-60edf38a8b3d')\"\n",
       "              title=\"Convert this dataframe to an interactive table.\"\n",
       "              style=\"display:none;\">\n",
       "        \n",
       "  <svg xmlns=\"http://www.w3.org/2000/svg\" height=\"24px\"viewBox=\"0 0 24 24\"\n",
       "       width=\"24px\">\n",
       "    <path d=\"M0 0h24v24H0V0z\" fill=\"none\"/>\n",
       "    <path d=\"M18.56 5.44l.94 2.06.94-2.06 2.06-.94-2.06-.94-.94-2.06-.94 2.06-2.06.94zm-11 1L8.5 8.5l.94-2.06 2.06-.94-2.06-.94L8.5 2.5l-.94 2.06-2.06.94zm10 10l.94 2.06.94-2.06 2.06-.94-2.06-.94-.94-2.06-.94 2.06-2.06.94z\"/><path d=\"M17.41 7.96l-1.37-1.37c-.4-.4-.92-.59-1.43-.59-.52 0-1.04.2-1.43.59L10.3 9.45l-7.72 7.72c-.78.78-.78 2.05 0 2.83L4 21.41c.39.39.9.59 1.41.59.51 0 1.02-.2 1.41-.59l7.78-7.78 2.81-2.81c.8-.78.8-2.07 0-2.86zM5.41 20L4 18.59l7.72-7.72 1.47 1.35L5.41 20z\"/>\n",
       "  </svg>\n",
       "      </button>\n",
       "      \n",
       "  <style>\n",
       "    .colab-df-container {\n",
       "      display:flex;\n",
       "      flex-wrap:wrap;\n",
       "      gap: 12px;\n",
       "    }\n",
       "\n",
       "    .colab-df-convert {\n",
       "      background-color: #E8F0FE;\n",
       "      border: none;\n",
       "      border-radius: 50%;\n",
       "      cursor: pointer;\n",
       "      display: none;\n",
       "      fill: #1967D2;\n",
       "      height: 32px;\n",
       "      padding: 0 0 0 0;\n",
       "      width: 32px;\n",
       "    }\n",
       "\n",
       "    .colab-df-convert:hover {\n",
       "      background-color: #E2EBFA;\n",
       "      box-shadow: 0px 1px 2px rgba(60, 64, 67, 0.3), 0px 1px 3px 1px rgba(60, 64, 67, 0.15);\n",
       "      fill: #174EA6;\n",
       "    }\n",
       "\n",
       "    [theme=dark] .colab-df-convert {\n",
       "      background-color: #3B4455;\n",
       "      fill: #D2E3FC;\n",
       "    }\n",
       "\n",
       "    [theme=dark] .colab-df-convert:hover {\n",
       "      background-color: #434B5C;\n",
       "      box-shadow: 0px 1px 3px 1px rgba(0, 0, 0, 0.15);\n",
       "      filter: drop-shadow(0px 1px 2px rgba(0, 0, 0, 0.3));\n",
       "      fill: #FFFFFF;\n",
       "    }\n",
       "  </style>\n",
       "\n",
       "      <script>\n",
       "        const buttonEl =\n",
       "          document.querySelector('#df-33740598-c2c8-4a10-9f7d-60edf38a8b3d button.colab-df-convert');\n",
       "        buttonEl.style.display =\n",
       "          google.colab.kernel.accessAllowed ? 'block' : 'none';\n",
       "\n",
       "        async function convertToInteractive(key) {\n",
       "          const element = document.querySelector('#df-33740598-c2c8-4a10-9f7d-60edf38a8b3d');\n",
       "          const dataTable =\n",
       "            await google.colab.kernel.invokeFunction('convertToInteractive',\n",
       "                                                     [key], {});\n",
       "          if (!dataTable) return;\n",
       "\n",
       "          const docLinkHtml = 'Like what you see? Visit the ' +\n",
       "            '<a target=\"_blank\" href=https://colab.research.google.com/notebooks/data_table.ipynb>data table notebook</a>'\n",
       "            + ' to learn more about interactive tables.';\n",
       "          element.innerHTML = '';\n",
       "          dataTable['output_type'] = 'display_data';\n",
       "          await google.colab.output.renderOutput(dataTable, element);\n",
       "          const docLink = document.createElement('div');\n",
       "          docLink.innerHTML = docLinkHtml;\n",
       "          element.appendChild(docLink);\n",
       "        }\n",
       "      </script>\n",
       "    </div>\n",
       "  </div>\n",
       "  "
      ],
      "text/plain": [
       "             posting_id                                 image  \\\n",
       "11069  train_2093689294  53398a9363e6ff2f251c279c47d85f4e.jpg   \n",
       "26405  train_1187044476  c5936f27b0bfe8ebc4af8be7eb29b735.jpg   \n",
       "\n",
       "            image_phash                                              title  \\\n",
       "11069  e68d9d2739d86605  [Bayar di Tempat]12Pcs/Set Mainan Action Figur...   \n",
       "26405  e68d9d2739d86605  Set Paw Patrol Action Figure / Pajangan mainan...   \n",
       "\n",
       "       label_group                                    title_translate  \\\n",
       "11069   1330267064  [Pay on the spot]12Pcs/Set Mini Paw Patrol Kar...   \n",
       "26405   1330267064  Paw Patrol Action Figure Set / Display toys 12...   \n",
       "\n",
       "                                           title_cleaned  \n",
       "11069  pay spot12pcsset mini paw patrol karate action...  \n",
       "26405      paw patrol action figure set display toys pcs  "
      ]
     },
     "execution_count": 36,
     "metadata": {},
     "output_type": "execute_result"
    }
   ],
   "source": [
    "df3 = train[train['label_group'] == 1330267064]\n",
    "df3"
   ]
  },
  {
   "cell_type": "code",
   "execution_count": null,
   "metadata": {
    "id": "cEsvpM-hKpOD"
   },
   "outputs": [],
   "source": [
    "# load prediction dataset\n",
    "test_df = test_pred"
   ]
  },
  {
   "cell_type": "code",
   "execution_count": null,
   "metadata": {
    "id": "-rOjF10sJ93p"
   },
   "outputs": [],
   "source": [
    "# create a dictionary with train dataset where keys are label groups and values are posting_ids\n",
    "train_dict = {}\n",
    "for i, row in train_df.iterrows():\n",
    "    if row['label_group'] not in train_dict:\n",
    "        train_dict[row['label_group']] = [row['posting_id']]\n",
    "    else:\n",
    "        train_dict[row['label_group']].append(row['posting_id'])"
   ]
  },
  {
   "cell_type": "code",
   "execution_count": null,
   "metadata": {
    "colab": {
     "base_uri": "https://localhost:8080/"
    },
    "executionInfo": {
     "elapsed": 16,
     "status": "ok",
     "timestamp": 1681666894822,
     "user": {
      "displayName": "Andrew Liu",
      "userId": "01750910414052279045"
     },
     "user_tz": 420
    },
    "id": "uGtwWxdcKAi4",
    "outputId": "788466c3-b42f-494f-c05e-a19496124555"
   },
   "outputs": [
    {
     "name": "stdout",
     "output_type": "stream",
     "text": [
      "249114794 ['train_129225211', 'train_2278313361']\n",
      "2937985045 ['train_3386243561', 'train_3423213080']\n",
      "2395904891 ['train_2288590299', 'train_3803689425']\n",
      "4093212188 ['train_2406599165', 'train_3342059966']\n",
      "3648931069 ['train_3369186413', 'train_921438619']\n",
      "2660605217 ['train_2464356923', 'train_2753295474', 'train_305884580']\n",
      "1835033137 ['train_1802986387', 'train_1396161074', 'train_713073906', 'train_1275191373', 'train_2490201622', 'train_2411544001', 'train_1859060005']\n",
      "1565741687 ['train_1806152124', 'train_3227306976']\n",
      "2359912463 ['train_86570404', 'train_2837452969', 'train_77364776']\n",
      "2630990665 ['train_831680791', 'train_3031035861']\n"
     ]
    }
   ],
   "source": [
    "# print the first 10 keys and values of train_dict\n",
    "count = 0\n",
    "for key, value in train_dict.items():\n",
    "    print(key, value)\n",
    "    count += 1\n",
    "    if count == 10:\n",
    "        break"
   ]
  },
  {
   "cell_type": "code",
   "execution_count": null,
   "metadata": {
    "id": "LP787H2RKB48"
   },
   "outputs": [],
   "source": [
    "# create a list of tuples containing posting_id from test dataset and matching posting_ids from train dataset\n",
    "matching_posting_ids = []\n",
    "for i, row in test_df.iterrows():\n",
    "    matching_posting_ids.append((row['posting_id'], train_dict.get(row['label_group_pred'], [])))"
   ]
  },
  {
   "cell_type": "code",
   "execution_count": null,
   "metadata": {
    "colab": {
     "base_uri": "https://localhost:8080/",
     "height": 143
    },
    "executionInfo": {
     "elapsed": 178,
     "status": "ok",
     "timestamp": 1681667073858,
     "user": {
      "displayName": "Andrew Liu",
      "userId": "01750910414052279045"
     },
     "user_tz": 420
    },
    "id": "016qew1CKC7T",
    "outputId": "c29966b0-6223-4f6f-c0b0-2a720a821454"
   },
   "outputs": [
    {
     "data": {
      "text/html": [
       "\n",
       "  <div id=\"df-43f0c9a4-ccb5-4a39-a49a-11a26fa48988\">\n",
       "    <div class=\"colab-df-container\">\n",
       "      <div>\n",
       "<style scoped>\n",
       "    .dataframe tbody tr th:only-of-type {\n",
       "        vertical-align: middle;\n",
       "    }\n",
       "\n",
       "    .dataframe tbody tr th {\n",
       "        vertical-align: top;\n",
       "    }\n",
       "\n",
       "    .dataframe thead th {\n",
       "        text-align: right;\n",
       "    }\n",
       "</style>\n",
       "<table border=\"1\" class=\"dataframe\">\n",
       "  <thead>\n",
       "    <tr style=\"text-align: right;\">\n",
       "      <th></th>\n",
       "      <th>posting_id_test</th>\n",
       "      <th>posting_id_train</th>\n",
       "    </tr>\n",
       "  </thead>\n",
       "  <tbody>\n",
       "    <tr>\n",
       "      <th>0</th>\n",
       "      <td>test_2255846744</td>\n",
       "      <td>[train_426195351, train_3436898021]</td>\n",
       "    </tr>\n",
       "    <tr>\n",
       "      <th>1</th>\n",
       "      <td>test_3588702337</td>\n",
       "      <td>[train_4243420357, train_559372785]</td>\n",
       "    </tr>\n",
       "    <tr>\n",
       "      <th>2</th>\n",
       "      <td>test_4015706929</td>\n",
       "      <td>[train_2093689294, train_1187044476]</td>\n",
       "    </tr>\n",
       "  </tbody>\n",
       "</table>\n",
       "</div>\n",
       "      <button class=\"colab-df-convert\" onclick=\"convertToInteractive('df-43f0c9a4-ccb5-4a39-a49a-11a26fa48988')\"\n",
       "              title=\"Convert this dataframe to an interactive table.\"\n",
       "              style=\"display:none;\">\n",
       "        \n",
       "  <svg xmlns=\"http://www.w3.org/2000/svg\" height=\"24px\"viewBox=\"0 0 24 24\"\n",
       "       width=\"24px\">\n",
       "    <path d=\"M0 0h24v24H0V0z\" fill=\"none\"/>\n",
       "    <path d=\"M18.56 5.44l.94 2.06.94-2.06 2.06-.94-2.06-.94-.94-2.06-.94 2.06-2.06.94zm-11 1L8.5 8.5l.94-2.06 2.06-.94-2.06-.94L8.5 2.5l-.94 2.06-2.06.94zm10 10l.94 2.06.94-2.06 2.06-.94-2.06-.94-.94-2.06-.94 2.06-2.06.94z\"/><path d=\"M17.41 7.96l-1.37-1.37c-.4-.4-.92-.59-1.43-.59-.52 0-1.04.2-1.43.59L10.3 9.45l-7.72 7.72c-.78.78-.78 2.05 0 2.83L4 21.41c.39.39.9.59 1.41.59.51 0 1.02-.2 1.41-.59l7.78-7.78 2.81-2.81c.8-.78.8-2.07 0-2.86zM5.41 20L4 18.59l7.72-7.72 1.47 1.35L5.41 20z\"/>\n",
       "  </svg>\n",
       "      </button>\n",
       "      \n",
       "  <style>\n",
       "    .colab-df-container {\n",
       "      display:flex;\n",
       "      flex-wrap:wrap;\n",
       "      gap: 12px;\n",
       "    }\n",
       "\n",
       "    .colab-df-convert {\n",
       "      background-color: #E8F0FE;\n",
       "      border: none;\n",
       "      border-radius: 50%;\n",
       "      cursor: pointer;\n",
       "      display: none;\n",
       "      fill: #1967D2;\n",
       "      height: 32px;\n",
       "      padding: 0 0 0 0;\n",
       "      width: 32px;\n",
       "    }\n",
       "\n",
       "    .colab-df-convert:hover {\n",
       "      background-color: #E2EBFA;\n",
       "      box-shadow: 0px 1px 2px rgba(60, 64, 67, 0.3), 0px 1px 3px 1px rgba(60, 64, 67, 0.15);\n",
       "      fill: #174EA6;\n",
       "    }\n",
       "\n",
       "    [theme=dark] .colab-df-convert {\n",
       "      background-color: #3B4455;\n",
       "      fill: #D2E3FC;\n",
       "    }\n",
       "\n",
       "    [theme=dark] .colab-df-convert:hover {\n",
       "      background-color: #434B5C;\n",
       "      box-shadow: 0px 1px 3px 1px rgba(0, 0, 0, 0.15);\n",
       "      filter: drop-shadow(0px 1px 2px rgba(0, 0, 0, 0.3));\n",
       "      fill: #FFFFFF;\n",
       "    }\n",
       "  </style>\n",
       "\n",
       "      <script>\n",
       "        const buttonEl =\n",
       "          document.querySelector('#df-43f0c9a4-ccb5-4a39-a49a-11a26fa48988 button.colab-df-convert');\n",
       "        buttonEl.style.display =\n",
       "          google.colab.kernel.accessAllowed ? 'block' : 'none';\n",
       "\n",
       "        async function convertToInteractive(key) {\n",
       "          const element = document.querySelector('#df-43f0c9a4-ccb5-4a39-a49a-11a26fa48988');\n",
       "          const dataTable =\n",
       "            await google.colab.kernel.invokeFunction('convertToInteractive',\n",
       "                                                     [key], {});\n",
       "          if (!dataTable) return;\n",
       "\n",
       "          const docLinkHtml = 'Like what you see? Visit the ' +\n",
       "            '<a target=\"_blank\" href=https://colab.research.google.com/notebooks/data_table.ipynb>data table notebook</a>'\n",
       "            + ' to learn more about interactive tables.';\n",
       "          element.innerHTML = '';\n",
       "          dataTable['output_type'] = 'display_data';\n",
       "          await google.colab.output.renderOutput(dataTable, element);\n",
       "          const docLink = document.createElement('div');\n",
       "          docLink.innerHTML = docLinkHtml;\n",
       "          element.appendChild(docLink);\n",
       "        }\n",
       "      </script>\n",
       "    </div>\n",
       "  </div>\n",
       "  "
      ],
      "text/plain": [
       "   posting_id_test                      posting_id_train\n",
       "0  test_2255846744   [train_426195351, train_3436898021]\n",
       "1  test_3588702337   [train_4243420357, train_559372785]\n",
       "2  test_4015706929  [train_2093689294, train_1187044476]"
      ]
     },
     "execution_count": 96,
     "metadata": {},
     "output_type": "execute_result"
    }
   ],
   "source": [
    "# create a new dataframe from the list of tuples\n",
    "result_df = pd.DataFrame(matching_posting_ids, columns=['posting_id_test', 'posting_id_train'])\n",
    "\n",
    "result_df.head()"
   ]
  },
  {
   "cell_type": "code",
   "execution_count": null,
   "metadata": {
    "id": "u220srnGKD-K"
   },
   "outputs": [],
   "source": [
    "# save the result to a new csv file\n",
    "result_df.to_csv('submission.csv', index=False)"
   ]
  }
 ],
 "metadata": {
  "colab": {
   "provenance": []
  },
  "gpuClass": "standard",
  "kernelspec": {
   "display_name": "Python 3 (ipykernel)",
   "language": "python",
   "name": "python3"
  },
  "language_info": {
   "codemirror_mode": {
    "name": "ipython",
    "version": 3
   },
   "file_extension": ".py",
   "mimetype": "text/x-python",
   "name": "python",
   "nbconvert_exporter": "python",
   "pygments_lexer": "ipython3",
   "version": "3.11.4"
  }
 },
 "nbformat": 4,
 "nbformat_minor": 1
}
